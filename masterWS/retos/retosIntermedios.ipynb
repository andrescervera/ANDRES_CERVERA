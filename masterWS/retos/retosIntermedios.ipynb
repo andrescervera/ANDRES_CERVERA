{
 "cells": [
  {
   "cell_type": "code",
   "execution_count": 2,
   "metadata": {},
   "outputs": [
    {
     "name": "stdout",
     "output_type": "stream",
     "text": [
      "Los discos disponibles actualmente son: \n",
      " Disco 1: {'Nombre': 'Viva el Pop', 'Artista': 'Taylor Swift', 'Anyo': 2012, 'Precio': 42, 'Genero': 'Pop'} \n",
      " Disco 2: {'Nombre': 'Viva el Electro', 'Artista': 'Martin Garrix', 'Anyo': 2015, 'Precio': 56, 'Genero': 'Electro'} \n",
      " Disco 3: {'Nombre': 'Viva el Regueaton', 'Artista': 'Bad Bunny', 'Anyo': 2019, 'Precio': 67, 'Genero': 'Regueaton'} \n",
      " Escribe el número del disco que desees comprar\n"
     ]
    }
   ],
   "source": [
    "#reto intermedio 1 : discos de música\n",
    "discoPop = {\n",
    "  \"Nombre\": 'Viva el Pop',\n",
    "  \"Artista\": 'Taylor Swift',\n",
    "  \"Anyo\": 2012,\n",
    "  \"Precio\": 42,\n",
    "  \"Genero\": 'Pop'\n",
    "}\n",
    "\n",
    "discoElectro = {\n",
    "  \"Nombre\": 'Viva el Electro',\n",
    "  \"Artista\": 'Martin Garrix',\n",
    "  \"Anyo\": 2015,\n",
    "  \"Precio\": 56,\n",
    "  \"Genero\": 'Electro'\n",
    "}\n",
    "\n",
    "discoRegueaton = {\n",
    "  \"Nombre\": 'Viva el Regueaton',\n",
    "  \"Artista\": 'Bad Bunny',\n",
    "  \"Anyo\": 2019,\n",
    "  \"Precio\": 67,\n",
    "  \"Genero\": 'Regueaton'\n",
    "}\n",
    "\n",
    "print(f'Los discos disponibles actualmente son: \\n Disco 1: {discoPop} \\n Disco 2: {discoElectro} \\n Disco 3: {discoRegueaton} \\n Escribe el número del disco que desees comprar')\n",
    "numero = input('')\n",
    "numero = int(numero)\n",
    "\n"
   ]
  },
  {
   "cell_type": "code",
   "execution_count": 2,
   "metadata": {},
   "outputs": [
    {
     "ename": "KeyboardInterrupt",
     "evalue": "Interrupted by user",
     "output_type": "error",
     "traceback": [
      "\u001b[1;31m---------------------------------------------------------------------------\u001b[0m",
      "\u001b[1;31mKeyboardInterrupt\u001b[0m                         Traceback (most recent call last)",
      "\u001b[1;32mc:\\Users\\andre\\ProyectosMaster\\EDEM_ANDRES\\masterWS\\retos\\retosIntermedios.ipynb Cell 2\u001b[0m line \u001b[0;36m1\n\u001b[1;32m----> <a href='vscode-notebook-cell:/c%3A/Users/andre/ProyectosMaster/EDEM_ANDRES/masterWS/retos/retosIntermedios.ipynb#W1sZmlsZQ%3D%3D?line=0'>1</a>\u001b[0m numero \u001b[39m=\u001b[39m \u001b[39minput\u001b[39;49m(\u001b[39m'\u001b[39;49m\u001b[39m'\u001b[39;49m)\n\u001b[0;32m      <a href='vscode-notebook-cell:/c%3A/Users/andre/ProyectosMaster/EDEM_ANDRES/masterWS/retos/retosIntermedios.ipynb#W1sZmlsZQ%3D%3D?line=1'>2</a>\u001b[0m numero \u001b[39m=\u001b[39m \u001b[39mint\u001b[39m(numero)\n\u001b[0;32m      <a href='vscode-notebook-cell:/c%3A/Users/andre/ProyectosMaster/EDEM_ANDRES/masterWS/retos/retosIntermedios.ipynb#W1sZmlsZQ%3D%3D?line=2'>3</a>\u001b[0m \u001b[39mprint\u001b[39m(numero)\n",
      "File \u001b[1;32mc:\\Users\\andre\\ProyectosMaster\\EDEM_ANDRES\\masterWS\\.venv\\Lib\\site-packages\\ipykernel\\kernelbase.py:1202\u001b[0m, in \u001b[0;36mKernel.raw_input\u001b[1;34m(self, prompt)\u001b[0m\n\u001b[0;32m   1200\u001b[0m     msg \u001b[39m=\u001b[39m \u001b[39m\"\u001b[39m\u001b[39mraw_input was called, but this frontend does not support input requests.\u001b[39m\u001b[39m\"\u001b[39m\n\u001b[0;32m   1201\u001b[0m     \u001b[39mraise\u001b[39;00m StdinNotImplementedError(msg)\n\u001b[1;32m-> 1202\u001b[0m \u001b[39mreturn\u001b[39;00m \u001b[39mself\u001b[39;49m\u001b[39m.\u001b[39;49m_input_request(\n\u001b[0;32m   1203\u001b[0m     \u001b[39mstr\u001b[39;49m(prompt),\n\u001b[0;32m   1204\u001b[0m     \u001b[39mself\u001b[39;49m\u001b[39m.\u001b[39;49m_parent_ident[\u001b[39m\"\u001b[39;49m\u001b[39mshell\u001b[39;49m\u001b[39m\"\u001b[39;49m],\n\u001b[0;32m   1205\u001b[0m     \u001b[39mself\u001b[39;49m\u001b[39m.\u001b[39;49mget_parent(\u001b[39m\"\u001b[39;49m\u001b[39mshell\u001b[39;49m\u001b[39m\"\u001b[39;49m),\n\u001b[0;32m   1206\u001b[0m     password\u001b[39m=\u001b[39;49m\u001b[39mFalse\u001b[39;49;00m,\n\u001b[0;32m   1207\u001b[0m )\n",
      "File \u001b[1;32mc:\\Users\\andre\\ProyectosMaster\\EDEM_ANDRES\\masterWS\\.venv\\Lib\\site-packages\\ipykernel\\kernelbase.py:1245\u001b[0m, in \u001b[0;36mKernel._input_request\u001b[1;34m(self, prompt, ident, parent, password)\u001b[0m\n\u001b[0;32m   1242\u001b[0m \u001b[39mexcept\u001b[39;00m \u001b[39mKeyboardInterrupt\u001b[39;00m:\n\u001b[0;32m   1243\u001b[0m     \u001b[39m# re-raise KeyboardInterrupt, to truncate traceback\u001b[39;00m\n\u001b[0;32m   1244\u001b[0m     msg \u001b[39m=\u001b[39m \u001b[39m\"\u001b[39m\u001b[39mInterrupted by user\u001b[39m\u001b[39m\"\u001b[39m\n\u001b[1;32m-> 1245\u001b[0m     \u001b[39mraise\u001b[39;00m \u001b[39mKeyboardInterrupt\u001b[39;00m(msg) \u001b[39mfrom\u001b[39;00m \u001b[39mNone\u001b[39;00m\n\u001b[0;32m   1246\u001b[0m \u001b[39mexcept\u001b[39;00m \u001b[39mException\u001b[39;00m:\n\u001b[0;32m   1247\u001b[0m     \u001b[39mself\u001b[39m\u001b[39m.\u001b[39mlog\u001b[39m.\u001b[39mwarning(\u001b[39m\"\u001b[39m\u001b[39mInvalid Message:\u001b[39m\u001b[39m\"\u001b[39m, exc_info\u001b[39m=\u001b[39m\u001b[39mTrue\u001b[39;00m)\n",
      "\u001b[1;31mKeyboardInterrupt\u001b[0m: Interrupted by user"
     ]
    }
   ],
   "source": [
    "numero = input('')\n",
    "numero = int(numero)\n",
    "print(numero)"
   ]
  },
  {
   "cell_type": "code",
   "execution_count": 1,
   "metadata": {},
   "outputs": [
    {
     "name": "stdout",
     "output_type": "stream",
     "text": [
      "36\n"
     ]
    }
   ],
   "source": [
    "numero = 36\n",
    "print(numero)"
   ]
  }
 ],
 "metadata": {
  "kernelspec": {
   "display_name": ".venv",
   "language": "python",
   "name": "python3"
  },
  "language_info": {
   "codemirror_mode": {
    "name": "ipython",
    "version": 3
   },
   "file_extension": ".py",
   "mimetype": "text/x-python",
   "name": "python",
   "nbconvert_exporter": "python",
   "pygments_lexer": "ipython3",
   "version": "3.11.6"
  }
 },
 "nbformat": 4,
 "nbformat_minor": 2
}
