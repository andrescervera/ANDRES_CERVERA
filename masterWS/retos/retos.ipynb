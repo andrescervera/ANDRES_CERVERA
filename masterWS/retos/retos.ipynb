{
 "cells": [
  {
   "cell_type": "code",
   "execution_count": 1,
   "metadata": {},
   "outputs": [
    {
     "name": "stdout",
     "output_type": "stream",
     "text": [
      "Los discos disponibles actualmente son: \n",
      " Disco 1: {'Nombre': 'Viva el Pop', 'Artista': 'Taylor Swift', 'Anyo': 2012, 'Precio': 42, 'Genero': 'Pop'} \n",
      " Disco 2: {'Nombre': 'Viva el Electro', 'Artista': 'Martin Garrix', 'Anyo': 2015, 'Precio': 56, 'Genero': 'Electro'} \n",
      " Disco 3: {'Nombre': 'Viva el Regueaton', 'Artista': 'Bad Bunny', 'Anyo': 2019, 'Precio': 67, 'Genero': 'Regueaton'}\n"
     ]
    }
   ],
   "source": [
    "#reto intermedio 1 : discos de música\n",
    "discoPop = {\n",
    "  \"Nombre\": 'Viva el Pop',\n",
    "  \"Artista\": 'Taylor Swift',\n",
    "  \"Anyo\": 2012,\n",
    "  \"Precio\": 42,\n",
    "  \"Genero\": 'Pop'\n",
    "}\n",
    "\n",
    "discoElectro = {\n",
    "  \"Nombre\": 'Viva el Electro',\n",
    "  \"Artista\": 'Martin Garrix',\n",
    "  \"Anyo\": 2015,\n",
    "  \"Precio\": 56,\n",
    "  \"Genero\": 'Electro'\n",
    "}\n",
    "\n",
    "discoRegueaton = {\n",
    "  \"Nombre\": 'Viva el Regueaton',\n",
    "  \"Artista\": 'Bad Bunny',\n",
    "  \"Anyo\": 2019,\n",
    "  \"Precio\": 67,\n",
    "  \"Genero\": 'Regueaton'\n",
    "}\n",
    "\n",
    "print(f'Los discos disponibles actualmente son: \\n Disco 1: {discoPop} \\n Disco 2: {discoElectro} \\n Disco 3: {discoRegueaton} \\n Escribe el número del disco que desees comprar')\n",
    "numero = input('')\n",
    "numero = int(numero)\n",
    "\n"
   ]
  },
  {
   "cell_type": "code",
   "execution_count": null,
   "metadata": {},
   "outputs": [],
   "source": []
  }
 ],
 "metadata": {
  "kernelspec": {
   "display_name": ".venv",
   "language": "python",
   "name": "python3"
  },
  "language_info": {
   "codemirror_mode": {
    "name": "ipython",
    "version": 3
   },
   "file_extension": ".py",
   "mimetype": "text/x-python",
   "name": "python",
   "nbconvert_exporter": "python",
   "pygments_lexer": "ipython3",
   "version": "3.11.6"
  }
 },
 "nbformat": 4,
 "nbformat_minor": 2
}
