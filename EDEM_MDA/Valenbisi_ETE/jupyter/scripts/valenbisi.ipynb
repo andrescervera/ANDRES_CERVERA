{
 "cells": [
  {
   "cell_type": "code",
   "execution_count": null,
   "metadata": {},
   "outputs": [],
   "source": [
    "import requests\n",
    "from pymongo import MongoClient\n",
    "import pandas as pd\n",
    "\n",
    "df = pd.read_csv('datos_estaciones.csv')"
   ]
  }
 ],
 "metadata": {
  "language_info": {
   "name": "python"
  }
 },
 "nbformat": 4,
 "nbformat_minor": 2
}
