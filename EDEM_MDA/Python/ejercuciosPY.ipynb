{
 "cells": [
  {
   "cell_type": "code",
   "execution_count": 14,
   "metadata": {},
   "outputs": [
    {
     "name": "stdout",
     "output_type": "stream",
     "text": [
      "- [2, 4, 6, 8, 10, 12, 14, 16, 18, 20, 22, 24, 26, 28, 30, 32, 34, 36, 38, 40, 42, 44, 46, 48, 50, 52, 54, 56, 58, 60, 62, 64, 66, 68, 70, 72, 74, 76, 78, 80, 82, 84, 86, 88, 90, 92, 94, 96, 98, 100]\n",
      "- [1, 3, 5, 7, 9, 11, 13, 15, 17, 19, 21, 23, 25, 27, 29, 31, 33, 35, 37, 39, 41, 43, 45, 47, 49, 51, 53, 55, 57, 59, 61, 63, 65, 67, 69, 71, 73, 75, 77, 79, 81, 83, 85, 87, 89, 91, 93, 95, 97, 99]\n"
     ]
    }
   ],
   "source": [
    "#pares del 1 al 100 en una lista, impares en otra\n",
    "listaPares = []\n",
    "listaImpares = []\n",
    "for numero in range(1,101):\n",
    "    if(numero%2 == 0):\n",
    "        #listaPares[len(listaPares):] = [{numero}]\n",
    "        listaPares.append(numero)\n",
    "    if(numero%2 != 0):\n",
    "       # listaPares[len(listaImpares):] = [{numero}]\n",
    "        listaImpares.append(numero)\n",
    "print(f\"- {listaPares}\")\n",
    "print(f\"- {listaImpares}\")"
   ]
  },
  {
   "cell_type": "code",
   "execution_count": 12,
   "metadata": {},
   "outputs": [
    {
     "name": "stdout",
     "output_type": "stream",
     "text": [
      "[2, 3, 5, 7, 11, 13, 17, 19, 23, 29, 31, 37, 41, 43, 47, 53, 59, 61, 67, 71, 73, 79, 83, 89, 97]\n"
     ]
    }
   ],
   "source": [
    "#calcula todos los numeros primos del 1 al 100\n",
    "listaPrimos = []\n",
    "\n",
    "for numero in range (2,101):\n",
    "    es_primo = True\n",
    "    for i in range(2, numero):\n",
    "        if numero % i == 0:\n",
    "            es_primo = False\n",
    "            break   \n",
    "    if (es_primo == True):\n",
    "        listaPrimos.append(numero)\n",
    "        \n",
    "print(f\"{listaPrimos}\")"
   ]
  },
  {
   "cell_type": "code",
   "execution_count": 28,
   "metadata": {},
   "outputs": [
    {
     "name": "stdout",
     "output_type": "stream",
     "text": [
      "[1992, 1996, 2000]\n"
     ]
    }
   ],
   "source": [
    "#saber de una lista de años cuales son bisiestos\n",
    "listaAnyos = [1990, 1991, 1992, 1993,1994, 1995, 1996, 1997, 1998, 1999, 2000, 2001, 2002]\n",
    "listaBisiestos = []\n",
    "\n",
    "for x in listaAnyos:\n",
    "    if x % 4 == 0:\n",
    "        listaBisiestos.append(x)\n",
    "\n",
    "print(f\"{listaBisiestos}\")"
   ]
  },
  {
   "cell_type": "code",
   "execution_count": 30,
   "metadata": {},
   "outputs": [
    {
     "name": "stdout",
     "output_type": "stream",
     "text": [
      "True\n"
     ]
    }
   ],
   "source": [
    "#funcion numero primo\n",
    "def es_primo(numero: int) -> bool:\n",
    "    for i in range(2, numero):\n",
    "        if numero % i == 0:\n",
    "            return False\n",
    "    return True      \n",
    "primo = es_primo(53)     \n",
    "print(f\"{primo}\")"
   ]
  },
  {
   "cell_type": "code",
   "execution_count": 34,
   "metadata": {},
   "outputs": [
    {
     "name": "stdout",
     "output_type": "stream",
     "text": [
      "True\n"
     ]
    }
   ],
   "source": [
    "def es_bisiesto(anyo:int) -> bool:\n",
    "    if anyo % 4 == 0:\n",
    "        return True\n",
    "    return False\n",
    "bisiesto = es_bisiesto(2004)\n",
    "print(f\"{bisiesto}\")\n",
    "    "
   ]
  },
  {
   "cell_type": "code",
   "execution_count": 35,
   "metadata": {},
   "outputs": [
    {
     "name": "stdout",
     "output_type": "stream",
     "text": [
      "Lorem ipsum (...) consectetur\n"
     ]
    }
   ],
   "source": [
    "#devolver un trozo de texto\n",
    "texto_largo = \"Lorem ipsum dolor sit amet, consectetur adipiscing elit. Nunc semper libero ut orci blandit, vitae molestie neque congue. Vivamus egestas vestibulum interdum. Mauris odio magna, cursus condimentum hendrerit id, efficitur a tortor. Donec ac maximus mi. Pellentesque habitant morbi tristique senectus et netus et malesuada fames ac turpis egestas. Curabitur consequat neque ut commodo scelerisque. Praesent in neque tempor, ultrices augue ut, congue ipsum. Suspendisse ac libero dui. Phasellus vel pretium risus. Aliquam sit amet tempus lorem. Donec eget neque orci. Sed tincidunt magna vitae egestas pretium. Ut placerat eleifend turpis, quis imperdiet sapien rutrum in. Mauris congue blandit diam, id rutrum justo convallis quis. Nam vulputate orci at diam aliquam, sit amet mollis magna consectetur\"\n",
    "\n",
    "#print(f\"{texto_largo[0:11]} (...) {texto_largo[-11:]}\")\n",
    "\n",
    "print(texto_largo[0:11] + \" (...) \" + texto_largo[-11:])"
   ]
  },
  {
   "cell_type": "code",
   "execution_count": 36,
   "metadata": {},
   "outputs": [
    {
     "name": "stdout",
     "output_type": "stream",
     "text": [
      "¿Cuanto quieres invertir?\n",
      "¿Cual es el interes anual?\n",
      "¿Cuantos años vas a mantener la inversion?\n",
      "En 50.0 habrás recibido 75.0 de interes\n"
     ]
    }
   ],
   "source": [
    "#ejercicio interes anual por consola\n",
    "print(\"¿Cuanto quieres invertir?\")\n",
    "euros = input('')\n",
    "euros = float(euros)\n",
    "print(\"¿Cual es el interes anual?\")\n",
    "interes = input('')\n",
    "interes = float(interes)\n",
    "print(\"¿Cuantos años vas a mantener la inversion?\")\n",
    "años = input('')\n",
    "años = float(años)\n",
    "calculoInteres:float = euros + (euros * (interes / 100))\n",
    "print(f\"En {años} habrás recibido {calculoInteres} de interes\")"
   ]
  },
  {
   "cell_type": "code",
   "execution_count": 34,
   "metadata": {},
   "outputs": [
    {
     "name": "stdout",
     "output_type": "stream",
     "text": [
      "[100]\n"
     ]
    }
   ],
   "source": [
    "#aplicacion por consola: ¿que quieres hacer? calcular inversion o salir\n"
   ]
  },
  {
   "cell_type": "code",
   "execution_count": null,
   "metadata": {},
   "outputs": [],
   "source": [
    "#reto intermedio 1 : discos de música\n",
    "\n"
   ]
  }
 ],
 "metadata": {
  "kernelspec": {
   "display_name": "Python 3",
   "language": "python",
   "name": "python3"
  },
  "language_info": {
   "codemirror_mode": {
    "name": "ipython",
    "version": 3
   },
   "file_extension": ".py",
   "mimetype": "text/x-python",
   "name": "python",
   "nbconvert_exporter": "python",
   "pygments_lexer": "ipython3",
   "version": "3.11.6"
  },
  "orig_nbformat": 4
 },
 "nbformat": 4,
 "nbformat_minor": 2
}
