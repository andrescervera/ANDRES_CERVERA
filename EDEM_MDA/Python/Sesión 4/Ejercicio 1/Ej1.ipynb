{
 "cells": [
  {
   "cell_type": "code",
   "execution_count": 22,
   "metadata": {},
   "outputs": [
    {
     "name": "stdout",
     "output_type": "stream",
     "text": [
      "[2, 3, 5, 7]\n"
     ]
    }
   ],
   "source": [
    "#A partir de las respuestas a los dos últimos ejercicios de la Sesión 3:\n",
    "#Crea una función que reciba un rango de números como parámetro y muestre por consola únicamente los valores primos\n",
    "\n",
    "def lista_primos (listaNumeros):\n",
    "    \n",
    "    listaPrimos = []\n",
    "\n",
    "    for numero in listaNumeros:\n",
    "        es_primo = True\n",
    "        \n",
    "        if (numero == 1):\n",
    "            es_primo = False\n",
    "    \n",
    "        else:\n",
    "            for i in range(2, numero):\n",
    "                if (numero % i == 0):\n",
    "                    es_primo = False\n",
    "                    break  \n",
    "                 \n",
    "        if (es_primo == True):\n",
    "            listaPrimos.append(numero)\n",
    "\n",
    "    print(f\"{listaPrimos}\")\n",
    "\n",
    "listaNumeros = [1, 2, 3, 4, 5, 6, 7, 8, 9, 10]\n",
    "lista_primos(listaNumeros)"
   ]
  },
  {
   "cell_type": "code",
   "execution_count": 4,
   "metadata": {},
   "outputs": [
    {
     "name": "stdout",
     "output_type": "stream",
     "text": [
      "True\n"
     ]
    }
   ],
   "source": [
    "#Crea una función que pueda evaluar si un número (pasado por parámetro) es primo o no\n",
    "\n",
    "def es_primo(numero: int) -> bool:\n",
    "    for i in range(2, numero):\n",
    "        if numero % i == 0:\n",
    "            return False\n",
    "    return True      \n",
    "\n",
    "primo = es_primo(53)     \n",
    "print(f\"{primo}\")"
   ]
  },
  {
   "cell_type": "code",
   "execution_count": 2,
   "metadata": {},
   "outputs": [
    {
     "name": "stdout",
     "output_type": "stream",
     "text": [
      "True\n"
     ]
    }
   ],
   "source": [
    "#Crea una función que reciba un año y pueda indicarte con True o False si es un año bisiesto o no.\n",
    "\n",
    "def es_bisiesto(anyo:int) -> bool:\n",
    "    if anyo % 4 == 0:\n",
    "        return True\n",
    "    return False\n",
    "\n",
    "bisiesto = es_bisiesto(2004)\n",
    "print(f\"{bisiesto}\")\n",
    "    "
   ]
  }
 ],
 "metadata": {
  "kernelspec": {
   "display_name": "Python 3",
   "language": "python",
   "name": "python3"
  },
  "language_info": {
   "codemirror_mode": {
    "name": "ipython",
    "version": 3
   },
   "file_extension": ".py",
   "mimetype": "text/x-python",
   "name": "python",
   "nbconvert_exporter": "python",
   "pygments_lexer": "ipython3",
   "version": "3.11.6"
  }
 },
 "nbformat": 4,
 "nbformat_minor": 2
}
