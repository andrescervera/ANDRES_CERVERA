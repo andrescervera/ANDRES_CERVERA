{
  "nbformat": 4,
  "nbformat_minor": 0,
  "metadata": {
    "colab": {
      "provenance": []
    },
    "kernelspec": {
      "name": "python3",
      "display_name": "Python 3"
    },
    "language_info": {
      "name": "python"
    }
  },
  "cells": [
    {
      "cell_type": "markdown",
      "source": [
        "# ENTREGABLE 3"
      ],
      "metadata": {
        "id": "7IcqfjUTW60u"
      }
    },
    {
      "cell_type": "markdown",
      "source": [
        "# INSTRUCCIONES"
      ],
      "metadata": {
        "id": "vdXBxm5FXABG"
      }
    },
    {
      "cell_type": "markdown",
      "source": [
        "Utilizar el archivo CSV (dataset_default.csv)."
      ],
      "metadata": {
        "id": "Ia-0nEHIXCu2"
      }
    },
    {
      "cell_type": "markdown",
      "source": [
        "# ¿POR QUÉ Y CUANDO DEBO ESCALAR LOS DATOS?\n",
        "\n",
        "En este notebook vamos a analizar el efecto que el escalamiento de los datos tiene en el desempeño de diferentes modelos de *Machine Learning*.\n",
        "\n",
        "Y con los resultados que obtengamos tendremos claro cuando resulta conveniente escalar los datos y cuando no."
      ],
      "metadata": {
        "id": "LoTLXUkCf2hq"
      }
    },
    {
      "cell_type": "markdown",
      "source": [
        "## 1. El problema a resolver\n",
        "\n",
        "Usaremos un set de datos que contiene la información asociada al pago (\"no default\") e impago (\"default\") de un crédito bancario para un total de 5.383 personas.\n",
        "\n",
        "Construiremos varios modelos de *Machine Learning* que tomarán como entrada datos como el puntaje crediticio, los ingresos mensuales y el monto del préstamo, y aprenda a predecir si el usuario pagará a tiempo (\"no default\", 0) o se retrasará en sus pagos (\"default\", 1).\n",
        "\n",
        "Y cada modelo será entrenado con datos con y sin escalar y veremos el efecto que esto tiene en cada modelo."
      ],
      "metadata": {
        "id": "BdqHaUKyguXp"
      }
    },
    {
      "cell_type": "code",
      "execution_count": null,
      "metadata": {
        "id": "YRrhH0MN9Iu_",
        "colab": {
          "base_uri": "https://localhost:8080/"
        },
        "outputId": "d27bb4ff-55ae-4957-da3c-85c39a68dc82"
      },
      "outputs": [
        {
          "output_type": "stream",
          "name": "stdout",
          "text": [
            "Mounted at /gdrive\n"
          ]
        }
      ],
      "source": [
        "# Importar las librerías\n",
        "import pandas as pd\n",
        "import plotly.express as px\n",
        "from google.colab import drive\n",
        "\n",
        "# Montar Google Drive\n",
        "drive.mount('/gdrive')"
      ]
    },
    {
      "cell_type": "markdown",
      "source": [
        "## 2. El set de datos"
      ],
      "metadata": {
        "id": "AyRHlJlMnRMV"
      }
    },
    {
      "cell_type": "code",
      "source": [
        "# Leer el dataset\n",
        "RUTA = '/content/dataset_default.csv'\n",
        "df = pd.read_csv(RUTA)\n",
        "df"
      ],
      "metadata": {
        "id": "T_105TZx9TJA",
        "colab": {
          "base_uri": "https://localhost:8080/",
          "height": 423
        },
        "outputId": "d6948bee-30dc-417b-93b4-6b221029c5d0"
      },
      "execution_count": null,
      "outputs": [
        {
          "output_type": "execute_result",
          "data": {
            "text/plain": [
              "      Puntaje crediticio  Ingresos mensuales (USD)  Monto del préstamo (USD)  \\\n",
              "0                    5.3                    6074.6                   34159.9   \n",
              "1                    4.1                    4955.0                   35168.6   \n",
              "2                    4.4                    4573.6                   26852.8   \n",
              "3                    3.1                    6019.0                   31500.9   \n",
              "4                    5.0                    1481.1                   38094.6   \n",
              "...                  ...                       ...                       ...   \n",
              "5378                 2.9                    2558.5                   47140.9   \n",
              "5379                 0.7                    3594.2                   46654.5   \n",
              "5380                 6.4                     681.2                   44423.2   \n",
              "5381                 2.5                    5172.0                   24832.9   \n",
              "5382                 7.1                    3556.1                   46061.5   \n",
              "\n",
              "      ¿Default/No default?  \n",
              "0                        0  \n",
              "1                        0  \n",
              "2                        0  \n",
              "3                        0  \n",
              "4                        1  \n",
              "...                    ...  \n",
              "5378                     1  \n",
              "5379                     1  \n",
              "5380                     1  \n",
              "5381                     0  \n",
              "5382                     1  \n",
              "\n",
              "[5383 rows x 4 columns]"
            ],
            "text/html": [
              "\n",
              "  <div id=\"df-fe7513ac-c8f3-4c39-bb3c-796d9f4bafb9\" class=\"colab-df-container\">\n",
              "    <div>\n",
              "<style scoped>\n",
              "    .dataframe tbody tr th:only-of-type {\n",
              "        vertical-align: middle;\n",
              "    }\n",
              "\n",
              "    .dataframe tbody tr th {\n",
              "        vertical-align: top;\n",
              "    }\n",
              "\n",
              "    .dataframe thead th {\n",
              "        text-align: right;\n",
              "    }\n",
              "</style>\n",
              "<table border=\"1\" class=\"dataframe\">\n",
              "  <thead>\n",
              "    <tr style=\"text-align: right;\">\n",
              "      <th></th>\n",
              "      <th>Puntaje crediticio</th>\n",
              "      <th>Ingresos mensuales (USD)</th>\n",
              "      <th>Monto del préstamo (USD)</th>\n",
              "      <th>¿Default/No default?</th>\n",
              "    </tr>\n",
              "  </thead>\n",
              "  <tbody>\n",
              "    <tr>\n",
              "      <th>0</th>\n",
              "      <td>5.3</td>\n",
              "      <td>6074.6</td>\n",
              "      <td>34159.9</td>\n",
              "      <td>0</td>\n",
              "    </tr>\n",
              "    <tr>\n",
              "      <th>1</th>\n",
              "      <td>4.1</td>\n",
              "      <td>4955.0</td>\n",
              "      <td>35168.6</td>\n",
              "      <td>0</td>\n",
              "    </tr>\n",
              "    <tr>\n",
              "      <th>2</th>\n",
              "      <td>4.4</td>\n",
              "      <td>4573.6</td>\n",
              "      <td>26852.8</td>\n",
              "      <td>0</td>\n",
              "    </tr>\n",
              "    <tr>\n",
              "      <th>3</th>\n",
              "      <td>3.1</td>\n",
              "      <td>6019.0</td>\n",
              "      <td>31500.9</td>\n",
              "      <td>0</td>\n",
              "    </tr>\n",
              "    <tr>\n",
              "      <th>4</th>\n",
              "      <td>5.0</td>\n",
              "      <td>1481.1</td>\n",
              "      <td>38094.6</td>\n",
              "      <td>1</td>\n",
              "    </tr>\n",
              "    <tr>\n",
              "      <th>...</th>\n",
              "      <td>...</td>\n",
              "      <td>...</td>\n",
              "      <td>...</td>\n",
              "      <td>...</td>\n",
              "    </tr>\n",
              "    <tr>\n",
              "      <th>5378</th>\n",
              "      <td>2.9</td>\n",
              "      <td>2558.5</td>\n",
              "      <td>47140.9</td>\n",
              "      <td>1</td>\n",
              "    </tr>\n",
              "    <tr>\n",
              "      <th>5379</th>\n",
              "      <td>0.7</td>\n",
              "      <td>3594.2</td>\n",
              "      <td>46654.5</td>\n",
              "      <td>1</td>\n",
              "    </tr>\n",
              "    <tr>\n",
              "      <th>5380</th>\n",
              "      <td>6.4</td>\n",
              "      <td>681.2</td>\n",
              "      <td>44423.2</td>\n",
              "      <td>1</td>\n",
              "    </tr>\n",
              "    <tr>\n",
              "      <th>5381</th>\n",
              "      <td>2.5</td>\n",
              "      <td>5172.0</td>\n",
              "      <td>24832.9</td>\n",
              "      <td>0</td>\n",
              "    </tr>\n",
              "    <tr>\n",
              "      <th>5382</th>\n",
              "      <td>7.1</td>\n",
              "      <td>3556.1</td>\n",
              "      <td>46061.5</td>\n",
              "      <td>1</td>\n",
              "    </tr>\n",
              "  </tbody>\n",
              "</table>\n",
              "<p>5383 rows × 4 columns</p>\n",
              "</div>\n",
              "    <div class=\"colab-df-buttons\">\n",
              "\n",
              "  <div class=\"colab-df-container\">\n",
              "    <button class=\"colab-df-convert\" onclick=\"convertToInteractive('df-fe7513ac-c8f3-4c39-bb3c-796d9f4bafb9')\"\n",
              "            title=\"Convert this dataframe to an interactive table.\"\n",
              "            style=\"display:none;\">\n",
              "\n",
              "  <svg xmlns=\"http://www.w3.org/2000/svg\" height=\"24px\" viewBox=\"0 -960 960 960\">\n",
              "    <path d=\"M120-120v-720h720v720H120Zm60-500h600v-160H180v160Zm220 220h160v-160H400v160Zm0 220h160v-160H400v160ZM180-400h160v-160H180v160Zm440 0h160v-160H620v160ZM180-180h160v-160H180v160Zm440 0h160v-160H620v160Z\"/>\n",
              "  </svg>\n",
              "    </button>\n",
              "\n",
              "  <style>\n",
              "    .colab-df-container {\n",
              "      display:flex;\n",
              "      gap: 12px;\n",
              "    }\n",
              "\n",
              "    .colab-df-convert {\n",
              "      background-color: #E8F0FE;\n",
              "      border: none;\n",
              "      border-radius: 50%;\n",
              "      cursor: pointer;\n",
              "      display: none;\n",
              "      fill: #1967D2;\n",
              "      height: 32px;\n",
              "      padding: 0 0 0 0;\n",
              "      width: 32px;\n",
              "    }\n",
              "\n",
              "    .colab-df-convert:hover {\n",
              "      background-color: #E2EBFA;\n",
              "      box-shadow: 0px 1px 2px rgba(60, 64, 67, 0.3), 0px 1px 3px 1px rgba(60, 64, 67, 0.15);\n",
              "      fill: #174EA6;\n",
              "    }\n",
              "\n",
              "    .colab-df-buttons div {\n",
              "      margin-bottom: 4px;\n",
              "    }\n",
              "\n",
              "    [theme=dark] .colab-df-convert {\n",
              "      background-color: #3B4455;\n",
              "      fill: #D2E3FC;\n",
              "    }\n",
              "\n",
              "    [theme=dark] .colab-df-convert:hover {\n",
              "      background-color: #434B5C;\n",
              "      box-shadow: 0px 1px 3px 1px rgba(0, 0, 0, 0.15);\n",
              "      filter: drop-shadow(0px 1px 2px rgba(0, 0, 0, 0.3));\n",
              "      fill: #FFFFFF;\n",
              "    }\n",
              "  </style>\n",
              "\n",
              "    <script>\n",
              "      const buttonEl =\n",
              "        document.querySelector('#df-fe7513ac-c8f3-4c39-bb3c-796d9f4bafb9 button.colab-df-convert');\n",
              "      buttonEl.style.display =\n",
              "        google.colab.kernel.accessAllowed ? 'block' : 'none';\n",
              "\n",
              "      async function convertToInteractive(key) {\n",
              "        const element = document.querySelector('#df-fe7513ac-c8f3-4c39-bb3c-796d9f4bafb9');\n",
              "        const dataTable =\n",
              "          await google.colab.kernel.invokeFunction('convertToInteractive',\n",
              "                                                    [key], {});\n",
              "        if (!dataTable) return;\n",
              "\n",
              "        const docLinkHtml = 'Like what you see? Visit the ' +\n",
              "          '<a target=\"_blank\" href=https://colab.research.google.com/notebooks/data_table.ipynb>data table notebook</a>'\n",
              "          + ' to learn more about interactive tables.';\n",
              "        element.innerHTML = '';\n",
              "        dataTable['output_type'] = 'display_data';\n",
              "        await google.colab.output.renderOutput(dataTable, element);\n",
              "        const docLink = document.createElement('div');\n",
              "        docLink.innerHTML = docLinkHtml;\n",
              "        element.appendChild(docLink);\n",
              "      }\n",
              "    </script>\n",
              "  </div>\n",
              "\n",
              "\n",
              "<div id=\"df-4315f7a4-a117-4945-b36e-bccb87790453\">\n",
              "  <button class=\"colab-df-quickchart\" onclick=\"quickchart('df-4315f7a4-a117-4945-b36e-bccb87790453')\"\n",
              "            title=\"Suggest charts\"\n",
              "            style=\"display:none;\">\n",
              "\n",
              "<svg xmlns=\"http://www.w3.org/2000/svg\" height=\"24px\"viewBox=\"0 0 24 24\"\n",
              "     width=\"24px\">\n",
              "    <g>\n",
              "        <path d=\"M19 3H5c-1.1 0-2 .9-2 2v14c0 1.1.9 2 2 2h14c1.1 0 2-.9 2-2V5c0-1.1-.9-2-2-2zM9 17H7v-7h2v7zm4 0h-2V7h2v10zm4 0h-2v-4h2v4z\"/>\n",
              "    </g>\n",
              "</svg>\n",
              "  </button>\n",
              "\n",
              "<style>\n",
              "  .colab-df-quickchart {\n",
              "      --bg-color: #E8F0FE;\n",
              "      --fill-color: #1967D2;\n",
              "      --hover-bg-color: #E2EBFA;\n",
              "      --hover-fill-color: #174EA6;\n",
              "      --disabled-fill-color: #AAA;\n",
              "      --disabled-bg-color: #DDD;\n",
              "  }\n",
              "\n",
              "  [theme=dark] .colab-df-quickchart {\n",
              "      --bg-color: #3B4455;\n",
              "      --fill-color: #D2E3FC;\n",
              "      --hover-bg-color: #434B5C;\n",
              "      --hover-fill-color: #FFFFFF;\n",
              "      --disabled-bg-color: #3B4455;\n",
              "      --disabled-fill-color: #666;\n",
              "  }\n",
              "\n",
              "  .colab-df-quickchart {\n",
              "    background-color: var(--bg-color);\n",
              "    border: none;\n",
              "    border-radius: 50%;\n",
              "    cursor: pointer;\n",
              "    display: none;\n",
              "    fill: var(--fill-color);\n",
              "    height: 32px;\n",
              "    padding: 0;\n",
              "    width: 32px;\n",
              "  }\n",
              "\n",
              "  .colab-df-quickchart:hover {\n",
              "    background-color: var(--hover-bg-color);\n",
              "    box-shadow: 0 1px 2px rgba(60, 64, 67, 0.3), 0 1px 3px 1px rgba(60, 64, 67, 0.15);\n",
              "    fill: var(--button-hover-fill-color);\n",
              "  }\n",
              "\n",
              "  .colab-df-quickchart-complete:disabled,\n",
              "  .colab-df-quickchart-complete:disabled:hover {\n",
              "    background-color: var(--disabled-bg-color);\n",
              "    fill: var(--disabled-fill-color);\n",
              "    box-shadow: none;\n",
              "  }\n",
              "\n",
              "  .colab-df-spinner {\n",
              "    border: 2px solid var(--fill-color);\n",
              "    border-color: transparent;\n",
              "    border-bottom-color: var(--fill-color);\n",
              "    animation:\n",
              "      spin 1s steps(1) infinite;\n",
              "  }\n",
              "\n",
              "  @keyframes spin {\n",
              "    0% {\n",
              "      border-color: transparent;\n",
              "      border-bottom-color: var(--fill-color);\n",
              "      border-left-color: var(--fill-color);\n",
              "    }\n",
              "    20% {\n",
              "      border-color: transparent;\n",
              "      border-left-color: var(--fill-color);\n",
              "      border-top-color: var(--fill-color);\n",
              "    }\n",
              "    30% {\n",
              "      border-color: transparent;\n",
              "      border-left-color: var(--fill-color);\n",
              "      border-top-color: var(--fill-color);\n",
              "      border-right-color: var(--fill-color);\n",
              "    }\n",
              "    40% {\n",
              "      border-color: transparent;\n",
              "      border-right-color: var(--fill-color);\n",
              "      border-top-color: var(--fill-color);\n",
              "    }\n",
              "    60% {\n",
              "      border-color: transparent;\n",
              "      border-right-color: var(--fill-color);\n",
              "    }\n",
              "    80% {\n",
              "      border-color: transparent;\n",
              "      border-right-color: var(--fill-color);\n",
              "      border-bottom-color: var(--fill-color);\n",
              "    }\n",
              "    90% {\n",
              "      border-color: transparent;\n",
              "      border-bottom-color: var(--fill-color);\n",
              "    }\n",
              "  }\n",
              "</style>\n",
              "\n",
              "  <script>\n",
              "    async function quickchart(key) {\n",
              "      const quickchartButtonEl =\n",
              "        document.querySelector('#' + key + ' button');\n",
              "      quickchartButtonEl.disabled = true;  // To prevent multiple clicks.\n",
              "      quickchartButtonEl.classList.add('colab-df-spinner');\n",
              "      try {\n",
              "        const charts = await google.colab.kernel.invokeFunction(\n",
              "            'suggestCharts', [key], {});\n",
              "      } catch (error) {\n",
              "        console.error('Error during call to suggestCharts:', error);\n",
              "      }\n",
              "      quickchartButtonEl.classList.remove('colab-df-spinner');\n",
              "      quickchartButtonEl.classList.add('colab-df-quickchart-complete');\n",
              "    }\n",
              "    (() => {\n",
              "      let quickchartButtonEl =\n",
              "        document.querySelector('#df-4315f7a4-a117-4945-b36e-bccb87790453 button');\n",
              "      quickchartButtonEl.style.display =\n",
              "        google.colab.kernel.accessAllowed ? 'block' : 'none';\n",
              "    })();\n",
              "  </script>\n",
              "</div>\n",
              "    </div>\n",
              "  </div>\n"
            ],
            "application/vnd.google.colaboratory.intrinsic+json": {
              "type": "dataframe",
              "variable_name": "df",
              "summary": "{\n  \"name\": \"df\",\n  \"rows\": 5383,\n  \"fields\": [\n    {\n      \"column\": \"Puntaje crediticio\",\n      \"properties\": {\n        \"dtype\": \"number\",\n        \"std\": 1.9736421609719363,\n        \"min\": 0.0,\n        \"max\": 7.5,\n        \"num_unique_values\": 76,\n        \"samples\": [\n          5.0,\n          2.4,\n          3.9\n        ],\n        \"semantic_type\": \"\",\n        \"description\": \"\"\n      }\n    },\n    {\n      \"column\": \"Ingresos mensuales (USD)\",\n      \"properties\": {\n        \"dtype\": \"number\",\n        \"std\": 1948.4799964419267,\n        \"min\": 1.4,\n        \"max\": 6997.8,\n        \"num_unique_values\": 5141,\n        \"samples\": [\n          4680.1,\n          2954.8,\n          4439.6\n        ],\n        \"semantic_type\": \"\",\n        \"description\": \"\"\n      }\n    },\n    {\n      \"column\": \"Monto del pr\\u00e9stamo (USD)\",\n      \"properties\": {\n        \"dtype\": \"number\",\n        \"std\": 7859.814765205869,\n        \"min\": 20023.4,\n        \"max\": 49991.1,\n        \"num_unique_values\": 5315,\n        \"samples\": [\n          35932.7,\n          21218.5,\n          49491.4\n        ],\n        \"semantic_type\": \"\",\n        \"description\": \"\"\n      }\n    },\n    {\n      \"column\": \"\\u00bfDefault/No default?\",\n      \"properties\": {\n        \"dtype\": \"number\",\n        \"std\": 0,\n        \"min\": 0,\n        \"max\": 1,\n        \"num_unique_values\": 2,\n        \"samples\": [\n          1,\n          0\n        ],\n        \"semantic_type\": \"\",\n        \"description\": \"\"\n      }\n    }\n  ]\n}"
            }
          },
          "metadata": {},
          "execution_count": 9
        }
      ]
    },
    {
      "cell_type": "markdown",
      "source": [
        "Veamos un conteo de categorías para verificar si el set de datos está balanceado:"
      ],
      "metadata": {
        "id": "1dyt3CbOiCMf"
      }
    },
    {
      "cell_type": "code",
      "source": [
        "df['¿Default/No default?'].value_counts(normalize=True)"
      ],
      "metadata": {
        "id": "9fMgvDGL9kJX",
        "colab": {
          "base_uri": "https://localhost:8080/"
        },
        "outputId": "700bb46c-c0bc-404f-d836-abd5ab17dca2"
      },
      "execution_count": null,
      "outputs": [
        {
          "output_type": "execute_result",
          "data": {
            "text/plain": [
              "¿Default/No default?\n",
              "1    0.507152\n",
              "0    0.492848\n",
              "Name: proportion, dtype: float64"
            ]
          },
          "metadata": {},
          "execution_count": 10
        }
      ]
    },
    {
      "cell_type": "markdown",
      "source": [
        "Veamos los rangos de valores que alcanzan los datos que usaremos como entrada de cada modelo:"
      ],
      "metadata": {
        "id": "Yh6Mg1UyNlNQ"
      }
    },
    {
      "cell_type": "code",
      "source": [
        "for col in df.columns[0:3]:\n",
        "    # Calcular valores mínimo y máximo de la columna\n",
        "    minimo = df[col].min()\n",
        "    maximo = df[col].max()\n",
        "    print(f'Máximo/mínimo columna \"{col}\": {maximo:.1f}/{minimo:.1f}')"
      ],
      "metadata": {
        "id": "sxMjq9qeNtFa",
        "colab": {
          "base_uri": "https://localhost:8080/"
        },
        "outputId": "ec689673-e4c9-432a-e7d5-62df308ea5c1"
      },
      "execution_count": null,
      "outputs": [
        {
          "output_type": "stream",
          "name": "stdout",
          "text": [
            "Máximo/mínimo columna \"Puntaje crediticio\": 7.5/0.0\n",
            "Máximo/mínimo columna \"Ingresos mensuales (USD)\": 6997.8/1.4\n",
            "Máximo/mínimo columna \"Monto del préstamo (USD)\": 49991.1/20023.4\n"
          ]
        }
      ]
    },
    {
      "cell_type": "markdown",
      "source": [
        "Y vemos que **cada columna tiene una escala diferente**."
      ],
      "metadata": {
        "id": "EmaSKYTzOLqC"
      }
    },
    {
      "cell_type": "markdown",
      "source": [
        "Y por último hagamos un gráfico 3D de los datos para entender sus principales características:"
      ],
      "metadata": {
        "id": "WHD9gBW5iG0j"
      }
    },
    {
      "cell_type": "code",
      "source": [
        "fig = px.scatter_3d(df, x='Puntaje crediticio', y='Ingresos mensuales (USD)',\n",
        "                    z='Monto del préstamo (USD)', color='¿Default/No default?',\n",
        "                    size_max=6, opacity = 0.5)\n",
        "fig.show()"
      ],
      "metadata": {
        "id": "0chvxU0k9tkD",
        "colab": {
          "base_uri": "https://localhost:8080/",
          "height": 542
        },
        "outputId": "d60f7ca4-5666-4322-f3b3-7426a1991534"
      },
      "execution_count": null,
      "outputs": [
        {
          "output_type": "display_data",
          "data": {
            "text/html": [
              "<html>\n",
              "<head><meta charset=\"utf-8\" /></head>\n",
              "<body>\n",
              "    <div>            <script src=\"https://cdnjs.cloudflare.com/ajax/libs/mathjax/2.7.5/MathJax.js?config=TeX-AMS-MML_SVG\"></script><script type=\"text/javascript\">if (window.MathJax && window.MathJax.Hub && window.MathJax.Hub.Config) {window.MathJax.Hub.Config({SVG: {font: \"STIX-Web\"}});}</script>                <script type=\"text/javascript\">window.PlotlyConfig = {MathJaxConfig: 'local'};</script>\n",
              "        <script charset=\"utf-8\" src=\"https://cdn.plot.ly/plotly-2.24.1.min.js\"></script>                <div id=\"b79094df-dc0b-4a6c-9ea7-f1a7c6527c6d\" class=\"plotly-graph-div\" style=\"height:525px; width:100%;\"></div>            <script type=\"text/javascript\">                                    window.PLOTLYENV=window.PLOTLYENV || {};                                    if (document.getElementById(\"b79094df-dc0b-4a6c-9ea7-f1a7c6527c6d\")) {                    Plotly.newPlot(                        \"b79094df-dc0b-4a6c-9ea7-f1a7c6527c6d\",                        [{\"hovertemplate\":\"Puntaje crediticio=%{x}\\u003cbr\\u003eIngresos mensuales (USD)=%{y}\\u003cbr\\u003eMonto del pr\\u00e9stamo (USD)=%{z}\\u003cbr\\u003e\\u00bfDefault\\u002fNo default?=%{marker.color}\\u003cextra\\u003e\\u003c\\u002fextra\\u003e\",\"legendgroup\":\"\",\"marker\":{\"color\":[0,0,0,0,1,1,1,1,1,0,0,1,0,0,1,0,1,0,1,1,0,1,1,1,0,0,1,0,1,0,1,1,1,0,1,1,1,1,0,1,0,0,0,1,0,1,0,0,0,0,0,0,1,1,1,0,0,1,1,1,1,0,1,0,0,0,1,1,0,0,0,1,0,1,1,0,0,0,1,1,1,0,0,1,0,1,0,1,1,1,0,0,0,1,0,1,0,0,1,0,0,1,1,0,0,1,0,0,1,1,1,0,0,0,1,0,1,0,0,0,1,1,0,1,1,0,1,1,0,0,0,1,1,0,1,1,0,0,0,0,1,0,1,0,1,0,0,1,0,0,0,1,1,1,1,0,0,0,1,0,1,0,0,1,0,0,0,0,1,0,1,0,0,1,0,1,0,0,0,1,1,0,0,1,0,0,0,0,1,1,1,0,1,1,1,1,0,1,1,1,0,0,1,0,0,1,0,0,0,1,0,0,0,0,0,1,0,0,1,0,1,0,0,0,1,0,1,1,1,0,0,0,0,1,0,0,0,0,1,0,0,0,0,1,0,1,1,1,1,1,1,1,1,0,1,0,1,0,1,1,1,1,1,1,1,1,0,0,1,0,0,0,1,1,0,0,1,1,0,0,0,1,1,1,0,1,1,0,0,1,1,1,1,0,1,1,0,1,1,0,1,1,1,0,0,1,1,1,0,0,0,0,0,0,1,0,1,0,0,0,1,1,1,1,1,1,0,1,0,0,1,1,1,1,0,0,1,0,0,0,1,0,1,1,1,0,0,0,0,0,0,1,0,0,1,1,1,0,1,1,1,0,1,1,1,1,0,1,0,1,1,1,0,0,1,0,1,0,1,0,0,1,0,0,1,0,1,0,0,0,1,0,1,1,1,0,1,1,0,1,0,0,1,0,1,1,1,1,0,0,1,0,1,0,0,0,1,0,0,1,1,0,0,1,0,1,0,1,1,1,0,1,0,0,0,0,1,0,1,0,1,1,1,0,0,0,1,0,1,0,1,1,0,0,0,0,1,0,0,0,0,0,0,0,0,1,0,0,1,0,0,1,0,0,0,1,0,1,1,0,0,1,1,1,0,0,1,1,1,1,1,0,1,0,0,0,1,1,1,1,0,0,1,0,0,1,1,1,1,1,1,1,1,0,1,1,0,1,1,0,1,0,0,0,0,1,1,0,1,0,0,1,1,1,1,1,1,0,1,1,1,1,0,1,1,1,0,1,0,1,1,1,1,0,0,0,0,1,0,0,1,1,1,1,1,0,0,0,0,0,1,0,0,0,1,1,1,0,1,0,0,0,0,1,1,0,0,0,1,1,0,0,0,0,0,0,1,0,1,0,0,0,1,0,1,0,0,0,0,0,0,1,1,1,0,0,0,0,0,1,1,1,0,0,1,1,1,0,0,0,1,1,0,0,1,0,1,1,0,0,1,0,1,1,0,0,1,0,0,1,1,0,1,0,1,1,1,0,0,1,1,1,1,0,1,1,1,1,0,0,0,1,0,0,1,1,1,0,1,1,0,1,1,1,0,0,1,1,0,1,0,0,1,0,0,0,1,0,1,0,1,1,1,0,0,1,1,0,0,0,1,1,1,0,0,1,0,0,0,1,1,1,1,0,1,0,1,0,1,0,1,0,1,1,1,1,0,1,1,1,0,1,0,1,0,1,1,1,0,1,0,0,1,1,1,1,0,1,1,0,1,0,0,1,1,0,1,1,0,1,0,0,1,1,0,1,0,1,1,1,1,0,1,0,0,0,1,1,0,1,0,1,1,1,1,1,0,1,0,0,0,1,0,1,0,0,0,1,1,0,0,0,1,1,1,0,0,0,0,0,0,1,1,1,0,1,1,0,0,0,0,0,1,0,1,1,1,1,1,0,1,1,1,0,1,0,0,1,1,0,0,0,1,0,0,1,0,0,0,0,1,0,0,0,1,1,1,1,0,0,0,0,0,0,1,1,1,0,0,1,0,1,1,0,1,1,0,0,0,0,1,0,1,1,0,1,1,1,0,1,1,0,0,1,0,0,0,0,1,0,0,0,0,0,1,0,0,1,0,0,1,0,0,0,0,0,1,0,0,0,0,0,0,1,0,0,0,0,1,0,1,1,0,1,1,1,0,0,0,1,1,0,1,0,1,1,0,0,1,0,1,1,1,1,1,1,1,0,0,0,1,0,1,0,0,0,1,0,1,0,1,0,0,0,0,1,0,0,0,1,0,1,1,0,1,1,0,1,1,0,1,1,0,1,0,1,1,0,0,1,0,0,0,1,1,1,0,1,1,1,0,0,0,0,1,0,1,0,0,1,1,0,0,0,1,0,1,0,0,1,1,0,1,0,0,0,0,1,1,0,1,0,1,1,1,0,0,0,0,1,1,0,0,0,1,0,1,0,1,0,1,1,1,0,1,0,1,0,0,0,1,0,1,1,0,1,1,1,0,0,0,1,0,0,0,1,0,0,1,1,1,1,1,0,0,0,1,1,0,1,0,1,0,1,0,0,0,0,1,1,1,0,1,0,0,0,0,0,0,0,0,0,0,1,0,1,0,1,0,1,1,1,0,0,0,0,1,1,0,0,1,0,1,0,0,0,1,1,0,1,1,0,0,1,0,0,0,0,1,0,0,0,0,1,0,0,1,0,1,1,1,0,1,0,0,1,1,0,1,0,1,0,0,0,1,0,0,0,0,0,0,1,1,0,1,1,0,0,1,1,1,0,1,0,1,0,0,1,0,1,0,1,1,0,0,0,1,1,1,0,1,0,1,1,0,1,0,1,0,1,1,0,0,0,1,1,0,0,1,0,1,1,1,1,0,1,0,0,1,0,0,1,0,1,0,0,1,1,1,1,1,0,1,0,0,1,1,1,0,1,1,1,1,0,1,1,1,1,0,0,0,1,0,0,0,1,1,0,1,1,1,1,1,0,1,0,0,0,1,0,1,1,1,1,1,1,0,1,1,0,1,0,1,1,0,0,0,1,1,0,1,0,0,0,1,0,1,0,0,1,1,0,0,1,1,1,0,0,0,0,0,1,1,1,0,1,0,1,0,0,0,0,1,1,0,1,1,1,0,0,0,1,1,1,0,0,1,1,0,0,0,1,0,0,1,1,0,0,1,1,0,1,1,0,1,1,1,1,0,0,1,0,1,1,1,1,1,0,1,1,0,0,0,0,0,1,1,1,0,0,0,0,1,1,1,0,0,0,1,0,1,0,1,1,1,1,1,0,1,0,0,1,1,1,0,0,0,1,1,1,0,1,0,1,1,0,1,1,1,0,1,0,1,0,0,1,1,0,1,1,1,1,0,1,1,1,1,0,0,0,1,1,1,1,1,1,0,1,1,0,0,1,0,0,0,0,0,1,0,1,0,1,1,0,1,1,1,1,0,1,0,1,0,1,1,1,1,1,1,0,1,1,0,1,0,0,1,1,1,0,1,1,1,1,0,1,0,0,0,0,1,0,1,1,1,0,0,1,1,0,1,0,0,1,1,0,1,1,1,0,0,0,0,1,0,0,0,1,0,1,1,1,1,1,0,0,0,0,0,1,0,1,1,1,1,0,1,0,1,1,0,1,0,1,1,0,0,0,0,1,0,0,1,1,1,1,1,1,0,0,0,0,1,0,0,1,1,0,0,1,0,1,0,1,0,0,0,1,1,1,1,1,1,0,0,1,1,0,0,1,1,1,0,1,1,0,0,1,1,0,1,0,0,0,1,1,1,0,1,0,0,1,0,1,0,0,1,0,1,1,0,0,0,0,1,1,1,0,1,1,0,1,0,1,1,1,0,1,0,0,1,0,0,0,1,1,1,0,0,1,0,0,1,0,1,0,1,1,0,0,1,1,1,1,0,1,1,1,0,1,1,1,0,0,1,1,1,0,1,0,0,1,0,0,1,1,0,0,1,0,1,1,0,1,0,1,1,0,1,0,1,0,1,0,0,1,1,1,0,0,1,0,1,1,1,0,0,0,1,1,0,0,0,0,1,0,0,1,0,1,0,0,0,1,1,1,0,0,1,1,0,1,1,0,1,1,1,1,1,1,1,1,0,0,1,0,1,1,1,1,0,0,1,0,1,1,1,1,1,1,1,0,0,1,0,1,0,1,1,1,1,0,1,0,1,1,0,0,0,1,0,0,1,0,1,0,0,1,1,0,1,0,0,1,1,1,1,0,1,0,0,0,0,0,1,0,1,0,1,1,1,0,1,1,0,1,1,0,0,1,0,0,0,0,1,0,0,0,1,0,1,0,0,1,1,0,1,1,0,0,0,0,1,1,0,0,0,0,1,1,0,0,1,0,1,0,1,1,0,0,1,0,0,0,0,0,1,1,0,0,1,0,1,0,1,0,1,0,0,0,0,0,1,1,1,1,0,0,0,1,1,1,1,1,1,0,0,1,0,1,1,0,1,1,0,0,0,1,1,0,0,0,1,1,1,1,1,1,1,1,1,1,0,1,1,1,0,1,0,1,0,1,0,0,1,1,0,1,1,1,0,1,0,0,0,0,1,1,0,1,0,1,1,0,1,1,1,0,0,1,1,0,1,1,1,1,1,1,0,0,0,1,0,0,0,0,0,0,0,1,0,1,1,1,1,0,0,0,0,1,0,1,0,1,1,0,1,0,0,1,1,0,0,1,1,1,1,0,0,1,1,1,0,1,0,0,1,0,1,0,0,1,0,1,1,1,1,1,0,0,1,0,1,1,0,0,0,1,1,1,0,1,0,0,1,1,0,0,1,1,0,1,1,1,0,0,1,1,0,0,1,0,1,1,1,1,1,1,0,1,0,1,1,0,1,0,0,0,0,0,0,1,1,1,0,1,0,0,1,0,1,1,1,1,1,0,1,1,0,0,1,1,0,1,1,1,0,0,0,1,0,1,1,1,1,1,0,0,1,0,0,1,0,1,1,1,1,1,0,1,0,1,1,1,0,1,0,0,0,1,0,1,0,0,0,0,0,1,1,0,1,0,1,0,0,0,1,1,0,1,0,1,1,0,1,0,0,1,0,1,1,0,1,0,0,0,0,0,0,0,1,0,1,0,0,1,1,0,0,0,1,1,0,0,1,0,0,0,0,1,1,0,0,0,1,0,0,0,0,1,0,1,0,1,1,1,0,1,0,0,1,0,0,1,0,1,0,1,0,1,0,1,1,0,1,1,1,1,0,0,1,1,1,1,1,1,1,1,0,0,0,1,1,0,1,1,1,0,0,0,0,1,1,1,0,0,1,1,1,0,0,0,1,1,1,1,1,0,0,1,1,1,1,0,1,1,1,1,1,1,1,0,1,0,1,1,0,0,0,1,0,0,0,0,1,1,1,1,1,1,0,1,0,1,0,0,1,0,0,0,0,1,0,1,0,0,0,0,0,0,1,1,0,0,1,0,1,1,0,0,1,0,1,0,1,1,0,1,0,1,1,0,0,1,1,1,1,0,1,0,1,0,1,1,0,0,0,0,1,1,0,0,0,1,1,0,1,0,0,1,0,0,1,1,1,1,1,0,0,1,0,1,1,1,0,1,1,1,0,1,0,1,0,0,0,0,0,1,0,0,1,1,1,0,1,0,0,0,1,1,0,1,0,1,1,0,1,0,1,0,0,0,1,0,0,0,1,1,1,0,1,1,1,0,1,1,1,1,0,0,0,0,1,0,1,1,0,0,1,0,0,1,1,1,0,1,1,0,1,1,0,1,0,1,1,0,1,1,1,1,1,0,1,0,1,0,1,1,0,0,1,0,0,1,1,1,0,0,0,0,0,1,1,0,0,0,1,1,1,0,1,0,1,0,1,0,1,1,0,1,1,1,0,0,0,0,0,0,0,1,1,0,0,0,1,0,1,0,0,1,0,1,0,0,1,1,1,1,1,0,0,0,0,0,1,0,1,1,1,1,0,1,0,1,1,0,1,1,0,0,0,1,0,0,0,1,0,1,0,1,0,1,1,1,0,0,0,1,0,1,1,1,1,1,0,0,0,0,1,1,0,1,0,1,1,0,1,0,0,0,0,1,0,0,0,0,0,0,0,1,0,1,0,1,1,1,1,1,1,0,0,0,1,0,0,1,0,0,0,1,0,0,1,0,0,0,0,0,0,0,1,1,0,1,1,0,1,1,0,1,1,0,1,0,1,0,0,0,1,0,1,1,1,0,0,1,0,1,1,1,1,1,0,0,1,1,1,0,0,0,1,1,1,1,1,1,0,1,0,1,0,1,1,0,1,1,1,0,0,1,1,0,1,0,0,0,1,1,0,0,1,0,1,0,0,0,0,0,0,0,0,1,1,0,0,1,0,0,0,0,1,0,0,0,0,0,0,1,1,1,0,1,1,1,1,1,1,1,0,0,1,1,0,0,1,1,1,0,1,0,0,0,1,1,1,0,0,1,0,1,1,1,1,1,0,1,1,1,0,0,1,1,0,0,0,0,1,1,0,1,1,0,1,1,1,1,0,1,0,0,0,0,0,0,0,1,1,1,1,1,1,1,1,0,1,0,0,0,0,0,0,0,1,1,0,0,1,1,0,1,1,1,1,0,0,0,0,1,0,1,1,1,0,0,1,1,1,0,0,0,1,0,1,0,1,1,1,0,1,0,0,1,1,0,1,0,1,1,1,1,1,1,1,1,1,0,1,0,1,1,0,0,1,1,0,1,0,1,1,0,1,0,1,0,1,1,1,1,1,1,0,0,1,1,0,0,1,1,1,1,0,0,0,1,1,0,0,0,1,1,0,1,1,1,0,1,0,1,0,1,0,0,0,1,0,0,1,0,0,1,1,1,1,1,1,1,1,1,0,1,1,0,0,1,0,0,1,0,0,1,0,0,1,0,1,0,0,0,1,0,1,1,0,1,1,1,0,0,0,0,0,0,1,1,0,0,1,1,1,0,1,1,1,0,1,1,1,1,0,0,0,0,0,0,0,0,1,1,1,0,0,1,0,1,1,1,0,1,0,1,1,0,0,0,1,0,0,1,0,0,0,0,0,1,1,0,0,0,1,1,1,0,0,1,1,0,0,0,1,0,1,1,1,1,1,1,0,0,1,1,0,1,1,1,0,1,0,0,0,1,0,1,1,1,0,1,0,0,0,0,1,1,1,0,1,1,1,0,0,1,1,1,0,1,1,1,1,1,0,0,1,1,0,0,1,1,0,0,1,1,1,1,1,1,0,0,0,0,1,1,0,0,0,1,0,0,1,0,1,0,1,0,0,0,0,1,0,0,1,1,0,1,0,1,1,0,1,0,1,1,0,1,0,0,0,1,0,1,1,0,1,0,1,1,0,1,1,1,0,0,1,0,1,1,0,1,0,1,0,1,1,0,0,1,0,0,1,0,1,0,1,0,0,0,1,0,1,0,0,0,0,1,0,0,0,1,0,1,1,1,1,0,0,1,1,0,1,0,1,0,1,0,0,1,1,1,0,1,0,1,1,1,0,0,1,1,0,0,0,1,1,0,0,0,1,0,1,1,0,0,0,0,1,1,0,1,0,1,1,1,0,0,0,0,1,1,1,1,1,0,1,1,1,0,1,1,0,1,0,0,1,1,1,1,0,0,0,1,1,1,1,0,1,1,0,1,1,1,1,0,1,0,0,0,0,1,0,0,0,0,1,0,0,1,1,0,1,1,1,1,0,0,0,0,1,0,0,0,1,1,1,0,1,1,0,1,0,0,1,0,1,0,1,0,1,1,1,1,1,1,1,0,1,1,0,0,1,1,0,0,1,1,1,0,1,1,0,0,0,0,0,0,1,1,1,1,1,1,0,1,0,0,0,0,0,0,0,1,0,0,1,0,1,1,1,0,0,1,1,0,0,0,0,1,1,1,1,1,0,0,1,1,1,1,1,0,0,0,0,1,0,0,1,1,1,0,1,1,1,1,0,1,0,0,0,0,0,0,0,1,0,1,0,1,0,1,1,0,0,0,1,1,0,1,0,0,1,0,1,1,0,0,0,1,0,1,0,1,1,1,0,0,0,0,0,0,1,0,0,1,0,0,1,1,0,0,1,0,1,1,1,0,0,0,1,1,0,1,1,1,1,0,0,0,0,0,0,0,0,0,1,0,0,1,1,0,0,1,0,1,0,0,1,0,0,0,1,1,1,1,0,1,0,0,1,1,1,1,1,1,0,1,1,1,0,0,1,0,1,0,0,1,1,1,0,0,0,0,1,0,1,1,1,1,0,1,1,1,0,0,0,1,0,0,0,0,0,1,1,1,0,1,0,0,1,0,0,0,0,1,1,1,0,1,1,0,0,0,1,0,1,1,1,0,0,0,1,1,1,1,0,0,0,0,0,1,1,1,1,1,1,1,0,0,0,0,1,0,1,1,1,0,0,1,1,0,1,1,0,1,1,1,0,1,1,1,0,0,0,1,1,1,1,0,0,0,0,1,0,0,0,1,0,1,0,0,1,0,0,1,0,1,0,1,1,1,0,1,1,0,1,1,0,0,0,0,0,0,1,0,0,1,0,0,1,0,0,1,1,1,1,0,0,0,0,1,0,1,0,0,1,1,0,1,1,1,1,1,1,1,1,1,0,1,1,0,0,0,0,0,1,0,0,0,0,0,1,1,1,1,1,0,0,0,1,1,1,1,1,1,1,0,1,0,0,1,1,1,1,1,1,0,1,0,0,0,0,0,1,0,0,1,1,1,0,1,1,0,1,1,1,1,1,1,0,1,0,0,0,0,1,1,0,0,1,0,1,1,1,0,0,1,0,0,1,0,0,0,1,0,0,1,1,1,0,0,0,1,1,0,1,0,1,1,1,1,1,1,1,1,1,0,1,1,1,0,1,0,0,1,1,1,1,0,0,0,0,0,1,1,1,0,0,0,0,0,0,0,1,0,0,1,1,0,1,0,1,0,1,0,0,0,0,1,1,1,1,0,0,1,0,0,1,0,1,0,0,0,0,1,0,1,0,0,0,1,1,0,0,1,1,1,0,1,1,1,1,1,0,0,1,1,0,0,0,0,1,0,1,1,1,0,1,1,0,0,1,0,1,0,0,0,0,1,0,1,1,0,1,1,0,1,1,0,1,0,1,1,0,0,0,1,0,1,0,0,0,1,1,0,0,0,1,1,1,0,0,1,0,0,0,0,1,0,0,1,1,0,1,1,0,0,1,1,0,0,0,1,0,0,1,1,0,1,1,0,0,1,1,0,1,1,0,1,1,1,1,1,0,1,0,0,1,0,1,0,0,1,1,0,0,0,0,0,1,1,0,1,0,1,1,1,0,0,1,0,1,0,0,0,1,1,0,1,1,1,0,0,1,1,1,0,0,1,1,1,1,0,0,0,0,0,1,0,0,0,1,1,1,0,0,1,1,1,0,0,1,0,1,1,1,0,0,0,0,1,1,0,1,0,1,1,0,0,1,0,0,1,0,0,0,0,1,1,0,0,0,1,0,1,1,1,0,0,1,1,0,1,1,1,0,0,0,0,1,1,1,1,1,0,1,0,1,0,0,0,0,0,1,1,1,1,1,0,1,0,0,0,0,0,0,0,0,1,1,1,0,1,0,0,0,0,1,0,0,0,1,0,0,1,1,0,0,0,1,1,0,1,1,1,0,0,0,1,1,0,0,1,1,1,0,1,1,1,1,0,0,0,0,0,1,1,0,1,1,1,0,1,0,1,1,1,1,0,1,1,1,1,0,0,1,0,0,1,1,0,0,1,1,0,0,1,1,0,1,0,0,0,1,0,1,1,1,0,1,1,1,0,1,1,0,0,0,1,1,0,0,1,1,0,1,1,0,0,0,1,1,1,1,1,0,1,1,1,1,1,1,0,1,0,1,1,1,0,1,0,1,1,1,1,0,0,0,1,0,0,0,0,1,0,1,0,0,0,0,1,1,1,1,1,1,1,1,1,1,1,0,0,1,1,0,0,0,1,0,1,0,0,0,0,0,0,0,0,0,1,1,0,1,1,0,1,1,0,0,1,0,1,1,1,0,0,1,1,1,1,0,0,1,0,1,0,0,1,1,0,1,0,1,0,1,1,0,1,1,0,1,0,1,0,0,1,0,1,0,1,0,0,1,0,0,0,1,0,1,1,1,1,0,0,0,1,1,1,1,0,0,1,0,0,0,1,0,0,1,1,0,0,0,1,1,1,1,1,1,0,1,1,0,1,1,0,0,1,0,0,1,0,0,1,1,0,0,0,0,1,1,1,1,1,1,1,1,1,1,1,0,0,0,1,1,0,1,0,1,1,0,1,1,1,0,0,1,0,1,1,0,1,0,1,1,1,0,0,1,0,0,0,0,1,0,1,1,0,0,0,1,0,1,0,1,0,1,1,0,1,1,1,1,1,0,0,0,1,1,1,0,0,1,0,0,0,0,1,1,0,1,0,0,0,0,1,0,0,1,1,1,0,1,0,0,1,0,0,0,1,0,1,0,1,1,1,0,1,1,1,0,1,0,1,1,1,1,1,1,1,1,1,0,1,1,1,0,1,0,0,0,1,1,1,1,1,0,1,1,0,1,1,0,1,0,0,1,0,0,1,0,0,0,0,1,1,0,1,1,1,1,1,1,0,1,0,0,1,0,1,0,0,1,1,0,0,0,0,1,0,0,0,0,1,1,0,0,0,1,0,1,1,0,0,1,1,1,0,1,1,1,0,1,1,0,0,0,0,1,0,0,0,1,0,1,0,0,0,1,0,1,0,1,1,0,1,0,1,1,0,1,1,0,1,1,0,1,1,0,1,0,0,1,0,1,0,0,0,1,1,1,0,1,1,0,0,1,0,0,1,1,1,1,1,1,1,0,0,0,0,1,1,0,0,1,0,1,0,0,0,0,0,0,1,0,0,1,0,0,1,0,0,0,0,1,1,0,0,1,0,1,0,1,1,0,0,1,0,1,0,1,0,0,1,0,1,1,1,1,0,0,1,0,1,1,0,1,1,0,0,1,1,0,1,1,1,1,1,0,1,0,0,0,1,1,1,0,0,0,0,1,1,0,1,1,1,1,1,1,0,0,0,1,1,1,0,0,1,0,0,0,0,1,0,1,0,1,1,1,0,0,1,0,1,1,1,1,0,0,1,0,0,0,0,0,0,0,0,0,0,1,0,0,1,0,1,0,1,1,1,0,0,0,1,1,1,1,0,0,0,1,1,1,0,1,1,1,1,1,0,0,0,0,1,1,0,0,1,0,1,1,0,0,0,0,1,0,1,0,0,0,0,0,0,1,1,0,0,0,1,0,0,0,1,1,0,0,0,1,0,0,1,1,0,0,1,0,0,0,1,1,0,1,1,1,0,0,0,1,1,0,1,1,1,1,1,1,0,1,1,0,1,0,0,0,0,1,1,0,1,0,0,0,1,1,1,0,0,1,1,1,1,0,0,1,1,1,0,0,1,0,1,1,0,1,1,0,0,1,0,0,0,0,1,0,0,1,1,1,1,0,0,1,1,0,0,1,0,1,1,0,0,0,1,1,1,0,1,0,0,1,1,0,0,0,0,0,0,0,1,0,0,0,1,0,1,1,1,0,1,1,1,0,1,1,1,1,0,1,0,0,1,0,0,0,0,0,1,0,0,0,1,1,1,1,0,1,1,0,1,0,1,1,1,1,1,0,0,1,0,1,0,1,1,0,0,0,0,0,0,1,0,1,1,0,0,1,1,1,1,1,0,0,0,1,0,0,1,1,1,0,1,0,1,1,1,1,0,1,0,1,0,1,1,1,0,0,0,0,0,0,1,0,0,1,1,0,0,1,1,1,1,1,0,0,0,1,0,1,0,1,0,0,1,0,0,0,1,1,0,0,1,1,0,1,0,0,0,1,0,0,0,1,0,0,0,1,0,0,0,0,0,0,0,1,0,0,0,0,0,1,0,0,1,1,0,0,0,0,0,0,0,1,1,1,1,1,0,1,1,1,1,1,1,1,1,0,1,1,1,1,1,0,0,1,1,0,1,0,0,0,0,1,0,0,0,1,1,1,1,1,1,1,1,0,0,1,1,1,1,1,1,0,1,1,0,0,0,0,0,1,1,0,1,1,0,1,0,1,0,0,0,0,0,1,0,1,0,1,1,0,0,1,0,1,0,1,0,1,1,1,0,1,1,1,0,0,1,1,1,1,0,1,1,1,1,0,1,1,1,1,1,1,1,1,0,1],\"coloraxis\":\"coloraxis\",\"opacity\":0.5,\"symbol\":\"circle\"},\"mode\":\"markers\",\"name\":\"\",\"scene\":\"scene\",\"showlegend\":false,\"x\":[5.3,4.1,4.4,3.1,5.0,5.7,6.2,1.6,0.6,1.8,3.9,1.2,1.7,0.1,1.8,2.8,1.0,4.4,5.6,5.5,0.2,6.5,7.5,5.0,2.8,1.6,6.1,1.2,5.8,2.5,6.2,6.6,3.6,4.2,3.2,5.4,7.3,0.4,0.9,4.6,3.8,2.8,1.0,1.8,5.0,0.4,4.1,4.2,4.1,0.6,1.4,4.2,2.4,0.6,0.7,4.3,4.3,0.3,4.6,1.8,4.0,3.4,2.5,2.5,0.4,2.5,4.5,2.5,2.5,1.1,3.8,2.5,4.0,5.5,3.7,5.4,4.1,2.6,2.8,0.2,0.9,4.2,1.2,2.2,2.9,7.1,5.5,2.5,6.8,1.7,3.0,1.6,3.4,0.1,2.9,2.1,0.7,4.1,6.1,3.4,2.8,3.7,7.4,1.1,4.8,0.2,0.5,1.0,4.1,2.0,3.8,1.9,4.6,1.1,2.1,2.2,1.7,5.2,3.5,2.8,6.2,1.0,2.3,5.7,0.3,3.1,1.6,5.4,0.1,0.6,0.4,3.0,1.4,3.2,5.1,6.1,1.6,4.0,4.2,4.2,6.4,0.4,2.4,5.0,3.1,4.4,1.6,5.2,2.8,4.3,0.9,5.8,5.7,1.0,4.1,0.9,2.8,0.2,2.3,0.6,3.6,5.5,2.4,4.5,1.2,1.8,1.6,1.1,2.1,2.6,2.4,2.4,1.8,2.5,5.1,6.6,2.1,1.8,3.3,6.2,6.6,0.2,2.2,6.3,3.6,2.9,2.4,4.0,1.8,5.6,1.4,4.6,0.3,1.6,2.4,6.4,3.0,4.4,2.0,1.8,5.2,4.3,4.1,4.5,3.4,4.3,0.2,3.9,3.3,1.7,2.4,4.9,0.7,1.5,2.3,5.2,0.5,2.9,1.5,4.8,0.1,3.7,1.7,0.8,6.1,0.9,5.3,0.3,2.4,3.0,2.3,3.6,4.8,0.6,2.7,2.4,3.9,3.1,1.5,5.2,2.1,3.4,2.1,2.5,2.9,2.8,6.6,6.8,3.3,1.9,6.6,2.5,3.2,1.1,6.5,3.2,2.0,5.3,6.7,5.8,0.0,4.1,2.6,2.7,4.6,3.5,1.6,4.4,5.0,2.3,0.7,0.6,6.6,3.5,1.4,2.4,1.0,7.2,3.7,2.3,1.2,2.6,4.8,5.6,4.7,2.2,6.7,4.5,0.2,5.2,5.1,6.0,7.1,1.1,2.8,3.4,1.9,6.0,4.2,1.0,4.7,3.1,6.6,2.0,1.0,1.3,3.9,5.4,1.0,0.7,3.5,0.3,3.5,5.3,1.9,0.4,2.1,2.7,1.8,3.8,3.0,0.9,5.9,1.5,2.1,6.5,3.4,1.7,2.5,0.3,7.0,4.9,0.0,7.2,3.9,2.9,4.3,4.6,2.5,3.0,4.7,1.6,2.6,6.1,5.3,3.7,3.3,3.8,1.6,3.4,1.3,5.4,4.3,3.3,2.7,2.8,2.1,2.8,4.2,1.8,1.8,2.2,6.4,5.6,4.5,3.1,2.3,7.4,1.0,2.3,2.5,1.5,0.9,4.3,3.6,4.8,7.4,0.6,5.3,2.6,4.9,3.7,4.4,5.5,4.6,1.1,1.3,2.4,1.4,0.6,5.8,5.4,7.5,6.3,0.8,0.3,3.3,4.5,4.3,3.8,2.0,0.9,0.3,1.1,0.2,3.0,4.4,4.7,2.2,2.0,2.4,4.9,6.3,3.6,3.2,0.4,2.1,1.6,4.8,0.7,3.3,0.4,1.3,1.0,3.0,0.3,0.1,6.5,4.4,0.0,1.3,6.7,3.9,1.0,4.6,5.0,1.8,4.4,4.3,1.9,5.8,1.8,6.3,0.9,0.6,3.9,0.3,3.8,5.5,2.6,1.3,6.1,4.5,5.2,0.4,4.0,0.5,3.7,3.4,0.1,4.1,3.8,1.6,3.2,0.3,4.9,2.1,3.3,7.3,0.0,2.3,7.1,1.7,4.9,4.8,1.3,1.4,3.1,5.4,2.6,0.9,5.6,5.5,4.0,1.0,0.2,5.9,0.5,0.1,2.7,3.9,2.4,4.1,1.2,0.0,3.0,7.3,1.4,6.4,1.8,0.2,0.9,7.0,3.5,1.3,0.3,5.8,5.5,2.6,2.1,4.9,0.6,3.3,5.0,5.9,4.6,1.7,3.4,5.3,0.1,6.1,2.9,2.5,1.5,1.5,5.3,4.3,4.4,6.6,1.5,0.6,0.9,3.4,2.3,0.2,3.3,1.9,1.2,2.0,6.5,2.7,0.4,3.1,7.3,6.5,2.1,4.4,4.4,0.0,6.4,0.9,6.1,0.8,5.2,4.1,0.4,2.2,6.1,3.4,5.0,3.5,5.0,0.2,7.2,7.0,3.5,2.8,4.7,1.8,3.5,6.7,5.1,4.5,4.2,3.1,0.6,5.7,4.3,6.9,3.4,3.0,5.3,4.6,5.6,0.7,4.1,3.7,3.9,7.0,1.1,1.2,3.2,1.9,2.9,4.3,4.0,1.5,2.7,2.0,1.0,4.6,5.0,7.0,0.5,1.2,0.2,2.2,4.8,1.7,2.9,0.7,1.7,6.9,6.7,2.7,3.0,0.1,2.5,4.6,5.3,4.7,2.3,0.9,4.3,3.0,3.4,3.9,0.1,0.8,3.1,5.2,1.9,2.4,2.5,4.5,3.9,2.4,0.7,4.2,1.3,6.5,5.3,0.5,1.2,0.8,0.3,6.7,4.5,0.4,4.2,5.7,4.5,2.9,2.8,0.6,0.4,2.8,0.2,5.5,2.9,4.8,6.8,7.2,4.6,1.5,6.2,0.2,4.3,4.1,4.1,1.2,5.3,1.3,4.0,1.2,0.2,5.4,3.4,6.8,3.8,0.9,1.8,6.5,4.5,3.8,3.7,0.2,0.1,3.3,4.3,4.8,2.9,3.5,5.4,3.5,2.7,2.1,0.6,7.3,1.1,6.6,3.1,1.3,0.5,2.2,3.4,2.6,3.5,4.3,3.1,3.0,4.3,6.9,1.6,3.0,4.5,4.5,0.9,3.4,4.6,3.7,1.8,5.1,4.8,0.6,4.7,3.2,4.7,5.4,1.4,4.3,1.4,4.2,3.6,2.9,1.0,2.3,1.0,4.2,6.9,2.9,7.0,1.9,5.6,1.4,2.0,5.6,5.0,0.1,4.6,3.1,3.5,0.3,6.6,7.0,6.5,0.3,7.0,3.2,1.7,6.6,1.5,4.1,0.5,4.2,4.9,0.1,6.3,0.5,7.4,1.2,2.7,2.2,0.1,4.5,3.2,5.1,5.9,1.8,2.9,2.2,5.2,5.8,3.5,3.6,0.5,4.2,0.4,4.8,3.6,1.2,0.6,5.0,2.1,1.9,7.3,0.1,1.3,2.6,3.3,5.4,3.5,5.2,1.0,4.3,0.3,1.1,6.0,1.3,3.4,3.6,3.9,6.9,1.9,7.5,4.9,1.0,1.2,4.5,2.4,3.7,3.7,4.4,5.0,2.7,2.4,3.0,2.0,1.0,0.1,3.3,3.6,5.7,1.9,4.0,2.0,0.8,3.0,1.2,1.0,3.9,6.5,2.2,4.0,4.5,2.5,1.1,5.8,0.2,5.4,4.0,4.5,5.7,0.5,2.8,2.3,0.3,5.4,3.2,0.8,6.5,4.5,5.0,0.9,3.3,4.9,1.8,2.4,2.4,1.4,3.1,5.2,1.4,1.3,4.1,5.4,1.5,0.8,5.2,0.0,2.1,1.9,7.3,4.2,0.6,6.9,1.4,4.1,4.1,2.8,0.1,3.5,3.5,1.0,1.1,5.9,5.6,3.1,1.2,0.4,0.1,0.5,1.4,3.9,5.2,4.0,5.1,0.2,3.4,3.9,4.9,3.7,4.3,1.7,1.9,5.4,3.6,5.7,1.8,4.1,7.3,2.3,3.2,2.9,1.2,3.4,1.5,4.3,0.4,3.5,2.6,3.8,4.1,3.4,2.0,1.4,1.7,1.2,5.8,3.2,5.1,6.2,5.1,4.7,3.6,7.0,3.1,2.7,0.8,5.2,2.4,1.8,5.8,4.9,3.1,5.6,2.9,4.4,3.8,0.2,5.9,6.4,4.8,6.6,4.3,4.0,6.9,0.5,5.5,3.9,4.6,1.6,1.7,5.3,1.3,0.9,4.5,3.7,4.6,0.1,2.7,3.5,3.9,3.3,1.3,0.4,1.3,1.3,2.0,6.9,1.4,5.4,7.4,0.5,4.0,4.5,3.5,5.1,0.5,3.6,6.9,4.8,2.1,5.7,1.0,6.7,5.0,2.6,3.1,0.0,1.1,4.6,2.3,0.1,6.8,4.9,3.6,4.7,5.0,5.2,2.0,4.1,2.2,3.3,6.2,0.1,5.1,3.4,4.0,4.6,4.8,1.8,2.3,5.2,5.7,2.3,5.2,3.3,1.9,1.2,2.3,0.6,1.5,0.5,2.1,1.2,3.1,6.2,6.9,1.4,5.5,1.5,2.6,6.7,3.6,5.1,4.0,4.4,4.6,2.7,5.5,4.3,5.0,3.2,5.0,2.0,2.6,4.3,7.3,3.6,2.2,0.9,5.6,5.3,5.8,1.7,5.9,4.1,2.8,0.8,3.3,1.7,7.1,5.2,0.3,2.9,1.2,3.2,0.6,2.2,0.6,4.0,1.7,1.8,5.2,4.4,2.2,2.5,6.8,0.1,3.6,4.9,4.1,1.2,4.7,3.6,5.8,2.7,0.3,6.8,4.5,4.4,0.6,7.3,1.3,3.8,4.4,2.9,6.9,5.0,5.3,2.6,1.9,0.3,2.5,0.4,0.6,3.2,1.6,2.9,3.3,2.0,2.6,4.6,3.7,1.7,3.2,7.1,0.5,7.2,4.7,0.2,0.3,1.3,1.4,3.2,5.4,1.7,0.7,2.0,5.0,1.2,2.6,0.4,4.5,2.9,4.5,2.0,1.6,0.7,4.0,4.2,4.4,0.1,1.4,1.8,3.8,5.1,3.6,5.1,3.1,3.4,2.8,0.7,0.8,3.9,5.8,2.3,6.4,2.5,2.9,4.5,4.2,3.4,5.2,3.4,2.7,1.6,4.6,5.1,3.7,0.3,1.6,3.4,1.4,4.0,5.2,4.6,2.3,1.4,1.1,3.1,0.5,2.5,3.5,2.5,4.2,3.0,2.9,1.4,3.0,2.3,1.4,2.8,0.1,0.5,1.4,0.6,4.3,3.2,3.1,6.3,2.4,3.5,3.6,2.0,2.7,4.0,1.1,4.9,5.0,4.4,2.0,0.6,2.5,0.0,3.4,2.8,5.1,2.1,3.1,2.8,3.6,4.8,7.5,0.1,4.3,1.3,2.3,2.2,2.3,0.3,6.1,4.1,2.5,0.4,2.7,4.5,0.6,0.4,0.2,6.7,3.0,1.0,5.3,5.4,1.7,3.5,6.5,1.2,6.5,5.4,1.2,2.6,2.4,2.5,5.7,4.3,1.5,0.1,4.2,6.9,0.8,5.0,6.6,1.6,0.7,0.1,5.3,4.1,2.5,5.7,2.6,4.6,1.1,3.9,2.9,1.9,5.9,5.4,4.1,6.3,6.5,0.1,0.4,1.5,4.6,4.5,2.7,3.9,0.1,7.2,0.4,5.7,3.9,6.9,4.2,1.4,4.0,4.4,3.4,1.9,4.6,2.1,4.7,2.1,3.3,2.6,2.3,3.2,7.1,3.3,3.8,1.1,7.5,4.5,0.8,1.8,4.3,6.0,0.7,0.6,4.0,5.3,5.4,4.9,3.2,0.7,4.0,2.4,0.2,6.0,3.5,5.4,0.1,1.9,1.7,3.0,3.4,1.7,2.8,3.4,6.1,0.0,5.2,7.4,6.9,4.6,5.3,5.3,4.5,5.0,3.5,0.8,5.1,4.7,6.3,7.0,3.1,5.4,1.4,0.0,1.3,1.6,2.0,6.5,1.2,4.4,4.8,4.3,2.2,0.9,2.7,0.1,5.5,3.1,1.0,6.6,0.1,0.4,2.0,2.4,1.2,5.1,4.9,1.1,3.2,0.8,0.4,5.5,3.8,1.1,2.2,3.7,0.2,6.0,7.3,4.3,2.8,1.3,0.5,3.7,4.7,2.4,3.9,1.5,4.5,5.4,2.4,5.2,7.1,3.9,6.6,3.7,4.7,4.1,2.3,4.9,2.2,2.7,2.2,5.0,0.2,0.5,5.3,5.1,2.4,1.8,2.1,4.1,1.2,7.5,2.8,6.3,0.8,0.8,5.1,1.0,1.9,0.6,1.7,0.6,3.0,1.1,4.8,0.2,5.3,2.0,4.8,5.8,7.4,0.3,1.8,2.4,5.1,1.8,1.6,5.4,1.5,1.4,3.4,1.5,6.2,6.9,1.4,5.6,4.7,5.5,5.6,4.3,4.9,1.2,0.1,2.1,4.7,2.9,3.1,2.6,3.7,3.7,2.5,2.1,5.8,3.3,6.9,5.2,7.4,7.3,3.3,6.9,0.8,0.1,4.6,1.6,0.7,2.8,6.7,3.5,0.6,1.7,6.0,6.2,4.8,4.6,4.3,4.1,4.4,1.0,6.6,1.4,0.8,3.7,2.0,4.8,1.3,4.5,3.4,5.3,1.7,0.7,4.7,5.2,0.2,3.5,1.5,3.6,3.7,1.5,0.5,1.0,1.0,3.2,0.0,5.0,5.0,3.1,6.6,0.9,2.2,5.0,5.1,5.0,2.3,3.3,1.3,2.9,1.8,4.9,4.8,4.3,2.6,3.9,3.3,3.2,4.4,1.0,2.4,3.5,5.3,6.4,0.5,5.1,6.1,1.2,7.4,1.7,4.5,3.0,0.5,4.4,4.7,0.0,1.0,5.3,2.3,3.1,2.4,1.4,2.6,3.1,3.9,0.3,5.6,7.0,6.3,3.5,3.3,2.6,0.0,2.7,4.4,3.6,1.0,1.5,2.0,5.5,4.9,0.4,3.1,5.1,4.9,1.7,1.9,1.4,2.3,4.0,2.9,2.0,7.3,7.0,6.2,1.4,6.7,4.2,5.2,1.7,7.3,4.7,2.3,3.2,7.1,7.0,4.2,5.7,1.8,1.3,3.2,5.3,6.9,5.4,7.1,4.2,3.7,3.9,7.5,1.7,6.6,0.7,7.2,3.4,5.3,1.4,1.6,0.7,2.2,2.9,3.9,1.2,6.4,4.4,5.5,1.4,3.9,4.3,5.5,7.1,0.8,1.8,4.9,3.9,3.4,0.7,2.4,7.1,0.5,1.9,2.7,1.6,2.8,2.9,7.3,3.8,4.3,4.5,1.0,6.7,5.3,0.8,3.3,4.4,0.0,2.6,1.8,2.7,2.3,4.5,5.5,4.8,3.0,5.5,1.5,5.9,6.3,2.5,0.8,3.8,6.9,7.0,2.8,7.5,5.1,6.3,1.9,0.6,5.4,2.3,6.6,4.5,3.7,4.9,4.5,3.7,1.7,5.0,1.3,3.9,4.1,1.5,0.3,4.8,2.6,0.9,4.5,0.5,0.7,2.6,4.4,4.1,6.9,3.9,5.1,5.0,3.6,4.2,4.1,3.9,5.5,5.0,0.3,2.3,6.8,5.3,2.8,5.4,3.9,3.1,5.5,0.2,5.9,6.2,5.1,4.8,0.0,4.0,2.7,3.3,1.5,3.6,1.6,5.3,2.6,0.1,2.7,3.5,4.9,7.0,0.7,5.2,1.6,6.3,0.9,1.7,1.0,4.9,7.0,3.3,5.2,2.3,0.7,4.5,6.0,7.0,2.5,0.1,1.4,1.5,6.7,2.1,7.0,0.9,1.4,5.1,6.7,1.5,6.4,1.7,2.5,1.5,4.2,0.2,4.6,4.6,5.2,0.6,0.3,2.2,5.3,1.1,3.1,1.4,5.2,0.0,6.3,3.2,1.9,2.5,5.5,4.7,2.7,1.8,0.8,1.9,7.4,2.5,2.9,2.5,2.8,6.5,4.1,5.4,1.1,1.7,3.2,7.3,5.9,6.8,3.2,2.0,3.8,4.0,3.2,1.8,1.7,1.7,3.3,3.8,4.8,2.9,3.9,6.7,3.8,2.3,3.6,6.4,3.5,6.4,5.1,4.8,1.8,3.4,0.7,4.5,4.6,3.1,0.3,2.5,5.3,3.7,3.2,3.6,2.2,0.0,1.1,6.4,4.9,3.2,6.2,0.4,0.7,5.5,3.5,3.9,4.1,1.3,0.3,2.2,2.2,2.5,3.3,1.9,0.5,2.3,0.9,1.3,0.2,3.1,2.3,4.4,5.5,2.3,2.2,0.7,3.3,0.9,5.3,0.0,2.6,0.8,3.7,4.2,0.0,5.0,5.3,3.7,1.6,3.1,4.9,4.2,2.2,0.1,3.1,4.8,1.1,4.2,5.3,6.9,3.2,2.9,2.0,6.3,5.4,3.1,1.5,1.1,2.6,4.4,1.5,5.9,2.1,4.0,4.7,2.4,3.1,1.7,4.5,0.8,4.2,7.2,7.1,3.2,3.3,1.1,3.1,5.5,4.5,2.1,7.0,1.7,7.1,3.9,5.6,6.4,2.0,4.5,3.0,5.5,3.8,0.8,3.3,3.8,5.2,0.6,1.0,0.9,7.4,4.1,3.4,5.6,5.0,7.3,4.1,3.9,3.1,1.9,4.2,4.7,2.2,6.1,0.7,1.1,3.7,0.6,2.3,5.2,3.4,0.5,0.3,5.4,3.9,1.9,7.0,1.9,6.8,7.3,4.1,5.6,7.1,5.7,1.9,3.9,2.8,1.1,3.9,1.8,3.8,2.3,2.7,2.4,1.3,4.6,0.2,1.7,4.2,0.2,6.2,3.6,2.7,2.9,3.1,5.3,4.6,3.1,4.7,3.7,4.2,2.7,6.2,4.0,4.0,6.0,1.8,2.6,2.5,4.0,6.4,2.0,4.6,0.2,0.6,2.1,3.7,1.7,3.3,2.1,4.6,2.6,4.7,3.4,5.9,2.1,5.3,2.0,3.2,1.1,1.5,4.8,7.0,4.9,4.4,3.2,3.1,0.8,1.3,5.7,3.8,5.4,5.4,0.2,1.2,6.3,1.6,7.3,3.7,1.8,6.4,5.9,0.1,0.7,6.5,3.7,3.1,4.0,2.2,3.3,0.9,4.0,6.6,1.3,4.5,3.6,2.7,1.1,1.3,1.0,5.7,2.9,6.5,2.2,0.6,5.5,0.1,2.6,5.4,5.0,2.9,0.1,1.4,3.1,2.1,2.3,1.0,5.2,2.6,0.9,1.1,2.1,5.3,3.1,7.5,3.7,1.9,6.4,3.5,4.4,2.2,2.9,6.3,2.3,3.5,0.5,6.5,6.2,1.8,4.2,6.4,0.0,0.4,2.0,5.3,4.2,4.8,3.5,3.7,0.8,4.8,0.6,5.3,0.2,1.6,4.5,3.7,0.4,4.3,6.0,2.6,3.2,0.2,6.2,4.3,6.1,1.8,6.0,2.4,2.6,3.8,0.8,0.3,4.1,2.3,1.0,5.0,4.2,0.1,4.1,3.3,2.2,1.2,1.7,5.5,0.6,0.1,3.8,1.4,0.5,0.7,4.1,4.3,2.6,1.0,6.0,2.4,5.4,7.0,1.2,5.9,5.2,1.6,4.9,2.6,1.9,5.3,0.9,4.9,2.4,4.8,5.3,3.9,1.0,3.2,3.7,3.5,0.9,0.9,4.8,3.4,1.2,4.8,4.0,4.9,0.5,1.9,3.4,3.0,1.3,2.0,1.4,0.0,1.9,1.0,0.6,0.7,3.5,4.9,4.9,2.6,2.3,1.5,2.7,4.5,6.4,5.4,5.2,0.1,0.3,0.7,5.4,5.1,4.2,4.8,4.9,3.3,5.2,4.7,7.3,4.8,0.1,3.3,2.6,3.1,4.4,4.9,4.5,0.0,4.6,1.3,3.8,0.5,3.7,1.9,1.0,5.8,6.5,0.6,7.5,0.6,0.9,5.2,4.8,0.2,2.4,5.3,4.3,2.0,0.5,6.5,2.7,3.3,0.7,2.8,1.8,4.6,3.0,5.2,4.7,1.9,3.4,2.5,0.9,0.1,2.7,4.7,0.6,4.0,5.3,3.6,7.2,0.3,2.7,5.5,5.3,3.8,7.4,7.4,0.6,6.0,2.5,3.4,3.4,5.0,1.1,0.2,2.0,3.2,1.7,5.5,1.3,4.2,0.6,2.3,0.4,2.8,2.1,3.8,2.7,6.1,0.4,1.2,6.7,1.8,1.1,1.1,3.1,1.9,6.5,5.0,0.9,5.4,4.2,5.3,0.8,2.7,3.9,4.5,2.5,1.8,1.5,3.1,0.7,1.5,3.5,0.9,0.6,1.1,4.7,0.8,2.6,5.2,5.8,1.3,1.4,4.3,2.8,5.2,1.1,2.4,0.1,3.4,0.3,0.7,1.7,2.5,3.9,0.2,1.2,3.4,4.9,3.5,2.0,5.2,1.1,3.7,0.5,4.9,6.1,0.1,0.6,0.4,3.8,1.8,2.8,3.2,5.4,1.6,6.1,3.0,0.2,4.0,1.4,2.1,4.3,2.8,5.2,0.3,1.9,7.0,7.3,0.5,5.4,4.9,3.9,1.5,3.8,7.0,5.8,1.1,6.5,5.6,0.3,1.8,5.2,2.7,4.5,0.5,3.4,2.7,3.7,4.0,5.0,3.9,0.1,1.2,0.4,3.0,1.7,3.4,0.9,1.8,2.6,7.2,4.5,0.9,3.2,2.2,0.3,4.4,1.4,5.5,5.2,4.6,1.0,2.8,2.4,6.0,5.4,5.0,2.9,7.2,0.8,0.5,0.8,6.2,1.0,0.8,1.3,3.0,3.3,2.7,6.9,0.1,4.2,5.5,2.2,0.6,0.0,6.4,6.4,1.8,4.9,3.1,0.6,5.3,6.4,4.2,1.4,0.0,0.9,4.0,2.2,2.7,2.1,1.1,6.2,0.1,0.5,1.1,3.8,2.0,1.9,1.6,0.3,3.2,1.2,2.1,0.2,2.1,5.2,2.5,0.5,0.7,1.8,1.4,2.7,5.1,6.7,6.9,2.2,5.4,0.6,2.8,1.2,0.8,0.1,4.5,4.4,2.9,1.4,5.5,6.0,2.7,2.9,3.2,4.9,2.2,0.6,6.3,0.9,3.0,3.1,1.0,0.1,4.0,2.9,1.9,3.4,2.9,4.3,0.5,0.8,0.4,6.4,5.0,3.0,3.1,4.5,5.9,3.8,3.4,3.6,2.1,4.1,1.6,5.5,5.2,3.1,6.4,4.6,5.3,3.4,2.0,2.7,2.6,0.8,2.2,2.0,3.0,4.5,2.2,1.0,4.2,0.7,1.0,1.9,5.0,3.2,5.3,4.6,3.4,2.3,2.9,2.0,5.0,2.1,1.5,4.6,5.1,2.9,4.1,4.1,3.9,3.2,1.4,0.1,1.0,0.3,5.4,0.3,2.0,5.1,1.4,6.7,2.1,1.7,1.4,1.0,5.2,1.8,5.1,4.1,4.4,5.9,4.2,4.2,4.8,2.4,0.3,2.8,3.2,3.3,0.6,2.0,2.0,3.7,2.8,3.7,4.0,1.3,3.1,2.3,0.1,5.6,2.9,2.6,1.0,4.9,1.7,3.2,6.5,0.8,3.2,0.1,0.3,3.9,2.7,3.5,2.5,1.2,4.3,1.8,3.8,4.8,2.2,1.1,1.5,0.0,5.1,4.3,0.8,4.6,3.4,4.8,0.2,6.2,3.4,1.8,5.7,1.5,3.8,6.3,2.3,3.0,5.0,1.3,4.9,4.5,4.5,1.5,1.2,1.4,0.9,3.5,3.4,0.5,3.7,4.3,2.4,3.2,2.4,6.1,3.9,5.5,4.7,4.3,3.0,1.2,1.1,1.6,1.0,4.2,1.9,3.7,5.2,2.5,1.2,4.9,1.0,5.2,0.0,2.0,5.1,1.9,4.9,3.5,0.6,3.1,1.3,0.1,3.2,3.4,4.6,1.5,4.4,2.1,5.0,0.8,3.9,4.1,6.0,4.4,3.8,2.3,0.5,1.6,0.8,1.2,3.5,2.6,0.4,4.2,0.0,3.0,4.1,0.9,1.1,4.6,2.2,6.5,0.3,2.5,4.7,5.4,0.5,5.1,3.7,3.2,2.7,2.3,2.6,1.8,5.5,3.6,3.5,0.1,1.6,0.7,5.2,7.0,2.6,5.6,3.6,5.0,5.3,0.2,1.0,3.4,0.8,1.2,3.2,3.7,3.1,2.1,5.4,4.7,6.5,5.1,0.7,1.8,2.9,5.7,5.0,4.7,3.9,1.3,2.1,0.8,0.9,2.2,2.4,3.3,5.0,4.7,1.7,6.0,1.5,1.5,5.3,1.1,1.0,0.1,1.7,3.7,3.0,2.5,1.7,2.9,1.2,2.7,0.8,4.8,4.8,1.3,1.0,4.9,2.3,3.1,1.7,3.5,3.5,4.6,5.1,7.4,0.2,1.3,6.1,5.4,6.0,3.6,0.2,1.5,0.1,2.1,3.4,2.5,6.1,0.0,0.4,3.3,2.7,4.8,1.9,5.9,2.5,7.4,7.1,1.0,5.0,2.5,5.5,4.4,0.7,5.3,7.3,7.3,2.1,2.8,6.5,4.1,3.7,4.1,4.3,3.5,2.2,3.9,6.3,1.1,7.5,4.2,4.3,0.8,3.5,1.5,5.2,7.0,3.1,2.1,1.0,2.6,0.4,6.3,1.2,1.8,7.4,6.7,5.3,3.7,5.4,3.8,5.2,0.9,1.9,2.9,3.3,5.3,3.9,3.0,1.9,3.1,2.8,6.2,6.1,0.1,6.5,0.8,2.4,2.9,4.0,0.6,0.7,6.0,2.3,4.5,5.0,1.5,0.6,4.9,1.1,4.8,0.3,3.5,5.8,0.4,4.4,5.4,2.2,1.4,0.4,5.1,1.2,1.2,5.6,0.4,3.1,4.6,7.1,4.0,2.9,2.0,3.9,7.3,5.4,5.5,2.5,1.8,1.2,7.1,0.8,1.7,5.6,1.9,2.1,6.9,3.1,1.2,2.0,4.7,2.8,1.9,5.3,6.6,0.8,3.0,3.7,0.7,4.4,4.1,5.0,0.3,5.2,0.5,4.5,0.8,4.7,2.8,4.1,4.1,0.7,5.3,3.3,0.6,1.2,3.0,0.9,6.4,2.0,3.7,0.2,0.4,4.8,3.3,4.3,4.4,3.7,3.3,4.4,4.0,2.0,4.4,5.9,3.5,3.3,4.5,0.3,4.4,4.6,3.1,3.4,1.4,3.2,0.7,4.3,3.4,2.8,3.1,1.7,2.0,1.6,5.3,2.7,1.1,3.6,3.2,0.6,1.0,3.6,7.5,4.5,0.7,4.5,0.0,2.2,0.9,6.4,2.1,1.9,2.9,6.0,4.6,4.5,3.2,3.6,5.4,5.2,3.6,3.8,4.7,0.7,4.3,1.4,1.6,0.9,0.6,5.7,1.8,1.9,5.0,7.2,5.0,4.5,4.6,2.0,1.6,6.1,2.8,4.4,6.1,6.7,0.6,3.7,1.9,5.9,6.0,3.1,3.2,4.0,5.6,0.4,6.3,0.5,3.5,0.3,1.7,2.1,7.1,1.7,7.0,4.9,6.5,3.6,0.3,3.1,2.2,2.5,2.2,7.2,3.7,4.6,5.9,5.2,3.9,3.1,2.4,4.8,6.2,1.9,4.1,0.4,6.3,6.1,6.1,5.2,4.0,0.0,6.8,5.1,0.7,4.6,0.2,2.1,2.1,4.6,5.8,5.0,7.5,1.2,0.5,5.4,5.4,1.3,4.5,4.6,5.4,4.0,4.4,2.4,7.3,3.2,4.7,2.4,0.3,1.0,1.0,3.4,2.9,0.1,5.4,3.2,6.9,5.2,1.7,7.2,4.5,4.2,4.8,0.6,5.6,2.8,2.8,1.6,3.8,1.5,7.5,1.4,3.7,2.8,5.3,3.8,7.4,2.9,4.0,7.3,4.5,2.3,5.2,0.3,0.2,2.4,2.7,0.2,6.5,4.0,0.1,4.5,4.6,1.6,2.2,0.8,5.1,2.9,5.1,0.3,7.4,4.5,3.7,5.4,4.9,2.9,5.2,7.1,0.4,7.3,0.6,0.8,3.4,4.9,3.4,5.0,2.4,0.9,3.4,2.4,4.4,5.2,3.1,1.9,4.0,4.2,0.1,0.9,1.0,0.2,1.4,6.6,5.3,2.7,3.2,3.5,1.0,5.2,1.3,1.0,0.2,1.3,0.2,1.1,1.2,0.4,1.1,2.1,0.9,1.4,2.1,0.2,4.1,3.0,0.2,5.6,4.6,2.2,2.3,0.1,5.4,1.4,5.1,3.1,2.6,3.0,0.3,5.4,0.8,0.0,1.7,2.6,4.3,5.7,6.5,0.2,5.4,0.7,5.7,5.0,3.8,4.2,1.2,3.3,2.6,5.0,4.8,3.4,0.9,4.8,3.8,2.0,7.3,1.4,4.5,4.3,4.3,5.3,2.3,0.1,0.9,0.7,5.2,3.5,3.4,3.9,0.8,0.2,6.8,0.0,3.4,4.2,0.6,0.0,4.7,0.9,6.5,7.2,2.4,5.8,3.4,5.0,1.5,0.7,2.0,2.7,3.2,3.3,0.7,3.3,2.3,4.0,2.6,0.6,5.9,6.9,0.9,0.1,5.1,1.6,7.4,3.5,1.4,1.9,2.8,6.7,3.5,2.8,2.3,2.2,4.9,4.1,4.5,6.1,7.1,4.8,0.5,3.5,3.0,6.1,0.9,0.8,0.6,3.8,2.8,6.9,0.7,1.1,0.7,3.6,6.7,4.3,5.2,1.6,1.6,2.2,1.5,3.8,0.2,1.5,1.0,6.5,6.5,0.0,3.8,1.6,5.8,2.1,3.1,1.1,5.3,0.1,3.1,5.1,1.8,0.3,5.3,1.8,2.9,0.2,6.4,4.4,1.1,0.4,2.5,3.0,3.2,1.0,3.2,4.7,2.4,2.0,4.2,0.1,6.3,3.1,1.4,0.8,1.1,4.7,4.0,0.9,5.4,0.0,6.1,5.3,1.0,3.8,7.1,2.5,0.9,6.0,5.9,6.8,4.2,6.7,1.6,2.5,3.0,2.9,2.4,4.1,1.8,4.5,0.9,0.8,2.3,5.1,4.1,4.5,1.2,2.0,5.7,0.2,3.4,4.8,4.2,2.5,5.3,4.4,3.1,5.3,2.5,1.8,0.8,3.8,5.5,5.3,1.0,3.0,0.2,0.7,4.5,5.5,4.9,3.1,3.2,3.0,2.2,6.4,7.1,2.6,2.4,0.9,2.6,0.5,0.0,5.4,2.6,1.7,6.8,3.3,4.9,4.6,3.6,4.4,5.3,3.7,2.6,1.5,1.0,3.6,4.3,1.0,1.5,2.5,4.4,4.1,2.2,0.9,1.9,6.2,1.8,1.7,1.1,1.7,1.3,4.7,7.2,0.6,0.5,6.3,4.2,1.3,5.0,1.2,0.8,3.8,3.3,0.4,0.3,7.0,0.4,3.3,2.6,4.8,2.4,2.1,3.3,0.9,7.1,0.5,5.1,4.9,2.4,4.7,4.5,5.5,3.2,2.6,3.8,2.9,4.0,3.4,4.2,5.4,1.9,3.1,4.9,4.6,2.0,0.1,1.7,4.7,1.0,1.8,4.1,1.4,1.2,2.5,3.2,4.7,7.3,2.8,5.5,1.6,1.8,1.1,4.2,4.9,0.9,2.4,0.9,6.4,7.3,0.5,1.5,3.5,1.0,4.7,3.2,2.9,2.7,3.6,0.7,0.8,3.8,4.1,4.1,6.8,7.4,2.8,4.4,1.4,4.2,6.3,3.8,3.4,5.0,2.5,3.1,5.9,1.5,2.4,0.3,1.7,3.8,1.9,4.9,4.7,0.8,4.2,4.3,1.8,1.3,4.0,1.3,0.7,4.6,2.0,4.9,3.4,3.6,0.8,4.7,4.7,5.3,3.5,4.3,7.3,3.7,4.0,1.9,1.7,5.0,1.9,0.6,2.6,2.4,7.3,5.4,3.5,3.6,5.3,5.0,6.2,0.5,4.9,0.1,1.8,1.4,7.2,6.5,5.4,2.3,3.3,5.8,1.0,1.6,4.2,0.9,0.7,6.3,7.1,5.0,2.0,2.0,0.7,3.3,4.7,4.0,4.2,3.2,0.4,4.8,0.8,3.2,0.0,4.3,3.4,0.0,3.2,5.5,2.7,6.4,1.0,1.8,0.5,2.6,3.8,5.4,0.2,5.8,2.4,1.3,2.0,2.1,3.8,1.1,4.7,0.2,3.4,1.6,3.1,2.7,2.0,5.1,2.9,4.6,0.6,4.2,0.5,4.8,4.7,3.2,2.2,6.4,1.0,2.8,3.3,3.7,0.3,2.2,4.7,1.4,2.9,2.0,3.7,2.6,1.2,5.6,5.3,1.5,3.8,7.1,2.5,2.8,1.4,3.2,3.7,5.0,7.0,4.8,1.7,1.5,2.8,0.6,2.2,7.0,1.4,1.0,1.4,0.4,3.9,4.8,5.4,3.7,3.0,3.5,2.9,3.0,4.6,0.6,1.2,4.2,5.4,0.9,1.3,4.2,1.5,0.4,6.9,3.4,0.2,1.0,0.6,2.5,0.3,2.6,4.6,4.1,2.4,1.1,6.3,5.5,3.0,5.3,6.9,4.2,3.4,4.9,6.9,5.3,4.6,1.0,0.5,1.0,0.1,0.2,4.1,5.0,4.2,1.6,4.9,1.7,0.4,2.7,3.2,5.3,4.7,2.3,3.8,0.7,3.6,2.1,2.7,3.5,1.3,3.3,1.8,4.4,0.1,1.8,1.8,7.2,5.2,2.3,4.4,6.7,7.5,5.0,4.8,4.0,3.0,5.1,6.7,1.0,0.6,7.1,2.3,4.7,1.8,5.2,4.4,4.1,6.8,3.4,5.8,4.4,1.2,2.1,3.5,2.4,5.7,4.6,1.8,0.2,0.2,5.1,6.5,5.2,3.5,4.8,0.3,1.9,4.7,2.2,4.7,2.8,1.6,1.6,0.6,1.6,4.7,4.7,3.5,5.0,2.8,0.4,1.6,2.0,3.3,2.4,3.4,5.1,5.4,3.2,5.0,0.9,3.3,4.5,0.1,0.4,2.8,3.7,1.0,4.7,5.2,5.0,2.0,1.2,1.4,2.1,2.7,4.2,1.3,6.1,0.7,1.8,2.4,3.2,5.8,7.3,4.1,5.5,3.6,0.5,0.9,0.2,2.5,0.6,7.1,4.0,5.5,2.7,3.0,5.0,7.4,2.9,2.4,0.6,5.5,4.9,3.4,1.7,3.9,0.9,2.5,2.2,6.7,1.5,1.5,3.7,2.0,6.2,4.9,3.4,0.4,1.6,6.7,4.4,5.3,1.0,6.8,0.5,1.7,3.2,7.4,5.5,1.6,3.7,0.6,0.6,4.4,3.3,4.9,0.0,0.1,2.5,4.0,1.8,1.6,2.8,6.8,4.3,2.8,0.6,3.5,6.5,0.2,3.6,4.7,3.5,5.5,3.1,4.2,5.7,2.8,4.4,0.7,3.7,3.1,4.4,4.6,2.1,3.5,0.6,3.6,4.1,0.8,2.9,3.0,1.8,2.6,7.5,3.1,5.1,4.5,7.0,1.7,2.1,1.1,1.4,3.3,2.1,0.6,6.3,0.6,5.0,4.5,7.0,0.5,3.3,0.3,3.0,5.5,0.1,2.3,4.0,3.8,1.9,3.9,5.4,3.5,0.5,3.0,6.2,5.3,0.0,0.7,0.3,1.3,4.8,5.3,4.3,2.4,0.6,5.4,1.9,3.2,2.0,5.0,4.6,0.3,2.8,6.0,6.5,5.4,3.4,6.3,4.1,5.7,2.0,0.1,6.9,5.4,2.3,1.5,0.1,3.2,5.0,4.3,3.5,4.0,4.5,4.8,2.5,5.9,3.8,0.1,1.3,3.1,3.6,7.5,5.3,0.2,2.6,0.1,3.2,5.3,2.9,0.9,2.5,3.8,4.2,2.1,6.2,6.8,2.6,2.2,1.8,2.6,2.0,1.3,0.5,0.6,2.9,2.7,1.5,4.9,0.2,5.0,2.2,5.8,7.1,4.0,3.4,1.6,5.0,0.4,5.8,5.0,3.7,3.7,0.2,4.2,0.1,0.1,7.1,2.8,4.0,0.2,0.7,3.7,0.3,6.8,3.1,5.5,1.0,2.9,0.7,2.6,3.9,5.2,0.9,0.6,2.9,0.6,0.6,1.7,4.4,0.1,6.9,1.8,3.5,4.2,0.7,2.9,0.1,5.1,4.6,3.8,5.2,3.6,0.1,0.0,2.6,0.5,0.2,2.8,2.5,3.5,0.4,0.1,1.4,3.3,3.1,0.3,2.2,5.2,0.0,0.1,4.4,4.7,5.2,6.6,3.7,2.5,6.6,2.2,0.5,4.2,1.4,5.3,6.9,2.3,3.9,2.7,5.2,6.0,2.5,2.9,2.6,1.3,2.9,0.2,1.2,2.7,4.7,5.4,2.0,6.6,2.8,1.9,5.5,3.7,0.3,1.2,5.9,4.7,0.2,3.2,7.2,5.4,0.8,0.4,0.9,3.9,0.8,2.5,0.0,6.2,4.0,5.4,0.6,5.4,4.4,3.8,0.2,7.4,3.1,0.6,3.0,3.6,1.1,6.3,0.0,5.3,4.3,6.2,0.8,2.9,5.1,6.1,4.6,2.7,1.8,7.2,0.9,0.7,5.3,1.2,1.9,2.2,1.7,5.7,2.7,0.5,1.2,1.7,4.7,0.1,1.2,1.1,3.1,2.1,6.2,3.2,6.5,6.7,0.8,4.5,5.7,2.5,0.4,2.8,0.2,6.4,3.2,6.8,1.0,3.9,2.3,2.0,3.6,1.7,0.7,2.3,5.5,1.3,2.6,3.9,1.2,1.8,2.2,1.8,4.1,5.2,4.4,5.2,0.3,4.4,3.9,3.3,4.2,4.3,1.6,4.5,6.3,1.8,2.5,6.0,4.1,6.3,2.3,2.0,0.6,4.7,4.1,5.5,1.2,0.6,2.8,1.4,4.1,5.1,7.0,4.1,4.8,3.6,3.6,1.0,2.9,4.9,0.6,3.5,1.6,1.8,1.5,1.0,0.7,5.2,0.2,5.7,1.8,5.3,2.7,0.4,4.8,7.1,3.4,2.8,5.2,4.0,6.1,2.9,4.3,0.8,3.9,7.5,4.6,6.4,4.9,0.3,1.9,1.9,3.7,2.1,4.7,6.4,5.0,6.3,5.3,3.3,0.3,0.7,1.7,7.0,4.1,7.2,2.8,3.0,1.3,2.1,1.9,1.6,6.7,2.6,2.3,3.9,1.6,2.0,0.2,6.2,3.7,3.2,6.9,2.5,2.5,3.6,4.1,3.1,2.9,5.6,0.7,1.8,3.0,0.0,2.1,4.7,2.8,4.8,7.2,4.0,2.5,6.3,3.6,2.9,5.0,5.2,6.1,4.7,6.7,6.7,4.0,4.1,1.5,5.0,6.8,3.5,3.7,6.5,5.1,4.1,2.0,3.8,0.9,0.7,2.7,5.2,3.7,7.3,4.0,0.6,0.6,5.3,2.4,3.2,1.1,3.6,2.1,2.0,5.3,5.6,1.5,7.2,1.6,3.2,2.0,1.8,5.9,4.4,0.9,6.3,3.9,6.4,2.0,3.9,5.0,5.1,2.5,2.7,3.2,1.1,4.8,6.4,3.7,4.3,1.7,4.7,3.9,1.1,6.5,1.8,0.6,3.2,2.7,4.6,4.3,1.2,6.5,5.0,6.8,2.8,1.8,4.2,3.0,2.8,0.3,0.8,0.1,7.0,0.3,1.5,7.3,2.1,0.9,0.8,7.0,2.6,2.4,2.6,0.9,0.3,6.3,4.9,6.2,3.7,1.2,1.1,3.2,5.3,5.1,3.0,3.9,5.7,3.0,0.6,3.1,3.1,2.5,0.5,4.1,2.7,1.4,7.5,2.2,7.0,1.8,7.0,1.6,3.2,3.3,0.4,4.7,0.4,3.6,4.5,5.3,1.3,2.4,6.6,0.7,2.6,7.1,7.3,4.6,2.1,0.9,1.3,0.9,2.1,1.9,2.2,2.0,6.2,6.1,5.7,4.1,5.2,3.3,4.0,1.3,4.2,3.6,2.4,5.3,1.4,3.0,1.6,1.4,7.2,0.2,0.8,5.2,6.2,3.6,7.0,4.5,5.2,6.2,0.3,0.6,4.8,1.4,0.8,6.1,4.7,0.6,4.2,4.4,5.4,2.3,3.9,0.9,5.5,5.4,1.5,6.2,6.4,4.8,5.2,1.1,5.0,5.8,2.7,7.2,3.0,2.5,3.5,6.2,1.2,1.2,4.4,3.6,0.5,4.9,0.1,4.8,0.7,3.9,4.6,3.7,4.2,3.5,7.0,4.7,5.4,1.8,3.3,0.1,0.1,7.3,2.9,1.7,3.1,6.1,2.9,4.6,5.7,7.2,4.5,1.8,3.1,4.6,5.8,3.6,2.7,2.2,2.3,3.0,1.8,4.2,5.4,3.7,2.2,3.2,6.6,2.9,5.1,3.8,2.8,0.1,4.7,3.3,4.8,2.6,1.4,6.7,4.8,2.6,2.7,2.0,6.0,0.4,1.1,3.5,1.8,4.1,6.7,1.0,3.6,5.3,4.1,5.2,7.1,1.6,4.0,5.0,5.5,1.8,1.6,1.0,6.8,0.1,2.3,6.1,0.8,5.9,0.9,6.1,1.8,0.7,4.5,5.1,0.9,4.8,1.7,5.0,0.8,3.6,5.1,0.2,0.7,1.9,4.1,2.2,0.6,3.8,1.9,1.7,0.3,0.5,0.5,1.1,3.0,4.3,2.2,3.0,0.4,0.7,1.8,1.8,4.2,4.0,4.7,5.1,5.6,2.7,4.5,4.2,4.8,1.4,3.7,3.3,1.3,3.9,7.5,2.3,0.6,4.5,3.9,7.4,2.5,2.0,2.2,2.0,2.5,2.2,1.8,5.1,4.4,3.0,5.0,5.1,1.9,2.4,6.3,4.0,4.2,5.0,4.1,5.5,2.3,7.3,4.5,1.6,3.2,2.0,1.8,6.5,4.9,6.6,4.0,4.2,0.1,2.2,2.6,7.0,0.8,4.2,3.6,2.2,2.5,0.5,1.7,3.0,2.4,2.5,5.7,0.5,1.9,1.7,1.9,7.3,3.8,1.5,4.1,1.6,3.0,4.0,6.7,3.6,2.4,3.2,5.6,2.1,0.1,3.9,3.7,0.1,6.8,4.6,4.7,4.3,0.6,4.4,5.1,0.4,5.2,1.3,0.2,1.2,2.0,2.5,2.7,2.4,6.6,3.8,3.1,3.8,0.3,2.7,3.8,5.3,2.4,0.3,5.1,3.4,5.0,1.9,2.8,2.8,4.9,4.0,0.5,3.5,3.9,0.3,4.3,4.7,6.2,4.5,5.6,0.8,2.7,5.2,2.4,2.4,5.3,2.3,0.9,1.2,5.0,2.9,4.2,6.8,6.2,0.8,5.3,5.1,4.0,4.5,1.8,0.1,2.5,4.6,4.1,3.6,5.4,5.3,5.9,0.6,0.5,2.8,1.3,6.2,0.8,3.0,4.4,2.4,6.1,4.5,4.1,3.6,6.7,0.4,0.9,6.5,7.4,3.8,1.9,4.4,0.5,3.1,1.9,1.0,4.8,2.5,0.4,7.1,5.9,0.8,2.8,0.3,5.1,2.9,5.0,0.9,7.2,2.8,6.6,1.4,4.5,1.1,3.4,6.8,2.6,1.1,3.1,0.5,2.9,1.7,5.3,2.3,4.7,3.7,0.3,3.9,4.5,2.0,7.4,1.4,1.5,4.0,7.1,4.2,0.5,3.7,2.9,4.5,4.2,5.5,5.4,0.4,3.4,5.6,3.0,1.3,3.4,0.7,1.5,5.4,4.9,2.4,3.6,0.1,0.2,2.3,0.3,5.0,3.1,1.3,4.1,2.9,1.2,2.2,1.2,0.1,1.5,1.3,4.5,0.4,5.4,4.1,1.8,2.8,4.4,2.0,2.4,4.4,0.4,4.8,2.3,6.5,1.9,1.7,4.2,2.1,1.0,4.2,0.6,3.9,3.7,4.7,3.7,3.1,0.5,1.0,3.3,2.4,2.6,3.4,6.5,3.7,3.2,5.2,2.0,5.8,3.5,5.2,1.5,1.3,6.4,3.9,3.6,4.3,3.8,5.1,5.1,3.0,2.0,0.7,0.2,4.4,2.8,2.8,3.2,6.9,2.8,2.5,4.1,0.3,4.7,7.0,0.5,6.3,0.4,4.8,4.5,2.6,7.1,1.8,3.8,1.4,3.7,2.1,5.7,3.7,1.5,4.7,3.3,0.2,3.5,4.4,2.3,0.1,1.6,3.2,5.4,1.5,0.6,3.6,5.3,7.4,3.8,7.4,2.7,3.0,1.2,3.8,5.9,0.8,1.9,6.5,4.8,1.4,5.0,5.2,4.8,3.6,1.3,5.3,0.1,0.9,7.2,4.2,6.9,0.9,2.8,2.8,3.5,2.5,1.6,4.2,0.1,1.2,2.1,4.7,2.2,1.8,7.3,2.0,3.4,3.9,6.9,5.5,5.7,2.6,2.9,0.5,0.1,4.2,2.7,0.9,2.4,3.7,3.8,3.5,3.6,5.4,4.9,3.4,1.7,4.0,0.9,2.4,4.3,1.6,1.8,4.1,4.2,1.7,1.7,0.9,7.4,0.0,0.2,4.0,3.7,2.0,5.2,5.0,5.7,0.4,3.3,1.2,0.7,3.9,3.0,0.6,1.6,3.4,4.3,3.5,1.3,1.2,2.7,5.4,1.2,6.4,0.9,5.5,0.6,4.1,5.4,1.4,0.6,2.1,5.5,7.1,0.1,1.7,3.1,2.7,7.4,6.1,4.4,4.1,7.1,0.3,1.2,0.3,0.7,4.5,2.6,1.8,5.7,3.0,4.6,3.0,3.7,3.5,3.0,1.6,1.9,1.6,4.8,3.8,5.3,3.7,0.6,4.3,1.5,4.7,2.2,1.5,6.3,1.2,4.7,3.4,2.4,4.1,0.0,1.6,1.7,5.0,3.2,0.5,2.4,7.0,1.8,0.3,1.9,0.4,2.9,4.6,5.4,2.5,3.6,0.6,5.1,1.1,6.7,2.3,6.0,4.5,2.2,2.9,2.2,1.8,2.7,4.9,7.4,1.0,5.6,0.7,5.5,3.3,3.9,0.8,3.1,0.2,6.2,1.0,3.4,4.6,2.2,1.1,3.0,3.8,3.9,1.8,4.6,1.8,4.3,0.6,2.5,4.6,4.0,1.0,2.1,6.0,2.1,3.2,5.4,7.3,0.2,0.8,2.9,0.7,6.4,2.5,7.1],\"y\":[6074.6,4955.0,4573.6,6019.0,1481.1,3348.8,696.1,2409.8,158.0,6467.2,5531.9,4309.9,6215.2,5843.5,1738.3,4654.5,999.0,6048.9,84.6,4691.0,5943.7,2182.2,3062.8,2825.6,6804.1,6042.3,973.1,4708.3,2448.8,5201.6,4576.5,4489.6,4764.0,6606.0,3543.2,3732.5,894.8,3835.0,5747.7,2901.2,5187.5,4518.5,5200.8,1623.0,6402.6,1184.7,6221.5,4937.4,6453.2,6493.0,5358.1,6574.3,414.4,3057.0,3603.3,6578.6,6172.3,3855.8,2315.4,1062.9,2627.5,6925.1,2608.1,4844.8,5259.5,5767.4,98.7,4217.5,6570.6,5376.8,4925.3,3948.1,6300.5,897.0,2201.9,4797.5,6667.3,5728.7,3519.1,2727.6,3244.1,4332.2,5066.2,2249.8,6027.0,3875.4,5868.7,4672.0,2482.7,1934.3,6342.6,6642.5,4396.1,1023.9,4595.7,679.0,6097.8,4966.0,520.3,6945.2,4616.1,1746.7,1350.7,6229.1,6575.9,568.5,4875.8,6207.3,1810.2,3923.6,352.7,4492.4,4406.5,4438.2,1918.5,6541.9,3759.3,5423.0,6888.8,5360.1,2849.6,291.7,4200.8,3209.4,3014.9,6536.1,769.5,3754.7,6856.1,4283.7,6195.5,3718.3,2848.3,6371.0,3122.5,3384.9,5656.6,5754.1,6581.1,5076.2,3032.5,5789.8,3929.5,4595.6,2187.9,5158.6,6536.9,4496.0,5686.2,6724.1,4836.4,1055.0,4671.5,3486.6,3378.9,4483.1,4653.4,5625.4,1873.0,4405.7,2653.4,5351.0,5465.0,4575.8,5706.7,4559.5,6672.6,5044.7,4051.5,5893.0,3098.8,5812.6,6968.9,272.2,5388.2,2442.8,4372.7,5553.1,5233.6,4585.3,4080.5,6113.8,4629.2,1360.4,4913.7,4403.7,5502.4,6474.6,2635.5,3325.5,4031.3,5358.1,810.2,425.6,1677.2,4714.1,4379.4,3500.1,1063.5,732.4,4599.9,4877.4,4663.0,5432.4,5373.9,2814.0,6839.9,6725.3,6512.9,1190.5,6645.9,6044.5,6111.1,4967.1,4226.8,2523.0,5980.9,6521.3,4590.9,5183.9,2785.6,5640.0,4405.7,5838.6,3558.0,5963.9,1803.8,49.5,518.8,5622.9,6174.7,6446.2,4812.8,3412.6,6560.4,6507.5,5812.3,4321.9,3246.6,5222.4,6119.5,5725.5,6724.5,2202.9,5586.1,872.8,4732.2,1388.6,2625.7,193.9,2996.8,1101.1,425.4,6261.5,3615.5,6500.3,3086.2,5515.0,4369.1,2995.6,4359.7,3527.5,4083.7,2181.3,1016.4,889.1,6315.9,6334.7,2638.0,6645.0,4368.5,4632.2,713.3,2964.7,4701.0,4958.4,4749.1,2851.5,6831.4,4272.5,5531.3,2984.0,1642.7,2565.3,4238.9,4210.4,2204.8,5698.9,4354.4,2523.5,2171.1,1746.2,476.5,6505.9,1717.7,258.9,4523.2,1652.4,1608.5,4855.7,2325.3,3260.9,4538.4,6908.5,4368.3,1986.8,2841.3,2667.5,4404.6,5432.9,6194.9,4437.7,6567.0,5925.7,2055.8,4465.6,2204.8,5741.4,5699.0,4729.4,3899.0,4608.2,2287.7,4497.5,2476.5,3524.1,6317.4,2837.7,4539.7,6442.7,3417.6,1616.4,4519.0,319.4,4843.8,5939.0,2.3,5101.9,6863.8,6507.3,1822.8,4224.6,1385.3,1320.2,4137.0,6960.8,4477.1,6831.6,4529.4,6515.4,6763.6,200.7,6171.6,4714.7,2731.7,1867.0,863.6,5891.7,2173.5,2769.7,903.5,4822.8,3684.1,2052.5,2480.8,2179.2,5011.4,3228.8,6818.8,1541.5,1016.6,4271.5,5081.7,4494.0,3015.7,4574.7,715.6,4583.0,1807.1,6948.5,6784.5,1078.8,4838.9,4817.9,3506.2,6243.5,425.0,6202.3,5808.0,6526.8,2357.9,5832.3,504.5,873.4,185.1,4555.9,2535.2,765.1,6548.1,3098.3,4287.4,5410.6,4071.9,6077.9,311.6,3869.4,2451.6,285.4,4386.7,5161.8,1218.6,6228.0,1076.5,6494.7,5320.0,6912.2,3722.1,4768.7,4657.7,4286.6,579.7,5387.6,6816.0,3870.7,4776.3,1332.4,6799.0,573.0,2931.1,3889.1,4962.9,2643.7,6451.0,5870.6,6984.7,5280.9,3060.0,4476.1,2740.7,4638.2,168.8,2979.5,818.3,4641.5,5937.5,4965.2,4277.8,5005.2,772.6,6126.9,494.5,1803.4,4685.2,5307.5,4421.4,6834.9,695.3,4851.6,6229.2,6076.6,4746.2,5826.1,4420.7,6220.7,6884.6,478.5,4714.5,5761.0,3414.7,6871.8,6265.4,2347.4,6464.1,6476.0,4623.9,4383.7,4898.6,1105.2,2323.2,5537.1,6574.3,652.1,2253.4,1491.1,6262.9,4752.7,798.4,1528.9,2636.8,4504.8,3817.1,5751.8,3585.5,6791.9,4538.0,5761.5,4070.1,3066.8,4225.3,4355.4,5222.6,4387.4,3581.0,6483.7,5466.0,3405.0,284.0,689.2,1606.5,2653.3,2048.9,4610.7,4625.8,6754.9,3512.1,3549.8,5250.3,1506.4,3728.9,5913.0,411.8,5156.0,4294.7,5425.5,5690.8,3555.9,3110.8,5974.3,3682.4,6973.5,6310.8,4063.8,415.3,631.2,685.9,2504.0,4504.2,4813.3,2336.7,4497.2,3424.6,1058.5,6688.5,568.8,3188.4,1165.9,5305.5,2248.4,6233.1,614.2,1415.4,563.8,916.6,4649.6,5316.9,5926.8,6595.2,4618.7,6234.6,6953.6,3402.2,2989.0,3516.0,4384.5,1118.5,5809.2,4304.6,6789.8,4216.4,6645.4,3301.2,4682.2,6744.7,6691.2,4270.1,2985.8,4292.0,4861.3,4513.1,4591.2,4263.6,4435.9,5717.5,3932.8,857.7,5106.1,6352.2,6352.0,2787.7,4290.7,5913.6,6344.0,5478.1,5432.7,5523.8,6705.1,3705.5,4930.1,2162.0,6222.0,4513.0,6033.8,2213.2,4350.3,3883.7,6966.1,6590.3,4426.2,5964.5,6943.3,4507.5,48.7,983.2,692.5,5326.2,4648.8,5815.4,5599.8,6089.3,433.8,2660.4,4623.5,5221.9,5577.1,3361.4,371.2,1148.5,6725.4,4540.1,4873.1,1317.2,3948.2,6761.1,5143.4,3866.6,5025.6,3248.7,4305.0,5904.1,6324.9,2032.3,6463.2,1918.8,2572.8,6933.2,5588.1,1491.1,5833.3,6914.2,4712.9,2862.1,6541.6,3779.4,5612.6,3209.8,3227.4,1207.6,5226.8,4722.9,1118.6,1924.4,1071.0,86.0,5960.6,4642.9,3060.9,3129.2,209.7,4231.1,6575.0,6406.1,4473.4,5384.4,6725.3,2972.0,3063.1,4683.8,4694.4,1425.5,1036.7,4441.8,1169.8,2935.4,287.9,6825.8,4821.3,2415.0,1832.1,5915.8,1751.9,4255.5,6646.7,954.9,6271.1,5029.5,6438.8,1061.9,6653.3,4166.2,4880.1,3586.4,2559.3,863.0,6506.3,4890.1,450.5,740.1,6139.7,6410.0,5974.0,3792.9,644.1,1646.7,5738.7,4549.5,317.6,5425.3,5747.4,4474.8,213.1,4459.5,2158.6,3012.1,5944.0,1856.2,4922.2,1320.7,5819.4,1788.7,5792.4,3990.0,6669.9,3400.4,1185.7,3670.1,2008.1,5606.6,867.2,870.4,3920.2,5649.0,2093.8,6069.4,1196.9,5349.4,3334.8,3514.3,2830.2,6867.6,3526.9,6424.9,6201.0,80.5,56.9,2608.6,2557.2,6320.2,4428.3,2237.1,4818.7,2072.3,6975.7,5500.9,4772.4,2033.9,6327.4,1075.2,4290.1,5446.8,1289.7,6301.0,6618.0,2275.8,4420.6,5191.4,3964.3,6864.4,124.6,2488.9,1570.6,3985.0,6961.4,1663.0,4397.3,5434.3,5673.8,3521.2,3435.3,5045.1,3957.1,6295.3,835.3,2231.1,900.3,2699.8,54.2,5634.9,2531.8,6160.7,4952.7,6155.7,3674.0,4907.5,3829.2,4922.4,5884.4,4500.0,3075.4,1110.5,5827.4,5022.8,5167.9,622.7,2845.7,2219.8,4991.1,5554.9,5651.3,5643.4,5759.6,6227.0,4679.9,1607.0,697.0,5183.0,2321.3,3346.3,4753.4,6427.7,6630.8,5421.4,5311.0,4417.9,5796.5,188.5,444.7,2196.6,1349.5,1431.9,4686.1,4225.0,3363.9,2603.1,4659.6,3481.5,6836.4,4672.7,2644.4,231.7,4924.1,5464.2,5187.1,4508.0,6570.8,5229.1,2472.3,5172.9,6642.4,4209.7,5809.8,1340.7,4206.3,5528.7,5122.6,3890.1,1023.9,4311.5,3448.1,5117.6,4783.5,5192.3,5334.9,4473.0,5854.0,3299.7,1543.2,3751.1,5890.4,5255.4,2377.0,6568.2,1643.1,1259.6,5030.5,4757.5,2374.0,5719.6,6097.3,4733.2,4889.0,3783.7,5978.9,4593.0,4131.5,5453.7,2111.0,2773.5,515.9,6285.6,2140.2,1353.3,6657.7,5382.8,1307.0,4253.1,5942.3,6995.0,4777.5,2846.0,6471.9,6175.1,6528.0,5627.0,6451.1,1571.8,5896.7,5743.1,4467.8,5411.6,6439.9,3218.9,4484.3,5792.2,5580.4,4542.6,4202.7,3204.7,4223.4,6813.5,4793.6,4370.9,5368.0,4818.2,2585.7,4728.4,4590.4,5151.1,5814.2,290.9,6115.8,2924.4,3090.4,4215.8,3857.3,1486.0,4426.8,5211.4,6201.8,6710.3,1842.0,1670.0,4913.7,2633.3,6883.4,1430.3,460.1,6961.8,5000.2,416.9,4551.9,3704.7,1110.1,997.7,3642.5,896.6,1456.8,1201.7,5046.0,4583.5,5311.1,4187.5,5809.1,2321.4,4738.7,5610.4,6469.0,3030.1,4960.0,11.4,5460.5,3014.0,5661.6,5676.5,6151.7,4675.8,2516.0,5908.6,4599.5,6493.0,3127.2,5791.2,1772.4,2181.6,5637.0,3255.3,1969.0,6373.1,2649.5,4170.7,6965.3,4631.3,1297.7,6696.0,731.7,5563.8,1632.8,189.9,4367.9,4499.2,853.3,5153.8,4991.3,6786.5,253.8,1573.3,1285.3,5409.3,4343.2,3874.3,49.1,4400.8,6621.7,5523.6,5822.3,4253.5,4850.0,3191.0,6593.6,6036.9,966.8,455.2,4992.2,5040.4,4362.3,920.7,6089.3,1594.5,4254.0,4452.4,807.5,4517.6,4506.3,3490.7,4787.3,5053.7,6015.1,6860.3,4753.7,1582.8,4697.3,3562.0,6216.9,2001.8,2454.5,3232.5,4878.0,5494.1,5497.4,6434.5,2911.5,1739.8,5752.7,5848.9,5865.4,4459.3,4874.0,2300.4,6658.7,1540.7,5270.8,4326.8,1850.2,3005.2,5472.6,378.2,5102.4,3248.1,4805.7,5955.1,6841.3,2022.6,4655.0,4464.7,3025.4,4314.3,3235.6,4183.6,4688.7,6301.6,4695.5,6316.3,35.5,5746.0,5188.9,4654.7,181.3,5576.2,6225.1,3384.9,4604.7,3975.1,120.0,1057.6,5788.4,6826.5,6613.5,4298.3,2088.8,5651.3,1811.9,4465.4,3837.7,4646.1,3715.9,6353.2,5566.2,4903.1,6867.5,4143.2,4318.2,2739.1,6577.7,129.0,6777.5,4622.0,4918.6,4569.7,6250.0,6657.3,4247.8,5169.7,5196.4,6219.2,3429.6,4661.0,432.2,4906.2,2049.9,5071.0,938.6,3572.9,130.2,6019.3,6733.1,4880.8,5584.5,1419.9,873.8,5853.1,6717.3,4741.0,4692.6,1473.4,6880.1,6075.3,5758.2,4695.0,463.8,6647.3,3786.6,1210.2,4681.0,6066.2,3603.2,5832.7,5620.7,5730.9,6875.1,4703.9,5848.5,4507.7,4879.6,5006.7,2521.1,6426.3,5437.1,3767.6,6365.8,927.1,2401.3,1742.8,4469.2,2022.6,6857.7,5928.1,3399.3,1578.2,5351.8,1125.7,5718.2,4224.7,6286.8,5626.1,5616.2,47.8,6326.9,6469.0,5593.0,6317.6,5018.9,5950.7,1163.4,3666.3,4363.6,1530.9,1697.4,5002.9,4949.4,4560.9,2775.7,1295.1,6264.2,3232.0,5160.4,2592.9,5566.4,4820.3,2563.7,5502.0,3304.0,5329.8,4071.8,4017.3,6867.5,4505.4,5675.0,4399.4,407.2,723.6,4367.8,1387.1,5644.1,805.3,338.3,4532.7,1998.2,6339.4,645.9,4287.4,417.3,3540.9,4635.8,4211.0,4384.5,3770.0,679.1,6411.4,5129.6,3992.2,6352.8,4565.3,590.3,2504.1,94.1,5692.2,3539.3,6368.6,4519.9,1761.2,6743.4,5729.4,1719.6,5169.0,1423.9,5116.3,5871.5,1458.4,64.1,3631.4,3477.7,3535.6,4398.0,4005.9,6589.5,4995.4,1824.0,2307.4,138.4,4376.6,3602.9,1073.3,591.8,4610.3,5220.7,3582.5,1036.1,2676.1,1.4,5713.4,6534.2,5747.0,4178.0,5071.3,4385.6,4954.1,4001.4,1255.8,5941.5,3371.5,2721.0,2251.4,191.1,336.3,5633.9,3793.6,6101.4,6466.3,6600.8,3760.5,6139.4,1233.8,1158.1,3426.0,1129.7,1319.1,547.3,6997.5,3278.9,1134.5,5480.9,601.3,4901.7,1508.9,3913.2,4393.9,5297.8,4797.0,1923.5,461.9,5219.7,250.8,4240.0,6452.0,6042.5,2190.3,4589.6,4427.0,6795.9,4442.5,3708.3,134.1,5550.7,5895.5,2268.6,3186.3,1181.1,5381.4,6798.1,5492.2,5774.4,6723.7,3048.5,4438.5,156.9,6378.9,2029.3,4880.3,3226.5,6923.2,4833.0,6250.3,5114.0,4064.6,1238.9,5023.8,2286.1,2781.2,271.6,4750.2,6111.9,5744.0,2970.3,3871.1,2202.7,5878.3,6817.3,2029.1,3132.1,5778.6,6480.0,6493.4,574.9,6536.4,5998.2,2553.1,3794.7,6588.0,6609.9,959.8,2184.3,5963.3,2021.4,1742.6,5020.3,894.8,2850.5,4196.3,2297.2,6597.6,6621.6,3555.8,4811.3,4322.8,1211.2,2202.4,3526.4,4706.6,4875.9,1074.9,2010.9,6914.9,6770.6,5967.5,5309.0,6637.5,581.9,2220.9,2469.5,4699.3,5100.8,4376.4,4705.6,2459.4,585.1,155.4,4800.6,4966.5,5498.0,3369.4,4579.5,1057.2,5030.4,904.4,323.9,2861.0,555.1,3856.4,5819.6,1642.0,5625.8,5602.2,3861.4,1850.9,3138.8,6380.3,5248.6,6337.9,3613.1,600.0,3984.7,6958.4,648.3,6166.2,747.4,2511.9,6534.5,2731.4,2964.2,2864.2,4853.7,246.3,5712.6,1412.3,5459.3,6570.3,4509.6,4450.4,6158.7,3544.2,594.0,3161.3,291.7,6134.9,2375.4,187.1,2472.4,1309.1,6023.3,5396.5,5627.1,2774.3,4746.9,1841.1,3316.0,3792.8,1690.5,4416.4,3334.7,367.2,6331.7,4765.2,842.4,6539.5,6878.2,5577.6,4660.0,4758.3,4654.1,5979.3,4414.2,5597.5,2360.7,2692.7,4854.0,2026.5,791.5,577.1,962.2,4295.6,3376.9,6519.2,2297.1,5097.1,1699.5,3578.8,3556.6,1713.7,3206.4,2511.0,5635.4,843.8,4577.5,4960.8,995.7,6378.9,4576.9,2205.7,233.5,121.8,6876.5,906.2,4544.2,1435.9,1112.7,6987.5,4277.3,5831.4,5679.6,6699.2,6300.8,3506.2,6297.8,917.5,3431.5,1965.5,5510.4,5195.7,1417.9,4390.1,6172.9,2188.5,4343.2,6321.0,3509.8,1755.8,6702.8,2006.6,4116.0,3430.6,6722.3,5322.8,6937.6,5437.9,1781.3,5889.7,4413.3,5713.9,1112.5,6904.5,4186.6,4687.9,3743.7,4374.6,149.2,4599.6,5078.3,6866.0,5942.5,4907.6,3824.1,5024.7,1673.5,4486.9,3160.0,3953.6,5222.9,2817.8,5806.4,202.2,3971.3,4308.3,4074.9,5785.7,821.1,3589.1,4571.7,5329.8,5027.0,5020.1,2361.5,6631.6,6034.0,1133.6,4227.5,4186.4,436.8,4470.5,487.8,6699.7,6891.4,5247.6,5801.6,847.1,5235.5,6968.4,1891.9,4509.2,5699.9,4693.6,1132.5,4468.6,2223.6,4215.3,291.5,5365.9,5125.5,6226.8,1450.8,981.8,3171.1,787.5,4161.5,3574.2,5631.0,4605.1,1757.8,2215.3,6215.6,6804.4,1394.3,130.1,1572.9,5067.2,2074.2,1806.8,5176.1,4753.5,3834.6,4706.6,5818.1,2342.4,6918.8,6764.9,5165.8,1311.0,4394.5,667.0,5537.6,3339.9,6700.7,4504.2,3032.5,6383.8,639.8,4732.2,4247.8,3224.9,6814.6,3630.6,3917.4,5611.5,4588.4,6242.3,4750.0,2180.5,1774.2,2549.2,4573.1,2285.7,119.9,4497.1,3406.2,4700.2,2943.5,2054.7,737.9,4759.5,1784.5,5288.9,6925.8,2234.5,4554.8,6936.2,5939.5,4195.8,869.7,718.0,5504.9,4931.3,1345.6,4587.0,4416.5,86.8,5974.2,3724.4,5238.1,2095.4,2007.1,5825.2,5131.1,3043.8,1246.2,2093.2,2561.8,6344.5,164.6,2158.6,2704.8,4237.1,2980.6,1049.0,964.2,6143.6,5879.8,504.2,2979.3,1473.6,6092.9,3548.5,4503.8,4318.0,3148.1,5119.8,5321.8,630.1,3981.1,6614.5,4481.9,3248.7,6304.0,276.9,3112.0,5219.3,1852.4,6145.0,3976.2,1926.1,4734.8,2167.5,5475.0,3250.0,5891.4,1397.6,6108.3,4447.8,4539.3,696.4,2508.4,5662.6,5435.1,3421.1,4893.8,3640.6,1980.8,1045.9,4660.8,5390.3,6124.2,2356.9,631.3,5710.7,5268.6,5036.7,5973.0,2942.5,4608.8,6621.5,1431.3,5390.1,2906.8,4534.7,6426.5,6760.7,342.0,4663.4,4105.7,5045.2,6788.4,2248.7,1208.8,4369.3,3066.6,3452.6,6059.8,4424.6,3337.6,4436.5,3132.5,3759.0,3316.0,3357.8,431.9,6756.2,6257.2,4481.3,4459.0,2468.1,4516.8,151.4,4044.3,4453.1,4510.6,2980.7,6163.7,1514.1,3300.1,2101.4,171.8,244.0,11.7,2906.6,5610.5,6584.4,3907.3,6003.7,6.7,5892.3,3218.9,2764.7,2676.7,4232.7,4678.6,1996.3,5832.7,1141.6,3205.9,6647.9,5661.3,5286.1,2950.4,6946.3,5032.6,2565.7,6336.1,4693.8,5722.9,5174.6,4732.7,2776.2,4674.8,744.0,6299.0,4784.7,962.0,4305.6,2202.0,3064.6,6258.0,1212.1,5694.8,6723.2,4435.9,6502.8,5917.2,2604.5,6268.2,4312.3,6239.6,505.8,975.5,2998.3,6111.4,229.9,939.1,6458.7,3600.8,182.1,6228.1,6197.6,803.6,6719.2,5550.9,6343.6,5106.0,3654.9,4845.6,5021.4,6648.9,387.3,4456.5,131.5,4442.9,5817.3,701.4,1376.7,4694.8,1781.6,3025.7,4642.2,5089.5,5892.9,4662.2,4128.0,1549.1,5174.4,4905.7,4987.5,6418.7,840.8,1331.9,5618.5,5943.8,3013.0,4554.3,2161.3,6624.3,12.2,4338.3,5555.9,5812.5,234.0,6798.1,6615.4,4995.8,6315.1,5981.7,1849.7,2323.8,5563.9,6081.7,206.9,6961.8,141.6,5755.7,4045.3,5576.7,538.8,5383.0,4902.4,6244.3,5242.5,5091.1,833.1,2244.7,1671.5,990.5,5983.9,5444.8,5776.0,443.6,178.4,3506.3,3626.7,176.9,2811.0,5346.0,4425.5,2111.7,6482.5,757.6,3562.9,6332.5,3760.2,4689.0,6684.8,5611.1,6775.4,2475.5,2947.3,6262.6,5889.2,6239.4,3383.8,1417.7,1513.2,1667.6,1016.9,364.7,4400.0,3104.5,3924.2,500.5,4477.8,1784.4,665.0,1459.1,5803.3,1644.9,6434.3,1486.4,6668.8,1048.5,4538.5,5983.8,878.6,3574.8,6625.7,3967.7,3664.0,1376.4,4460.8,2452.8,4979.8,4696.0,6260.8,6215.1,2197.2,2612.1,6367.1,2663.9,5325.0,4355.2,4474.8,6857.6,2920.9,4435.3,2771.3,6838.6,4588.3,2784.9,4018.2,5272.2,883.4,2856.4,3978.4,4169.5,4453.2,592.3,6959.8,5953.5,6755.4,4393.2,6635.2,6580.8,5893.9,6547.4,6961.8,6467.6,4951.3,2368.6,5289.2,97.0,4743.6,3754.3,3983.0,5976.4,5602.2,6862.2,5613.6,710.6,5256.8,1035.7,5572.7,3488.5,1570.7,6429.4,2417.5,6674.1,5156.0,2373.3,3824.0,6046.9,4555.4,2683.9,292.5,4539.0,3810.3,5551.7,5812.9,2515.5,4320.9,533.4,5426.9,266.4,5807.2,5822.1,4628.9,5004.7,3457.3,5780.4,4685.5,3215.5,6482.7,521.6,1879.8,3693.6,4008.3,3485.2,5694.9,6158.9,1581.6,5857.2,3655.8,659.1,6234.5,5364.6,5574.6,2374.7,3028.7,319.1,5333.7,20.8,4916.0,5183.2,1403.9,506.9,5538.5,6268.5,3891.6,2358.4,4516.2,450.0,1681.9,2091.4,5300.6,4323.0,2439.4,2382.3,5417.8,6980.0,1914.0,6258.0,1339.5,4757.5,501.3,921.3,426.5,687.8,5489.2,2940.6,5264.9,2100.8,3598.5,6849.0,4163.8,5840.7,5229.3,4389.3,5768.1,4716.6,6851.0,932.6,1840.2,1344.3,6598.6,929.2,5428.6,4446.2,1592.9,5863.1,930.2,541.0,3447.1,2976.4,2386.2,6841.5,1605.7,1867.3,6154.3,6506.2,4161.8,1507.4,6665.7,1174.9,1870.4,4335.7,6376.4,4634.3,5538.6,128.3,5976.9,2777.5,1962.2,599.7,4339.2,2799.4,4820.6,5854.0,3169.2,5843.0,6513.6,3975.6,4480.6,3069.2,3549.6,3134.0,3138.5,3551.9,5656.9,1990.6,4905.8,1681.8,1645.4,2129.8,6350.5,3316.7,5867.1,4710.3,5662.5,2314.1,6930.0,3046.9,4840.8,4449.7,6403.4,6602.0,5957.4,2246.5,736.3,6915.0,2028.2,4747.5,2903.5,6668.7,4482.2,5586.1,2980.5,4339.1,4631.4,1123.6,4936.0,3361.7,1054.0,6652.9,4235.2,6884.5,5597.8,3007.8,6388.9,4690.2,1841.9,4317.5,3140.0,5736.7,4959.6,4780.9,6138.9,4423.2,6174.4,6593.7,3939.9,5233.8,2353.4,6326.6,4465.4,783.2,3505.8,5300.9,4569.3,4668.3,2096.0,3311.8,6170.3,5046.4,2578.8,5797.5,6815.1,5297.3,5502.5,180.0,321.6,4531.2,5170.8,5855.1,1399.1,5325.4,6052.9,4970.5,4766.1,1200.5,5602.5,597.7,6597.4,2617.9,2818.7,3727.5,5636.0,924.2,6224.1,6920.5,2452.3,6822.2,5308.8,3711.6,6516.5,586.3,5846.1,3534.4,4827.9,705.2,6046.4,3111.0,3504.9,6329.2,1333.2,3315.9,3101.8,249.2,5961.0,6166.9,2839.9,4215.5,1448.6,4313.0,3288.5,2732.1,1593.1,3809.4,6430.7,5597.8,5112.8,3311.7,495.5,5415.5,1085.1,1339.7,896.1,6623.3,6573.4,4287.5,6575.1,3170.6,815.3,3097.5,5724.9,6747.8,4191.2,2581.5,2993.7,6868.7,6798.6,6356.5,613.2,4431.3,4138.9,641.3,801.3,4456.1,5690.1,3677.9,2594.2,1932.9,1766.8,6406.3,1448.1,2898.1,3874.7,193.1,3591.2,782.5,4656.1,6571.6,2214.8,6959.4,3884.8,695.8,4951.9,4230.5,6192.7,1261.5,4917.0,5449.2,4670.6,6845.2,3099.3,3187.5,4441.7,3878.4,4163.6,3588.0,6448.6,1006.4,4967.3,4737.7,6582.0,6518.5,3866.9,6545.7,5827.3,4673.3,4451.8,2919.7,5812.7,1592.6,4904.5,5170.2,6363.0,4269.5,4623.4,6970.5,2544.3,1759.6,6379.7,6924.2,3367.2,4458.9,2892.1,2730.4,4894.2,5798.4,3097.8,4746.9,3532.6,6653.1,2702.0,3864.1,6578.4,138.2,4649.3,3975.4,1581.9,5600.3,6531.3,1565.5,2031.4,4778.9,325.1,4931.8,4756.9,5249.4,3551.1,5941.8,874.4,281.9,6557.8,4952.0,5023.4,5820.2,1997.0,3546.5,5392.9,5947.9,5936.8,3906.7,2335.4,6229.2,1115.5,6054.7,4419.5,4606.8,4597.9,4330.9,227.2,2898.2,370.0,3508.4,813.1,6421.3,5375.2,2523.6,4541.7,4528.0,1430.4,4276.5,4243.6,3273.9,352.4,1623.2,6058.2,1906.0,4891.4,3329.5,5661.2,4843.3,4549.2,4592.1,5328.5,2287.4,4772.4,6455.0,2849.1,4063.4,2981.6,6281.1,2387.5,5181.9,4359.7,4799.1,2609.5,615.5,6085.3,2846.3,4343.7,4497.9,4572.9,5750.4,1044.3,5038.0,4074.9,4756.8,6822.6,5217.3,4283.1,6532.5,4216.6,6049.7,4623.7,1381.9,1461.0,5845.5,1224.0,4352.2,453.6,4460.8,4661.9,4748.6,4350.6,3244.0,5643.1,6222.8,5562.0,5589.7,4648.9,4442.6,3243.6,3393.5,6699.5,4627.6,588.0,6857.3,5203.6,1736.8,2960.9,1788.6,5728.7,416.7,498.6,6151.4,4138.8,676.2,4639.1,2983.4,4663.2,1196.5,858.6,5405.0,3505.7,2028.1,1108.0,4154.2,591.4,5997.7,4089.7,4268.0,2907.6,4444.6,2549.1,1979.1,4277.4,5848.0,3047.8,5328.4,4746.0,3152.7,728.6,4158.3,4428.3,5584.1,6935.8,6593.2,5801.2,1176.4,2805.0,6711.2,4388.1,6899.3,3591.8,4085.8,1720.5,6306.2,614.9,4838.3,1137.3,6037.0,1556.4,6056.8,2451.9,3883.1,5318.3,16.6,1730.9,3543.9,6891.2,4518.6,6231.6,6644.2,5380.2,4623.4,6604.7,2585.4,218.8,4651.4,5649.0,6500.3,2607.4,4888.3,816.6,6971.2,5193.3,3562.5,4295.0,271.0,5061.6,5508.4,298.5,2458.9,2209.9,230.8,905.1,5702.9,5275.4,5826.7,6713.3,6728.9,1626.3,5888.0,1151.7,2379.4,3372.4,1810.2,4538.4,2316.3,5411.3,2786.6,2145.9,5442.3,486.6,3902.9,5529.2,4802.0,6247.8,926.3,5488.3,6956.2,4490.5,121.7,5370.1,3401.9,5072.7,3145.6,5099.6,642.1,634.4,1277.5,6859.7,4834.3,5356.9,3791.3,4652.0,1562.5,3065.6,3895.1,4163.8,3981.7,6796.4,5990.8,5613.8,5127.4,2734.5,327.3,5421.2,2576.9,6075.4,4719.4,4645.2,4206.7,4794.5,6255.0,6734.9,6392.3,4911.2,3744.5,5915.7,4602.4,5294.6,6355.5,4382.4,6479.7,6346.9,2694.5,5273.3,2547.2,5715.5,1880.5,4301.6,2227.3,2735.5,4762.3,1463.1,5130.3,6436.1,6337.1,3323.6,6269.2,5838.2,1949.6,4569.7,5868.7,5501.4,2603.7,4553.2,4604.4,1703.7,6557.3,4614.8,5594.8,4650.8,5036.8,4290.8,5793.1,1731.8,2209.2,5751.3,576.7,2372.9,5733.6,353.4,4094.8,5888.5,3456.2,2402.0,6258.3,3815.6,4303.1,1652.3,4635.8,6454.3,5009.3,2712.6,4519.6,886.5,1744.9,2013.6,6411.2,4918.9,1519.9,5132.8,2181.5,2704.0,4540.6,832.3,2197.6,5212.2,6176.9,1498.0,3016.9,1669.7,4705.0,4435.5,5170.9,3055.6,581.2,4456.6,629.1,4464.6,3627.8,4357.4,690.2,4744.8,4277.5,5504.8,3391.5,3773.9,5655.9,3509.6,2098.9,854.0,4602.1,6345.7,2703.3,1504.4,5967.3,1054.3,4291.3,4416.1,5978.9,735.5,1430.7,5878.1,6784.5,229.3,4604.4,2825.6,5191.4,5307.5,6829.7,5978.9,5677.5,4919.4,6170.0,6254.7,3664.7,3546.5,4944.2,5563.6,15.2,6909.1,5144.7,6728.7,6554.5,1925.5,6725.5,5412.4,6850.8,4598.9,6926.8,5388.1,4441.4,1787.9,2930.3,5962.7,2018.1,2626.3,1248.1,4595.4,3484.5,1697.5,2969.2,5717.7,5445.9,4574.3,3996.6,4987.6,4639.3,171.9,2283.9,3662.5,4831.3,4053.5,4699.2,5615.1,4568.4,1707.2,2209.1,2525.2,4285.2,5828.5,4020.4,5577.8,4138.5,1939.0,2252.2,1616.7,1905.2,4881.0,1213.4,2975.6,3672.4,4203.3,4880.6,830.8,883.0,5455.1,5722.4,5944.9,5910.6,2947.7,4322.6,6570.2,2403.4,2606.7,6997.8,3309.3,3725.5,920.0,3062.2,5234.8,4669.3,4669.7,6547.0,4496.3,4258.4,5693.6,4476.8,4809.6,3207.3,2169.9,2874.3,2738.1,257.8,4421.5,3060.0,4204.3,6224.7,2916.2,6929.5,5937.0,6113.2,6441.1,5039.9,5766.9,5842.1,2920.3,4116.9,5380.0,4616.1,3385.4,2229.8,6672.4,535.0,1680.5,3136.3,4355.8,5543.1,4397.6,6809.2,4662.7,1276.9,6356.4,2435.3,627.3,3723.6,5256.9,4828.3,2347.2,771.9,4490.5,5898.2,5277.3,4693.4,1769.0,5902.2,4265.2,4579.7,685.2,4745.6,3044.8,5915.8,1743.6,4482.9,4444.4,3286.6,4216.5,5124.7,757.1,6731.7,2666.6,4238.6,3164.4,429.1,2420.7,664.0,1707.1,2077.6,3751.2,6275.4,2677.2,4639.6,3820.3,1489.8,6611.4,4489.9,3070.2,3939.2,4970.6,4538.6,5048.2,2957.9,1411.2,5142.7,168.9,6374.3,4520.3,4816.4,4277.9,1982.3,1050.4,1341.7,1333.6,4083.3,5258.0,6711.2,1325.0,3697.6,5391.3,6742.1,1858.5,2580.8,15.8,2236.0,4873.9,4978.4,5306.5,2727.4,3294.3,5732.8,5892.9,5042.4,3722.9,1761.7,4585.8,1221.8,3104.2,3276.1,6986.5,2012.5,5498.8,3052.8,4329.4,805.6,4586.3,6974.9,4836.4,1595.1,4719.2,4466.5,3707.9,4829.6,5872.7,1595.2,200.7,1582.4,575.9,2451.2,1826.0,3460.9,4106.0,3409.7,4554.1,4335.7,1799.6,4446.0,4439.5,3702.3,6169.6,6061.3,2096.5,4945.7,5652.0,535.6,4871.3,5593.9,226.0,4869.2,2641.8,6350.4,5219.2,4304.4,4497.1,5484.4,4412.1,1535.9,5023.5,977.4,1040.1,1349.4,6465.1,5023.2,5702.9,5753.3,6647.8,6010.2,2266.9,4730.9,4898.3,6063.8,1946.9,2169.9,3642.5,4525.7,3157.2,2970.1,4114.7,5628.5,607.8,59.3,1894.4,2414.0,5859.4,4456.3,4294.8,6038.5,5603.1,6238.8,5761.4,6159.7,4396.4,3602.6,711.7,6276.8,4907.8,742.0,4807.3,4352.4,4709.7,1864.6,5036.5,2195.1,6086.7,1189.5,288.2,6013.7,5985.5,6372.4,401.1,5334.0,6790.1,4559.6,4798.3,6900.2,6185.3,6747.1,5388.1,729.5,3834.2,6059.4,5121.3,4893.0,4369.4,860.1,4292.6,5858.0,5912.4,2129.2,544.2,5814.2,6728.3,6731.5,2434.2,4650.7,2952.9,1189.5,2028.2,3974.7,2768.9,935.0,6941.6,6577.2,1704.7,4488.6,5593.4,4048.9,2994.1,2207.5,6905.0,3061.7,6611.0,5748.6,5376.7,427.2,5007.9,2611.1,285.9,4060.9,4206.7,4512.0,5323.3,6364.9,5130.5,4400.3,804.2,307.6,1241.5,4876.7,1375.7,3439.6,3744.5,4743.2,6968.9,4511.1,11.7,4431.3,4511.5,1380.2,2534.8,1108.3,485.6,2384.6,5272.1,4413.3,4040.6,29.8,5821.7,4811.9,3926.6,607.6,6574.2,4580.3,1507.8,4300.6,1351.9,2343.2,4132.6,1325.4,6484.0,5054.4,5812.7,6692.1,1191.5,683.9,4516.0,5575.3,5331.2,485.9,6748.4,6271.8,93.2,5696.1,2146.8,5118.2,1687.4,4430.8,4640.5,6355.0,5588.2,2859.2,4457.5,6247.1,4200.7,2963.2,5782.1,578.0,6536.0,919.4,1732.8,5412.7,494.0,4596.2,3543.7,1182.3,5261.4,948.0,4688.7,4795.8,4712.0,2680.0,6997.5,4745.5,3047.7,6602.2,3359.7,4279.5,353.5,2060.3,6936.9,4014.4,2924.9,2288.6,5923.5,4708.1,1688.7,6465.9,1495.6,2062.2,6080.6,960.9,4210.6,1016.8,6221.9,557.0,146.6,4606.0,5316.6,4402.4,5991.7,4673.9,1111.3,4434.4,1588.2,5513.5,4276.8,5194.4,5571.9,5412.6,3842.1,5519.4,2255.9,4542.6,5209.7,5434.3,5513.8,150.4,6048.5,4276.6,4772.2,1789.7,5670.0,4489.7,2692.6,1600.1,3449.0,4494.9,6093.8,2593.1,2989.7,6214.3,1241.1,6791.0,4629.1,6021.6,1961.7,5876.7,5913.7,3438.9,530.4,2097.0,5035.9,2894.9,6204.8,2503.2,2331.5,2918.8,6168.1,5712.3,448.1,1655.8,5207.2,5406.1,6292.4,1332.0,3495.4,5064.4,5803.1,6593.4,2611.9,6659.3,1255.1,3990.9,4918.5,4630.8,5318.7,4747.0,3209.0,1209.6,5320.6,2024.7,5810.4,4590.7,896.2,1520.9,4314.7,6525.5,4324.4,6594.9,1676.8,1777.0,2489.9,1397.0,2337.7,4207.9,1425.6,4080.2,1974.4,6209.3,1361.4,4626.9,5651.3,3930.3,4306.2,5590.0,1691.1,1147.2,503.8,3141.9,4797.3,6519.7,6021.0,3302.2,1632.6,2872.6,2778.7,5540.2,2106.7,3897.6,6205.1,4680.1,553.8,1860.5,3094.6,5244.0,2825.9,5577.4,4338.7,4908.0,5176.3,4534.7,6399.9,5506.8,4844.8,5530.0,1540.4,6152.4,4260.9,1397.5,161.9,5610.4,3962.5,4553.5,2699.0,4156.7,5662.1,5887.3,5683.0,4408.4,2933.7,5605.1,6895.6,4300.9,3245.7,1666.8,3549.6,5384.3,1166.8,3247.3,5124.0,3120.4,5990.0,4579.4,682.7,4376.4,2838.9,5305.2,3762.7,6978.4,2954.8,3192.8,1599.2,3530.6,2701.7,3851.8,571.7,6379.5,3763.2,4184.2,6471.8,4341.4,1026.4,2669.9,6698.3,4592.0,2103.9,4240.5,904.9,5711.6,3734.4,3570.6,5118.7,6530.6,5068.2,6027.8,5736.5,4985.2,2569.1,3888.7,2662.1,4084.3,176.7,4631.1,5890.5,1854.5,6590.2,4488.8,6427.1,4494.3,4850.2,6195.3,4510.1,1712.8,6007.8,5683.8,1506.6,5678.7,2097.3,4217.6,3562.7,6874.7,5659.0,2966.1,3889.3,6645.0,5980.0,4226.1,6269.1,1299.4,3003.7,1071.4,3307.5,2370.3,5579.6,4454.0,2132.5,826.0,845.3,2075.6,4003.0,6412.7,4217.6,6395.6,6500.2,1277.9,5794.1,5617.7,3713.3,2958.1,1530.6,5869.9,3632.5,3125.8,753.7,2457.2,5060.9,1833.9,6351.5,6598.3,4948.6,5657.4,6933.1,5755.2,6850.1,3946.0,6019.1,3080.9,5998.0,4080.3,5886.8,3568.5,3044.8,4378.7,4977.0,4316.1,2679.6,2631.6,6459.7,2304.7,4585.0,4216.0,2066.0,5639.4,3912.6,3822.4,6047.2,5786.0,4451.4,2112.1,4626.0,4656.3,6880.7,548.0,4790.5,3961.5,4629.6,6450.3,6325.1,5197.9,5905.1,6376.8,4305.4,5625.7,6319.9,3773.5,4391.6,5434.2,1773.1,1643.7,5618.8,5982.9,684.2,4718.7,3879.9,2736.7,3139.1,4691.7,6948.4,4513.3,9.3,3982.4,6601.9,1521.8,1332.7,4430.7,1166.8,6544.0,6518.6,6297.6,4703.3,6933.5,6355.8,5770.8,4752.8,6986.1,2044.3,5293.7,6074.5,2094.9,1044.7,6089.8,4928.0,3849.9,5373.9,3149.8,4636.9,6701.4,2121.9,6801.6,5915.4,4722.7,3737.3,894.3,4598.8,331.5,5062.5,298.2,5299.6,4930.5,660.9,3241.8,1015.3,932.5,547.0,974.9,4481.9,4389.8,167.2,342.7,6655.6,4735.1,1308.6,4672.4,3581.8,6967.2,5272.3,830.0,1429.2,1529.1,5729.8,4523.8,4374.5,4516.8,3453.8,6408.4,3839.2,3758.9,2527.3,828.8,5459.8,221.2,150.8,512.7,5829.8,6201.1,5716.8,91.9,4809.1,6097.2,5059.5,4614.1,4546.9,1314.7,2128.9,781.5,4777.0,2665.2,5972.4,6139.5,2286.0,6932.5,4921.0,6827.5,6414.1,292.2,4701.3,634.1,5953.0,854.4,1641.8,6084.4,5744.7,6605.2,569.7,5004.7,448.2,1043.5,4039.8,6844.9,5711.9,5715.2,265.0,2866.8,3913.8,1821.0,6112.0,5027.9,4682.9,4635.2,5722.0,3510.0,4348.3,2139.8,3569.9,3714.5,1588.7,4149.1,4515.4,5212.8,6051.4,5177.7,2820.1,4238.9,3709.4,2892.2,4437.2,5692.6,5449.6,3372.0,524.8,6134.9,2873.7,1438.8,4872.5,755.4,4079.2,4648.0,6857.8,2633.8,1681.4,1015.7,4448.5,5364.8,5192.3,4538.1,685.8,2316.3,2951.8,4226.6,6141.3,5389.8,4204.1,2649.1,4512.7,6030.3,6458.0,3040.4,4534.9,307.2,4530.2,4905.1,4071.2,6036.1,4894.0,2018.7,6049.9,671.4,6192.6,4733.0,4507.0,3270.4,4782.1,1050.3,3504.9,6257.4,3765.0,3863.0,4669.4,5603.6,6419.2,4787.0,4785.3,4713.5,1403.9,5208.4,5487.5,2542.7,5453.4,5638.3,4559.7,4352.5,6554.9,3695.0,3058.4,4706.5,4731.1,5335.8,4557.6,6044.4,6513.4,736.0,6362.2,4633.3,6688.1,4615.4,4160.6,2552.0,5633.7,210.8,2336.0,794.5,162.0,3486.5,2560.4,3413.2,303.8,2448.4,5210.2,1764.9,2732.6,6192.8,5058.1,4554.6,5766.8,6654.2,2816.1,6761.3,4754.9,4989.2,5371.6,6010.5,3526.7,3339.3,2679.0,3272.4,3022.8,4884.0,4394.6,6506.2,1946.6,3222.7,775.0,1259.9,1745.3,4551.2,588.8,4765.0,1756.3,4463.9,6433.4,1061.3,2457.3,3511.9,588.2,2367.5,1448.4,4514.6,3928.6,5182.7,4991.9,6258.1,6599.1,4973.4,253.1,4963.1,5085.2,4433.7,844.6,2663.0,4950.5,46.3,2076.8,5025.3,793.0,388.8,3157.6,3764.7,4668.8,2078.2,6419.1,2046.3,4977.4,5676.6,4867.1,6234.3,547.5,1097.6,6914.6,5424.4,1112.2,6281.9,2932.8,3912.6,239.6,6589.5,6100.0,1950.3,6228.5,4211.6,3402.0,4683.4,5078.8,6441.4,1352.9,6962.6,4803.8,4263.0,4000.2,1453.9,4705.9,4415.9,5530.1,2858.4,1572.5,6879.9,273.1,5835.6,4755.8,1343.5,319.5,4279.7,2550.4,3989.4,4674.9,4322.1,3955.1,4933.2,3798.8,4690.9,1310.1,4811.2,2766.6,6128.9,4500.8,4056.0,1088.9,1415.3,3505.8,4418.3,5901.2,5071.5,5576.8,6075.0,1637.6,1083.8,4666.8,6540.3,6784.2,5884.5,6873.7,4799.0,4552.9,4758.8,583.5,5979.3,5175.5,1892.8,264.7,5582.1,603.9,4617.8,1470.9,6290.5,3892.7,6438.2,6553.9,6547.7,5222.0,143.8,3531.8,2792.9,2706.6,6725.6,5993.0,2021.8,4301.2,6962.5,3526.9,6020.9,1397.2,4756.0,5885.5,5610.2,5417.0,3514.8,5520.0,888.3,4994.4,5636.2,6016.6,2577.8,1409.0,5046.6,5427.4,1637.9,1951.8,3614.4,6219.4,4691.1,3876.4,2737.1,1981.4,3068.1,6351.3,6010.6,3141.6,2503.2,5761.9,6716.5,6075.7,6396.0,2469.4,5662.2,3883.4,3528.5,3195.4,4343.8,4313.1,4775.5,6433.9,6540.4,3815.9,6776.1,559.7,5921.5,5480.9,5737.4,6433.6,4420.5,4264.1,1494.6,4396.7,4343.1,1205.2,4677.5,4719.8,2229.4,2394.0,4348.0,2263.3,5760.3,3470.2,1590.6,4459.1,6380.1,6876.7,1750.9,6695.5,3455.2,6193.8,5705.6,5529.1,3065.1,4334.6,5864.9,6008.9,6083.1,3700.3,677.7,1938.7,6184.7,4333.6,1187.3,4665.8,5738.0,6347.9,5775.2,4554.3,6637.8,6309.2,458.9,83.4,6388.8,678.2,1993.2,5164.6,6062.6,2315.8,694.5,5006.9,5955.5,4278.4,3353.2,6645.8,4659.4,279.9,2938.2,5093.3,1491.7,3834.2,5309.5,6798.3,33.1,824.2,6874.5,4552.5,4620.1,5929.9,1492.2,2696.6,108.8,2469.7,687.3,5312.1,1266.8,6089.5,5552.2,2703.0,6553.4,3564.4,6528.5,4456.1,172.4,1980.1,4921.7,6339.0,5553.8,6953.4,6425.8,1569.9,3013.2,4511.3,612.6,5586.4,1099.7,975.4,2488.1,4721.1,6413.6,3091.9,5892.3,374.6,6359.2,6334.1,5400.5,3185.0,732.1,5837.6,1956.9,137.4,2418.2,4721.3,4545.6,4248.8,1981.9,4289.6,4694.2,6148.0,2071.8,3253.2,3593.4,4449.4,4270.1,6959.5,6164.9,6264.9,6745.0,4639.8,6644.3,6875.5,6265.2,1901.2,285.3,796.9,5568.1,6674.3,4786.3,3836.8,1163.2,4800.4,6686.2,3158.5,6273.9,2454.8,4632.1,4112.4,5879.6,6270.8,6997.8,6680.8,1006.4,4756.7,6051.2,3933.4,4217.4,1141.7,3776.1,4498.2,6087.3,3709.1,5835.3,4418.8,4552.3,5265.5,4324.1,5125.1,5248.3,2732.5,1964.9,6116.5,6276.8,5564.0,2015.2,4541.2,930.4,3616.0,2280.0,6321.4,5039.7,4147.2,779.4,5256.9,1544.3,1869.0,2950.5,4758.7,4282.9,5019.6,6916.7,4707.7,2265.3,960.2,3560.9,3244.2,6845.9,1379.0,4353.5,4113.1,6050.5,6820.5,4801.1,4244.6,4759.3,4465.7,4084.3,1111.2,2675.4,4037.0,6472.5,2682.5,6551.4,5879.8,4335.0,6973.3,6731.0,4219.3,4980.2,5885.2,3438.0,206.4,4434.8,5489.9,4026.5,5702.4,4313.0,6929.3,5244.3,3009.7,6206.8,5122.8,5263.1,4404.8,5587.0,5477.1,1276.1,4396.9,6475.5,4233.4,6821.6,2877.5,821.0,4908.6,3409.5,2589.5,1153.1,6707.8,6070.5,5083.0,3330.5,4619.0,6221.4,5968.8,4378.4,1543.2,1613.4,6897.0,1221.4,4661.6,2707.4,299.5,5479.2,5064.3,5497.6,4640.2,4696.0,457.2,610.3,5439.2,4006.9,3823.2,4049.7,6816.6,2435.7,4318.6,4463.4,4315.1,950.2,1902.5,4424.6,1864.7,290.4,4034.0,2387.5,5606.7,5332.8,852.0,4769.1,6947.7,3170.7,892.6,6589.9,4617.7,1565.6,4062.9,4595.0,5074.0,3991.2,1626.7,5951.3,2581.7,5597.0,4800.5,5011.4,2026.7,6044.1,3208.6,4631.3,1334.7,6917.2,746.7,4007.0,2027.0,5677.2,418.1,3350.5,6689.5,6111.5,5722.9,3299.8,1000.2,6659.8,4844.3,2504.7,2088.6,6447.5,4183.8,3040.8,6676.8,5723.0,4406.9,3459.3,2770.1,4176.4,3446.2,4343.7,4703.6,3317.5,2355.0,1203.2,1750.0,2373.5,2851.8,4867.3,4653.4,4249.1,1095.1,3183.8,2535.2,4412.6,3207.6,6446.6,1870.7,783.8,565.5,4382.5,5061.5,6199.6,6727.9,2456.8,5806.4,4343.3,5027.7,6927.4,722.0,5267.7,3984.4,5226.5,6077.0,6723.1,4265.7,1522.4,1133.9,2476.0,2832.2,341.9,3832.5,2042.5,2490.5,897.4,2630.8,4486.2,5646.5,5203.5,1333.9,3187.5,4700.7,4772.1,5829.2,4026.9,5405.0,2262.7,4794.9,6320.8,6228.1,5452.2,6975.8,6695.1,6050.1,4211.1,6995.9,1630.0,3249.0,6122.5,2129.1,1090.2,4393.4,504.0,3171.2,5482.6,5255.8,1306.5,6561.5,315.0,2436.1,2292.0,6339.0,6880.8,3860.5,2614.9,1405.6,3640.9,4834.3,6542.4,1532.7,5392.6,1614.8,4427.4,6184.4,599.9,1400.4,6301.9,3737.2,6390.7,3874.5,5147.2,3249.2,1060.3,4941.4,2199.7,2111.7,4618.1,3628.5,5760.9,3086.4,4560.0,6707.4,1745.8,4551.3,1620.7,4593.5,1512.3,5286.7,4776.6,2141.4,6511.8,5571.0,6454.1,2965.5,6219.2,2654.9,94.1,1241.1,3080.3,5793.3,5008.7,5076.2,377.7,3193.0,4759.1,57.6,6071.2,6984.2,2128.4,4633.4,5590.1,5082.7,3710.6,4921.5,5452.2,107.4,3023.6,6280.0,6449.4,4424.1,4163.8,3277.2,1524.0,3802.8,3935.8,3013.3,6306.7,1844.2,3528.9,6717.6,1332.5,2453.0,5209.7,4917.0,3458.4,5587.7,5932.3,322.7,5716.8,4576.5,831.5,1019.7,5827.1,4627.4,6914.1,4470.9,2463.5,1952.7,3406.4,4710.3,1920.6,716.4,470.8,283.0,1671.8,2649.9,705.4,4231.8,6286.3,4212.0,2210.4,6.4,4487.7,4760.9,4637.0,2.9,33.9,6664.3,4101.2,1918.9,1733.8,6160.1,6648.3,4368.6,4373.0,118.7,1652.0,6293.3,4349.6,4399.6,847.9,3152.1,2325.6,5710.5,4760.3,1715.1,6966.4,5653.5,6774.3,6855.7,1009.6,4943.3,4618.4,3744.4,4630.5,4235.5,5091.9,567.4,5035.1,66.2,5917.7,726.4,5014.7,2128.2,3609.9,4507.8,1437.2,1149.7,437.1,869.8,4516.3,6380.7,5350.3,6698.7,3954.2,2276.6,3281.1,6333.0,4415.3,3225.0,6861.7,4973.1,5782.1,6374.3,2147.5,3600.8,6606.1,202.7,6605.5,5163.1,5391.7,5592.0,3048.0,4757.8,6223.0,335.0,651.8,1335.2,5684.2,2418.7,4666.4,5031.1,1405.1,4483.2,4961.2,4523.9,3793.7,5532.7,1631.7,5637.9,3545.7,917.9,1314.1,5429.4,2012.8,1053.7,1143.3,4581.9,3552.4,6591.7,4433.0,901.1,3473.3,1296.0,1740.6,3189.0,4112.1,4500.8,603.6,5451.9,3698.5,3452.8,4187.7,4622.4,3285.7,6101.9,4762.7,4447.1,2751.8,4664.3,4282.8,252.3,134.2,4328.7,791.1,2108.2,4879.1,1151.5,3766.9,4416.0,2269.5,4443.7,6465.0,909.1,5184.7,4713.5,3496.6,4305.5,6577.1,6219.8,6397.4,3760.7,2269.0,6453.3,2716.6,371.5,883.1,4099.9,4596.7,3991.7,4892.6,2503.2,4746.9,6600.5,4294.2,4229.5,327.0,4970.4,6188.6,4691.8,3482.1,4758.9,6208.9,4378.3,5189.4,2977.5,4806.4,4508.8,6853.1,6374.7,374.9,3892.2,4567.8,4942.1,5543.3,3287.2,5294.0,662.1,2249.7,5319.2,6593.4,2672.9,1430.8,341.1,5351.5,1445.6,4647.4,4295.5,5170.2,1196.9,4572.4,6716.0,4671.5,6104.3,5016.0,3394.1,4849.0,4217.9,6211.0,3536.5,5421.2,3989.3,5590.9,5529.1,6330.8,1867.6,5172.4,4492.6,5134.2,2517.5,3097.5,6825.4,2456.6,6936.4,4660.3,447.7,6742.7,2543.8,2474.8,4747.4,1230.4,3084.4,4489.0,1366.1,2710.8,4927.4,2503.1,5999.8,6556.0,831.8,5574.2,3561.9,5593.9,5328.0,4338.1,2751.2,1327.3,4231.0,4495.3,332.5,183.6,4448.1,6064.5,1347.3,5161.5,5689.0,738.5,110.0,37.0,2159.7,2984.7,4633.4,3895.6,4723.7,6893.2,5691.8,5758.3,4657.1,2957.9,4470.7,4664.7,3912.1,6189.3,3981.4,5399.0,5966.3,5330.3,5362.8,5334.3,5502.1,4748.1,6563.1,4778.9,3126.4,4214.7,6102.8,1046.0,5274.3,6922.4,5897.7,6830.6,2700.5,2874.2,5019.6,4775.2,3768.7,5223.2,3110.4,5913.1,3849.9,1474.0,5924.5,6535.8,3635.6,4781.7,859.0,5151.0,3064.8,6492.1,4654.8,3270.3,5841.6,2164.4,2807.6,1221.8,3089.2,4698.0,4705.8,3938.7,5656.5,1304.6,4553.6,5518.7,3343.0,4070.0,4478.4,4746.0,1526.0,3465.7,4726.5,2877.4,1254.5,3008.2,4465.5,516.0,5237.2,2860.6,5764.8,4298.7,4216.7,2133.4,1258.9,708.3,6817.3,5309.4,6157.5,4702.1,1545.5,532.7,5310.8,3058.4,4367.2,1221.9,1995.5,4276.0,269.0,6527.7,6188.1,5860.2,4612.6,671.8,2431.9,4960.3,5576.0,3313.6,6951.6,5386.4,5775.3,6243.3,875.0,5267.6,38.5,5590.1,434.5,1889.5,4228.8,4286.9,6988.3,1902.1,6398.2,1800.9,670.3,2410.8,905.1,5715.8,6671.3,3407.0,6899.8,6010.6,6922.4,5527.5,4747.2,5842.4,4649.1,4439.6,5698.1,5815.4,607.3,6651.7,5457.2,1939.5,4622.3,553.7,5388.0,3231.3,1470.7,4112.8,6748.3,5433.0,5172.2,4046.4,2177.0,2820.1,4418.6,6297.5,4832.6,6838.0,3685.4,4770.9,1551.2,4988.1,776.4,2816.8,3423.7,4083.0,2618.1,5270.4,5268.8,6669.9,5934.7,1865.7,2926.4,6376.1,5938.0,2231.8,5759.4,1760.6,4635.7,5188.3,6187.8,5060.9,4874.9,2446.9,4731.4,2335.6,4670.7,6476.3,6703.3,4602.6,6519.9,5347.7,3375.2,2753.9,4906.6,6143.0,4713.8,4611.6,5307.5,6523.3,5003.8,3733.8,1976.1,5283.1,4831.3,6866.4,3904.0,5915.4,6989.0,3099.7,1753.4,5454.8,6948.4,4637.8,4541.5,5881.1,4334.6,1203.0,2709.7,6605.5,299.5,994.5,847.7,5521.9,4714.6,6832.7,241.5,1451.0,4626.0,3691.9,2634.1,2729.0,228.8,4587.8,151.0,6316.9,1069.0,3406.6,6718.9,1325.1,5698.6,5420.7,5824.9,4504.8,4229.1,1763.9,6913.6,4300.2,6325.6,5582.2,6402.4,4200.1,2829.1,3550.3,4517.0,6313.2,3862.6,2220.8,800.2,1605.0,6293.4,5081.9,724.9,4335.1,3924.5,4421.5,5756.8,3259.1,5046.7,2817.7,4106.4,6011.4,2925.0,2984.9,5388.2,5996.8,1587.9,6611.2,6034.0,4336.7,5286.7,3670.3,6031.7,4814.3,93.5,1120.8,896.2,378.2,6102.9,5911.6,2240.6,2315.2,6175.4,5149.8,1958.8,6742.3,3133.4,3906.9,5788.8,4330.9,6855.5,2604.3,1926.4,13.2,6640.7,938.8,4968.7,4857.9,325.6,4295.7,6169.4,4456.2,6782.1,4367.0,6128.0,5568.7,6663.8,1316.5,4686.3,4721.1,4647.2,3447.8,4582.6,2076.2,1203.4,3978.7,6272.8,3874.6,2209.7,3380.2,6012.3,4663.2,500.4,4141.3,4749.0,5139.6,634.2,6120.2,4788.2,1015.9,5738.2,5324.7,4435.9,4812.9,6326.2,1226.6,4792.2,4747.5,5381.3,4733.3,123.1,3827.6,3184.3,5257.6,3508.3,1977.5,5801.2,789.5,5273.6,61.4,104.8,1458.3,206.2,1963.8,5498.8,6897.6,2876.3,5178.6,4272.8,5434.9,1096.1,3336.0,4365.3,4204.6,6452.6,6403.3,5756.3,5717.0,4450.4,4493.5,4452.0,1253.7,5308.9,5361.9,3409.4,1942.7,839.7,1043.6,2457.1,5477.3,6378.6,4460.0,118.7,6854.3,4966.1,858.9,633.4,2675.5,4603.3,2610.1,6650.7,4710.7,1532.1,4439.5,3387.0,5605.1,1646.6,5317.0,2780.4,5588.5,446.3,314.6,3136.5,4994.0,6361.0,6564.2,4944.3,6450.5,5640.3,3248.0,5610.5,6483.0,4689.1,4246.4,4532.2,4521.8,1448.2,3371.5,1207.8,3089.2,3123.6,5967.5,4219.4,4974.3,4151.4,6416.4,1963.9,4415.7,4571.0,4416.8,5219.5,145.1,6918.8,5456.4,5855.3,4737.5,2762.7,5207.4,5710.1,3621.9,1984.9,6787.6,1578.3,5994.5,5407.8,5063.2,4077.5,4783.3,6973.3,6313.7,264.9,6220.8,4628.8,6018.8,4020.7,5562.5,5037.1,5352.2,5013.7,4492.9,5316.0,5037.3,2269.0,4993.0,4799.8,5432.6,6899.0,5806.9,1427.6,4857.1,5314.0,2785.6,157.6,4619.4,5133.4,6661.3,4720.9,5442.1,6141.3,6228.8,26.3,2819.1,2736.6,4797.0,1878.1,6343.7,331.2,3126.5,1763.5,3146.2,1012.4,4414.9,846.0,3459.2,4414.0,2733.9,825.4,2747.9,1730.8,4409.1,5549.0,6040.5,4622.3,1995.0,6710.8,2536.0,6260.7,5435.9,5389.1,6131.3,495.7,5236.7,6836.0,6176.6,684.3,482.8,2404.4,223.3,4022.2,1282.0,3014.4,1077.8,5870.0,6198.7,813.0,4074.7,3249.2,4309.1,1210.9,2759.0,6712.9,3981.8,324.9,4478.8,4533.7,4627.0,5108.3,4677.0,587.8,3118.5,6910.7,3556.1,3716.0,5390.8,3785.8,5701.9,3793.0,5046.0,5642.5,6279.4,5778.5,6084.5,4393.2,5285.3,50.5,6325.8,3115.7,1049.7,6083.4,5198.6,3093.3,5928.4,2453.1,5390.5,2107.9,4288.9,1436.5,3249.7,104.8,6812.4,3616.7,1734.8,3874.3,5046.5,5355.0,1818.9,3298.4,407.5,3055.3,5584.9,1135.0,3743.3,3500.6,1848.4,6360.1,2037.5,2574.0,1999.4,4252.5,3405.9,2558.5,3594.2,681.2,5172.0,3556.1],\"z\":[34159.9,35168.6,26852.8,31500.9,38094.6,48531.8,46991.8,46632.1,39841.5,34601.0,22076.9,44785.6,27922.9,23393.6,40795.4,22397.7,48030.9,39560.1,41310.2,40167.8,27073.5,43765.4,39458.6,37281.9,41590.2,30271.9,40142.1,26036.6,42723.7,37711.6,39247.1,39220.2,39726.8,36502.5,39720.4,43925.1,39726.1,49749.4,34700.3,41600.6,38524.3,33858.1,34502.9,39268.0,22650.6,45222.6,28373.0,30557.8,40187.8,35167.2,33127.9,27222.6,44990.1,39698.5,43072.9,23557.9,40712.4,43038.1,43280.3,44023.9,49200.0,33817.3,45007.9,23790.0,38247.1,39664.8,41645.0,42627.9,21216.5,37707.6,34931.9,39410.8,39079.7,39628.6,39731.6,31901.3,33072.9,37037.8,43590.1,48354.1,48035.2,23052.6,40376.5,39477.6,35683.1,36811.7,39794.6,47828.3,45170.9,43306.2,31865.0,32244.3,28071.5,44238.7,33443.4,41278.3,25623.0,40528.2,46470.7,40085.0,38108.9,38431.1,42657.2,30263.8,28883.9,37371.6,38903.8,25299.3,48198.1,49474.9,48019.7,31674.4,31833.0,39110.1,47653.5,35970.8,45861.5,35684.5,28780.4,20130.1,44235.9,43449.9,34799.2,37246.5,39924.3,41761.2,37146.9,45939.1,22952.0,20586.3,26132.7,42366.2,46238.0,40962.6,42213.4,39587.1,41265.8,20667.4,23245.1,32383.1,36471.2,28649.4,40497.6,23078.2,47400.5,22472.4,38764.4,40943.5,32813.6,34122.9,34644.3,46658.3,49245.5,47021.8,38113.0,39592.1,38031.6,23155.2,43443.1,33649.9,49877.4,28899.7,26512.2,49697.8,25001.0,27333.6,39819.3,33157.3,46626.4,30489.1,36444.6,25723.2,36910.4,45578.6,20643.9,37161.1,23411.3,32664.8,40420.8,47901.0,36828.1,21491.3,40413.0,48601.7,33319.1,34567.6,27520.4,26692.7,49448.4,36616.8,45248.7,36484.5,37894.8,41029.0,38972.3,39769.2,20362.2,41550.7,49991.1,47412.9,41274.3,39377.1,43252.5,39301.2,34513.7,40574.4,41453.3,32696.4,36577.3,39994.4,29529.1,23816.4,23421.7,37644.6,34793.9,37186.5,33198.2,37256.0,44149.4,23014.5,41664.7,32062.5,29738.2,26854.4,43849.5,25982.5,48287.5,49908.1,42677.3,21787.5,35932.7,27789.7,20486.4,46968.1,28515.9,38284.2,28789.0,31033.5,36297.6,37665.2,40273.9,29409.2,24874.2,43369.0,25947.6,47655.6,40754.2,46953.6,41450.5,38487.8,38749.0,40099.5,47928.8,37801.0,48226.9,41750.4,38646.3,22584.5,42190.3,47228.6,42722.5,36484.6,45090.2,47453.5,42362.4,49002.0,26569.3,20777.0,46084.7,22136.9,30252.7,28923.3,40095.2,41926.5,35504.1,28546.1,47453.2,45539.0,20973.8,34681.1,20240.0,46233.0,44311.4,38736.8,40224.5,39944.4,48387.3,38657.1,27382.3,47435.8,46162.5,42333.8,37929.1,28303.5,41301.4,39280.3,26567.5,38878.9,43332.2,30068.1,40016.8,38168.9,47358.8,28973.8,39767.4,41463.7,40053.1,48987.3,37174.4,36441.8,29210.8,28850.8,40692.9,34861.8,36084.8,30063.1,37796.6,26771.7,41163.1,29477.2,38122.3,42238.5,42547.9,42690.0,41286.5,45064.1,30798.8,41295.7,25043.4,29457.6,43548.3,48722.1,37648.0,38142.2,38812.5,25660.1,36456.8,33480.5,34873.2,21042.2,41612.3,39791.1,44932.7,41456.9,42251.0,40131.2,23488.1,28067.9,25839.7,22647.4,34896.3,37457.5,30129.6,25246.4,46189.7,37355.8,41771.1,29910.0,41994.0,44096.4,47432.3,26302.2,36926.3,37895.2,41768.8,47057.5,32341.9,38020.2,29243.2,45135.1,37921.8,44769.6,25012.4,40765.0,40488.9,39823.4,43167.5,22644.5,48337.5,25553.5,29518.9,38599.1,23554.6,36037.0,44549.1,38351.4,40059.5,30046.0,34799.0,24513.2,37513.0,35636.8,44780.6,49614.6,45273.1,39422.4,48727.7,36440.8,29971.1,43553.2,30707.5,39162.3,37041.2,21213.1,37473.5,45500.7,48235.7,44698.8,25781.6,26326.9,44663.8,31337.7,41252.7,24682.9,27068.4,37448.4,38560.3,23875.1,23725.4,46055.7,38103.7,38958.7,21262.8,36107.6,36256.3,39536.0,26215.8,44949.0,41194.9,42368.0,23619.2,39006.2,36118.4,31327.1,30399.5,39267.9,40200.0,33413.3,45018.4,23975.9,43130.5,47117.0,46731.5,24769.3,27273.7,26711.0,48049.4,21056.6,39757.6,20981.2,45821.7,38227.2,30621.5,28528.5,20479.3,20503.6,43597.4,33057.8,29239.0,26688.7,20463.5,39727.6,23867.3,41416.1,40665.0,37794.6,23283.5,33518.0,45984.9,28575.4,23391.2,36849.1,35419.0,38220.0,39877.7,43614.9,24570.9,43133.0,41388.6,40816.7,39899.2,44559.8,49297.7,48486.7,24231.7,35103.3,39405.0,41406.6,47228.8,40894.5,39564.5,20524.5,46418.4,25198.7,31224.0,25670.6,39377.0,36229.3,39320.6,46079.3,35403.8,40082.1,42012.1,20246.6,27149.1,44376.8,48363.5,47574.0,39682.1,47608.4,40813.0,39545.2,37167.3,23869.3,38212.3,45490.8,36180.7,43570.6,39727.4,41424.3,43866.9,32974.8,32316.8,37267.4,24007.5,48224.1,49669.1,28936.7,39647.0,41439.3,31517.3,43039.1,37412.2,43632.0,49530.9,49743.1,43671.1,22300.8,38048.3,38734.0,36540.0,47651.1,28309.7,37232.2,45172.1,49850.1,33566.7,36102.0,33990.7,46742.4,49972.7,48335.6,36885.5,29811.4,27890.0,33028.9,36729.0,39253.3,41411.4,23009.3,37849.3,42474.5,40202.0,47368.7,45973.5,40851.6,29557.9,23139.0,20698.2,33132.3,44990.7,39488.8,33667.2,26832.9,36582.9,36993.0,46296.4,34717.7,49609.4,31620.6,24876.0,26382.4,39647.3,48585.1,44796.9,32842.6,33782.6,20881.4,40521.0,47983.7,33307.1,25616.0,22581.3,32576.0,37759.0,34891.4,47466.2,29060.3,49811.2,22036.2,24920.0,20278.5,49088.9,25825.1,36490.4,41862.6,32096.2,36499.5,35332.0,21679.8,28234.2,47971.1,43214.1,46329.8,27520.8,22906.5,34697.4,31261.8,31159.5,45974.3,40219.5,41126.4,36342.6,27499.5,44983.9,36399.3,49082.4,24779.2,28657.3,33468.7,38179.8,36155.9,33934.4,24778.3,46496.5,36514.9,38875.8,48270.3,26638.8,21140.1,37735.5,21993.6,46461.5,36956.2,39601.6,35242.3,44817.2,23681.9,22140.6,46568.2,38388.9,31105.1,45648.8,21940.0,47187.7,47173.2,44895.9,28159.9,39882.4,46678.8,36860.7,39152.0,45998.6,31960.7,42176.9,45025.8,42913.8,40161.5,20342.5,35226.5,22234.1,36954.8,41429.0,25059.3,46818.0,48952.9,42324.2,35417.6,38391.3,44519.1,30028.7,46991.6,47895.7,47933.8,41677.4,32923.4,43327.7,42117.4,33653.0,49332.2,31199.2,29093.0,36013.2,33896.3,28156.9,37252.5,37936.9,40045.7,41119.1,35634.7,42379.0,44588.1,38598.6,26898.3,31712.1,47176.7,49818.7,25976.7,40673.6,34763.8,39063.0,44008.8,48867.9,35739.2,27080.5,39800.8,27130.9,39069.8,35989.2,48444.3,44394.2,46937.0,43143.1,20325.5,48097.5,21927.1,43556.9,28474.8,38163.2,32647.7,43762.8,23608.9,49093.1,41366.8,43398.8,38965.4,21230.8,38520.4,42664.9,49639.5,32788.0,47292.3,39045.7,44830.1,22708.5,42076.1,47514.9,49280.6,26408.5,36843.0,22004.2,29345.9,43219.5,47247.2,45357.7,49021.7,22392.4,49281.7,41910.0,25522.8,41149.8,36770.8,41661.3,45479.0,43301.0,22171.6,38116.0,46185.7,34561.8,43517.4,24225.8,25636.5,43651.5,41023.5,38131.4,47179.2,22876.6,40878.8,39110.2,40431.3,40846.1,37747.7,39437.1,25443.6,23327.7,25740.2,45612.3,37684.8,34585.3,38541.9,33446.7,48386.7,46137.1,48832.9,45112.8,47111.6,27410.0,43367.3,38316.3,35356.1,24132.0,43457.1,27463.7,46907.7,28352.2,32801.8,41391.2,39147.9,36862.5,32745.0,22281.5,41896.2,44800.9,39723.4,43949.4,39420.1,22780.6,31270.7,38779.7,33232.6,29765.9,48872.3,42608.2,49625.9,28163.6,39112.8,40808.7,31153.9,33020.7,40938.9,30235.3,35314.5,45755.1,40426.9,47773.2,37630.3,40958.6,36514.6,37950.8,41479.7,41268.9,46796.7,43899.2,33281.3,42453.0,39408.8,32744.8,49789.5,43451.0,38666.6,35329.4,40051.2,40662.4,32948.0,41773.4,43082.2,40639.5,38872.9,36207.1,30740.8,44305.9,35598.0,37737.5,33045.6,38909.4,38197.4,37545.6,46183.3,24796.9,29864.8,36661.0,29892.4,29115.3,36681.8,44432.5,37689.4,38909.5,32025.2,20165.3,36283.9,25945.9,44632.5,46422.5,34554.0,39006.4,42039.9,33133.0,38690.3,21912.7,21967.6,48522.0,38178.4,46549.2,42860.2,41431.9,42742.0,48862.0,41130.8,28306.1,37019.9,40798.3,28512.0,27037.6,39415.0,32488.4,38174.7,32078.4,24457.5,36872.2,40703.8,29446.7,33463.0,22443.8,30700.1,43020.0,40686.5,38717.9,43399.3,32988.5,29700.4,42912.6,27099.7,36639.9,22241.5,38117.8,33107.0,49781.4,37968.0,28972.9,25529.0,33652.4,32539.2,23055.7,42692.3,33925.2,37172.7,29582.0,36789.5,49454.1,23659.2,40774.2,40172.9,28407.1,37715.0,45033.9,46345.0,25524.8,32179.6,36832.1,46621.9,41569.7,31009.9,47155.6,28667.9,49484.6,37293.2,41839.5,36584.2,48193.8,26694.0,41669.6,44888.3,42403.0,37041.7,45684.4,44138.8,44029.4,26750.5,21202.8,29055.2,46376.8,38442.8,37142.7,23879.3,35286.1,24127.6,43090.2,30075.1,39794.2,33473.4,37840.8,25566.9,34575.2,34624.2,27813.5,37337.5,36397.1,32774.2,36398.4,39076.4,20112.4,39175.4,38479.6,40784.0,44511.7,45626.5,31263.1,36860.7,39628.8,38284.1,43582.4,39555.7,28983.7,44435.3,22098.9,38729.7,45360.9,41667.0,26477.0,47287.4,39010.7,35466.4,22003.6,43781.7,40928.9,45280.3,32318.4,48316.4,44552.7,44301.0,24203.2,38009.5,21886.1,31725.7,38374.4,29432.0,44933.3,35976.4,37903.2,46038.6,37864.8,31864.5,37870.4,33020.9,36502.2,35992.8,36940.9,31202.8,22229.0,42537.4,44988.9,39338.3,49453.1,24989.0,33855.3,29525.3,40303.8,49471.6,41700.0,21448.8,36239.4,39333.4,39368.4,48443.2,43792.3,26524.3,34607.3,27586.8,28462.3,49213.4,39309.2,41189.0,35792.5,23350.3,43218.8,29347.7,40750.7,38584.8,42160.6,29613.9,44821.4,45028.2,39403.0,30564.9,40141.5,26038.7,36914.1,21077.6,24147.9,25793.0,45455.5,20097.0,36916.2,41106.7,40041.7,44890.8,45242.4,47338.4,31863.8,34649.0,30273.3,43772.2,27659.7,38286.2,33080.6,37178.5,39477.8,28443.2,44792.0,48286.1,38242.1,49985.5,47214.1,33362.6,31137.9,30809.5,36400.1,40482.0,40779.0,45097.9,26318.7,44502.1,31347.3,47055.8,40378.0,34285.0,28639.4,39193.8,41462.5,48206.0,37246.9,26848.5,40014.9,34078.8,32025.2,40955.1,40440.3,36515.0,40054.9,25202.7,38843.2,36294.3,27091.0,46161.6,40439.4,37112.7,22544.1,42617.8,41231.5,37613.4,47827.1,49654.2,25926.5,35098.3,28365.4,41354.8,42981.4,39653.1,31134.9,35127.6,49030.7,20534.4,45337.5,34536.9,30703.2,21676.8,43719.8,42500.3,29361.4,43365.5,46855.4,22911.5,28531.2,48897.1,22061.6,34139.1,36096.8,29464.6,40567.9,22262.6,32031.4,29134.4,21836.6,48896.9,41086.6,30140.7,49080.8,32860.1,46095.6,41730.8,40317.5,23634.8,36879.8,26928.5,38448.3,46973.3,41085.5,24482.0,47874.8,23988.5,42807.1,29104.2,26370.6,40949.7,49385.7,31254.5,20901.0,20273.8,30699.7,27978.6,21360.3,39941.7,39011.7,20789.6,39805.5,48463.2,34344.9,21005.8,41854.0,38431.5,37464.3,38375.5,40873.9,35868.9,43282.1,38311.6,37751.3,45290.5,35783.4,41853.4,28959.7,44658.7,42976.2,36964.0,21981.2,29318.0,41396.4,38062.7,48162.2,39581.2,48360.2,33163.1,39168.8,45727.0,26941.1,45572.9,40427.2,37179.6,20520.8,42060.3,48494.0,33476.9,24275.6,39335.9,37938.1,48335.7,29925.0,20271.5,41290.8,39727.7,40904.7,44007.0,41745.5,38715.4,28363.5,41860.1,33181.2,29324.7,38967.1,23022.5,27870.9,36949.8,40259.2,39373.5,31734.6,29319.1,45816.5,44802.9,45218.7,40722.9,36991.5,34431.6,44745.1,35843.5,36166.2,43829.1,42413.9,42418.7,32095.0,36828.6,47563.2,44218.2,49815.0,33791.9,49819.5,36793.3,41744.7,45746.4,28261.0,33913.3,23443.3,45846.0,29402.3,37997.8,29423.3,46766.0,38380.3,23691.9,45320.5,43357.6,36371.7,46320.1,46587.4,34151.6,49418.5,31563.4,21623.1,21841.1,49770.2,40905.5,43001.4,39372.1,49197.7,44339.2,48471.2,46864.5,21886.0,41429.4,38371.4,33125.7,48198.6,27395.2,45702.6,38560.2,24819.1,31437.3,26437.0,48129.0,46649.9,25149.8,43027.8,28993.0,40763.8,29767.4,48704.8,28775.9,43546.2,30117.9,37996.0,38678.9,39019.0,21548.9,38244.9,36490.7,43187.0,40554.2,25184.9,28797.6,26988.5,36069.6,27746.9,47365.4,45205.2,47832.4,32939.2,38157.8,38211.0,44070.5,41014.1,26635.2,24768.8,37240.6,46311.2,46492.1,34258.3,38723.6,38046.3,40710.7,20843.6,32733.6,31122.8,41941.3,49857.7,41297.2,22341.1,35595.9,47358.6,46816.8,39744.3,40419.5,30080.0,44997.3,22541.7,32582.5,43318.0,43260.1,30611.8,22561.9,45151.4,47452.9,23382.0,41404.7,42421.2,37695.2,47288.0,44619.8,49022.1,41089.2,22991.3,31708.1,47415.6,32324.3,43099.8,44211.1,47091.6,48817.1,38912.6,38932.5,43977.7,46614.5,32036.3,39381.0,41544.5,27999.6,32885.4,45719.9,40428.6,39288.7,41649.2,33826.7,37972.9,25641.8,42211.8,36927.3,39215.2,40198.4,36267.5,38289.9,40048.3,25684.5,48157.6,39070.0,45536.5,40743.5,47031.5,39856.2,46653.2,34467.5,45131.5,30571.8,28305.2,43498.8,48194.2,38592.7,40956.3,38141.2,32014.8,36836.6,37560.5,44669.3,31796.9,43308.4,23408.2,39684.9,41646.3,39515.5,44726.9,41436.6,38991.6,41378.5,37304.3,23620.9,37136.3,39696.6,34881.8,38132.3,37804.8,37989.4,46237.4,45347.7,46950.2,44741.9,41310.7,46887.0,41912.0,49244.6,48917.4,32130.4,30631.3,41050.8,42479.4,49797.7,48486.4,41528.2,48156.1,37743.4,21223.5,37500.0,39373.4,32179.2,29145.8,36353.0,32457.7,40846.7,21292.2,21667.7,31295.5,38588.1,33924.3,36183.6,38288.4,49261.5,49079.5,39962.3,47468.3,39950.4,49114.5,44461.5,35987.8,48008.1,25959.1,36672.1,37652.1,46014.5,49807.0,49351.9,36634.5,36634.4,39474.8,33530.0,36933.5,47187.0,25608.0,37392.8,32683.8,20310.9,41140.7,45011.4,44977.2,41644.3,42344.2,48153.3,41212.1,43924.9,39823.8,39230.1,20838.6,41003.0,23918.6,38311.5,41917.8,23156.7,36900.5,44914.4,42020.2,24797.6,38776.8,45083.7,37610.8,30467.1,48459.2,29334.5,30743.5,44704.7,39096.8,22623.7,37461.6,36251.2,38581.7,21474.7,37547.0,26718.0,20130.0,42066.4,27708.4,26447.6,33965.7,37407.6,37097.5,38391.1,38013.3,45412.9,36686.1,43520.3,29564.1,40319.9,32467.7,35359.3,28420.8,37610.0,37759.1,43849.0,36143.5,43920.4,43724.4,21198.0,45116.2,28592.1,49434.7,49808.4,32742.0,39993.2,26090.8,40740.6,40840.3,33587.8,36785.0,24179.7,31866.5,36487.8,30728.0,35033.8,46365.2,48932.7,36885.8,48586.0,36741.2,47819.3,28669.8,38820.6,29029.8,35234.8,49662.3,38657.1,41354.9,36253.9,37140.0,24697.8,33168.6,49103.9,35515.2,44357.7,41762.3,49726.7,31270.8,24448.1,39048.8,38556.8,46494.9,48154.2,45522.3,46746.1,49442.9,40998.5,36831.1,49956.5,40000.4,26716.0,26287.7,39964.2,45903.6,45704.1,27823.1,40748.3,41207.9,40149.3,28943.8,46375.1,43597.3,27857.7,39851.5,25308.6,25640.3,38022.6,49651.2,44381.3,43783.3,35087.1,45068.9,41467.8,26562.0,36725.8,38962.0,41110.5,28890.3,39288.6,45466.7,41804.4,49257.4,48089.3,37301.3,37324.5,38945.1,30703.1,44255.2,37870.5,37353.8,34859.0,47709.1,43873.6,33085.3,38530.6,23748.9,44972.1,47917.9,47739.9,24894.3,47043.0,23566.5,23219.0,46455.6,37129.5,38542.5,30664.1,36458.6,40724.6,45377.7,22559.8,33888.3,49461.0,20476.2,20089.7,49429.3,40499.7,40528.9,29615.9,48171.6,41758.1,23045.4,30412.5,37187.2,40506.5,38317.2,43863.2,41529.7,41648.9,49062.9,36934.3,20568.1,47538.9,36518.6,49166.5,24293.2,32868.4,43554.9,49385.9,37045.7,37375.7,46685.1,22819.4,28767.9,44582.2,31296.8,29599.2,48706.7,40820.2,36397.3,40417.1,38256.1,40210.5,46558.8,44303.7,23930.0,36800.1,33815.2,44381.2,38742.8,36793.9,46121.3,23703.6,46075.4,31669.1,43709.7,40778.1,39257.4,42282.5,36493.6,44476.2,30054.3,39627.8,39382.0,34116.8,45218.0,41809.3,48793.0,23006.8,37556.4,34835.2,47340.1,45181.5,39226.8,40534.6,30639.1,23981.9,44669.3,26796.2,34561.7,42635.3,34700.6,46094.9,22598.4,24569.8,27850.1,37128.8,39227.6,46051.4,23899.2,28923.7,46943.3,39731.4,24108.7,40871.8,48614.3,38187.6,42483.9,46489.4,39613.9,38861.1,44751.8,44284.4,45449.2,48746.6,28832.8,35404.3,40873.4,34245.7,40078.5,38491.3,49537.6,42855.0,28736.4,39720.3,43862.7,41263.4,45862.6,41423.6,47052.0,48268.1,36784.6,41868.4,38608.5,28615.0,32842.8,40331.0,38294.3,47130.7,37206.1,40687.1,44546.0,39577.0,39208.7,33604.1,48983.8,41534.0,42898.1,46586.1,27562.6,31088.7,31976.9,45887.0,38405.9,38962.4,38890.8,30316.2,48030.4,23818.7,22881.1,46310.7,39949.3,35498.9,46745.9,29368.1,37792.6,39951.7,42403.7,44627.7,45608.6,39415.2,47461.9,22393.2,38703.8,39101.7,38622.4,23922.4,48665.3,31622.6,42421.0,35233.8,48567.7,45231.3,43728.9,23175.5,46919.2,49592.6,25025.7,43309.2,43424.2,22934.2,35231.6,39357.3,21358.7,31822.1,39565.7,24378.3,38206.2,29944.6,25062.7,28722.7,49938.5,37404.2,38935.2,33305.6,38943.0,40056.7,49841.6,29026.7,49400.4,36374.6,21128.2,27306.9,40015.5,41059.2,36485.8,44742.1,31633.8,33347.8,21805.1,39726.7,48816.9,47375.4,33397.2,20860.1,49522.6,26443.1,42157.5,29891.1,36263.0,36861.0,31936.3,34578.1,49867.5,23182.7,36949.1,21122.5,26727.2,22589.8,47114.7,38169.1,35401.2,32858.6,38242.3,20076.6,42332.8,21701.8,37257.4,32957.8,46811.0,23700.7,30948.7,20803.9,33343.5,28083.6,48549.2,39340.8,47802.0,48985.1,20041.4,29499.0,30317.4,48796.0,46734.5,46808.1,36635.1,46345.1,47079.5,37562.7,38123.7,44915.2,40813.9,43883.9,41351.4,31116.8,41832.4,41306.7,35232.4,20648.3,22071.1,38330.7,41141.9,24409.2,36184.3,32819.3,48945.0,42908.9,37350.4,36550.9,47693.5,44899.5,46578.4,41881.3,47055.6,44621.0,22236.8,39414.8,48522.2,43070.9,23896.5,39352.1,32599.5,38058.3,32267.7,39511.9,27313.3,20187.9,49144.5,44868.6,41302.9,36501.6,40390.7,46092.2,29364.4,44490.7,39526.8,41576.4,26144.1,25274.1,47403.5,48633.7,26936.5,36356.0,25818.9,42172.1,40221.0,27549.5,41443.1,42419.6,44745.6,36373.6,36932.8,45904.5,36655.1,39729.7,36332.7,48655.3,42038.3,40159.9,46375.0,40627.4,37952.8,38127.9,36436.3,39201.1,29420.0,24353.8,30709.9,37649.2,24687.3,31263.9,33530.8,44988.3,23005.4,37110.9,45841.5,36962.6,48663.5,24449.4,37672.1,20348.3,27243.5,37223.4,20350.6,41403.5,33229.2,41149.4,43704.3,20664.8,45262.5,24914.8,35374.4,36765.1,45910.8,37664.8,30382.4,45233.8,37313.1,43779.2,39215.8,38634.1,24736.8,36811.3,38493.2,47091.4,41436.5,42502.3,30722.0,25839.1,43163.7,21918.2,40547.2,38430.0,31030.9,47877.4,37272.7,38627.8,38009.6,41341.0,47735.0,40952.4,39997.4,38322.5,44928.2,28001.8,48136.5,44055.6,41238.1,21218.5,34246.6,48231.0,39731.6,47754.1,34477.6,43726.1,33101.1,35405.8,42277.6,43251.5,31719.9,31322.7,45381.2,42449.9,35420.0,48316.0,49108.5,44621.0,38849.2,37089.4,36661.8,49794.6,38117.3,36278.6,37490.8,23948.5,42824.5,40517.6,38374.1,39800.8,45032.5,48025.4,38748.5,37658.7,31497.1,37149.3,45499.6,24369.5,48367.1,31243.3,28650.5,34444.4,22115.5,34947.7,26776.6,47847.2,42378.2,45395.5,33870.5,44249.6,24187.6,24548.4,36513.7,36528.1,42196.1,36404.0,45470.2,49486.8,42149.9,38310.3,40072.8,49248.7,37383.2,30068.1,47366.7,37552.0,40849.0,41437.5,40096.1,38536.7,20526.4,24112.0,32227.3,39551.4,24550.0,40158.5,36245.4,47558.6,44890.4,39446.3,34702.8,27765.8,49785.8,36964.8,32342.4,42051.4,30863.8,48639.3,36736.6,48617.2,36944.5,44694.8,38558.5,42810.2,39518.4,44080.0,44939.4,45847.5,25241.3,48132.5,25996.5,37732.9,22003.6,48003.4,34822.8,42220.8,20606.7,40380.6,23537.3,23361.7,34973.6,36278.9,45116.5,34935.4,41940.1,37298.3,36630.0,20795.6,22115.3,41687.6,43876.7,36767.5,31108.2,44930.8,24928.1,46900.8,40894.1,32583.9,42740.8,31157.3,27397.9,44175.0,41745.9,43824.9,47756.1,24328.3,42545.7,24200.4,34048.9,28998.3,23856.5,29659.8,28632.0,36116.6,42787.0,37695.4,42612.9,39509.6,22448.9,42835.4,45696.8,21494.4,25072.0,30063.4,40264.6,45589.1,25285.5,26733.2,39361.7,28023.7,26601.2,41318.7,31421.7,36103.0,47790.2,23399.6,28822.6,34097.0,46396.6,24272.8,37732.1,28228.4,29668.9,42948.4,22057.1,48775.9,40449.4,36767.4,47637.2,41372.2,41669.7,37382.5,35463.7,33483.8,45031.8,24128.5,38115.8,38470.7,25384.8,45141.0,22424.0,37086.9,25768.2,45938.3,29097.4,48677.5,44776.1,38219.7,43018.8,42390.7,48063.3,46760.8,34545.9,22171.0,43275.0,39615.0,44985.1,37277.1,40356.0,36844.8,42925.0,37645.7,33128.0,37338.6,29629.1,39535.0,38240.6,30170.8,39999.6,46420.3,36656.4,34576.9,24988.7,38583.7,40525.1,40107.3,44787.4,47570.3,27855.1,30615.0,45251.5,36457.0,36598.7,24110.4,31516.2,28247.0,44046.4,41986.9,38240.7,41009.8,48179.4,24302.7,37401.7,37619.3,49108.4,41299.6,48221.9,34188.1,38067.1,40520.7,41779.4,37081.4,39736.7,46618.9,41394.9,26936.3,46782.3,40677.3,44401.8,43841.9,31045.1,40034.5,25085.0,40787.4,38719.6,23470.4,36060.5,26744.6,48000.2,38709.5,49798.4,38517.8,46966.3,41697.6,41989.3,46141.6,35764.9,44679.6,31517.0,20894.6,46408.9,38386.0,29336.3,37108.4,41814.4,37925.3,31695.1,36321.3,22032.5,31537.3,21256.8,26526.1,29870.0,35396.9,41806.9,43069.9,32542.6,41903.6,38798.8,27537.8,48177.7,40967.7,37350.3,32304.7,46536.9,30738.6,49880.3,29647.1,39298.3,44359.7,22044.4,36997.1,25791.9,37328.0,43932.9,36660.2,20195.5,43992.7,36349.8,46463.3,40966.4,32202.5,46294.0,36392.9,39659.9,29358.3,40794.8,40706.9,24658.0,30803.2,33343.7,27461.9,36676.5,49149.7,23053.4,21419.0,31145.4,36724.5,43543.0,28371.2,44015.9,35154.8,41252.2,41788.0,38072.1,20075.3,41287.3,45096.8,43843.5,42068.1,43011.3,22873.1,36619.6,46005.1,34544.8,48269.4,43429.4,44179.6,26953.8,36454.1,36996.6,37101.4,24016.5,36171.2,23892.8,41237.9,35360.5,27534.5,38900.7,21783.8,37354.2,43636.4,40307.7,21261.2,39199.0,49461.3,42986.2,29272.7,49448.8,37175.5,26649.5,39520.1,49979.7,48728.8,29846.8,38967.0,29255.1,42921.1,47829.8,28768.6,46989.3,21792.9,40066.1,31627.0,26471.6,23132.2,48166.6,33198.7,36832.2,41325.2,45431.1,36645.2,38818.9,31204.4,41106.8,36268.9,38838.7,41062.6,37935.2,40951.4,44829.9,48306.6,22578.3,34639.8,41245.2,36493.9,36250.5,41412.7,36005.0,40332.8,24046.4,21012.0,46607.2,36315.0,38280.8,36041.1,45391.3,36498.4,40020.2,39887.2,47772.8,31273.9,43968.1,46347.8,28599.5,49452.0,41868.5,39833.9,44863.4,23271.0,43183.0,36363.7,37331.7,37533.7,39106.8,32110.3,41723.7,32399.8,44440.0,35990.8,45919.8,42667.6,27209.1,35737.0,49621.3,24738.3,20907.2,39525.8,44353.1,41768.4,24635.8,22873.9,29068.6,26104.0,27128.1,36645.1,37691.0,36499.6,39396.8,35072.6,38095.3,49015.0,36333.5,40550.1,49605.8,41739.6,42166.3,26274.0,42403.9,41792.0,40529.7,42326.1,28718.7,38754.8,45227.8,46503.7,26960.8,31226.6,33178.0,21998.0,34375.5,39697.5,25765.0,45335.9,42883.7,39910.8,34760.8,34754.7,43914.3,36750.8,39659.2,28254.8,28585.2,45094.0,34493.3,42815.6,34868.0,33429.9,49671.4,45106.4,39386.9,48635.9,45615.4,40767.2,33793.8,24169.5,33066.6,24497.0,49812.4,32644.6,43147.6,41419.2,49158.5,46344.6,22703.8,40266.4,26660.1,48339.9,45430.5,30803.4,41700.8,38033.9,22684.5,27098.7,40332.4,44016.2,34052.9,25461.7,36502.1,41255.2,28418.7,37802.9,20479.3,44140.9,27943.6,47820.7,37729.0,42077.4,32468.7,31757.3,35112.0,47874.3,27330.8,36089.0,40870.8,49157.8,49772.6,41169.4,38696.6,20915.6,33930.9,24734.6,40665.5,44430.7,23434.2,36084.7,39992.2,46996.6,38212.5,25687.7,41731.2,39350.9,28466.1,37836.2,38833.6,38470.5,32489.8,28023.2,34769.1,30821.4,39748.9,38790.2,32374.2,46671.9,39803.2,40678.3,35234.8,49288.6,43465.3,41355.5,43284.9,44578.9,41924.8,41256.2,26796.9,34513.2,37281.0,26255.7,24514.3,49851.8,33770.8,38013.7,25651.6,37500.1,29477.8,35012.6,36593.4,31633.6,37478.4,41812.2,37143.1,29378.3,34672.2,36309.8,47819.3,49806.8,38597.6,39298.7,43817.6,41628.1,42546.8,37002.1,23565.4,42030.2,36224.8,32937.0,49802.7,32949.9,42632.6,36668.7,23344.6,21177.7,44409.8,36461.1,41912.5,45370.3,37112.9,35895.1,37003.4,40944.4,36618.9,40059.8,48024.3,36460.4,47219.4,42832.8,35513.0,24288.4,41821.6,45389.4,41005.2,41992.2,23090.0,41883.9,43526.2,45839.2,41652.1,47520.7,41012.9,40817.9,24582.7,39441.1,30227.3,44519.6,34934.7,47178.1,37600.1,29002.5,38979.0,46442.6,39196.0,32470.0,41939.3,45536.0,43905.4,30875.8,44017.5,22323.5,21835.5,34891.8,37415.4,46628.3,38745.6,28134.3,38836.8,31580.9,39896.2,36957.8,29986.0,25426.5,32520.9,24099.1,34859.1,27668.9,25274.2,49458.2,37446.7,41673.2,23771.5,42863.2,34828.2,21674.2,35842.4,35579.1,39650.2,31310.5,25331.1,39747.5,28621.5,31547.3,26907.0,45676.6,49293.1,36302.5,35540.5,44232.9,44062.8,41717.1,45689.5,44232.2,40609.1,44339.8,32005.4,30848.0,37836.7,48895.9,23799.0,28469.4,43977.9,46900.7,37309.2,31703.5,47158.4,22930.2,40944.2,30167.1,36874.0,48234.5,36172.8,38009.9,22837.3,49650.5,41443.7,41991.8,43713.6,48085.4,42304.6,47281.5,27964.3,45538.6,41350.7,36352.9,24042.1,38485.3,47931.1,44339.2,27101.3,27394.4,25970.0,28102.6,48412.2,39357.4,39375.0,38942.3,46537.1,41923.9,45758.4,38207.6,39229.7,37884.9,20470.3,49056.7,20492.9,24619.7,27813.8,31200.3,25038.6,30311.1,37272.8,37575.0,36085.0,49891.5,48394.5,40082.6,42927.5,46520.2,49354.8,32221.2,49455.0,34400.3,37765.8,29469.2,32610.9,27467.6,32833.1,40986.6,45060.0,36950.6,25771.2,29122.9,38393.4,36424.5,21707.2,36247.8,39280.2,49550.7,46555.0,38766.9,38160.4,22913.4,31416.3,37339.8,40053.6,44633.2,42486.1,43276.4,40103.5,38201.6,39590.6,37692.8,44027.9,36480.2,35549.4,35295.6,37681.1,31935.2,39719.4,27514.6,40091.6,46599.6,48639.8,38417.9,36143.7,41976.3,32731.2,39635.1,41207.7,34652.7,46988.9,24742.8,36732.4,39363.3,38331.9,36878.3,36469.5,47649.0,42250.8,44773.8,47673.6,29088.0,39404.2,27209.6,44928.2,43530.5,29261.0,32880.1,37722.1,45864.2,21163.4,37182.9,33542.6,44982.7,36334.9,29275.0,44418.3,25525.1,45454.1,37822.0,47964.2,42549.9,48742.1,36336.5,38651.1,40887.4,39642.4,32183.6,42449.7,41730.1,24564.9,27818.0,45704.9,39390.6,37311.0,44124.2,23923.2,41357.1,34210.0,44055.7,46650.8,35622.4,27103.9,21907.4,36251.4,36951.7,27989.1,49347.3,38005.5,45554.2,21016.5,46521.0,34638.2,39447.5,33092.9,37338.8,39638.1,20803.9,28300.9,37345.0,26214.4,36679.9,47592.1,20209.9,26081.1,37278.8,44839.8,36141.1,37135.0,40119.9,40888.4,44608.8,47651.3,37872.2,21253.6,42165.1,38683.7,27487.0,27688.7,36742.2,41829.2,23230.8,49837.5,31619.5,36377.7,41842.3,26294.1,33896.6,43209.1,29115.3,36333.8,29553.6,22340.0,32099.8,49438.2,29788.9,36443.1,40311.9,24240.5,49781.9,48530.1,49507.4,38036.0,39027.1,20525.4,26669.7,29117.0,29593.8,44615.7,36263.9,24036.4,24327.1,40331.9,40138.1,40812.5,25173.7,43513.3,49335.4,37350.0,36590.6,39821.3,40801.9,40572.1,37744.4,29344.0,21082.0,31107.4,20772.3,24046.1,23899.5,32432.5,38845.2,43117.4,44059.8,49712.9,38288.2,26477.9,37748.4,21829.4,42761.4,49309.8,39287.4,28015.5,37533.3,31557.2,39761.1,40428.0,31863.5,38217.6,20387.6,49764.2,24571.8,38166.4,43286.7,25427.0,36870.2,24947.4,24845.3,23154.7,48060.4,45675.7,25817.6,24351.3,40476.6,38533.1,49459.0,48030.2,22317.2,22089.0,36303.7,36388.5,20740.8,22652.2,33894.7,36153.0,30818.8,42796.7,37893.0,40203.0,47427.0,36334.0,46232.5,28023.7,38050.7,39592.1,48561.8,23988.8,42653.0,47926.1,41167.2,39862.5,37542.4,37282.9,20829.4,32873.5,40644.9,23534.9,45983.1,38895.2,44327.3,36611.9,37527.4,36921.1,20073.7,31520.8,39637.4,37986.2,41744.4,46431.8,30813.5,44839.4,45299.3,36969.8,38666.5,36027.0,44852.2,47594.5,42482.1,31235.8,37902.0,43234.3,46849.1,47464.8,47212.4,41788.9,30523.6,42781.7,46519.8,29523.7,20524.7,46490.6,43092.5,41485.5,34727.6,41963.1,40024.5,37762.2,45759.0,37211.2,40065.0,30642.9,37014.2,35108.9,32328.9,45132.9,37005.4,20502.2,28209.7,31215.5,47446.1,26088.5,38705.5,46800.4,22229.0,36584.9,40809.5,37473.9,37518.4,30625.3,23614.0,33618.7,38435.9,24273.0,29397.8,45290.7,41903.3,40280.3,45627.8,23895.2,38143.4,37261.9,37036.5,42147.2,41585.7,46014.5,43609.1,20307.8,49615.1,30094.3,34322.9,34442.6,43586.5,23944.2,47383.8,43420.4,32546.9,44505.5,40398.8,49308.3,38021.3,35273.2,44706.0,38040.9,41086.5,29872.4,27205.1,39739.5,31986.6,39850.4,45433.2,37412.6,40492.0,39879.7,41033.8,40129.6,42183.1,43727.6,38287.1,35182.7,38122.3,29687.8,24961.4,39613.9,37165.5,47779.4,36340.7,43413.2,40889.1,21822.2,40098.6,40294.9,21360.6,43054.6,22613.8,22769.9,40376.5,41210.9,42018.7,23017.2,31011.7,33496.1,47596.4,38614.0,40240.9,43880.7,42086.5,41424.9,38158.2,34229.3,44027.7,37173.9,37376.1,42541.2,34480.3,41277.1,32810.3,42460.8,36383.5,39092.5,47974.6,36294.1,48467.7,41200.7,41049.4,40269.3,40392.5,46691.6,47449.4,41918.7,28815.7,46232.5,37527.0,27420.3,41954.7,40235.2,47579.0,46716.9,41643.3,29658.7,39281.0,38429.7,38891.9,38851.5,44031.7,39860.6,29307.9,38024.8,25767.8,47032.9,45785.4,21382.2,43567.2,34690.4,46859.8,43334.8,49689.8,28567.9,27573.8,22536.6,27388.6,47902.9,41024.7,44808.1,40334.1,48276.3,34012.4,40573.8,36713.4,40444.1,30435.3,45768.4,42176.5,26641.1,38042.5,25900.4,31342.4,38067.0,47173.6,44661.9,44136.3,21879.0,33187.2,34150.2,36746.7,46307.5,42152.0,40069.8,31315.2,36502.2,48238.4,33478.8,45262.2,49852.1,37906.7,44289.1,23405.9,38225.3,39767.1,23687.2,40970.0,39345.2,39667.1,25626.8,40229.6,21820.5,30716.0,37425.9,29595.5,33248.3,46051.2,41741.6,32053.4,47308.5,39284.7,45479.4,39296.4,37533.1,27153.2,28153.9,39247.5,38942.0,27103.0,39357.4,29929.2,39179.2,48322.7,40970.9,24413.8,46060.4,40287.9,40278.4,36589.4,26535.4,40208.3,42178.2,30346.2,48430.1,40973.3,40111.4,22266.4,43776.6,49165.9,36618.9,48025.7,49466.2,46549.0,46304.5,28374.1,37635.2,38648.6,28013.9,24398.2,38473.5,43545.4,34211.1,41148.3,47341.9,39788.6,36082.6,26094.8,40422.3,39429.8,36634.2,36891.5,41519.0,21085.2,36757.9,23605.1,41173.6,37916.2,43860.0,42375.2,47557.3,40735.6,35787.2,44853.3,24043.6,37339.2,20877.4,35115.7,25936.2,28874.3,34602.5,44060.2,24962.1,39941.8,47947.9,28246.3,46704.0,41977.5,48416.8,20274.0,33589.0,39776.9,36339.8,39868.8,41976.6,36775.2,32319.3,45815.1,43684.1,36976.2,37179.1,41857.7,21446.5,34313.2,42964.3,37222.5,46511.1,49378.2,43269.9,41050.1,20930.0,26605.5,33478.6,37325.4,32445.6,28627.5,37638.0,37572.0,46770.1,34214.6,49048.9,49802.9,41643.3,38551.1,32685.3,39606.2,21054.0,32980.3,35003.8,38997.8,27440.8,28546.8,27385.9,39958.5,35833.2,45338.8,28059.3,40626.8,35785.5,43324.0,40784.8,40676.0,21619.6,24497.6,47648.4,48499.3,21448.6,43091.2,20586.8,40805.5,45611.2,29380.8,49319.1,38689.5,24051.5,23487.3,24871.2,43269.8,25683.3,45295.7,35667.2,48728.1,47527.0,43816.3,37661.4,23541.6,29374.7,29358.8,22903.3,28692.5,46170.9,36913.1,35639.5,49568.6,32946.3,27074.9,37110.4,42416.8,35272.9,30736.3,45976.4,31202.8,43489.7,43283.2,45165.9,31330.9,26247.5,28873.4,46014.4,38110.0,41563.9,41056.7,42989.0,49630.5,49923.4,40993.0,28210.5,21995.1,40316.7,27212.4,34916.2,23460.9,23296.5,32357.7,46303.7,24813.8,35579.0,37134.4,42394.3,26787.0,20650.8,47371.9,37159.8,46341.4,31908.0,32977.4,49169.9,31747.9,26831.9,33627.3,37397.6,40303.5,38808.3,39368.9,39060.1,43552.0,38244.5,37751.5,40369.7,40327.2,45613.4,43582.5,41542.0,36999.1,30919.9,39981.8,44608.0,48521.3,20762.2,25711.8,39985.0,40742.6,38256.7,33894.0,23064.6,36504.0,39175.7,38256.1,30075.7,22749.2,22504.8,23048.1,36487.3,25320.2,42937.6,39636.4,48608.6,48801.4,23666.9,37385.7,47900.9,47050.7,36887.9,24453.4,21945.4,45481.3,39754.8,39665.7,23144.2,40954.5,29123.6,36489.2,36013.5,44918.3,39875.3,49966.7,29767.2,38836.7,48123.7,35275.8,41667.1,34100.8,20631.7,41535.7,36829.2,39063.6,36458.6,43110.6,37366.8,36720.5,33326.1,39358.0,39811.1,23465.5,40325.5,40703.4,46001.7,27463.8,27018.4,22678.1,48689.4,38120.4,48005.3,43642.1,32299.1,34226.4,35486.6,20465.7,21818.3,45189.7,36337.0,44601.0,49901.3,43419.0,49842.6,45244.2,24200.1,26277.9,40548.9,20624.6,49496.6,20376.7,49784.8,41773.6,39718.6,37999.7,27388.8,49638.7,43914.7,41137.2,38994.7,44386.2,29141.8,46492.0,37620.5,49367.0,24940.6,47922.0,40298.7,41215.6,38275.4,40190.1,28167.0,45519.4,48539.6,38989.9,47009.8,25991.1,41703.0,30609.1,29929.3,39954.8,24673.9,36967.7,39616.9,40079.5,31706.2,39412.3,24259.5,39285.1,47764.3,41446.1,21113.7,46767.8,24503.8,41576.8,32732.2,46615.6,42317.4,43592.4,34335.6,46874.6,37439.7,23978.1,48436.8,40319.1,40064.1,28587.2,37508.9,33817.6,25334.3,38592.2,41115.0,22015.2,20426.3,42214.3,23049.6,37223.2,45611.9,23787.2,28672.7,48638.8,36582.8,39359.5,37418.5,32774.0,28660.7,40922.8,39261.7,36973.9,25863.2,38423.8,20948.2,21329.8,44274.1,39656.1,26514.1,37677.0,48231.2,38103.2,44237.9,41574.5,39432.3,38630.4,40750.4,36512.0,32635.2,40683.8,38501.9,21820.6,38636.0,28303.7,23125.9,39221.2,49259.2,26436.3,29433.8,20637.3,28203.7,41871.9,37012.3,47079.8,44944.5,39373.1,46318.7,26692.9,20941.3,28940.1,49755.8,46668.9,41113.5,36562.3,40285.1,40609.2,38811.0,24292.5,39244.6,35373.3,41022.5,49559.3,39498.2,43889.9,40818.3,47958.5,41704.4,22408.9,36889.8,39585.2,20220.4,37296.1,25025.1,35392.3,39547.3,28439.9,35423.9,42550.0,46627.1,45031.3,39998.7,48209.3,37279.4,23907.1,39980.5,38926.2,44881.9,46896.9,37467.3,41171.2,27665.1,49389.9,36633.8,32963.3,29571.0,31976.1,37507.4,41282.2,35405.3,33085.7,40712.4,38991.6,41009.7,46114.3,38753.5,31563.9,26393.1,49944.3,26188.5,24678.4,49393.0,24959.5,30443.6,40014.7,48277.9,33986.4,37651.2,41863.5,42716.3,48338.4,22008.8,24498.5,36477.1,44448.1,49732.9,30653.8,47360.7,26650.8,39758.2,41623.4,49482.1,49491.4,38277.6,36409.2,37780.3,41311.5,45513.8,37191.4,49252.2,38773.9,38759.1,37574.6,42071.6,37150.7,37303.2,41132.9,37107.3,45975.7,38987.5,21890.2,37564.7,21732.7,33558.3,39423.9,47961.8,49188.1,41192.6,34795.1,31992.5,27569.0,37767.6,21875.3,28895.1,29237.4,42597.7,41356.1,41432.7,39613.4,36827.5,26031.3,38719.0,30504.3,36756.1,39026.1,42064.9,29311.9,40064.1,38126.5,20235.2,47470.5,42195.4,49772.3,38373.8,36682.9,29957.0,43649.2,37540.9,25666.9,39576.2,39943.4,37279.6,40937.3,25563.6,29115.1,24789.7,40281.8,39429.3,38143.7,35297.9,33374.9,40214.9,38353.6,38967.8,37445.7,24754.3,36928.4,37263.6,43996.6,22746.3,43477.1,48849.9,41137.1,37916.5,38056.8,20288.4,35215.0,39827.9,44242.5,27827.3,27954.3,24008.3,21381.4,42371.5,33927.3,37550.4,44832.8,36898.1,33763.8,48633.2,37484.8,29202.2,34459.3,49329.1,24280.5,46940.9,28993.5,34652.3,38442.9,24328.0,43946.1,40701.8,47831.0,48355.0,35874.2,41450.8,41565.5,23469.0,46222.3,48566.9,29698.9,39557.7,34526.1,46503.6,41150.3,32519.8,30062.8,31115.4,49549.8,26592.7,39813.0,26732.9,37287.3,29363.0,37757.5,45986.8,36220.3,29992.8,36285.8,45367.3,43674.3,37794.4,22154.8,23801.6,40105.1,28960.4,39769.6,40348.4,35073.6,38977.4,40781.1,27564.4,39421.8,49249.1,31383.7,43143.2,40969.2,27585.8,20350.8,39585.4,46928.0,32568.6,26870.5,23510.7,42002.0,26692.5,20453.9,49531.2,38494.4,39639.9,39942.6,41127.2,36700.0,34028.4,38060.7,38923.5,28223.5,38530.0,38272.5,23281.7,43996.6,38156.8,48548.5,46137.5,41962.4,37664.7,47485.3,29530.7,34037.0,41389.5,31818.7,45481.1,33617.7,23408.6,44775.6,40369.4,41902.3,33557.7,25501.5,41711.5,40918.4,38985.0,44210.4,24933.5,41225.4,30661.0,47422.4,45421.0,45553.9,22716.5,34167.9,46291.3,37626.5,46242.3,25226.1,40187.8,32685.3,46808.2,42090.0,20270.9,42210.2,49793.0,42748.7,34716.4,39282.7,48624.1,39829.1,40055.2,35151.3,36088.2,41848.9,46944.9,45586.4,37728.5,38404.3,35983.0,33446.1,34457.5,37719.6,39815.3,41191.2,35172.1,20184.1,47255.2,44837.4,45868.5,35450.4,33408.0,49209.4,37665.2,47328.3,26583.4,28720.6,41355.6,40824.0,39631.3,49781.4,40233.9,26938.2,31335.5,22626.8,27771.0,36680.9,49729.6,40253.7,48600.5,37973.0,40687.9,36148.4,28799.2,37028.8,41949.2,40311.9,25272.8,46054.8,21085.7,41512.1,29223.7,22822.5,48281.3,46913.7,23290.0,37729.2,40010.1,45952.8,40806.3,42846.3,38386.0,37087.2,33664.4,32516.9,38299.2,46014.3,33723.2,45378.0,44229.8,42250.4,39500.5,29703.5,31300.2,30178.8,44449.7,47201.8,38823.2,49693.2,46319.8,37876.4,37461.4,21754.9,39025.6,23739.2,29186.1,36746.7,35187.8,23996.7,47012.0,46989.4,40528.4,42372.4,38084.9,36193.2,36239.0,36101.3,38586.8,31252.1,20421.4,41839.7,33306.6,40754.1,23407.4,48709.8,45527.2,40866.6,41965.1,37113.3,28123.6,24949.3,31304.7,27937.6,38827.4,22350.5,39626.7,21690.1,37343.3,41228.3,37152.2,38558.8,40253.4,22229.5,22892.8,33323.4,43828.2,45793.3,20355.6,45030.7,44669.9,41677.3,24614.4,31776.0,31407.4,42421.6,38838.9,38277.7,35312.9,42224.9,36384.8,43662.4,24610.2,41960.7,49341.3,45893.4,42346.7,21284.0,30528.9,38822.3,24724.4,30401.3,39122.6,38543.7,23524.5,43625.4,42172.7,45348.3,40881.1,41964.4,29180.3,47079.6,43581.5,43517.7,37365.6,24311.2,37243.8,41013.7,47459.2,37476.3,21939.9,38893.7,45954.7,27340.7,31424.0,41572.3,42541.6,30150.9,30919.1,44471.4,45857.1,33594.6,31397.6,44812.4,47516.7,32602.7,44410.9,40525.2,36653.4,38979.1,48855.0,39928.0,41993.3,49301.7,43557.9,32373.9,41878.3,49004.8,42449.1,25886.0,37093.6,46906.5,22563.3,33920.6,27022.9,47893.2,39224.2,37093.7,21441.2,43332.2,37087.8,21428.2,45270.5,43195.6,25866.6,34484.8,31712.8,46747.2,39096.6,40000.1,43398.1,42272.8,30895.1,36201.3,40385.9,44426.2,38180.7,41734.9,36578.3,24010.2,45369.0,40914.6,41859.9,36982.5,44017.1,40769.7,37522.1,34891.3,47379.5,36075.7,38686.0,44729.4,25141.8,22137.4,32563.6,47392.9,33812.7,20247.6,22363.6,38245.6,46546.0,32603.4,41946.6,35132.2,38196.3,41953.4,22757.5,38202.8,45580.0,36579.6,43705.5,37927.2,46169.0,45506.2,41047.3,40866.9,41439.3,49774.5,39117.0,28121.2,36473.8,45272.1,36350.7,22008.7,23267.7,47546.3,23194.1,38054.4,23782.9,35387.5,33059.3,23944.5,31415.1,39196.2,32816.6,23591.0,38628.9,45685.5,49675.3,38609.0,48016.4,44166.6,28672.3,39430.1,48714.8,21786.6,25899.0,46674.1,36106.1,44698.5,48289.3,47569.7,37674.5,37599.9,49502.7,45516.6,41101.8,39955.3,39766.3,34464.3,40757.6,21396.5,44577.7,28674.2,25843.7,45979.0,41619.1,20214.1,46520.4,40779.3,36664.7,28923.4,44428.3,43008.3,40547.2,49944.9,44107.4,37014.0,38945.7,22899.7,49210.9,27299.7,38726.6,38361.9,28684.4,38388.6,29300.9,44078.2,39813.6,33688.2,46932.7,37422.4,38003.2,30433.2,47551.3,35490.9,39572.7,41664.6,46431.5,47255.7,27699.0,27661.6,32713.6,39420.4,38053.7,46654.9,40635.7,24272.1,39235.1,44057.0,36971.5,36903.6,24138.8,49211.2,29345.2,40085.8,41577.5,41313.4,33726.4,33350.5,39920.5,45266.0,39590.2,43949.6,43763.6,39133.0,46882.4,26548.8,48379.6,36105.6,27153.9,47287.9,40397.8,37249.9,39683.6,46269.3,21962.9,26090.9,37743.8,24235.0,40727.0,44752.9,48674.3,37295.7,40980.8,34541.2,34943.5,45960.2,45851.9,36673.7,47976.2,45157.6,38011.4,43671.8,37336.0,36144.9,47646.3,42374.8,40725.5,27554.5,36949.1,49973.7,49513.9,39486.6,36134.0,30381.7,36333.5,38020.0,23907.6,37370.1,45763.4,43308.8,34377.4,36728.1,37793.1,41645.5,44340.6,44850.7,20256.8,49000.0,22894.0,44429.3,43183.0,49622.3,41505.9,39495.1,48985.2,20139.5,31519.4,28471.9,38537.5,44001.6,28478.0,45547.8,44886.3,39641.0,36668.9,35148.5,49233.4,24129.2,43805.9,23343.7,42129.1,35098.3,45403.7,47770.4,32920.0,39497.0,39917.7,42320.2,38941.5,39311.1,20912.0,34509.1,34053.9,36686.2,45732.3,47061.7,37602.7,33470.7,46410.8,20688.2,21925.9,32426.4,23347.1,40629.9,39518.0,37621.5,47609.9,22142.4,34509.3,31022.4,36945.3,48656.8,37228.8,28743.6,42539.8,40371.2,43842.8,36260.2,37754.3,25125.1,28323.8,37305.2,21302.2,37539.2,27556.7,43689.2,37576.3,43988.1,26835.1,36423.5,37113.1,43268.2,41367.0,36206.3,43272.5,47237.8,33618.7,37178.5,40228.3,49137.3,48662.1,38320.5,48679.1,49114.2,36942.8,36962.7,49486.4,45113.5,29601.3,42560.0,47489.7,43924.2,31997.6,44539.1,33973.6,28625.1,27506.7,42627.3,38887.9,46541.5,44529.2,44072.9,31459.1,46677.2,39973.8,34837.6,39341.1,44170.3,29328.4,43502.8,40947.7,28213.1,36519.1,32854.9,23950.3,37136.1,36863.0,23740.1,27495.1,36926.0,38499.6,41902.8,26384.0,45585.7,36084.3,47005.0,45864.2,43865.0,47526.4,37965.0,42659.2,41237.2,23426.5,41587.1,31336.3,40648.2,25096.4,28672.4,43163.5,39238.7,33348.7,41329.1,20095.0,34559.2,46082.7,30197.7,20918.0,22312.1,33847.9,37301.3,46547.8,38349.0,20023.4,30357.4,45074.5,29057.3,46240.1,43306.0,39242.3,39984.9,40858.5,44388.8,47049.0,36915.5,46547.9,40093.6,40384.7,40503.9,36667.2,47250.3,32581.5,40020.5,41381.8,21676.0,39625.4,28966.0,36625.3,33780.8,39776.8,29471.8,40118.8,25256.4,33394.8,34619.8,39165.2,23749.4,46194.0,22337.2,43235.3,36733.3,28211.6,47519.3,28238.4,48642.0,43287.0,30136.2,47443.4,40516.1,40128.6,36432.8,47672.8,30623.3,44077.9,46826.6,21728.5,47600.6,34472.6,23462.5,48713.3,39491.0,41007.5,28010.7,28277.2,21843.3,46342.1,43713.5,38544.0,34764.7,36517.7,47645.8,41650.9,29616.5,49052.9,28365.7,24390.2,39739.8,45700.7,49284.7,37722.9,44844.8,49313.3,48307.2,39976.2,30866.3,20341.7,35701.2,38776.1,36711.2,29779.1,33941.2,38063.2,27922.9,45026.3,28730.9,25061.6,26220.6,20693.8,32541.7,41903.8,39871.8,24137.4,40384.8,40663.2,29104.0,34428.5,46099.8,36271.1,32461.6,20275.3,37801.5,36829.9,45488.5,27708.6,41612.7,48099.6,37353.2,38810.8,37199.6,42521.9,44624.9,20632.9,20519.0,48326.4,31928.8,48558.0,29348.5,42516.7,20600.4,35175.5,40352.5,25388.7,37396.3,40723.0,48909.4,42099.3,27963.8,32507.4,45773.7,30695.9,36594.9,36093.2,23825.5,36975.7,42440.9,25308.1,22872.1,37925.4,45850.8,24145.2,45499.1,39286.5,47236.0,38347.2,47427.1,37028.1,40307.7,39452.5,41763.3,23015.5,36638.9,43672.5,43369.2,32263.2,37870.8,36161.3,31174.8,44335.9,48465.6,32506.2,43992.6,44777.6,44565.7,36202.0,41753.0,43699.4,31929.8,26018.1,37232.9,39536.5,40950.8,40214.6,40525.7,21084.5,39445.2,25976.6,32391.4,41919.6,31856.7,38823.0,34785.4,44497.8,28111.6,46166.6,47127.2,42449.4,37272.2,25436.6,46383.1,34255.4,47343.9,48170.9,44439.4,47534.4,40048.0,37686.9,38230.5,25497.7,41348.6,23642.4,25773.6,36740.6,35535.8,23581.5,33218.7,38220.6,32745.5,49106.2,38161.4,23104.0,37858.9,40080.1,46449.5,27635.9,43963.2,43815.0,41191.7,28154.0,22436.8,25569.2,44606.3,49031.0,47782.8,43901.2,35591.1,32734.9,26348.0,40216.1,40809.6,36253.4,23112.1,45880.3,39758.0,36877.4,42325.1,40684.7,20958.3,37923.9,34664.7,33381.4,45622.6,49400.4,22957.7,37389.1,39279.2,29380.5,38987.3,47415.5,34567.3,25938.6,34555.0,22768.4,42538.9,35183.6,43874.9,23330.2,30498.5,41757.9,28262.3,24432.7,31619.0,46387.8,43881.3,32775.1,35741.8,41454.3,42308.9,38966.9,31862.7,30164.3,38785.8,36205.8,26324.2,31240.9,39631.9,49164.3,26565.1,39063.0,43631.8,44031.2,38279.6,34927.4,40726.3,31987.2,26990.8,29970.2,46013.4,37769.2,40020.4,38809.6,40811.9,48879.7,20520.8,25136.5,36467.2,48735.3,46348.8,38450.2,39991.4,40598.8,42880.3,46962.8,40230.1,39197.6,39849.7,37256.6,39594.6,27499.6,40721.1,29839.5,34131.4,38658.2,34644.7,42967.3,48455.5,36076.8,41488.0,41848.2,25192.2,35476.6,36994.8,37227.1,45197.4,22454.6,25524.6,38483.2,47562.2,44852.9,42639.3,20181.6,38687.3,37175.3,43516.6,38819.5,28205.3,33613.3,44371.6,29828.3,36831.6,39980.8,22402.1,48958.7,39028.9,22101.7,38375.7,42648.2,33421.2,41353.9,36556.4,33613.4,39728.8,39597.5,26461.4,36185.5,43506.9,47819.7,48484.1,30149.2,39312.5,46918.7,37265.7,32737.1,29400.1,40544.8,40975.7,42494.6,40615.2,30460.8,28197.0,41965.3,43988.4,36601.5,41218.8,26780.1,41774.5,37073.8,31502.9,49093.2,46064.3,24181.1,36828.4,37607.0,29705.8,32514.3,37763.5,31510.8,37154.7,31265.7,24985.0,23803.1,39466.0,33097.8,38444.2,47677.1,49586.0,34524.5,38831.1,42478.8,46990.4,27176.8,38811.5,42652.4,42753.1,47760.6,41422.4,48377.5,34683.8,39461.1,45326.3,38448.2,28799.0,36243.8,29843.7,29912.6,38596.0,28100.7,33162.7,22070.4,43282.2,37626.7,42076.8,38281.0,33806.3,44041.8,36196.7,28666.0,49735.6,22852.2,47924.5,37498.0,47265.5,38607.0,42689.4,30395.4,23628.7,37604.7,40294.5,41744.1,27789.7,38809.3,41686.1,39367.9,39430.9,30429.2,29105.0,24724.3,28915.4,38145.7,29343.2,39658.7,44915.6,39907.4,29609.8,47700.1,40585.1,39613.4,38490.8,36045.4,26798.3,31219.2,39506.5,37734.9,41681.8,38326.5,48458.6,48563.0,49072.4,37527.6,41276.3,36656.4,43522.0,41989.7,43971.5,36962.9,36847.2,38593.3,24643.2,36010.6,32054.5,41988.3,36546.8,37116.2,40407.9,21252.2,24314.6,29901.9,37359.3,29181.9,48360.1,36294.1,25807.2,44583.8,42229.3,38563.1,29752.2,48976.7,41679.5,40733.0,42094.2,49039.1,41623.1,40802.8,28516.9,44439.5,34960.2,46271.9,35640.2,46237.3,23190.8,39738.4,41071.6,35385.1,25793.7,24187.5,43325.2,45395.0,37365.5,40831.4,44807.6,49633.9,33022.8,41418.7,21611.0,34732.0,24081.0,47507.2,29955.9,26399.0,21980.9,41276.6,39284.5,28887.4,30807.6,38693.3,34988.8,28502.4,24031.4,40378.3,34795.4,41232.2,39587.1,47292.1,40893.3,23482.9,20205.3,34881.6,29527.7,37630.2,34229.3,29180.4,44959.8,44173.4,23675.3,33017.9,38475.7,21686.5,20112.0,28933.7,40671.0,42217.1,49741.1,41585.6,47498.5,45043.8,20331.3,36251.5,38081.3,46329.9,45640.4,36125.4,42188.2,46869.6,37591.7,22431.4,42652.6,38085.8,42475.5,40316.1,43667.1,28830.9,23362.5,46817.7,39518.4,34375.7,39397.8,20388.3,24550.6,36254.1,39587.1,37765.1,21181.6,39713.6,31916.4,40628.4,46781.4,40527.3,49379.9,43934.6,43025.9,38418.3,47664.3,27845.7,41380.3,46952.5,43828.4,46489.4,40079.7,36512.2,37021.6,24594.6,48394.3,38216.3,28245.3,20279.2,39203.6,33317.9,29124.1,46269.2,47127.6,30516.1,42086.7,39955.6,41947.4,47217.5,31819.6,44169.6,38548.8,38135.9,23153.8,31881.9,38457.2,38102.0,35541.6,37613.6,24962.5,45696.7,47342.0,33205.8,39815.6,45424.4,41725.0,36698.1,30358.6,46261.4,32160.5,48005.1,49956.9,49233.4,36600.4,47079.4,43216.2,45531.2,38425.9,23803.5,44395.4,44612.4,49646.7,47525.5,21702.3,49588.6,44557.7,38883.2,46349.3,41530.5,38602.1,49317.4,37097.6,40700.7,46410.3,47140.9,46654.5,44423.2,24832.9,46061.5],\"type\":\"scatter3d\"}],                        {\"template\":{\"data\":{\"histogram2dcontour\":[{\"type\":\"histogram2dcontour\",\"colorbar\":{\"outlinewidth\":0,\"ticks\":\"\"},\"colorscale\":[[0.0,\"#0d0887\"],[0.1111111111111111,\"#46039f\"],[0.2222222222222222,\"#7201a8\"],[0.3333333333333333,\"#9c179e\"],[0.4444444444444444,\"#bd3786\"],[0.5555555555555556,\"#d8576b\"],[0.6666666666666666,\"#ed7953\"],[0.7777777777777778,\"#fb9f3a\"],[0.8888888888888888,\"#fdca26\"],[1.0,\"#f0f921\"]]}],\"choropleth\":[{\"type\":\"choropleth\",\"colorbar\":{\"outlinewidth\":0,\"ticks\":\"\"}}],\"histogram2d\":[{\"type\":\"histogram2d\",\"colorbar\":{\"outlinewidth\":0,\"ticks\":\"\"},\"colorscale\":[[0.0,\"#0d0887\"],[0.1111111111111111,\"#46039f\"],[0.2222222222222222,\"#7201a8\"],[0.3333333333333333,\"#9c179e\"],[0.4444444444444444,\"#bd3786\"],[0.5555555555555556,\"#d8576b\"],[0.6666666666666666,\"#ed7953\"],[0.7777777777777778,\"#fb9f3a\"],[0.8888888888888888,\"#fdca26\"],[1.0,\"#f0f921\"]]}],\"heatmap\":[{\"type\":\"heatmap\",\"colorbar\":{\"outlinewidth\":0,\"ticks\":\"\"},\"colorscale\":[[0.0,\"#0d0887\"],[0.1111111111111111,\"#46039f\"],[0.2222222222222222,\"#7201a8\"],[0.3333333333333333,\"#9c179e\"],[0.4444444444444444,\"#bd3786\"],[0.5555555555555556,\"#d8576b\"],[0.6666666666666666,\"#ed7953\"],[0.7777777777777778,\"#fb9f3a\"],[0.8888888888888888,\"#fdca26\"],[1.0,\"#f0f921\"]]}],\"heatmapgl\":[{\"type\":\"heatmapgl\",\"colorbar\":{\"outlinewidth\":0,\"ticks\":\"\"},\"colorscale\":[[0.0,\"#0d0887\"],[0.1111111111111111,\"#46039f\"],[0.2222222222222222,\"#7201a8\"],[0.3333333333333333,\"#9c179e\"],[0.4444444444444444,\"#bd3786\"],[0.5555555555555556,\"#d8576b\"],[0.6666666666666666,\"#ed7953\"],[0.7777777777777778,\"#fb9f3a\"],[0.8888888888888888,\"#fdca26\"],[1.0,\"#f0f921\"]]}],\"contourcarpet\":[{\"type\":\"contourcarpet\",\"colorbar\":{\"outlinewidth\":0,\"ticks\":\"\"}}],\"contour\":[{\"type\":\"contour\",\"colorbar\":{\"outlinewidth\":0,\"ticks\":\"\"},\"colorscale\":[[0.0,\"#0d0887\"],[0.1111111111111111,\"#46039f\"],[0.2222222222222222,\"#7201a8\"],[0.3333333333333333,\"#9c179e\"],[0.4444444444444444,\"#bd3786\"],[0.5555555555555556,\"#d8576b\"],[0.6666666666666666,\"#ed7953\"],[0.7777777777777778,\"#fb9f3a\"],[0.8888888888888888,\"#fdca26\"],[1.0,\"#f0f921\"]]}],\"surface\":[{\"type\":\"surface\",\"colorbar\":{\"outlinewidth\":0,\"ticks\":\"\"},\"colorscale\":[[0.0,\"#0d0887\"],[0.1111111111111111,\"#46039f\"],[0.2222222222222222,\"#7201a8\"],[0.3333333333333333,\"#9c179e\"],[0.4444444444444444,\"#bd3786\"],[0.5555555555555556,\"#d8576b\"],[0.6666666666666666,\"#ed7953\"],[0.7777777777777778,\"#fb9f3a\"],[0.8888888888888888,\"#fdca26\"],[1.0,\"#f0f921\"]]}],\"mesh3d\":[{\"type\":\"mesh3d\",\"colorbar\":{\"outlinewidth\":0,\"ticks\":\"\"}}],\"scatter\":[{\"fillpattern\":{\"fillmode\":\"overlay\",\"size\":10,\"solidity\":0.2},\"type\":\"scatter\"}],\"parcoords\":[{\"type\":\"parcoords\",\"line\":{\"colorbar\":{\"outlinewidth\":0,\"ticks\":\"\"}}}],\"scatterpolargl\":[{\"type\":\"scatterpolargl\",\"marker\":{\"colorbar\":{\"outlinewidth\":0,\"ticks\":\"\"}}}],\"bar\":[{\"error_x\":{\"color\":\"#2a3f5f\"},\"error_y\":{\"color\":\"#2a3f5f\"},\"marker\":{\"line\":{\"color\":\"#E5ECF6\",\"width\":0.5},\"pattern\":{\"fillmode\":\"overlay\",\"size\":10,\"solidity\":0.2}},\"type\":\"bar\"}],\"scattergeo\":[{\"type\":\"scattergeo\",\"marker\":{\"colorbar\":{\"outlinewidth\":0,\"ticks\":\"\"}}}],\"scatterpolar\":[{\"type\":\"scatterpolar\",\"marker\":{\"colorbar\":{\"outlinewidth\":0,\"ticks\":\"\"}}}],\"histogram\":[{\"marker\":{\"pattern\":{\"fillmode\":\"overlay\",\"size\":10,\"solidity\":0.2}},\"type\":\"histogram\"}],\"scattergl\":[{\"type\":\"scattergl\",\"marker\":{\"colorbar\":{\"outlinewidth\":0,\"ticks\":\"\"}}}],\"scatter3d\":[{\"type\":\"scatter3d\",\"line\":{\"colorbar\":{\"outlinewidth\":0,\"ticks\":\"\"}},\"marker\":{\"colorbar\":{\"outlinewidth\":0,\"ticks\":\"\"}}}],\"scattermapbox\":[{\"type\":\"scattermapbox\",\"marker\":{\"colorbar\":{\"outlinewidth\":0,\"ticks\":\"\"}}}],\"scatterternary\":[{\"type\":\"scatterternary\",\"marker\":{\"colorbar\":{\"outlinewidth\":0,\"ticks\":\"\"}}}],\"scattercarpet\":[{\"type\":\"scattercarpet\",\"marker\":{\"colorbar\":{\"outlinewidth\":0,\"ticks\":\"\"}}}],\"carpet\":[{\"aaxis\":{\"endlinecolor\":\"#2a3f5f\",\"gridcolor\":\"white\",\"linecolor\":\"white\",\"minorgridcolor\":\"white\",\"startlinecolor\":\"#2a3f5f\"},\"baxis\":{\"endlinecolor\":\"#2a3f5f\",\"gridcolor\":\"white\",\"linecolor\":\"white\",\"minorgridcolor\":\"white\",\"startlinecolor\":\"#2a3f5f\"},\"type\":\"carpet\"}],\"table\":[{\"cells\":{\"fill\":{\"color\":\"#EBF0F8\"},\"line\":{\"color\":\"white\"}},\"header\":{\"fill\":{\"color\":\"#C8D4E3\"},\"line\":{\"color\":\"white\"}},\"type\":\"table\"}],\"barpolar\":[{\"marker\":{\"line\":{\"color\":\"#E5ECF6\",\"width\":0.5},\"pattern\":{\"fillmode\":\"overlay\",\"size\":10,\"solidity\":0.2}},\"type\":\"barpolar\"}],\"pie\":[{\"automargin\":true,\"type\":\"pie\"}]},\"layout\":{\"autotypenumbers\":\"strict\",\"colorway\":[\"#636efa\",\"#EF553B\",\"#00cc96\",\"#ab63fa\",\"#FFA15A\",\"#19d3f3\",\"#FF6692\",\"#B6E880\",\"#FF97FF\",\"#FECB52\"],\"font\":{\"color\":\"#2a3f5f\"},\"hovermode\":\"closest\",\"hoverlabel\":{\"align\":\"left\"},\"paper_bgcolor\":\"white\",\"plot_bgcolor\":\"#E5ECF6\",\"polar\":{\"bgcolor\":\"#E5ECF6\",\"angularaxis\":{\"gridcolor\":\"white\",\"linecolor\":\"white\",\"ticks\":\"\"},\"radialaxis\":{\"gridcolor\":\"white\",\"linecolor\":\"white\",\"ticks\":\"\"}},\"ternary\":{\"bgcolor\":\"#E5ECF6\",\"aaxis\":{\"gridcolor\":\"white\",\"linecolor\":\"white\",\"ticks\":\"\"},\"baxis\":{\"gridcolor\":\"white\",\"linecolor\":\"white\",\"ticks\":\"\"},\"caxis\":{\"gridcolor\":\"white\",\"linecolor\":\"white\",\"ticks\":\"\"}},\"coloraxis\":{\"colorbar\":{\"outlinewidth\":0,\"ticks\":\"\"}},\"colorscale\":{\"sequential\":[[0.0,\"#0d0887\"],[0.1111111111111111,\"#46039f\"],[0.2222222222222222,\"#7201a8\"],[0.3333333333333333,\"#9c179e\"],[0.4444444444444444,\"#bd3786\"],[0.5555555555555556,\"#d8576b\"],[0.6666666666666666,\"#ed7953\"],[0.7777777777777778,\"#fb9f3a\"],[0.8888888888888888,\"#fdca26\"],[1.0,\"#f0f921\"]],\"sequentialminus\":[[0.0,\"#0d0887\"],[0.1111111111111111,\"#46039f\"],[0.2222222222222222,\"#7201a8\"],[0.3333333333333333,\"#9c179e\"],[0.4444444444444444,\"#bd3786\"],[0.5555555555555556,\"#d8576b\"],[0.6666666666666666,\"#ed7953\"],[0.7777777777777778,\"#fb9f3a\"],[0.8888888888888888,\"#fdca26\"],[1.0,\"#f0f921\"]],\"diverging\":[[0,\"#8e0152\"],[0.1,\"#c51b7d\"],[0.2,\"#de77ae\"],[0.3,\"#f1b6da\"],[0.4,\"#fde0ef\"],[0.5,\"#f7f7f7\"],[0.6,\"#e6f5d0\"],[0.7,\"#b8e186\"],[0.8,\"#7fbc41\"],[0.9,\"#4d9221\"],[1,\"#276419\"]]},\"xaxis\":{\"gridcolor\":\"white\",\"linecolor\":\"white\",\"ticks\":\"\",\"title\":{\"standoff\":15},\"zerolinecolor\":\"white\",\"automargin\":true,\"zerolinewidth\":2},\"yaxis\":{\"gridcolor\":\"white\",\"linecolor\":\"white\",\"ticks\":\"\",\"title\":{\"standoff\":15},\"zerolinecolor\":\"white\",\"automargin\":true,\"zerolinewidth\":2},\"scene\":{\"xaxis\":{\"backgroundcolor\":\"#E5ECF6\",\"gridcolor\":\"white\",\"linecolor\":\"white\",\"showbackground\":true,\"ticks\":\"\",\"zerolinecolor\":\"white\",\"gridwidth\":2},\"yaxis\":{\"backgroundcolor\":\"#E5ECF6\",\"gridcolor\":\"white\",\"linecolor\":\"white\",\"showbackground\":true,\"ticks\":\"\",\"zerolinecolor\":\"white\",\"gridwidth\":2},\"zaxis\":{\"backgroundcolor\":\"#E5ECF6\",\"gridcolor\":\"white\",\"linecolor\":\"white\",\"showbackground\":true,\"ticks\":\"\",\"zerolinecolor\":\"white\",\"gridwidth\":2}},\"shapedefaults\":{\"line\":{\"color\":\"#2a3f5f\"}},\"annotationdefaults\":{\"arrowcolor\":\"#2a3f5f\",\"arrowhead\":0,\"arrowwidth\":1},\"geo\":{\"bgcolor\":\"white\",\"landcolor\":\"#E5ECF6\",\"subunitcolor\":\"white\",\"showland\":true,\"showlakes\":true,\"lakecolor\":\"white\"},\"title\":{\"x\":0.05},\"mapbox\":{\"style\":\"light\"}}},\"scene\":{\"domain\":{\"x\":[0.0,1.0],\"y\":[0.0,1.0]},\"xaxis\":{\"title\":{\"text\":\"Puntaje crediticio\"}},\"yaxis\":{\"title\":{\"text\":\"Ingresos mensuales (USD)\"}},\"zaxis\":{\"title\":{\"text\":\"Monto del pr\\u00e9stamo (USD)\"}}},\"coloraxis\":{\"colorbar\":{\"title\":{\"text\":\"\\u00bfDefault\\u002fNo default?\"}},\"colorscale\":[[0.0,\"#0d0887\"],[0.1111111111111111,\"#46039f\"],[0.2222222222222222,\"#7201a8\"],[0.3333333333333333,\"#9c179e\"],[0.4444444444444444,\"#bd3786\"],[0.5555555555555556,\"#d8576b\"],[0.6666666666666666,\"#ed7953\"],[0.7777777777777778,\"#fb9f3a\"],[0.8888888888888888,\"#fdca26\"],[1.0,\"#f0f921\"]]},\"legend\":{\"tracegroupgap\":0},\"margin\":{\"t\":60}},                        {\"responsive\": true}                    ).then(function(){\n",
              "                            \n",
              "var gd = document.getElementById('b79094df-dc0b-4a6c-9ea7-f1a7c6527c6d');\n",
              "var x = new MutationObserver(function (mutations, observer) {{\n",
              "        var display = window.getComputedStyle(gd).display;\n",
              "        if (!display || display === 'none') {{\n",
              "            console.log([gd, 'removed!']);\n",
              "            Plotly.purge(gd);\n",
              "            observer.disconnect();\n",
              "        }}\n",
              "}});\n",
              "\n",
              "// Listen for the removal of the full notebook cells\n",
              "var notebookContainer = gd.closest('#notebook-container');\n",
              "if (notebookContainer) {{\n",
              "    x.observe(notebookContainer, {childList: true});\n",
              "}}\n",
              "\n",
              "// Listen for the clearing of the current output cell\n",
              "var outputEl = gd.closest('.output');\n",
              "if (outputEl) {{\n",
              "    x.observe(outputEl, {childList: true});\n",
              "}}\n",
              "\n",
              "                        })                };                            </script>        </div>\n",
              "</body>\n",
              "</html>"
            ]
          },
          "metadata": {}
        }
      ]
    },
    {
      "cell_type": "markdown",
      "source": [
        "##3. ¿Qué es el escalamiento de los datos?\n",
        "\n",
        "> El escalamiento consiste en hacer que cada variable(columna) tenga aproximadamente **el mismo rango de valores**.\n",
        "\n",
        "Por ejemplo, si antes del escalamiento tenemos:\n",
        "\n",
        "- `Puntaje crediticio`: [0.0 - 7.5]\n",
        "- `Ingresos mensuales`: [1.4 - 6997.8]\n",
        "- `Monto del préstamo`: [20023.4 - 49991.1]\n",
        "\n",
        "Después del escalamiento podríamos tener:\n",
        "\n",
        "- Todas las variables entre 0 y 1 (normalización)\n",
        "- Todas las variables con valores promedio de 0 y desviaciones estándar de 1 (estandarización)"
      ],
      "metadata": {
        "id": "oGVDM7tYO4rO"
      }
    },
    {
      "cell_type": "markdown",
      "source": [
        "## 4. Funciones requeridas\n",
        "\n",
        "Para introducir los datos a cada modelo necesitaremos:\n",
        "\n",
        "1. obtener las entradas (`X`) y salida (`Y`) del modelo a partir del set de datos original\n",
        "2. crear los sets de entrenamiento, validación y prueba a partir de `X` y `Y`\n",
        "\n",
        "Además, para entrenar y validar cada modelo con los datos escalados necesitaremos crear una función para ESCALAR los datos.\n"
      ],
      "metadata": {
        "id": "SKPYMJ5T92EA"
      }
    },
    {
      "cell_type": "code",
      "source": [
        "# Obtén los vectores X(características) e Y(target)\n",
        "## A COMPLETAR\n",
        "\n",
        "# Importar la librería pandas\n",
        "import pandas as pd\n",
        "\n",
        "# Suponiendo que 'df' es tu DataFrame con los datos\n",
        "X = df.drop(columns=['¿Default/No default?'])  # Características (todas las columnas excepto la de default)\n",
        "Y = df['¿Default/No default?']  # Variable objetivo (columna de default)"
      ],
      "metadata": {
        "id": "Dh8VGZsBjxwT"
      },
      "execution_count": null,
      "outputs": []
    },
    {
      "cell_type": "code",
      "source": [
        "from sklearn.model_selection import train_test_split\n",
        "\n",
        "# Dividir datos en entrenamiento y prueba (85% para entrenamiento y 15% para prueba)\n",
        "x_train, x_test, y_train, y_test = train_test_split(X, Y, test_size=0.15, random_state=42)\n",
        "\n",
        "# Dividir datos de entrenamiento en entrenamiento y validación (70% para entrenamiento y 15% para validación)\n",
        "x_train, x_val, y_train, y_val = train_test_split(x_train, y_train, test_size=0.1765, random_state=42)  # 0.15 / (1 - 0.15)\n",
        "\n",
        "# Verificar las formas de los conjuntos\n",
        "print(x_train.shape, y_train.shape)\n",
        "print(x_val.shape, y_val.shape)\n",
        "print(x_test.shape, y_test.shape)\n"
      ],
      "metadata": {
        "id": "XCZohe-dkVNj",
        "colab": {
          "base_uri": "https://localhost:8080/"
        },
        "outputId": "495c4d7d-ea1b-46d3-a927-309ab83f8112"
      },
      "execution_count": null,
      "outputs": [
        {
          "output_type": "stream",
          "name": "stdout",
          "text": [
            "(3767, 3) (3767,)\n",
            "(808, 3) (808,)\n",
            "(808, 3) (808,)\n"
          ]
        }
      ]
    },
    {
      "cell_type": "code",
      "source": [
        "from sklearn.preprocessing import MinMaxScaler\n",
        "# Haremos escalamiento entre 0 y 1 (normalización)\n",
        "\n",
        "def escalar_datos(xtr, xvl, xts):\n",
        "    '''Escalar datos de entrada (entrenamiento, validación y prueba)\n",
        "    en el rango de 0 a 1'''\n",
        "    scaler = MinMaxScaler()\n",
        "\n",
        "    # Fit + transform sobre el set de entrenamiento\n",
        "    xtr_s = scaler.fit_transform(xtr)\n",
        "\n",
        "    # Transform sobre prueba y validación\n",
        "    xvl_s = scaler.transform(xvl)\n",
        "    xts_s = scaler.transform(xts)\n",
        "\n",
        "    return xtr_s, xvl_s, xts_s\n",
        "\n",
        "# Ejecutar la función\n",
        "x_train_s, x_val_s, x_test_s = escalar_datos(x_train, x_val, x_test)\n",
        "\n",
        "# Verificar\n",
        "print(x_train_s.min(axis=0),x_train_s.max(axis=0))\n",
        "print(x_val_s.min(axis=0),x_val_s.max(axis=0))\n",
        "print(x_test_s.min(axis=0),x_test_s.max(axis=0))"
      ],
      "metadata": {
        "id": "UjoleP1_ku4x",
        "colab": {
          "base_uri": "https://localhost:8080/"
        },
        "outputId": "d0703d90-e3e1-4727-b6be-db7922b2fd7f"
      },
      "execution_count": null,
      "outputs": [
        {
          "output_type": "stream",
          "name": "stdout",
          "text": [
            "[0. 0. 0.] [1. 1. 1.]\n",
            "[0.         0.00071465 0.00060065] [1.         0.99995712 0.99845834]\n",
            "[0.         0.00663198 0.00173186] [1.         1.         0.99981313]\n"
          ]
        }
      ]
    },
    {
      "cell_type": "markdown",
      "source": [
        "Ya tenemos las funciones básicas requeridas. Ahora sí veamos el efecto que tiene el escalamiento en diferentes tipos de modelos."
      ],
      "metadata": {
        "id": "FLA9K4A9QHom"
      }
    },
    {
      "cell_type": "markdown",
      "source": [
        "##5. Efecto del escalamiento en diferentes modelos de *Machine Learning*\n",
        "\n",
        "En este experimento probaremos con dos tipos de modelos:\n",
        "\n",
        "1. Un árbol de clasificación, que es \"inmune\" al escalamiento\n",
        "2. Un clasificador kNN (*k-nearest neighbors*) que es sensible al escalamiento\n",
        "3. SVM\n",
        "\n",
        "Veamos el efecto que el escalamiento tiene sobre estos dos tipos de modelos:"
      ],
      "metadata": {
        "id": "vwAW9JVvQNtb"
      }
    },
    {
      "cell_type": "markdown",
      "source": [
        "###5.1. Árboles de clasificación\n",
        "\n",
        "> En los árboles de clasificación (y los árboles de regresión y los bosques aleatorios) **el desempeño es el mismo con o sin escalamiento de los datos**.\n",
        "\n",
        "Lo anterior se debe a que al momento de clasificar (o predecir un dato numérico) internamente los árboles/bosques calculan umbrales que están dados en la escala en la que se encuentren los datos:\n",
        "\n",
        "![](https://drive.google.com/uc?export=view&id=1FhtonygNk7DfSoVooMQQGjoQGYQlXqJh\n",
        ")\n",
        "\n",
        "Como el umbral se desplaza en la misma proporción que lo hace el escalamiento, todos estos modelos tendrán el mismo desempeño.\n",
        "\n",
        "Verifiquemos esto con nuestro set de datos.\n",
        "\n",
        "Creemos una función para entrenar y evaluar un sencillo árbol de clasificación:"
      ],
      "metadata": {
        "id": "IugtQoQ0HWsI"
      }
    },
    {
      "cell_type": "code",
      "source": [
        "from sklearn.tree import DecisionTreeClassifier\n",
        "from sklearn.metrics import accuracy_score\n",
        "\n",
        "def entrenar_evaluar_arbol(x_train, y_train, x_val, y_val):\n",
        "    # Crear y entrenar el árbol de clasificación sin escalar los datos\n",
        "    tree_clf = DecisionTreeClassifier(random_state=42)\n",
        "    tree_clf.fit(x_train, y_train)\n",
        "\n",
        "    # Predecir en el conjunto de validación sin escalar\n",
        "    y_pred = tree_clf.predict(x_val)\n",
        "\n",
        "    # Calcular la precisión sin escalar\n",
        "    accuracy = accuracy_score(y_val, y_pred)\n",
        "    print(\"Precisión sin escalar:\", accuracy)\n",
        "\n",
        "    # Crear y entrenar el árbol de clasificación con datos escalados\n",
        "    tree_clf_scaled = DecisionTreeClassifier(random_state=42)\n",
        "    tree_clf_scaled.fit(x_train_s, y_train)\n",
        "\n",
        "    # Predecir en el conjunto de validación con datos escalados\n",
        "    y_pred_scaled = tree_clf_scaled.predict(x_val_s)\n",
        "\n",
        "    # Calcular la precisión con datos escalados\n",
        "    accuracy_scaled = accuracy_score(y_val, y_pred_scaled)\n",
        "    print(\"Precisión con escalamiento:\", accuracy_scaled)\n",
        "\n",
        "# Llamar a la función con los conjuntos de datos escalados y sin escalar\n",
        "entrenar_evaluar_arbol(x_train, y_train, x_val, y_val)\n"
      ],
      "metadata": {
        "id": "aWmgzcHAH8WU",
        "colab": {
          "base_uri": "https://localhost:8080/"
        },
        "outputId": "760b349f-32e6-4ded-9023-db508c926473"
      },
      "execution_count": null,
      "outputs": [
        {
          "output_type": "stream",
          "name": "stdout",
          "text": [
            "Precisión sin escalar: 0.9764851485148515\n",
            "Precisión con escalamiento: 0.9764851485148515\n"
          ]
        }
      ]
    },
    {
      "cell_type": "markdown",
      "source": [
        "\n",
        "Dado que la precisión del árbol de clasificación en el conjunto de validación es idéntica tanto con los datos sin escalar como con los datos escalados, podemos deducir que en este caso específico el escalado de datos no tuvo ningún impacto en el desempeño del modelo. Esto confirma lo que mencionamos anteriormente: los árboles de clasificación (y los árboles de regresión y los bosques aleatorios) son \"inmunes\" al escalamiento de los datos."
      ],
      "metadata": {
        "id": "MYJFuIh0Hd8T"
      }
    },
    {
      "cell_type": "markdown",
      "source": [
        "###5.2. Clasificador kNN (*k-nearest neighbors*)\n",
        "\n",
        "> En los clasificadores kNN **el desempeño NO necesariamente será el mismo con o sin escalamiento de los datos**.\n",
        "\n",
        "Este clasificador toma el dato a clasificar y calcula su distancia con respecto a la totalidad de los datos. Luego determina la categoría con base en las categorías de los *k* datos más cercanos (con la menor distancia).\n",
        "\n",
        "La clave es la forma como se calculan las distancias entre el punto a clasificar y los demás puntos con categorías conocidas:\n",
        "\n",
        "![](https://drive.google.com/uc?export=view&id=1FkAVal4XEBb6HcpE4IS6yL5N7OEsCuaJ\n",
        ")\n",
        "\n",
        "Si cada característica tiene una escala diferente entonces aquellas características con mayores escalas tendrán un mayor efecto en el valor de la distancia obtenida.\n",
        "\n",
        "Veamos nuevamente este comportamiento para el set de datos que estamos usando.\n",
        "\n",
        "Creemos una función para entrenar y evaluar un clasificador kNN:"
      ],
      "metadata": {
        "id": "6W-1Ui0MJuqq"
      }
    },
    {
      "cell_type": "code",
      "source": [
        "from sklearn.neighbors import KNeighborsClassifier\n",
        "\n",
        "def entrenar_evaluar_knn(x_train, y_train, x_val, y_val):\n",
        "    # Crear y entrenar el clasificador kNN sin escalar los datos\n",
        "    knn_clf = KNeighborsClassifier()\n",
        "    knn_clf.fit(x_train, y_train)\n",
        "\n",
        "    # Predecir en el conjunto de validación sin escalar\n",
        "    y_pred = knn_clf.predict(x_val)\n",
        "\n",
        "    # Calcular la precisión sin escalar\n",
        "    accuracy = accuracy_score(y_val, y_pred)\n",
        "    print(\"Precisión sin escalar:\", accuracy)\n",
        "\n",
        "    # Crear y entrenar el clasificador kNN con datos escalados\n",
        "    knn_clf_scaled = KNeighborsClassifier()\n",
        "    knn_clf_scaled.fit(x_train_s, y_train)\n",
        "\n",
        "    # Predecir en el conjunto de validación con datos escalados\n",
        "    y_pred_scaled = knn_clf_scaled.predict(x_val_s)\n",
        "\n",
        "    # Calcular la precisión con datos escalados\n",
        "    accuracy_scaled = accuracy_score(y_val, y_pred_scaled)\n",
        "    print(\"Precisión con escalamiento:\", accuracy_scaled)\n",
        "\n",
        "# Llamar a la función con los conjuntos de datos escalados y sin escalar\n",
        "entrenar_evaluar_knn(x_train, y_train, x_val, y_val)\n"
      ],
      "metadata": {
        "id": "7yXcfgA7Jv2R",
        "colab": {
          "base_uri": "https://localhost:8080/"
        },
        "outputId": "bba46504-f54b-47e5-bf37-90fb11458085"
      },
      "execution_count": null,
      "outputs": [
        {
          "output_type": "stream",
          "name": "stdout",
          "text": [
            "Precisión sin escalar: 0.9777227722772277\n",
            "Precisión con escalamiento: 0.9727722772277227\n"
          ]
        }
      ]
    },
    {
      "cell_type": "markdown",
      "source": [
        "\n",
        "Dado que la precisión del clasificador kNN en el conjunto de validación es ligeramente menor cuando se utilizan datos escalados en comparación con los datos sin escalar, podemos deducir que en este caso específico el escalamiento de datos ha tenido un impacto negativo en el desempeño del modelo.\n",
        "\n",
        "En resumen, para este caso específico, el escalamiento de datos no es beneficioso y puede incluso reducir ligeramente la precisión del modelo kNN.\n"
      ],
      "metadata": {
        "id": "zqBCq3WvS_AN"
      }
    },
    {
      "cell_type": "markdown",
      "source": [
        "###5.3. Clasificador SVM (*Support Vector Machine*)"
      ],
      "metadata": {
        "id": "mPa48ZQWbSND"
      }
    },
    {
      "cell_type": "markdown",
      "source": [
        "Comprobar ahora como afecta la normalización usando un modelo de SVM"
      ],
      "metadata": {
        "id": "adMxx8iKdaAT"
      }
    },
    {
      "cell_type": "code",
      "source": [
        "from sklearn.svm import SVC\n",
        "\n",
        "def entrenar_evaluar_svm(x_train, y_train, x_val, y_val):\n",
        "    # Crear y entrenar el clasificador SVM sin escalar los datos\n",
        "    svm_clf = SVC()\n",
        "    svm_clf.fit(x_train, y_train)\n",
        "\n",
        "    # Predecir en el conjunto de validación sin escalar\n",
        "    y_pred = svm_clf.predict(x_val)\n",
        "\n",
        "    # Calcular la precisión sin escalar\n",
        "    accuracy = accuracy_score(y_val, y_pred)\n",
        "    print(\"Precisión sin escalar:\", accuracy)\n",
        "\n",
        "    # Crear y entrenar el clasificador SVM con datos escalados\n",
        "    svm_clf_scaled = SVC()\n",
        "    svm_clf_scaled.fit(x_train_s, y_train)\n",
        "\n",
        "    # Predecir en el conjunto de validación con datos escalados\n",
        "    y_pred_scaled = svm_clf_scaled.predict(x_val_s)\n",
        "\n",
        "    # Calcular la precisión con datos escalados\n",
        "    accuracy_scaled = accuracy_score(y_val, y_pred_scaled)\n",
        "    print(\"Precisión con escalamiento:\", accuracy_scaled)\n",
        "\n",
        "# Llamar a la función con los conjuntos de datos escalados y sin escalar\n",
        "entrenar_evaluar_svm(x_train, y_train, x_val, y_val)\n"
      ],
      "metadata": {
        "colab": {
          "base_uri": "https://localhost:8080/"
        },
        "id": "C1GxB6jOIwOy",
        "outputId": "71caecfd-637d-4750-9674-ea76b4558916"
      },
      "execution_count": null,
      "outputs": [
        {
          "output_type": "stream",
          "name": "stdout",
          "text": [
            "Precisión sin escalar: 0.9628712871287128\n",
            "Precisión con escalamiento: 0.9727722772277227\n"
          ]
        }
      ]
    },
    {
      "cell_type": "markdown",
      "source": [
        "Dado que la precisión del clasificador SVM en el conjunto de validación es ligeramente mayor cuando se utilizan datos escalados en comparación con los datos sin escalar, podemos deducir que en este caso específico el escalamiento de datos ha tenido un impacto positivo en el desempeño del modelo."
      ],
      "metadata": {
        "id": "hjKcwdxhI40i"
      }
    },
    {
      "cell_type": "markdown",
      "source": [
        "##6. Conclusiones"
      ],
      "metadata": {
        "id": "YXDljXCNmcf7"
      }
    },
    {
      "cell_type": "markdown",
      "source": [
        "1. **Árboles de Clasificación**: Los árboles de clasificación (y modelos relacionados como los árboles de regresión y los bosques aleatorios) son inmunes al escalamiento de datos. Esto significa que no se observa ninguna mejora en el desempeño al escalar los datos para este tipo de modelo.\n",
        "\n",
        "2. **Clasificador kNN**: El desempeño del clasificador kNN puede variar con el escalamiento de datos. En el caso específico analizado, el escalamiento de datos no proporcionó ninguna mejora y, de hecho, se observó una ligera disminución en la precisión del modelo cuando se aplicó el escalamiento.\n",
        "\n",
        "3. **Clasificador SVM**: El escalamiento de datos tuvo un impacto positivo en el desempeño del clasificador SVM en el caso analizado. Se observó una ligera mejora en la precisión del modelo cuando se utilizaron datos escalados en comparación con datos sin escalar."
      ],
      "metadata": {
        "id": "nvk4_RNMJDB_"
      }
    }
  ]
}