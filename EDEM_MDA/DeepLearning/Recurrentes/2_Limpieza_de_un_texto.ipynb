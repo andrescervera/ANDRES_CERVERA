{
  "nbformat": 4,
  "nbformat_minor": 0,
  "metadata": {
    "colab": {
      "provenance": []
    },
    "kernelspec": {
      "name": "python3",
      "display_name": "Python 3"
    },
    "language_info": {
      "name": "python"
    }
  },
  "cells": [
    {
      "cell_type": "markdown",
      "source": [
        "# Limpieza de un texto\n",
        "\n",
        "En este notebook deberéis utilizar las herramientas vistas para limpiar el siguiente fragmento:\n",
        "\n",
        "“Es relativamente fácil ponerse de acuerdo en que solo “Homo sapiens” puede hablar sobre cosas que no existen realmente, y creerse seis cosas imposibles antes del desayuno. En cambio, ¡nunca convenceremos a un mono para que nos dé un plátano con la promesa de que después de morir tendrá un número ilimitado de bananas a su disposición en el cielo de los monos!”\n"
      ],
      "metadata": {
        "id": "QixPUd5uHMqv"
      }
    },
    {
      "cell_type": "code",
      "source": [
        "texto = 'Es relativamente fácil ponerse de acuerdo en que solo “Homo sapiens” puede hablar sobre cosas que no existen realmente, y creerse seis cosas imposibles antes del desayuno. En cambio, ¡nunca convenceremos a un mono para que nos dé un plátano con la promesa de que después de morir tendrá un número ilimitado de bananas a su disposición en el cielo de los monos!'"
      ],
      "metadata": {
        "id": "PLBl33MCHqHG"
      },
      "execution_count": 1,
      "outputs": []
    },
    {
      "cell_type": "code",
      "source": [
        "print(texto)"
      ],
      "metadata": {
        "colab": {
          "base_uri": "https://localhost:8080/"
        },
        "id": "TA207L4cHrdP",
        "outputId": "a1a14231-3b45-401f-c50f-98830267d88a"
      },
      "execution_count": 2,
      "outputs": [
        {
          "output_type": "stream",
          "name": "stdout",
          "text": [
            "Es relativamente fácil ponerse de acuerdo en que solo “Homo sapiens” puede hablar sobre cosas que no existen realmente, y creerse seis cosas imposibles antes del desayuno. En cambio, ¡nunca convenceremos a un mono para que nos dé un plátano con la promesa de que después de morir tendrá un número ilimitado de bananas a su disposición en el cielo de los monos!\n"
          ]
        }
      ]
    },
    {
      "cell_type": "markdown",
      "source": [
        "Para ello, lo primero que deberéis hacer es utilizar expresiones regulares para eliminar los símbolos de puntuación, etc."
      ],
      "metadata": {
        "id": "SQ-Re3PJHfhF"
      }
    },
    {
      "cell_type": "code",
      "source": [
        "import re\n",
        "# Crear una expresión regular para eliminar símbolos de puntuación y caracteres no deseados\n",
        "pattern = r'[^\\w\\s]'\n",
        "\n",
        "# Usar re.sub para reemplazar los caracteres que coinciden con la expresión regular\n",
        "texto_limpio = re.sub(pattern, '', texto)\n",
        "\n",
        "print(\"\\nTexto limpio:\")\n",
        "print(texto_limpio)"
      ],
      "metadata": {
        "id": "FQ5NePw0HkF9",
        "outputId": "f207a370-56c0-4db4-c0ee-92dbd47909ab",
        "colab": {
          "base_uri": "https://localhost:8080/"
        }
      },
      "execution_count": 3,
      "outputs": [
        {
          "output_type": "stream",
          "name": "stdout",
          "text": [
            "\n",
            "Texto limpio:\n",
            "Es relativamente fácil ponerse de acuerdo en que solo Homo sapiens puede hablar sobre cosas que no existen realmente y creerse seis cosas imposibles antes del desayuno En cambio nunca convenceremos a un mono para que nos dé un plátano con la promesa de que después de morir tendrá un número ilimitado de bananas a su disposición en el cielo de los monos\n"
          ]
        }
      ]
    },
    {
      "cell_type": "markdown",
      "source": [
        "A continuación, tenemos que convertir el texto a minúsculas:"
      ],
      "metadata": {
        "id": "EpHXy9LaHt18"
      }
    },
    {
      "cell_type": "code",
      "source": [
        "# Convertir el texto limpio a minúsculas\n",
        "texto_limpio_minusculas = texto_limpio.lower()\n",
        "\n",
        "print(\"\\nTexto limpio y en minúsculas:\")\n",
        "print(texto_limpio_minusculas)"
      ],
      "metadata": {
        "id": "c8nsuU31ISMD",
        "outputId": "a26b744a-d3d5-4016-b03a-7a2655e0151f",
        "colab": {
          "base_uri": "https://localhost:8080/"
        }
      },
      "execution_count": 4,
      "outputs": [
        {
          "output_type": "stream",
          "name": "stdout",
          "text": [
            "\n",
            "Texto limpio y en minúsculas:\n",
            "es relativamente fácil ponerse de acuerdo en que solo homo sapiens puede hablar sobre cosas que no existen realmente y creerse seis cosas imposibles antes del desayuno en cambio nunca convenceremos a un mono para que nos dé un plátano con la promesa de que después de morir tendrá un número ilimitado de bananas a su disposición en el cielo de los monos\n"
          ]
        }
      ]
    },
    {
      "cell_type": "markdown",
      "source": [
        "Y eliminar los acentos:"
      ],
      "metadata": {
        "id": "bq95ICPMIVXg"
      }
    },
    {
      "cell_type": "code",
      "execution_count": 8,
      "metadata": {
        "id": "J1hBTvsUHKjW",
        "outputId": "8e03f980-0e7a-4899-e37b-60aa1b27da60",
        "colab": {
          "base_uri": "https://localhost:8080/"
        }
      },
      "outputs": [
        {
          "output_type": "stream",
          "name": "stdout",
          "text": [
            "es relativamente facil ponerse de acuerdo en que solo homo sapiens puede hablar sobre cosas que no existen realmente y creerse seis cosas imposibles antes del desayuno en cambio nunca convenceremos a un mono para que nos de un platano con la promesa de que despues de morir tendra un numero ilimitado de bananas a su disposicion en el cielo de los monos\n"
          ]
        }
      ],
      "source": [
        "import unicodedata\n",
        "def eliminar_acentos(texto):\n",
        "    # Normalizar el texto en la forma NFD (Normalization Form D)\n",
        "    texto_normalizado = unicodedata.normalize('NFD', texto)\n",
        "    # Filtrar los caracteres que no son de composición (excluir los diacríticos)\n",
        "    texto_sin_acentos = ''.join(c for c in texto_normalizado if unicodedata.category(c) != 'Mn')\n",
        "    return texto_sin_acentos\n",
        "\n",
        "texto_final = eliminar_acentos(texto_limpio_minusculas)\n",
        "print (texto_final)"
      ]
    },
    {
      "cell_type": "markdown",
      "source": [
        "Ahora tenemos que dividir el texto en palabras, creando una lista que contenga todas las palabras del texto."
      ],
      "metadata": {
        "id": "Vpk5OZdsIgWN"
      }
    },
    {
      "cell_type": "code",
      "source": [
        "# Dividir el texto en palabras\n",
        "lista_palabras = texto_final.split()\n",
        "\n",
        "print(\"\\nLista de palabras:\")\n",
        "print(lista_palabras)"
      ],
      "metadata": {
        "id": "p_4NXXD5IlBc",
        "outputId": "60d1e302-656b-48e1-ffc2-fa070d4e8b19",
        "colab": {
          "base_uri": "https://localhost:8080/"
        }
      },
      "execution_count": 9,
      "outputs": [
        {
          "output_type": "stream",
          "name": "stdout",
          "text": [
            "\n",
            "Lista de palabras:\n",
            "['es', 'relativamente', 'facil', 'ponerse', 'de', 'acuerdo', 'en', 'que', 'solo', 'homo', 'sapiens', 'puede', 'hablar', 'sobre', 'cosas', 'que', 'no', 'existen', 'realmente', 'y', 'creerse', 'seis', 'cosas', 'imposibles', 'antes', 'del', 'desayuno', 'en', 'cambio', 'nunca', 'convenceremos', 'a', 'un', 'mono', 'para', 'que', 'nos', 'de', 'un', 'platano', 'con', 'la', 'promesa', 'de', 'que', 'despues', 'de', 'morir', 'tendra', 'un', 'numero', 'ilimitado', 'de', 'bananas', 'a', 'su', 'disposicion', 'en', 'el', 'cielo', 'de', 'los', 'monos']\n"
          ]
        }
      ]
    },
    {
      "cell_type": "markdown",
      "source": [
        "Por último, vamos a emplear la librería `nltk` para eliminar las *stop-words*."
      ],
      "metadata": {
        "id": "uJ8rej6fIaSe"
      }
    },
    {
      "cell_type": "code",
      "source": [
        "import nltk\n",
        "from nltk.corpus import stopwords\n",
        "nltk.download('stopwords')\n",
        "# Eliminar las stop-words\n",
        "stop_words = set(stopwords.words('spanish'))\n",
        "lista_palabras_sin_stopwords = [palabra for palabra in lista_palabras if palabra not in stop_words]\n",
        "\n",
        "print(\"\\nLista de palabras sin stop-words:\")\n",
        "print(lista_palabras_sin_stopwords)"
      ],
      "metadata": {
        "id": "YLlSPoPWIZkL",
        "outputId": "81d665f5-e47a-454e-bfed-dd9e8f4fda87",
        "colab": {
          "base_uri": "https://localhost:8080/"
        }
      },
      "execution_count": 10,
      "outputs": [
        {
          "output_type": "stream",
          "name": "stdout",
          "text": [
            "\n",
            "Lista de palabras sin stop-words:\n",
            "['relativamente', 'facil', 'ponerse', 'acuerdo', 'solo', 'homo', 'sapiens', 'puede', 'hablar', 'cosas', 'existen', 'realmente', 'creerse', 'seis', 'cosas', 'imposibles', 'desayuno', 'cambio', 'nunca', 'convenceremos', 'mono', 'platano', 'promesa', 'despues', 'morir', 'tendra', 'numero', 'ilimitado', 'bananas', 'disposicion', 'cielo', 'monos']\n"
          ]
        },
        {
          "output_type": "stream",
          "name": "stderr",
          "text": [
            "[nltk_data] Downloading package stopwords to /root/nltk_data...\n",
            "[nltk_data]   Unzipping corpora/stopwords.zip.\n"
          ]
        }
      ]
    }
  ]
}