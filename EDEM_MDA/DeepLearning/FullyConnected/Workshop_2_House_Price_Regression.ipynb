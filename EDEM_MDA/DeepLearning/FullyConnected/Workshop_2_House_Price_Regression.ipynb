{
  "nbformat": 4,
  "nbformat_minor": 0,
  "metadata": {
    "colab": {
      "provenance": [],
      "gpuType": "T4"
    },
    "kernelspec": {
      "name": "python3",
      "display_name": "Python 3"
    },
    "language_info": {
      "name": "python"
    },
    "accelerator": "GPU"
  },
  "cells": [
    {
      "cell_type": "markdown",
      "source": [
        "# Workshop 2: House Pricing Regression\n",
        "In this workshop you will need to train a regression neural network to estimate the pricing of houses of California. The main blocks of the workshop are:\n",
        "\n",
        "- Get the data from Keras repository and visualize it.\n",
        "- Pre-process the data.\n",
        "- Design the network.\n",
        "- Train the network.\n",
        "- Evaluate the model.\n",
        "\n",
        "[Info of the data](https://www.kaggle.com/datasets/camnugent/california-housing-prices))"
      ],
      "metadata": {
        "id": "82KWdqfX9S9T"
      }
    },
    {
      "cell_type": "code",
      "source": [
        "import pandas as pd\n",
        "from sklearn.preprocessing import StandardScaler\n",
        "\n",
        "import tensorflow as tf\n",
        "from tensorflow.keras.layers import Dense\n",
        "from tensorflow.keras import Sequential\n",
        "from tensorflow.keras.optimizers import Adam\n",
        "from matplotlib import pyplot as plt\n",
        "\n",
        "tf.random.set_seed(1234)"
      ],
      "metadata": {
        "id": "Kw8slVjX8s9g"
      },
      "execution_count": 1,
      "outputs": []
    },
    {
      "cell_type": "markdown",
      "source": [
        "# 1. Get the data (Already in Colab)"
      ],
      "metadata": {
        "id": "7C8TPghNGj3j"
      }
    },
    {
      "cell_type": "code",
      "source": [
        "TRAIN_DATA_PATH = '/content/sample_data/california_housing_train.csv'\n",
        "TEST_DATA_PATH = '/content/sample_data/california_housing_test.csv'\n",
        "TARGET_NAME = 'median_house_value'"
      ],
      "metadata": {
        "id": "U9v_zyzF8ykJ"
      },
      "execution_count": 2,
      "outputs": []
    },
    {
      "cell_type": "code",
      "execution_count": 3,
      "metadata": {
        "id": "Dz1x__Jh8TZm"
      },
      "outputs": [],
      "source": [
        "train_data = pd.read_csv(TRAIN_DATA_PATH)\n",
        "test_data = pd.read_csv(TEST_DATA_PATH)"
      ]
    },
    {
      "cell_type": "code",
      "source": [
        "train_data.head()"
      ],
      "metadata": {
        "id": "kgV8DZEi80H3",
        "outputId": "300a9d06-3624-4c70-b1b8-81dfae6eed53",
        "colab": {
          "base_uri": "https://localhost:8080/",
          "height": 206
        }
      },
      "execution_count": 4,
      "outputs": [
        {
          "output_type": "execute_result",
          "data": {
            "text/plain": [
              "   longitude  latitude  housing_median_age  total_rooms  total_bedrooms  \\\n",
              "0    -114.31     34.19                15.0       5612.0          1283.0   \n",
              "1    -114.47     34.40                19.0       7650.0          1901.0   \n",
              "2    -114.56     33.69                17.0        720.0           174.0   \n",
              "3    -114.57     33.64                14.0       1501.0           337.0   \n",
              "4    -114.57     33.57                20.0       1454.0           326.0   \n",
              "\n",
              "   population  households  median_income  median_house_value  \n",
              "0      1015.0       472.0         1.4936             66900.0  \n",
              "1      1129.0       463.0         1.8200             80100.0  \n",
              "2       333.0       117.0         1.6509             85700.0  \n",
              "3       515.0       226.0         3.1917             73400.0  \n",
              "4       624.0       262.0         1.9250             65500.0  "
            ],
            "text/html": [
              "\n",
              "  <div id=\"df-adc57103-d603-4032-bf55-71f87d766336\" class=\"colab-df-container\">\n",
              "    <div>\n",
              "<style scoped>\n",
              "    .dataframe tbody tr th:only-of-type {\n",
              "        vertical-align: middle;\n",
              "    }\n",
              "\n",
              "    .dataframe tbody tr th {\n",
              "        vertical-align: top;\n",
              "    }\n",
              "\n",
              "    .dataframe thead th {\n",
              "        text-align: right;\n",
              "    }\n",
              "</style>\n",
              "<table border=\"1\" class=\"dataframe\">\n",
              "  <thead>\n",
              "    <tr style=\"text-align: right;\">\n",
              "      <th></th>\n",
              "      <th>longitude</th>\n",
              "      <th>latitude</th>\n",
              "      <th>housing_median_age</th>\n",
              "      <th>total_rooms</th>\n",
              "      <th>total_bedrooms</th>\n",
              "      <th>population</th>\n",
              "      <th>households</th>\n",
              "      <th>median_income</th>\n",
              "      <th>median_house_value</th>\n",
              "    </tr>\n",
              "  </thead>\n",
              "  <tbody>\n",
              "    <tr>\n",
              "      <th>0</th>\n",
              "      <td>-114.31</td>\n",
              "      <td>34.19</td>\n",
              "      <td>15.0</td>\n",
              "      <td>5612.0</td>\n",
              "      <td>1283.0</td>\n",
              "      <td>1015.0</td>\n",
              "      <td>472.0</td>\n",
              "      <td>1.4936</td>\n",
              "      <td>66900.0</td>\n",
              "    </tr>\n",
              "    <tr>\n",
              "      <th>1</th>\n",
              "      <td>-114.47</td>\n",
              "      <td>34.40</td>\n",
              "      <td>19.0</td>\n",
              "      <td>7650.0</td>\n",
              "      <td>1901.0</td>\n",
              "      <td>1129.0</td>\n",
              "      <td>463.0</td>\n",
              "      <td>1.8200</td>\n",
              "      <td>80100.0</td>\n",
              "    </tr>\n",
              "    <tr>\n",
              "      <th>2</th>\n",
              "      <td>-114.56</td>\n",
              "      <td>33.69</td>\n",
              "      <td>17.0</td>\n",
              "      <td>720.0</td>\n",
              "      <td>174.0</td>\n",
              "      <td>333.0</td>\n",
              "      <td>117.0</td>\n",
              "      <td>1.6509</td>\n",
              "      <td>85700.0</td>\n",
              "    </tr>\n",
              "    <tr>\n",
              "      <th>3</th>\n",
              "      <td>-114.57</td>\n",
              "      <td>33.64</td>\n",
              "      <td>14.0</td>\n",
              "      <td>1501.0</td>\n",
              "      <td>337.0</td>\n",
              "      <td>515.0</td>\n",
              "      <td>226.0</td>\n",
              "      <td>3.1917</td>\n",
              "      <td>73400.0</td>\n",
              "    </tr>\n",
              "    <tr>\n",
              "      <th>4</th>\n",
              "      <td>-114.57</td>\n",
              "      <td>33.57</td>\n",
              "      <td>20.0</td>\n",
              "      <td>1454.0</td>\n",
              "      <td>326.0</td>\n",
              "      <td>624.0</td>\n",
              "      <td>262.0</td>\n",
              "      <td>1.9250</td>\n",
              "      <td>65500.0</td>\n",
              "    </tr>\n",
              "  </tbody>\n",
              "</table>\n",
              "</div>\n",
              "    <div class=\"colab-df-buttons\">\n",
              "\n",
              "  <div class=\"colab-df-container\">\n",
              "    <button class=\"colab-df-convert\" onclick=\"convertToInteractive('df-adc57103-d603-4032-bf55-71f87d766336')\"\n",
              "            title=\"Convert this dataframe to an interactive table.\"\n",
              "            style=\"display:none;\">\n",
              "\n",
              "  <svg xmlns=\"http://www.w3.org/2000/svg\" height=\"24px\" viewBox=\"0 -960 960 960\">\n",
              "    <path d=\"M120-120v-720h720v720H120Zm60-500h600v-160H180v160Zm220 220h160v-160H400v160Zm0 220h160v-160H400v160ZM180-400h160v-160H180v160Zm440 0h160v-160H620v160ZM180-180h160v-160H180v160Zm440 0h160v-160H620v160Z\"/>\n",
              "  </svg>\n",
              "    </button>\n",
              "\n",
              "  <style>\n",
              "    .colab-df-container {\n",
              "      display:flex;\n",
              "      gap: 12px;\n",
              "    }\n",
              "\n",
              "    .colab-df-convert {\n",
              "      background-color: #E8F0FE;\n",
              "      border: none;\n",
              "      border-radius: 50%;\n",
              "      cursor: pointer;\n",
              "      display: none;\n",
              "      fill: #1967D2;\n",
              "      height: 32px;\n",
              "      padding: 0 0 0 0;\n",
              "      width: 32px;\n",
              "    }\n",
              "\n",
              "    .colab-df-convert:hover {\n",
              "      background-color: #E2EBFA;\n",
              "      box-shadow: 0px 1px 2px rgba(60, 64, 67, 0.3), 0px 1px 3px 1px rgba(60, 64, 67, 0.15);\n",
              "      fill: #174EA6;\n",
              "    }\n",
              "\n",
              "    .colab-df-buttons div {\n",
              "      margin-bottom: 4px;\n",
              "    }\n",
              "\n",
              "    [theme=dark] .colab-df-convert {\n",
              "      background-color: #3B4455;\n",
              "      fill: #D2E3FC;\n",
              "    }\n",
              "\n",
              "    [theme=dark] .colab-df-convert:hover {\n",
              "      background-color: #434B5C;\n",
              "      box-shadow: 0px 1px 3px 1px rgba(0, 0, 0, 0.15);\n",
              "      filter: drop-shadow(0px 1px 2px rgba(0, 0, 0, 0.3));\n",
              "      fill: #FFFFFF;\n",
              "    }\n",
              "  </style>\n",
              "\n",
              "    <script>\n",
              "      const buttonEl =\n",
              "        document.querySelector('#df-adc57103-d603-4032-bf55-71f87d766336 button.colab-df-convert');\n",
              "      buttonEl.style.display =\n",
              "        google.colab.kernel.accessAllowed ? 'block' : 'none';\n",
              "\n",
              "      async function convertToInteractive(key) {\n",
              "        const element = document.querySelector('#df-adc57103-d603-4032-bf55-71f87d766336');\n",
              "        const dataTable =\n",
              "          await google.colab.kernel.invokeFunction('convertToInteractive',\n",
              "                                                    [key], {});\n",
              "        if (!dataTable) return;\n",
              "\n",
              "        const docLinkHtml = 'Like what you see? Visit the ' +\n",
              "          '<a target=\"_blank\" href=https://colab.research.google.com/notebooks/data_table.ipynb>data table notebook</a>'\n",
              "          + ' to learn more about interactive tables.';\n",
              "        element.innerHTML = '';\n",
              "        dataTable['output_type'] = 'display_data';\n",
              "        await google.colab.output.renderOutput(dataTable, element);\n",
              "        const docLink = document.createElement('div');\n",
              "        docLink.innerHTML = docLinkHtml;\n",
              "        element.appendChild(docLink);\n",
              "      }\n",
              "    </script>\n",
              "  </div>\n",
              "\n",
              "\n",
              "<div id=\"df-71819512-bf1f-447b-be19-9659b793dad6\">\n",
              "  <button class=\"colab-df-quickchart\" onclick=\"quickchart('df-71819512-bf1f-447b-be19-9659b793dad6')\"\n",
              "            title=\"Suggest charts\"\n",
              "            style=\"display:none;\">\n",
              "\n",
              "<svg xmlns=\"http://www.w3.org/2000/svg\" height=\"24px\"viewBox=\"0 0 24 24\"\n",
              "     width=\"24px\">\n",
              "    <g>\n",
              "        <path d=\"M19 3H5c-1.1 0-2 .9-2 2v14c0 1.1.9 2 2 2h14c1.1 0 2-.9 2-2V5c0-1.1-.9-2-2-2zM9 17H7v-7h2v7zm4 0h-2V7h2v10zm4 0h-2v-4h2v4z\"/>\n",
              "    </g>\n",
              "</svg>\n",
              "  </button>\n",
              "\n",
              "<style>\n",
              "  .colab-df-quickchart {\n",
              "      --bg-color: #E8F0FE;\n",
              "      --fill-color: #1967D2;\n",
              "      --hover-bg-color: #E2EBFA;\n",
              "      --hover-fill-color: #174EA6;\n",
              "      --disabled-fill-color: #AAA;\n",
              "      --disabled-bg-color: #DDD;\n",
              "  }\n",
              "\n",
              "  [theme=dark] .colab-df-quickchart {\n",
              "      --bg-color: #3B4455;\n",
              "      --fill-color: #D2E3FC;\n",
              "      --hover-bg-color: #434B5C;\n",
              "      --hover-fill-color: #FFFFFF;\n",
              "      --disabled-bg-color: #3B4455;\n",
              "      --disabled-fill-color: #666;\n",
              "  }\n",
              "\n",
              "  .colab-df-quickchart {\n",
              "    background-color: var(--bg-color);\n",
              "    border: none;\n",
              "    border-radius: 50%;\n",
              "    cursor: pointer;\n",
              "    display: none;\n",
              "    fill: var(--fill-color);\n",
              "    height: 32px;\n",
              "    padding: 0;\n",
              "    width: 32px;\n",
              "  }\n",
              "\n",
              "  .colab-df-quickchart:hover {\n",
              "    background-color: var(--hover-bg-color);\n",
              "    box-shadow: 0 1px 2px rgba(60, 64, 67, 0.3), 0 1px 3px 1px rgba(60, 64, 67, 0.15);\n",
              "    fill: var(--button-hover-fill-color);\n",
              "  }\n",
              "\n",
              "  .colab-df-quickchart-complete:disabled,\n",
              "  .colab-df-quickchart-complete:disabled:hover {\n",
              "    background-color: var(--disabled-bg-color);\n",
              "    fill: var(--disabled-fill-color);\n",
              "    box-shadow: none;\n",
              "  }\n",
              "\n",
              "  .colab-df-spinner {\n",
              "    border: 2px solid var(--fill-color);\n",
              "    border-color: transparent;\n",
              "    border-bottom-color: var(--fill-color);\n",
              "    animation:\n",
              "      spin 1s steps(1) infinite;\n",
              "  }\n",
              "\n",
              "  @keyframes spin {\n",
              "    0% {\n",
              "      border-color: transparent;\n",
              "      border-bottom-color: var(--fill-color);\n",
              "      border-left-color: var(--fill-color);\n",
              "    }\n",
              "    20% {\n",
              "      border-color: transparent;\n",
              "      border-left-color: var(--fill-color);\n",
              "      border-top-color: var(--fill-color);\n",
              "    }\n",
              "    30% {\n",
              "      border-color: transparent;\n",
              "      border-left-color: var(--fill-color);\n",
              "      border-top-color: var(--fill-color);\n",
              "      border-right-color: var(--fill-color);\n",
              "    }\n",
              "    40% {\n",
              "      border-color: transparent;\n",
              "      border-right-color: var(--fill-color);\n",
              "      border-top-color: var(--fill-color);\n",
              "    }\n",
              "    60% {\n",
              "      border-color: transparent;\n",
              "      border-right-color: var(--fill-color);\n",
              "    }\n",
              "    80% {\n",
              "      border-color: transparent;\n",
              "      border-right-color: var(--fill-color);\n",
              "      border-bottom-color: var(--fill-color);\n",
              "    }\n",
              "    90% {\n",
              "      border-color: transparent;\n",
              "      border-bottom-color: var(--fill-color);\n",
              "    }\n",
              "  }\n",
              "</style>\n",
              "\n",
              "  <script>\n",
              "    async function quickchart(key) {\n",
              "      const quickchartButtonEl =\n",
              "        document.querySelector('#' + key + ' button');\n",
              "      quickchartButtonEl.disabled = true;  // To prevent multiple clicks.\n",
              "      quickchartButtonEl.classList.add('colab-df-spinner');\n",
              "      try {\n",
              "        const charts = await google.colab.kernel.invokeFunction(\n",
              "            'suggestCharts', [key], {});\n",
              "      } catch (error) {\n",
              "        console.error('Error during call to suggestCharts:', error);\n",
              "      }\n",
              "      quickchartButtonEl.classList.remove('colab-df-spinner');\n",
              "      quickchartButtonEl.classList.add('colab-df-quickchart-complete');\n",
              "    }\n",
              "    (() => {\n",
              "      let quickchartButtonEl =\n",
              "        document.querySelector('#df-71819512-bf1f-447b-be19-9659b793dad6 button');\n",
              "      quickchartButtonEl.style.display =\n",
              "        google.colab.kernel.accessAllowed ? 'block' : 'none';\n",
              "    })();\n",
              "  </script>\n",
              "</div>\n",
              "    </div>\n",
              "  </div>\n"
            ],
            "application/vnd.google.colaboratory.intrinsic+json": {
              "type": "dataframe",
              "variable_name": "train_data",
              "summary": "{\n  \"name\": \"train_data\",\n  \"rows\": 17000,\n  \"fields\": [\n    {\n      \"column\": \"longitude\",\n      \"properties\": {\n        \"dtype\": \"number\",\n        \"std\": 2.0051664084261778,\n        \"min\": -124.35,\n        \"max\": -114.31,\n        \"num_unique_values\": 827,\n        \"samples\": [\n          -117.56,\n          -123.32,\n          -118.26\n        ],\n        \"semantic_type\": \"\",\n        \"description\": \"\"\n      }\n    },\n    {\n      \"column\": \"latitude\",\n      \"properties\": {\n        \"dtype\": \"number\",\n        \"std\": 2.1373397946570836,\n        \"min\": 32.54,\n        \"max\": 41.95,\n        \"num_unique_values\": 840,\n        \"samples\": [\n          38.44,\n          40.79,\n          32.69\n        ],\n        \"semantic_type\": \"\",\n        \"description\": \"\"\n      }\n    },\n    {\n      \"column\": \"housing_median_age\",\n      \"properties\": {\n        \"dtype\": \"number\",\n        \"std\": 12.586936981660399,\n        \"min\": 1.0,\n        \"max\": 52.0,\n        \"num_unique_values\": 52,\n        \"samples\": [\n          23.0,\n          52.0,\n          47.0\n        ],\n        \"semantic_type\": \"\",\n        \"description\": \"\"\n      }\n    },\n    {\n      \"column\": \"total_rooms\",\n      \"properties\": {\n        \"dtype\": \"number\",\n        \"std\": 2179.947071452767,\n        \"min\": 2.0,\n        \"max\": 37937.0,\n        \"num_unique_values\": 5533,\n        \"samples\": [\n          3564.0,\n          6955.0,\n          5451.0\n        ],\n        \"semantic_type\": \"\",\n        \"description\": \"\"\n      }\n    },\n    {\n      \"column\": \"total_bedrooms\",\n      \"properties\": {\n        \"dtype\": \"number\",\n        \"std\": 421.4994515798646,\n        \"min\": 1.0,\n        \"max\": 6445.0,\n        \"num_unique_values\": 1848,\n        \"samples\": [\n          729.0,\n          719.0,\n          2075.0\n        ],\n        \"semantic_type\": \"\",\n        \"description\": \"\"\n      }\n    },\n    {\n      \"column\": \"population\",\n      \"properties\": {\n        \"dtype\": \"number\",\n        \"std\": 1147.8529591595266,\n        \"min\": 3.0,\n        \"max\": 35682.0,\n        \"num_unique_values\": 3683,\n        \"samples\": [\n          249.0,\n          1735.0,\n          235.0\n        ],\n        \"semantic_type\": \"\",\n        \"description\": \"\"\n      }\n    },\n    {\n      \"column\": \"households\",\n      \"properties\": {\n        \"dtype\": \"number\",\n        \"std\": 384.5208408559009,\n        \"min\": 1.0,\n        \"max\": 6082.0,\n        \"num_unique_values\": 1740,\n        \"samples\": [\n          390.0,\n          1089.0,\n          1351.0\n        ],\n        \"semantic_type\": \"\",\n        \"description\": \"\"\n      }\n    },\n    {\n      \"column\": \"median_income\",\n      \"properties\": {\n        \"dtype\": \"number\",\n        \"std\": 1.9081565183791036,\n        \"min\": 0.4999,\n        \"max\": 15.0001,\n        \"num_unique_values\": 11175,\n        \"samples\": [\n          7.2655,\n          5.6293,\n          4.2262\n        ],\n        \"semantic_type\": \"\",\n        \"description\": \"\"\n      }\n    },\n    {\n      \"column\": \"median_house_value\",\n      \"properties\": {\n        \"dtype\": \"number\",\n        \"std\": 115983.76438720885,\n        \"min\": 14999.0,\n        \"max\": 500001.0,\n        \"num_unique_values\": 3694,\n        \"samples\": [\n          162300.0,\n          346800.0,\n          116700.0\n        ],\n        \"semantic_type\": \"\",\n        \"description\": \"\"\n      }\n    }\n  ]\n}"
            }
          },
          "metadata": {},
          "execution_count": 4
        }
      ]
    },
    {
      "cell_type": "code",
      "source": [
        "train_data.shape, test_data.shape"
      ],
      "metadata": {
        "id": "JBgs_AfD-625",
        "outputId": "b81d0f48-f1a7-4dd9-cdef-60c9ce42a3b0",
        "colab": {
          "base_uri": "https://localhost:8080/"
        }
      },
      "execution_count": 5,
      "outputs": [
        {
          "output_type": "execute_result",
          "data": {
            "text/plain": [
              "((17000, 9), (3000, 9))"
            ]
          },
          "metadata": {},
          "execution_count": 5
        }
      ]
    },
    {
      "cell_type": "code",
      "source": [
        "x_train, y_train = train_data.drop(TARGET_NAME, axis=1), train_data[TARGET_NAME]\n",
        "x_test, y_test = test_data.drop(TARGET_NAME, axis=1), test_data[TARGET_NAME]"
      ],
      "metadata": {
        "id": "3DSqRAO-8-SU"
      },
      "execution_count": 6,
      "outputs": []
    },
    {
      "cell_type": "code",
      "source": [
        "x_train.shape, y_train.shape, x_test.shape, y_test.shape"
      ],
      "metadata": {
        "id": "Z3cAOOZa__e2",
        "outputId": "4a5f9d22-8df5-4dca-f855-663bf826bb75",
        "colab": {
          "base_uri": "https://localhost:8080/"
        }
      },
      "execution_count": 7,
      "outputs": [
        {
          "output_type": "execute_result",
          "data": {
            "text/plain": [
              "((17000, 8), (17000,), (3000, 8), (3000,))"
            ]
          },
          "metadata": {},
          "execution_count": 7
        }
      ]
    },
    {
      "cell_type": "markdown",
      "source": [
        "# 2. Pre-process the data."
      ],
      "metadata": {
        "id": "adS5-AdeGv2H"
      }
    },
    {
      "cell_type": "code",
      "source": [
        "standard_scaler = StandardScaler()\n",
        "x_train_scaled = pd.DataFrame(\n",
        "    standard_scaler.fit_transform(x_train),\n",
        "    columns=x_train.columns\n",
        ")\n",
        "x_test_scaled = pd.DataFrame(\n",
        "    standard_scaler.transform(x_test),\n",
        "    columns = x_test.columns\n",
        ")"
      ],
      "metadata": {
        "id": "mGRb18gf9GJT"
      },
      "execution_count": 8,
      "outputs": []
    },
    {
      "cell_type": "code",
      "source": [
        "x_train_scaled.head()"
      ],
      "metadata": {
        "id": "AD78c1XS9_GR",
        "outputId": "601d46f3-e7a0-4fbb-8b03-27f157b3bc03",
        "colab": {
          "base_uri": "https://localhost:8080/",
          "height": 206
        }
      },
      "execution_count": 9,
      "outputs": [
        {
          "output_type": "execute_result",
          "data": {
            "text/plain": [
              "   longitude  latitude  housing_median_age  total_rooms  total_bedrooms  \\\n",
              "0   2.619365 -0.671520           -1.079671     1.361695        1.764204   \n",
              "1   2.539569 -0.573264           -0.761872     2.296608        3.230441   \n",
              "2   2.494683 -0.905463           -0.920772    -0.882462       -0.866956   \n",
              "3   2.489696 -0.928857           -1.159121    -0.524186       -0.480230   \n",
              "4   2.489696 -0.961609           -0.682422    -0.545747       -0.506328   \n",
              "\n",
              "   population  households  median_income  \n",
              "0   -0.361184   -0.075998      -1.252543  \n",
              "1   -0.261865   -0.099404      -1.081483  \n",
              "2   -0.955354   -0.999252      -1.170105  \n",
              "3   -0.796793   -0.715774      -0.362600  \n",
              "4   -0.701830   -0.622148      -1.026454  "
            ],
            "text/html": [
              "\n",
              "  <div id=\"df-0cbf057d-7b31-4092-a0bd-1f48ef1105e5\" class=\"colab-df-container\">\n",
              "    <div>\n",
              "<style scoped>\n",
              "    .dataframe tbody tr th:only-of-type {\n",
              "        vertical-align: middle;\n",
              "    }\n",
              "\n",
              "    .dataframe tbody tr th {\n",
              "        vertical-align: top;\n",
              "    }\n",
              "\n",
              "    .dataframe thead th {\n",
              "        text-align: right;\n",
              "    }\n",
              "</style>\n",
              "<table border=\"1\" class=\"dataframe\">\n",
              "  <thead>\n",
              "    <tr style=\"text-align: right;\">\n",
              "      <th></th>\n",
              "      <th>longitude</th>\n",
              "      <th>latitude</th>\n",
              "      <th>housing_median_age</th>\n",
              "      <th>total_rooms</th>\n",
              "      <th>total_bedrooms</th>\n",
              "      <th>population</th>\n",
              "      <th>households</th>\n",
              "      <th>median_income</th>\n",
              "    </tr>\n",
              "  </thead>\n",
              "  <tbody>\n",
              "    <tr>\n",
              "      <th>0</th>\n",
              "      <td>2.619365</td>\n",
              "      <td>-0.671520</td>\n",
              "      <td>-1.079671</td>\n",
              "      <td>1.361695</td>\n",
              "      <td>1.764204</td>\n",
              "      <td>-0.361184</td>\n",
              "      <td>-0.075998</td>\n",
              "      <td>-1.252543</td>\n",
              "    </tr>\n",
              "    <tr>\n",
              "      <th>1</th>\n",
              "      <td>2.539569</td>\n",
              "      <td>-0.573264</td>\n",
              "      <td>-0.761872</td>\n",
              "      <td>2.296608</td>\n",
              "      <td>3.230441</td>\n",
              "      <td>-0.261865</td>\n",
              "      <td>-0.099404</td>\n",
              "      <td>-1.081483</td>\n",
              "    </tr>\n",
              "    <tr>\n",
              "      <th>2</th>\n",
              "      <td>2.494683</td>\n",
              "      <td>-0.905463</td>\n",
              "      <td>-0.920772</td>\n",
              "      <td>-0.882462</td>\n",
              "      <td>-0.866956</td>\n",
              "      <td>-0.955354</td>\n",
              "      <td>-0.999252</td>\n",
              "      <td>-1.170105</td>\n",
              "    </tr>\n",
              "    <tr>\n",
              "      <th>3</th>\n",
              "      <td>2.489696</td>\n",
              "      <td>-0.928857</td>\n",
              "      <td>-1.159121</td>\n",
              "      <td>-0.524186</td>\n",
              "      <td>-0.480230</td>\n",
              "      <td>-0.796793</td>\n",
              "      <td>-0.715774</td>\n",
              "      <td>-0.362600</td>\n",
              "    </tr>\n",
              "    <tr>\n",
              "      <th>4</th>\n",
              "      <td>2.489696</td>\n",
              "      <td>-0.961609</td>\n",
              "      <td>-0.682422</td>\n",
              "      <td>-0.545747</td>\n",
              "      <td>-0.506328</td>\n",
              "      <td>-0.701830</td>\n",
              "      <td>-0.622148</td>\n",
              "      <td>-1.026454</td>\n",
              "    </tr>\n",
              "  </tbody>\n",
              "</table>\n",
              "</div>\n",
              "    <div class=\"colab-df-buttons\">\n",
              "\n",
              "  <div class=\"colab-df-container\">\n",
              "    <button class=\"colab-df-convert\" onclick=\"convertToInteractive('df-0cbf057d-7b31-4092-a0bd-1f48ef1105e5')\"\n",
              "            title=\"Convert this dataframe to an interactive table.\"\n",
              "            style=\"display:none;\">\n",
              "\n",
              "  <svg xmlns=\"http://www.w3.org/2000/svg\" height=\"24px\" viewBox=\"0 -960 960 960\">\n",
              "    <path d=\"M120-120v-720h720v720H120Zm60-500h600v-160H180v160Zm220 220h160v-160H400v160Zm0 220h160v-160H400v160ZM180-400h160v-160H180v160Zm440 0h160v-160H620v160ZM180-180h160v-160H180v160Zm440 0h160v-160H620v160Z\"/>\n",
              "  </svg>\n",
              "    </button>\n",
              "\n",
              "  <style>\n",
              "    .colab-df-container {\n",
              "      display:flex;\n",
              "      gap: 12px;\n",
              "    }\n",
              "\n",
              "    .colab-df-convert {\n",
              "      background-color: #E8F0FE;\n",
              "      border: none;\n",
              "      border-radius: 50%;\n",
              "      cursor: pointer;\n",
              "      display: none;\n",
              "      fill: #1967D2;\n",
              "      height: 32px;\n",
              "      padding: 0 0 0 0;\n",
              "      width: 32px;\n",
              "    }\n",
              "\n",
              "    .colab-df-convert:hover {\n",
              "      background-color: #E2EBFA;\n",
              "      box-shadow: 0px 1px 2px rgba(60, 64, 67, 0.3), 0px 1px 3px 1px rgba(60, 64, 67, 0.15);\n",
              "      fill: #174EA6;\n",
              "    }\n",
              "\n",
              "    .colab-df-buttons div {\n",
              "      margin-bottom: 4px;\n",
              "    }\n",
              "\n",
              "    [theme=dark] .colab-df-convert {\n",
              "      background-color: #3B4455;\n",
              "      fill: #D2E3FC;\n",
              "    }\n",
              "\n",
              "    [theme=dark] .colab-df-convert:hover {\n",
              "      background-color: #434B5C;\n",
              "      box-shadow: 0px 1px 3px 1px rgba(0, 0, 0, 0.15);\n",
              "      filter: drop-shadow(0px 1px 2px rgba(0, 0, 0, 0.3));\n",
              "      fill: #FFFFFF;\n",
              "    }\n",
              "  </style>\n",
              "\n",
              "    <script>\n",
              "      const buttonEl =\n",
              "        document.querySelector('#df-0cbf057d-7b31-4092-a0bd-1f48ef1105e5 button.colab-df-convert');\n",
              "      buttonEl.style.display =\n",
              "        google.colab.kernel.accessAllowed ? 'block' : 'none';\n",
              "\n",
              "      async function convertToInteractive(key) {\n",
              "        const element = document.querySelector('#df-0cbf057d-7b31-4092-a0bd-1f48ef1105e5');\n",
              "        const dataTable =\n",
              "          await google.colab.kernel.invokeFunction('convertToInteractive',\n",
              "                                                    [key], {});\n",
              "        if (!dataTable) return;\n",
              "\n",
              "        const docLinkHtml = 'Like what you see? Visit the ' +\n",
              "          '<a target=\"_blank\" href=https://colab.research.google.com/notebooks/data_table.ipynb>data table notebook</a>'\n",
              "          + ' to learn more about interactive tables.';\n",
              "        element.innerHTML = '';\n",
              "        dataTable['output_type'] = 'display_data';\n",
              "        await google.colab.output.renderOutput(dataTable, element);\n",
              "        const docLink = document.createElement('div');\n",
              "        docLink.innerHTML = docLinkHtml;\n",
              "        element.appendChild(docLink);\n",
              "      }\n",
              "    </script>\n",
              "  </div>\n",
              "\n",
              "\n",
              "<div id=\"df-cb8cf8e1-5fa4-4941-904e-4576a7fef85d\">\n",
              "  <button class=\"colab-df-quickchart\" onclick=\"quickchart('df-cb8cf8e1-5fa4-4941-904e-4576a7fef85d')\"\n",
              "            title=\"Suggest charts\"\n",
              "            style=\"display:none;\">\n",
              "\n",
              "<svg xmlns=\"http://www.w3.org/2000/svg\" height=\"24px\"viewBox=\"0 0 24 24\"\n",
              "     width=\"24px\">\n",
              "    <g>\n",
              "        <path d=\"M19 3H5c-1.1 0-2 .9-2 2v14c0 1.1.9 2 2 2h14c1.1 0 2-.9 2-2V5c0-1.1-.9-2-2-2zM9 17H7v-7h2v7zm4 0h-2V7h2v10zm4 0h-2v-4h2v4z\"/>\n",
              "    </g>\n",
              "</svg>\n",
              "  </button>\n",
              "\n",
              "<style>\n",
              "  .colab-df-quickchart {\n",
              "      --bg-color: #E8F0FE;\n",
              "      --fill-color: #1967D2;\n",
              "      --hover-bg-color: #E2EBFA;\n",
              "      --hover-fill-color: #174EA6;\n",
              "      --disabled-fill-color: #AAA;\n",
              "      --disabled-bg-color: #DDD;\n",
              "  }\n",
              "\n",
              "  [theme=dark] .colab-df-quickchart {\n",
              "      --bg-color: #3B4455;\n",
              "      --fill-color: #D2E3FC;\n",
              "      --hover-bg-color: #434B5C;\n",
              "      --hover-fill-color: #FFFFFF;\n",
              "      --disabled-bg-color: #3B4455;\n",
              "      --disabled-fill-color: #666;\n",
              "  }\n",
              "\n",
              "  .colab-df-quickchart {\n",
              "    background-color: var(--bg-color);\n",
              "    border: none;\n",
              "    border-radius: 50%;\n",
              "    cursor: pointer;\n",
              "    display: none;\n",
              "    fill: var(--fill-color);\n",
              "    height: 32px;\n",
              "    padding: 0;\n",
              "    width: 32px;\n",
              "  }\n",
              "\n",
              "  .colab-df-quickchart:hover {\n",
              "    background-color: var(--hover-bg-color);\n",
              "    box-shadow: 0 1px 2px rgba(60, 64, 67, 0.3), 0 1px 3px 1px rgba(60, 64, 67, 0.15);\n",
              "    fill: var(--button-hover-fill-color);\n",
              "  }\n",
              "\n",
              "  .colab-df-quickchart-complete:disabled,\n",
              "  .colab-df-quickchart-complete:disabled:hover {\n",
              "    background-color: var(--disabled-bg-color);\n",
              "    fill: var(--disabled-fill-color);\n",
              "    box-shadow: none;\n",
              "  }\n",
              "\n",
              "  .colab-df-spinner {\n",
              "    border: 2px solid var(--fill-color);\n",
              "    border-color: transparent;\n",
              "    border-bottom-color: var(--fill-color);\n",
              "    animation:\n",
              "      spin 1s steps(1) infinite;\n",
              "  }\n",
              "\n",
              "  @keyframes spin {\n",
              "    0% {\n",
              "      border-color: transparent;\n",
              "      border-bottom-color: var(--fill-color);\n",
              "      border-left-color: var(--fill-color);\n",
              "    }\n",
              "    20% {\n",
              "      border-color: transparent;\n",
              "      border-left-color: var(--fill-color);\n",
              "      border-top-color: var(--fill-color);\n",
              "    }\n",
              "    30% {\n",
              "      border-color: transparent;\n",
              "      border-left-color: var(--fill-color);\n",
              "      border-top-color: var(--fill-color);\n",
              "      border-right-color: var(--fill-color);\n",
              "    }\n",
              "    40% {\n",
              "      border-color: transparent;\n",
              "      border-right-color: var(--fill-color);\n",
              "      border-top-color: var(--fill-color);\n",
              "    }\n",
              "    60% {\n",
              "      border-color: transparent;\n",
              "      border-right-color: var(--fill-color);\n",
              "    }\n",
              "    80% {\n",
              "      border-color: transparent;\n",
              "      border-right-color: var(--fill-color);\n",
              "      border-bottom-color: var(--fill-color);\n",
              "    }\n",
              "    90% {\n",
              "      border-color: transparent;\n",
              "      border-bottom-color: var(--fill-color);\n",
              "    }\n",
              "  }\n",
              "</style>\n",
              "\n",
              "  <script>\n",
              "    async function quickchart(key) {\n",
              "      const quickchartButtonEl =\n",
              "        document.querySelector('#' + key + ' button');\n",
              "      quickchartButtonEl.disabled = true;  // To prevent multiple clicks.\n",
              "      quickchartButtonEl.classList.add('colab-df-spinner');\n",
              "      try {\n",
              "        const charts = await google.colab.kernel.invokeFunction(\n",
              "            'suggestCharts', [key], {});\n",
              "      } catch (error) {\n",
              "        console.error('Error during call to suggestCharts:', error);\n",
              "      }\n",
              "      quickchartButtonEl.classList.remove('colab-df-spinner');\n",
              "      quickchartButtonEl.classList.add('colab-df-quickchart-complete');\n",
              "    }\n",
              "    (() => {\n",
              "      let quickchartButtonEl =\n",
              "        document.querySelector('#df-cb8cf8e1-5fa4-4941-904e-4576a7fef85d button');\n",
              "      quickchartButtonEl.style.display =\n",
              "        google.colab.kernel.accessAllowed ? 'block' : 'none';\n",
              "    })();\n",
              "  </script>\n",
              "</div>\n",
              "    </div>\n",
              "  </div>\n"
            ],
            "application/vnd.google.colaboratory.intrinsic+json": {
              "type": "dataframe",
              "variable_name": "x_train_scaled",
              "summary": "{\n  \"name\": \"x_train_scaled\",\n  \"rows\": 17000,\n  \"fields\": [\n    {\n      \"column\": \"longitude\",\n      \"properties\": {\n        \"dtype\": \"number\",\n        \"std\": 1.0000294130623473,\n        \"min\": -2.3878479966273347,\n        \"max\": 2.619365003228583,\n        \"num_unique_values\": 827,\n        \"samples\": [\n          0.9985042214027119,\n          -1.874159810387135,\n          0.6493957453171383\n        ],\n        \"semantic_type\": \"\",\n        \"description\": \"\"\n      }\n    },\n    {\n      \"column\": \"latitude\",\n      \"properties\": {\n        \"dtype\": \"number\",\n        \"std\": 1.0000294130623475,\n        \"min\": -1.443530626015408,\n        \"max\": 2.959268030726247,\n        \"num_unique_values\": 840,\n        \"samples\": [\n          1.3169913798056068,\n          2.41652133127669,\n          -1.3733478631555525\n        ],\n        \"semantic_type\": \"\",\n        \"description\": \"\"\n      }\n    },\n    {\n      \"column\": \"housing_median_age\",\n      \"properties\": {\n        \"dtype\": \"number\",\n        \"std\": 1.0000294130623473,\n        \"min\": -2.191968106993343,\n        \"max\": 1.8599708310096557,\n        \"num_unique_values\": 52,\n        \"samples\": [\n          -0.4440728788351869,\n          1.8599708310096557,\n          1.4627219155191655\n        ],\n        \"semantic_type\": \"\",\n        \"description\": \"\"\n      }\n    },\n    {\n      \"column\": \"total_rooms\",\n      \"properties\": {\n        \"dtype\": \"number\",\n        \"std\": 1.0000294130623475,\n        \"min\": -1.2118377302822458,\n        \"max\": 16.19047275757682,\n        \"num_unique_values\": 5533,\n        \"samples\": [\n          0.42219495609587454,\n          1.9777830637624119,\n          1.2878377632815885\n        ],\n        \"semantic_type\": \"\",\n        \"description\": \"\"\n      }\n    },\n    {\n      \"column\": \"total_bedrooms\",\n      \"properties\": {\n        \"dtype\": \"number\",\n        \"std\": 1.0000294130623473,\n        \"min\": -1.2774077352233828,\n        \"max\": 14.011318059364603,\n        \"num_unique_values\": 1848,\n        \"samples\": [\n          0.4498102006021998,\n          0.42608467950569456,\n          3.643265340191807\n        ],\n        \"semantic_type\": \"\",\n        \"description\": \"\"\n      }\n    },\n    {\n      \"column\": \"population\",\n      \"properties\": {\n        \"dtype\": \"number\",\n        \"std\": 1.0000294130623475,\n        \"min\": -1.2428559683544598,\n        \"max\": 29.841307855883887,\n        \"num_unique_values\": 3683,\n        \"samples\": [\n          -1.0285365002986668,\n          0.26609248153429327,\n          -1.040733543196151\n        ],\n        \"semantic_type\": \"\",\n        \"description\": \"\"\n      }\n    },\n    {\n      \"column\": \"households\",\n      \"properties\": {\n        \"dtype\": \"number\",\n        \"std\": 1.0000294130623473,\n        \"min\": -1.3009350887773532,\n        \"max\": 14.514017482573793,\n        \"num_unique_values\": 1740,\n        \"samples\": [\n          -0.28925665591177263,\n          1.5286436643274068,\n          2.2100311949463842\n        ],\n        \"semantic_type\": \"\",\n        \"description\": \"\"\n      }\n    },\n    {\n      \"column\": \"median_income\",\n      \"properties\": {\n        \"dtype\": \"number\",\n        \"std\": 1.0000294130623473,\n        \"min\": -1.7733228861169585,\n        \"max\": 5.8259627886264855,\n        \"num_unique_values\": 11175,\n        \"samples\": [\n          1.7724024942946393,\n          0.9149004445977229,\n          0.17956177821846447\n        ],\n        \"semantic_type\": \"\",\n        \"description\": \"\"\n      }\n    }\n  ]\n}"
            }
          },
          "metadata": {},
          "execution_count": 9
        }
      ]
    },
    {
      "cell_type": "markdown",
      "source": [
        "# 3. Design the network."
      ],
      "metadata": {
        "id": "UZqu8f2LG1-U"
      }
    },
    {
      "cell_type": "code",
      "source": [
        "def create_model():\n",
        "  model = Sequential([\n",
        "      Dense(32, input_dim=8, activation='relu'),\n",
        "      Dense(64, activation='relu'),\n",
        "      Dense(32, activation='relu'),\n",
        "      Dense(1, activation='linear')\n",
        "    ])\n",
        "  return model"
      ],
      "metadata": {
        "id": "MmTHCxeI-FCN"
      },
      "execution_count": 10,
      "outputs": []
    },
    {
      "cell_type": "code",
      "source": [
        "model = create_model()\n",
        "model.summary()"
      ],
      "metadata": {
        "id": "6wn3uXKCCIqb",
        "outputId": "183b766d-ee08-4bac-c89a-d9de4a76dd01",
        "colab": {
          "base_uri": "https://localhost:8080/"
        }
      },
      "execution_count": 11,
      "outputs": [
        {
          "output_type": "stream",
          "name": "stdout",
          "text": [
            "Model: \"sequential\"\n",
            "_________________________________________________________________\n",
            " Layer (type)                Output Shape              Param #   \n",
            "=================================================================\n",
            " dense (Dense)               (None, 32)                288       \n",
            "                                                                 \n",
            " dense_1 (Dense)             (None, 64)                2112      \n",
            "                                                                 \n",
            " dense_2 (Dense)             (None, 32)                2080      \n",
            "                                                                 \n",
            " dense_3 (Dense)             (None, 1)                 33        \n",
            "                                                                 \n",
            "=================================================================\n",
            "Total params: 4513 (17.63 KB)\n",
            "Trainable params: 4513 (17.63 KB)\n",
            "Non-trainable params: 0 (0.00 Byte)\n",
            "_________________________________________________________________\n"
          ]
        }
      ]
    },
    {
      "cell_type": "code",
      "source": [
        "model.compile(\n",
        "    loss='mse',\n",
        "    optimizer=Adam(learning_rate=1e-3),\n",
        "    metrics=['mse']\n",
        ")"
      ],
      "metadata": {
        "id": "VvAFSdO--mbs"
      },
      "execution_count": 12,
      "outputs": []
    },
    {
      "cell_type": "markdown",
      "source": [
        "# 4. Train the network."
      ],
      "metadata": {
        "id": "jl2s24v5HEVB"
      }
    },
    {
      "cell_type": "code",
      "source": [
        "history = model.fit(\n",
        "    x_train_scaled.values,\n",
        "    y_train.values,\n",
        "    epochs=10,\n",
        "    batch_size=64,\n",
        "    validation_split=0.2\n",
        ")"
      ],
      "metadata": {
        "id": "6b4sHgL4_PGl",
        "outputId": "48d9f499-44cc-4936-96c7-1517cab4ff3a",
        "colab": {
          "base_uri": "https://localhost:8080/"
        }
      },
      "execution_count": 13,
      "outputs": [
        {
          "output_type": "stream",
          "name": "stdout",
          "text": [
            "Epoch 1/10\n",
            "213/213 [==============================] - 14s 17ms/step - loss: 51047309312.0000 - mse: 51047309312.0000 - val_loss: 76225036288.0000 - val_mse: 76225036288.0000\n",
            "Epoch 2/10\n",
            "213/213 [==============================] - 2s 11ms/step - loss: 42724216832.0000 - mse: 42724216832.0000 - val_loss: 65723465728.0000 - val_mse: 65723465728.0000\n",
            "Epoch 3/10\n",
            "213/213 [==============================] - 2s 8ms/step - loss: 19755366400.0000 - mse: 19755366400.0000 - val_loss: 49772306432.0000 - val_mse: 49772306432.0000\n",
            "Epoch 4/10\n",
            "213/213 [==============================] - 1s 7ms/step - loss: 12554963968.0000 - mse: 12554963968.0000 - val_loss: 40687267840.0000 - val_mse: 40687267840.0000\n",
            "Epoch 5/10\n",
            "213/213 [==============================] - 2s 7ms/step - loss: 10975030272.0000 - mse: 10975030272.0000 - val_loss: 33150720000.0000 - val_mse: 33150720000.0000\n",
            "Epoch 6/10\n",
            "213/213 [==============================] - 2s 7ms/step - loss: 9650366464.0000 - mse: 9650366464.0000 - val_loss: 26556383232.0000 - val_mse: 26556383232.0000\n",
            "Epoch 7/10\n",
            "213/213 [==============================] - 1s 5ms/step - loss: 8449132032.0000 - mse: 8449132032.0000 - val_loss: 20875313152.0000 - val_mse: 20875313152.0000\n",
            "Epoch 8/10\n",
            "213/213 [==============================] - 1s 5ms/step - loss: 7391055872.0000 - mse: 7391055872.0000 - val_loss: 16442812416.0000 - val_mse: 16442812416.0000\n",
            "Epoch 9/10\n",
            "213/213 [==============================] - 1s 5ms/step - loss: 6545597440.0000 - mse: 6545597440.0000 - val_loss: 13357608960.0000 - val_mse: 13357608960.0000\n",
            "Epoch 10/10\n",
            "213/213 [==============================] - 1s 4ms/step - loss: 5926666752.0000 - mse: 5926666752.0000 - val_loss: 10871404544.0000 - val_mse: 10871404544.0000\n"
          ]
        }
      ]
    },
    {
      "cell_type": "code",
      "source": [
        "def plot_history(history, key):\n",
        "  plt.plot(history.history[key])\n",
        "  plt.plot(history.history['val_'+key])\n",
        "  plt.xlabel(\"Epochs\")\n",
        "  plt.ylabel(key)\n",
        "  plt.legend([key, 'val_'+key])\n",
        "  plt.show()"
      ],
      "metadata": {
        "id": "tAOe1hyvBZzw"
      },
      "execution_count": 14,
      "outputs": []
    },
    {
      "cell_type": "code",
      "source": [
        "# Loss: MSE | Learnin Rate: 1e-03\n",
        "plot_history(history, 'mse')"
      ],
      "metadata": {
        "id": "zrgnTOm_BnYP",
        "outputId": "5ea09d2f-0c7e-43ed-a3b1-971e17ade7ff",
        "colab": {
          "base_uri": "https://localhost:8080/",
          "height": 465
        }
      },
      "execution_count": 15,
      "outputs": [
        {
          "output_type": "display_data",
          "data": {
            "text/plain": [
              "<Figure size 640x480 with 1 Axes>"
            ],
            "image/png": "[encoded data removed]"
          },
          "metadata": {}
        }
      ]
    },
    {
      "cell_type": "code",
      "source": [
        "# Loss: MSE | Learnin Rate: 1e-02\n",
        "model = create_model()\n",
        "model.compile(\n",
        "    loss='mse',\n",
        "    optimizer=Adam(learning_rate=1e-2),\n",
        "    metrics=['mse']\n",
        ")\n",
        "history = model.fit(\n",
        "    x_train_scaled.values,\n",
        "    y_train.values,\n",
        "    epochs=10,\n",
        "    batch_size=64,\n",
        "    validation_split=0.2\n",
        ")\n",
        "plot_history(history, 'mse')"
      ],
      "metadata": {
        "id": "3DWVvp-k_3CP",
        "outputId": "c292449d-c2d5-406e-89a9-60970b4db795",
        "colab": {
          "base_uri": "https://localhost:8080/",
          "height": 827
        }
      },
      "execution_count": 16,
      "outputs": [
        {
          "output_type": "stream",
          "name": "stdout",
          "text": [
            "Epoch 1/10\n",
            "213/213 [==============================] - 2s 5ms/step - loss: 23027054592.0000 - mse: 23027054592.0000 - val_loss: 14862544896.0000 - val_mse: 14862544896.0000\n",
            "Epoch 2/10\n",
            "213/213 [==============================] - 1s 4ms/step - loss: 5150373888.0000 - mse: 5150373888.0000 - val_loss: 6617753088.0000 - val_mse: 6617753088.0000\n",
            "Epoch 3/10\n",
            "213/213 [==============================] - 1s 5ms/step - loss: 4343407616.0000 - mse: 4343407616.0000 - val_loss: 5625460224.0000 - val_mse: 5625460224.0000\n",
            "Epoch 4/10\n",
            "213/213 [==============================] - 1s 5ms/step - loss: 4210707968.0000 - mse: 4210707968.0000 - val_loss: 5423553536.0000 - val_mse: 5423553536.0000\n",
            "Epoch 5/10\n",
            "213/213 [==============================] - 1s 5ms/step - loss: 4134899712.0000 - mse: 4134899712.0000 - val_loss: 5468612096.0000 - val_mse: 5468612096.0000\n",
            "Epoch 6/10\n",
            "213/213 [==============================] - 1s 4ms/step - loss: 4107074304.0000 - mse: 4107074304.0000 - val_loss: 5396822016.0000 - val_mse: 5396822016.0000\n",
            "Epoch 7/10\n",
            "213/213 [==============================] - 1s 4ms/step - loss: 4088248832.0000 - mse: 4088248832.0000 - val_loss: 5451232256.0000 - val_mse: 5451232256.0000\n",
            "Epoch 8/10\n",
            "213/213 [==============================] - 1s 4ms/step - loss: 4045120256.0000 - mse: 4045120256.0000 - val_loss: 5444047360.0000 - val_mse: 5444047360.0000\n",
            "Epoch 9/10\n",
            "213/213 [==============================] - 2s 7ms/step - loss: 4027444992.0000 - mse: 4027444992.0000 - val_loss: 5587300352.0000 - val_mse: 5587300352.0000\n",
            "Epoch 10/10\n",
            "213/213 [==============================] - 2s 9ms/step - loss: 4023142656.0000 - mse: 4023142656.0000 - val_loss: 5201014272.0000 - val_mse: 5201014272.0000\n"
          ]
        },
        {
          "output_type": "display_data",
          "data": {
            "text/plain": [
              "<Figure size 640x480 with 1 Axes>"
            ],
            "image/png": "[encoded data removed]"
          },
          "metadata": {}
        }
      ]
    },
    {
      "cell_type": "code",
      "source": [
        "# Loss: MSLE | Learnin Rate: 1e-03\n",
        "model = create_model()\n",
        "model.compile(\n",
        "    loss='msle',\n",
        "    optimizer=Adam(learning_rate=1e-3),\n",
        "    metrics=['msle']\n",
        ")\n",
        "history = model.fit(\n",
        "    x_train_scaled.values,\n",
        "    y_train.values,\n",
        "    epochs=10,\n",
        "    batch_size=64,\n",
        "    validation_split=0.2\n",
        ")\n",
        "plot_history(history, 'msle')"
      ],
      "metadata": {
        "id": "WHpLyPnPAlDo",
        "outputId": "10fa83a2-4390-403f-ea14-536372ad0d8b",
        "colab": {
          "base_uri": "https://localhost:8080/",
          "height": 811
        }
      },
      "execution_count": 17,
      "outputs": [
        {
          "output_type": "stream",
          "name": "stdout",
          "text": [
            "Epoch 1/10\n",
            "213/213 [==============================] - 7s 6ms/step - loss: 75.0356 - msle: 75.0356 - val_loss: 51.8816 - val_msle: 51.8816\n",
            "Epoch 2/10\n",
            "213/213 [==============================] - 1s 4ms/step - loss: 34.1078 - msle: 34.1078 - val_loss: 33.1655 - val_msle: 33.1655\n",
            "Epoch 3/10\n",
            "213/213 [==============================] - 1s 4ms/step - loss: 21.7001 - msle: 21.7001 - val_loss: 24.0888 - val_msle: 24.0888\n",
            "Epoch 4/10\n",
            "213/213 [==============================] - 1s 4ms/step - loss: 15.2277 - msle: 15.2277 - val_loss: 18.4481 - val_msle: 18.4481\n",
            "Epoch 5/10\n",
            "213/213 [==============================] - 1s 4ms/step - loss: 11.1291 - msle: 11.1291 - val_loss: 14.5213 - val_msle: 14.5213\n",
            "Epoch 6/10\n",
            "213/213 [==============================] - 1s 4ms/step - loss: 8.3572 - msle: 8.3572 - val_loss: 11.6907 - val_msle: 11.6907\n",
            "Epoch 7/10\n",
            "213/213 [==============================] - 1s 4ms/step - loss: 6.4106 - msle: 6.4106 - val_loss: 9.5796 - val_msle: 9.5796\n",
            "Epoch 8/10\n",
            "213/213 [==============================] - 1s 4ms/step - loss: 4.9921 - msle: 4.9921 - val_loss: 7.9524 - val_msle: 7.9524\n",
            "Epoch 9/10\n",
            "213/213 [==============================] - 1s 4ms/step - loss: 3.9295 - msle: 3.9295 - val_loss: 6.6649 - val_msle: 6.6649\n",
            "Epoch 10/10\n",
            "213/213 [==============================] - 1s 4ms/step - loss: 3.1179 - msle: 3.1179 - val_loss: 5.6320 - val_msle: 5.6320\n"
          ]
        },
        {
          "output_type": "display_data",
          "data": {
            "text/plain": [
              "<Figure size 640x480 with 1 Axes>"
            ],
            "image/png": "[encoded data removed]"
          },
          "metadata": {}
        }
      ]
    },
    {
      "cell_type": "code",
      "source": [
        "# Loss: MSLE | Learnin Rate: 1e-02\n",
        "model = create_model()\n",
        "model.compile(\n",
        "    loss='msle',\n",
        "    optimizer=Adam(learning_rate=1e-2),\n",
        "    metrics=['msle']\n",
        ")\n",
        "history = model.fit(\n",
        "    x_train_scaled.values,\n",
        "    y_train.values,\n",
        "    epochs=10,\n",
        "    batch_size=64,\n",
        "    validation_split=0.2\n",
        ")\n",
        "plot_history(history, 'msle')"
      ],
      "metadata": {
        "id": "ZEaK67lkCncC",
        "outputId": "ba61babe-6809-4ea1-cd81-84deb3f7d606",
        "colab": {
          "base_uri": "https://localhost:8080/",
          "height": 811
        }
      },
      "execution_count": 18,
      "outputs": [
        {
          "output_type": "stream",
          "name": "stdout",
          "text": [
            "Epoch 1/10\n",
            "213/213 [==============================] - 2s 6ms/step - loss: 22.0534 - msle: 22.0534 - val_loss: 6.9027 - val_msle: 6.9027\n",
            "Epoch 2/10\n",
            "213/213 [==============================] - 1s 6ms/step - loss: 2.1995 - msle: 2.1995 - val_loss: 2.5649 - val_msle: 2.5649\n",
            "Epoch 3/10\n",
            "213/213 [==============================] - 1s 5ms/step - loss: 0.7073 - msle: 0.7073 - val_loss: 1.3419 - val_msle: 1.3419\n",
            "Epoch 4/10\n",
            "213/213 [==============================] - 1s 4ms/step - loss: 0.3869 - msle: 0.3869 - val_loss: 0.8752 - val_msle: 0.8752\n",
            "Epoch 5/10\n",
            "213/213 [==============================] - 1s 4ms/step - loss: 0.2978 - msle: 0.2978 - val_loss: 0.6592 - val_msle: 0.6592\n",
            "Epoch 6/10\n",
            "213/213 [==============================] - 1s 4ms/step - loss: 0.2602 - msle: 0.2602 - val_loss: 0.5395 - val_msle: 0.5395\n",
            "Epoch 7/10\n",
            "213/213 [==============================] - 1s 4ms/step - loss: 0.2358 - msle: 0.2358 - val_loss: 0.4637 - val_msle: 0.4637\n",
            "Epoch 8/10\n",
            "213/213 [==============================] - 1s 4ms/step - loss: 0.2168 - msle: 0.2168 - val_loss: 0.4093 - val_msle: 0.4093\n",
            "Epoch 9/10\n",
            "213/213 [==============================] - 1s 4ms/step - loss: 0.2010 - msle: 0.2010 - val_loss: 0.3677 - val_msle: 0.3677\n",
            "Epoch 10/10\n",
            "213/213 [==============================] - 1s 4ms/step - loss: 0.1873 - msle: 0.1873 - val_loss: 0.3333 - val_msle: 0.3333\n"
          ]
        },
        {
          "output_type": "display_data",
          "data": {
            "text/plain": [
              "<Figure size 640x480 with 1 Axes>"
            ],
            "image/png": "[encoded data removed]"
          },
          "metadata": {}
        }
      ]
    },
    {
      "cell_type": "code",
      "source": [
        "# Loss: MSLE | Learnin Rate: 1\n",
        "model = create_model()\n",
        "model.compile(\n",
        "    loss='msle',\n",
        "    optimizer=Adam(learning_rate=1),\n",
        "    metrics=['msle']\n",
        ")\n",
        "history = model.fit(\n",
        "    x_train_scaled.values,\n",
        "    y_train.values,\n",
        "    epochs=10,\n",
        "    batch_size=64,\n",
        "    validation_split=0.2\n",
        ")\n",
        "plot_history(history, 'msle')"
      ],
      "metadata": {
        "id": "CcH-HplXBEVS",
        "outputId": "1707f0f7-f915-46df-ca48-ffa86f797748",
        "colab": {
          "base_uri": "https://localhost:8080/",
          "height": 811
        }
      },
      "execution_count": 19,
      "outputs": [
        {
          "output_type": "stream",
          "name": "stdout",
          "text": [
            "Epoch 1/10\n",
            "213/213 [==============================] - 2s 5ms/step - loss: 131.6477 - msle: 131.6477 - val_loss: 150.7063 - val_msle: 150.7063\n",
            "Epoch 2/10\n",
            "213/213 [==============================] - 1s 4ms/step - loss: 145.3166 - msle: 145.3166 - val_loss: 150.7063 - val_msle: 150.7063\n",
            "Epoch 3/10\n",
            "213/213 [==============================] - 1s 6ms/step - loss: 145.3166 - msle: 145.3166 - val_loss: 150.7063 - val_msle: 150.7063\n",
            "Epoch 4/10\n",
            "213/213 [==============================] - 1s 5ms/step - loss: 145.3166 - msle: 145.3166 - val_loss: 150.7063 - val_msle: 150.7063\n",
            "Epoch 5/10\n",
            "213/213 [==============================] - 1s 5ms/step - loss: 145.3166 - msle: 145.3166 - val_loss: 150.7063 - val_msle: 150.7063\n",
            "Epoch 6/10\n",
            "213/213 [==============================] - 1s 4ms/step - loss: 145.3166 - msle: 145.3166 - val_loss: 150.7063 - val_msle: 150.7063\n",
            "Epoch 7/10\n",
            "213/213 [==============================] - 1s 4ms/step - loss: 145.3166 - msle: 145.3166 - val_loss: 150.7063 - val_msle: 150.7063\n",
            "Epoch 8/10\n",
            "213/213 [==============================] - 1s 4ms/step - loss: 145.3166 - msle: 145.3166 - val_loss: 150.7063 - val_msle: 150.7063\n",
            "Epoch 9/10\n",
            "213/213 [==============================] - 1s 4ms/step - loss: 145.3166 - msle: 145.3166 - val_loss: 150.7063 - val_msle: 150.7063\n",
            "Epoch 10/10\n",
            "213/213 [==============================] - 1s 4ms/step - loss: 145.3166 - msle: 145.3166 - val_loss: 150.7063 - val_msle: 150.7063\n"
          ]
        },
        {
          "output_type": "display_data",
          "data": {
            "text/plain": [
              "<Figure size 640x480 with 1 Axes>"
            ],
            "image/png": "[encoded data removed]"
          },
          "metadata": {}
        }
      ]
    },
    {
      "cell_type": "markdown",
      "source": [
        "# Exercise 1: Re-train the model to improve its performance and evaluate it on the test set"
      ],
      "metadata": {
        "id": "QfOWVeIVIFpn"
      }
    },
    {
      "cell_type": "code",
      "source": [
        "# Train the model\n",
        "history = model.fit(\n",
        "    x_train_scaled.values,\n",
        "    y_train.values,\n",
        "    epochs=10,\n",
        "    batch_size=64,\n",
        "    validation_split=0.2\n",
        ")\n",
        "\n",
        "# Evaluate the model on the test set\n",
        "test_loss, test_mse = model.evaluate(x_test_scaled.values, y_test.values)\n",
        "print(\"Test Loss:\", test_loss)\n",
        "print(\"Test MSE:\", test_mse)\n"
      ],
      "metadata": {
        "id": "6E2evm_HDNzv",
        "outputId": "229c66fd-4f1c-4e0e-901c-c1bdb8b93a1b",
        "colab": {
          "base_uri": "https://localhost:8080/"
        }
      },
      "execution_count": 23,
      "outputs": [
        {
          "output_type": "stream",
          "name": "stdout",
          "text": [
            "Epoch 1/10\n",
            "213/213 [==============================] - 3s 14ms/step - loss: 145.3166 - msle: 145.3166 - val_loss: 150.7063 - val_msle: 150.7063\n",
            "Epoch 2/10\n",
            "213/213 [==============================] - 2s 11ms/step - loss: 145.3166 - msle: 145.3166 - val_loss: 150.7063 - val_msle: 150.7063\n",
            "Epoch 3/10\n",
            "213/213 [==============================] - 2s 10ms/step - loss: 145.3166 - msle: 145.3166 - val_loss: 150.7063 - val_msle: 150.7063\n",
            "Epoch 4/10\n",
            "213/213 [==============================] - 2s 9ms/step - loss: 145.3166 - msle: 145.3166 - val_loss: 150.7063 - val_msle: 150.7063\n",
            "Epoch 5/10\n",
            "213/213 [==============================] - 2s 9ms/step - loss: 145.3166 - msle: 145.3166 - val_loss: 150.7063 - val_msle: 150.7063\n",
            "Epoch 6/10\n",
            "213/213 [==============================] - 2s 8ms/step - loss: 145.3166 - msle: 145.3166 - val_loss: 150.7063 - val_msle: 150.7063\n",
            "Epoch 7/10\n",
            "213/213 [==============================] - 1s 6ms/step - loss: 145.3166 - msle: 145.3166 - val_loss: 150.7063 - val_msle: 150.7063\n",
            "Epoch 8/10\n",
            "213/213 [==============================] - 1s 6ms/step - loss: 145.3166 - msle: 145.3166 - val_loss: 150.7063 - val_msle: 150.7063\n",
            "Epoch 9/10\n",
            "213/213 [==============================] - 1s 6ms/step - loss: 145.3166 - msle: 145.3166 - val_loss: 150.7063 - val_msle: 150.7063\n",
            "Epoch 10/10\n",
            "213/213 [==============================] - 1s 5ms/step - loss: 145.3166 - msle: 145.3166 - val_loss: 150.7063 - val_msle: 150.7063\n",
            "94/94 [==============================] - 0s 2ms/step - loss: 146.3747 - msle: 146.3747\n",
            "Test Loss: 146.37469482421875\n",
            "Test MSE: 146.37469482421875\n"
          ]
        }
      ]
    },
    {
      "cell_type": "code",
      "source": [
        "# Predecir en el conjunto de prueba\n",
        "predictions = model.predict(x_test_scaled.values)\n"
      ],
      "metadata": {
        "id": "P-L3rgSEIQqr",
        "outputId": "a668374a-523d-47de-cc63-c80be35a3ad6",
        "colab": {
          "base_uri": "https://localhost:8080/"
        }
      },
      "execution_count": 24,
      "outputs": [
        {
          "output_type": "stream",
          "name": "stdout",
          "text": [
            "94/94 [==============================] - 1s 4ms/step\n"
          ]
        }
      ]
    },
    {
      "cell_type": "code",
      "source": [
        "import matplotlib.pyplot as plt\n",
        "\n",
        "# Visualizar las predicciones frente a las etiquetas reales\n",
        "plt.scatter(y_test.values, predictions)\n",
        "plt.xlabel('True Values')\n",
        "plt.ylabel('Predictions')\n",
        "plt.title('Predictions vs. True Values')\n",
        "plt.show()\n"
      ],
      "metadata": {
        "id": "qg-Fk07fISiM",
        "outputId": "04745e3c-9542-476d-8e81-96e1e4e85a2f",
        "colab": {
          "base_uri": "https://localhost:8080/",
          "height": 472
        }
      },
      "execution_count": 25,
      "outputs": [
        {
          "output_type": "display_data",
          "data": {
            "text/plain": [
              "<Figure size 640x480 with 1 Axes>"
            ],
            "image/png": "[encoded data removed]"
          },
          "metadata": {}
        }
      ]
    }
  ]
}