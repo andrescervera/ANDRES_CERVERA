{
  "nbformat": 4,
  "nbformat_minor": 0,
  "metadata": {
    "colab": {
      "provenance": [],
      "gpuType": "T4"
    },
    "kernelspec": {
      "name": "python3",
      "display_name": "Python 3"
    },
    "accelerator": "GPU"
  },
  "cells": [
    {
      "cell_type": "markdown",
      "metadata": {
        "id": "HZenyhaE7D5U"
      },
      "source": [
        "# Workshop 1: Mobile Price Range Classification\n",
        "\n",
        "In this workshop we will learn how to train a neural network with numeric data as input to predict the price range of mobile phones ([info of the data](https://www.kaggle.com/iabhishekofficial/mobile-price-classification/data#)). The main blocks of the workshop are:\n",
        "\n",
        "1. Get the data from Google Drive.\n",
        "2. Load and Pre-process the data.\n",
        "3. Define a Fully Connected Neural Network.\n",
        "4. Choose loss function and optimizer.\n",
        "5. Train the network.\n",
        "\n",
        "The main libraries thar will be used in the workshop are:\n",
        "\n",
        "- Tensorflow\n",
        "- Keras\n",
        "- Sci-kit Learn\n",
        "- Matplotlib\n",
        "- Numpy\n",
        "- Pandas\n",
        "\n",
        "[Reference](https://towardsdatascience.com/building-our-first-neural-network-in-keras-bdc8abbc17f5)"
      ]
    },
    {
      "cell_type": "markdown",
      "metadata": {
        "id": "ptnsZfN-7A_0"
      },
      "source": [
        "## 1. Get the data from Google Drive"
      ]
    },
    {
      "cell_type": "code",
      "metadata": {
        "id": "yvo1e0KT4zTv",
        "colab": {
          "base_uri": "https://localhost:8080/"
        },
        "outputId": "3020e72c-ccf5-4c97-edae-8444fdef46c2"
      },
      "source": [
        "# Import libraries to interact with Google Drive\n",
        "from pydrive.auth import GoogleAuth\n",
        "from pydrive.drive import GoogleDrive\n",
        "from google.colab import auth\n",
        "from oauth2client.client import GoogleCredentials"
      ],
      "execution_count": 1,
      "outputs": [
        {
          "output_type": "stream",
          "name": "stderr",
          "text": [
            "WARNING:root:pydrive is deprecated and no longer maintained. We recommend that you migrate your projects to pydrive2, the maintained fork of pydrive\n"
          ]
        }
      ]
    },
    {
      "cell_type": "code",
      "metadata": {
        "id": "qw0YVraI5hjG"
      },
      "source": [
        "# Authenticate with your Google account to get access to the data\n",
        "auth.authenticate_user()\n",
        "gauth = GoogleAuth()\n",
        "gauth.credentials = GoogleCredentials.get_application_default()\n",
        "drive = GoogleDrive(gauth)"
      ],
      "execution_count": 2,
      "outputs": []
    },
    {
      "cell_type": "code",
      "metadata": {
        "id": "vIJOt1lg5pvG"
      },
      "source": [
        "# Download data\n",
        "download = drive.CreateFile({'id': '1igTyUp-YTHG0ig9VeNu83R8jBWn5Djji'})\n",
        "download.GetContentFile('mobile_price.zip')"
      ],
      "execution_count": 3,
      "outputs": []
    },
    {
      "cell_type": "code",
      "metadata": {
        "id": "jRnbuD8c6LLp"
      },
      "source": [
        "# Extract data from zip file\n",
        "import zipfile\n",
        "from pathlib import Path\n",
        "data_path = Path(\"./mobile_price.zip\")\n",
        "\n",
        "with zipfile.ZipFile(str(data_path), 'r') as zip_ref:\n",
        "    zip_ref.extractall(\"./data\")"
      ],
      "execution_count": 4,
      "outputs": []
    },
    {
      "cell_type": "code",
      "metadata": {
        "id": "bxAVc9xw6eHQ",
        "colab": {
          "base_uri": "https://localhost:8080/"
        },
        "outputId": "5779d8ae-a74d-45d4-8721-f057af06ac67"
      },
      "source": [
        "# List files of ./data directory\n",
        "!ls ./data"
      ],
      "execution_count": 5,
      "outputs": [
        {
          "output_type": "stream",
          "name": "stdout",
          "text": [
            "test.csv  train.csv\n"
          ]
        }
      ]
    },
    {
      "cell_type": "markdown",
      "metadata": {
        "id": "67CgIbop9ScG"
      },
      "source": [
        "## 2. Load and Pre-process the data\n",
        "\n"
      ]
    },
    {
      "cell_type": "code",
      "metadata": {
        "id": "DvnZlJFV-21i"
      },
      "source": [
        "# Load dependencies for loading data\n",
        "import numpy as np\n",
        "import pandas as pd"
      ],
      "execution_count": 6,
      "outputs": []
    },
    {
      "cell_type": "code",
      "metadata": {
        "id": "LT55rVd2_IkM"
      },
      "source": [
        "# Load training dataset and check variables\n",
        "dataset = pd.read_csv('./data/train.csv')"
      ],
      "execution_count": 7,
      "outputs": []
    },
    {
      "cell_type": "code",
      "metadata": {
        "id": "m2cpgTmCDqzQ",
        "colab": {
          "base_uri": "https://localhost:8080/"
        },
        "outputId": "ee8dcf40-00f3-4aba-f753-a70cb954bc73"
      },
      "source": [
        "# Show variables\n",
        "dataset.columns"
      ],
      "execution_count": 8,
      "outputs": [
        {
          "output_type": "execute_result",
          "data": {
            "text/plain": [
              "Index(['battery_power', 'blue', 'clock_speed', 'dual_sim', 'fc', 'four_g',\n",
              "       'int_memory', 'm_dep', 'mobile_wt', 'n_cores', 'pc', 'px_height',\n",
              "       'px_width', 'ram', 'sc_h', 'sc_w', 'talk_time', 'three_g',\n",
              "       'touch_screen', 'wifi', 'price_range'],\n",
              "      dtype='object')"
            ]
          },
          "metadata": {},
          "execution_count": 8
        }
      ]
    },
    {
      "cell_type": "code",
      "metadata": {
        "id": "L2fZ3NwMB0qD",
        "colab": {
          "base_uri": "https://localhost:8080/",
          "height": 255
        },
        "outputId": "4c6d1cf4-a65d-4ac7-9f9b-5f67a27b91c8"
      },
      "source": [
        "# Show first 5 rows\n",
        "dataset.head()"
      ],
      "execution_count": 9,
      "outputs": [
        {
          "output_type": "execute_result",
          "data": {
            "text/plain": [
              "   battery_power  blue  clock_speed  dual_sim  fc  four_g  int_memory  m_dep  \\\n",
              "0            842     0          2.2         0   1       0           7    0.6   \n",
              "1           1021     1          0.5         1   0       1          53    0.7   \n",
              "2            563     1          0.5         1   2       1          41    0.9   \n",
              "3            615     1          2.5         0   0       0          10    0.8   \n",
              "4           1821     1          1.2         0  13       1          44    0.6   \n",
              "\n",
              "   mobile_wt  n_cores  ...  px_height  px_width   ram  sc_h  sc_w  talk_time  \\\n",
              "0        188        2  ...         20       756  2549     9     7         19   \n",
              "1        136        3  ...        905      1988  2631    17     3          7   \n",
              "2        145        5  ...       1263      1716  2603    11     2          9   \n",
              "3        131        6  ...       1216      1786  2769    16     8         11   \n",
              "4        141        2  ...       1208      1212  1411     8     2         15   \n",
              "\n",
              "   three_g  touch_screen  wifi  price_range  \n",
              "0        0             0     1            1  \n",
              "1        1             1     0            2  \n",
              "2        1             1     0            2  \n",
              "3        1             0     0            2  \n",
              "4        1             1     0            1  \n",
              "\n",
              "[5 rows x 21 columns]"
            ],
            "text/html": [
              "\n",
              "  <div id=\"df-803512ca-61e1-4431-8bd1-0f6d9fbdd2f0\" class=\"colab-df-container\">\n",
              "    <div>\n",
              "<style scoped>\n",
              "    .dataframe tbody tr th:only-of-type {\n",
              "        vertical-align: middle;\n",
              "    }\n",
              "\n",
              "    .dataframe tbody tr th {\n",
              "        vertical-align: top;\n",
              "    }\n",
              "\n",
              "    .dataframe thead th {\n",
              "        text-align: right;\n",
              "    }\n",
              "</style>\n",
              "<table border=\"1\" class=\"dataframe\">\n",
              "  <thead>\n",
              "    <tr style=\"text-align: right;\">\n",
              "      <th></th>\n",
              "      <th>battery_power</th>\n",
              "      <th>blue</th>\n",
              "      <th>clock_speed</th>\n",
              "      <th>dual_sim</th>\n",
              "      <th>fc</th>\n",
              "      <th>four_g</th>\n",
              "      <th>int_memory</th>\n",
              "      <th>m_dep</th>\n",
              "      <th>mobile_wt</th>\n",
              "      <th>n_cores</th>\n",
              "      <th>...</th>\n",
              "      <th>px_height</th>\n",
              "      <th>px_width</th>\n",
              "      <th>ram</th>\n",
              "      <th>sc_h</th>\n",
              "      <th>sc_w</th>\n",
              "      <th>talk_time</th>\n",
              "      <th>three_g</th>\n",
              "      <th>touch_screen</th>\n",
              "      <th>wifi</th>\n",
              "      <th>price_range</th>\n",
              "    </tr>\n",
              "  </thead>\n",
              "  <tbody>\n",
              "    <tr>\n",
              "      <th>0</th>\n",
              "      <td>842</td>\n",
              "      <td>0</td>\n",
              "      <td>2.2</td>\n",
              "      <td>0</td>\n",
              "      <td>1</td>\n",
              "      <td>0</td>\n",
              "      <td>7</td>\n",
              "      <td>0.6</td>\n",
              "      <td>188</td>\n",
              "      <td>2</td>\n",
              "      <td>...</td>\n",
              "      <td>20</td>\n",
              "      <td>756</td>\n",
              "      <td>2549</td>\n",
              "      <td>9</td>\n",
              "      <td>7</td>\n",
              "      <td>19</td>\n",
              "      <td>0</td>\n",
              "      <td>0</td>\n",
              "      <td>1</td>\n",
              "      <td>1</td>\n",
              "    </tr>\n",
              "    <tr>\n",
              "      <th>1</th>\n",
              "      <td>1021</td>\n",
              "      <td>1</td>\n",
              "      <td>0.5</td>\n",
              "      <td>1</td>\n",
              "      <td>0</td>\n",
              "      <td>1</td>\n",
              "      <td>53</td>\n",
              "      <td>0.7</td>\n",
              "      <td>136</td>\n",
              "      <td>3</td>\n",
              "      <td>...</td>\n",
              "      <td>905</td>\n",
              "      <td>1988</td>\n",
              "      <td>2631</td>\n",
              "      <td>17</td>\n",
              "      <td>3</td>\n",
              "      <td>7</td>\n",
              "      <td>1</td>\n",
              "      <td>1</td>\n",
              "      <td>0</td>\n",
              "      <td>2</td>\n",
              "    </tr>\n",
              "    <tr>\n",
              "      <th>2</th>\n",
              "      <td>563</td>\n",
              "      <td>1</td>\n",
              "      <td>0.5</td>\n",
              "      <td>1</td>\n",
              "      <td>2</td>\n",
              "      <td>1</td>\n",
              "      <td>41</td>\n",
              "      <td>0.9</td>\n",
              "      <td>145</td>\n",
              "      <td>5</td>\n",
              "      <td>...</td>\n",
              "      <td>1263</td>\n",
              "      <td>1716</td>\n",
              "      <td>2603</td>\n",
              "      <td>11</td>\n",
              "      <td>2</td>\n",
              "      <td>9</td>\n",
              "      <td>1</td>\n",
              "      <td>1</td>\n",
              "      <td>0</td>\n",
              "      <td>2</td>\n",
              "    </tr>\n",
              "    <tr>\n",
              "      <th>3</th>\n",
              "      <td>615</td>\n",
              "      <td>1</td>\n",
              "      <td>2.5</td>\n",
              "      <td>0</td>\n",
              "      <td>0</td>\n",
              "      <td>0</td>\n",
              "      <td>10</td>\n",
              "      <td>0.8</td>\n",
              "      <td>131</td>\n",
              "      <td>6</td>\n",
              "      <td>...</td>\n",
              "      <td>1216</td>\n",
              "      <td>1786</td>\n",
              "      <td>2769</td>\n",
              "      <td>16</td>\n",
              "      <td>8</td>\n",
              "      <td>11</td>\n",
              "      <td>1</td>\n",
              "      <td>0</td>\n",
              "      <td>0</td>\n",
              "      <td>2</td>\n",
              "    </tr>\n",
              "    <tr>\n",
              "      <th>4</th>\n",
              "      <td>1821</td>\n",
              "      <td>1</td>\n",
              "      <td>1.2</td>\n",
              "      <td>0</td>\n",
              "      <td>13</td>\n",
              "      <td>1</td>\n",
              "      <td>44</td>\n",
              "      <td>0.6</td>\n",
              "      <td>141</td>\n",
              "      <td>2</td>\n",
              "      <td>...</td>\n",
              "      <td>1208</td>\n",
              "      <td>1212</td>\n",
              "      <td>1411</td>\n",
              "      <td>8</td>\n",
              "      <td>2</td>\n",
              "      <td>15</td>\n",
              "      <td>1</td>\n",
              "      <td>1</td>\n",
              "      <td>0</td>\n",
              "      <td>1</td>\n",
              "    </tr>\n",
              "  </tbody>\n",
              "</table>\n",
              "<p>5 rows × 21 columns</p>\n",
              "</div>\n",
              "    <div class=\"colab-df-buttons\">\n",
              "\n",
              "  <div class=\"colab-df-container\">\n",
              "    <button class=\"colab-df-convert\" onclick=\"convertToInteractive('df-803512ca-61e1-4431-8bd1-0f6d9fbdd2f0')\"\n",
              "            title=\"Convert this dataframe to an interactive table.\"\n",
              "            style=\"display:none;\">\n",
              "\n",
              "  <svg xmlns=\"http://www.w3.org/2000/svg\" height=\"24px\" viewBox=\"0 -960 960 960\">\n",
              "    <path d=\"M120-120v-720h720v720H120Zm60-500h600v-160H180v160Zm220 220h160v-160H400v160Zm0 220h160v-160H400v160ZM180-400h160v-160H180v160Zm440 0h160v-160H620v160ZM180-180h160v-160H180v160Zm440 0h160v-160H620v160Z\"/>\n",
              "  </svg>\n",
              "    </button>\n",
              "\n",
              "  <style>\n",
              "    .colab-df-container {\n",
              "      display:flex;\n",
              "      gap: 12px;\n",
              "    }\n",
              "\n",
              "    .colab-df-convert {\n",
              "      background-color: #E8F0FE;\n",
              "      border: none;\n",
              "      border-radius: 50%;\n",
              "      cursor: pointer;\n",
              "      display: none;\n",
              "      fill: #1967D2;\n",
              "      height: 32px;\n",
              "      padding: 0 0 0 0;\n",
              "      width: 32px;\n",
              "    }\n",
              "\n",
              "    .colab-df-convert:hover {\n",
              "      background-color: #E2EBFA;\n",
              "      box-shadow: 0px 1px 2px rgba(60, 64, 67, 0.3), 0px 1px 3px 1px rgba(60, 64, 67, 0.15);\n",
              "      fill: #174EA6;\n",
              "    }\n",
              "\n",
              "    .colab-df-buttons div {\n",
              "      margin-bottom: 4px;\n",
              "    }\n",
              "\n",
              "    [theme=dark] .colab-df-convert {\n",
              "      background-color: #3B4455;\n",
              "      fill: #D2E3FC;\n",
              "    }\n",
              "\n",
              "    [theme=dark] .colab-df-convert:hover {\n",
              "      background-color: #434B5C;\n",
              "      box-shadow: 0px 1px 3px 1px rgba(0, 0, 0, 0.15);\n",
              "      filter: drop-shadow(0px 1px 2px rgba(0, 0, 0, 0.3));\n",
              "      fill: #FFFFFF;\n",
              "    }\n",
              "  </style>\n",
              "\n",
              "    <script>\n",
              "      const buttonEl =\n",
              "        document.querySelector('#df-803512ca-61e1-4431-8bd1-0f6d9fbdd2f0 button.colab-df-convert');\n",
              "      buttonEl.style.display =\n",
              "        google.colab.kernel.accessAllowed ? 'block' : 'none';\n",
              "\n",
              "      async function convertToInteractive(key) {\n",
              "        const element = document.querySelector('#df-803512ca-61e1-4431-8bd1-0f6d9fbdd2f0');\n",
              "        const dataTable =\n",
              "          await google.colab.kernel.invokeFunction('convertToInteractive',\n",
              "                                                    [key], {});\n",
              "        if (!dataTable) return;\n",
              "\n",
              "        const docLinkHtml = 'Like what you see? Visit the ' +\n",
              "          '<a target=\"_blank\" href=https://colab.research.google.com/notebooks/data_table.ipynb>data table notebook</a>'\n",
              "          + ' to learn more about interactive tables.';\n",
              "        element.innerHTML = '';\n",
              "        dataTable['output_type'] = 'display_data';\n",
              "        await google.colab.output.renderOutput(dataTable, element);\n",
              "        const docLink = document.createElement('div');\n",
              "        docLink.innerHTML = docLinkHtml;\n",
              "        element.appendChild(docLink);\n",
              "      }\n",
              "    </script>\n",
              "  </div>\n",
              "\n",
              "\n",
              "<div id=\"df-2e4bb84b-ec43-4bc4-9d22-ecede388c788\">\n",
              "  <button class=\"colab-df-quickchart\" onclick=\"quickchart('df-2e4bb84b-ec43-4bc4-9d22-ecede388c788')\"\n",
              "            title=\"Suggest charts\"\n",
              "            style=\"display:none;\">\n",
              "\n",
              "<svg xmlns=\"http://www.w3.org/2000/svg\" height=\"24px\"viewBox=\"0 0 24 24\"\n",
              "     width=\"24px\">\n",
              "    <g>\n",
              "        <path d=\"M19 3H5c-1.1 0-2 .9-2 2v14c0 1.1.9 2 2 2h14c1.1 0 2-.9 2-2V5c0-1.1-.9-2-2-2zM9 17H7v-7h2v7zm4 0h-2V7h2v10zm4 0h-2v-4h2v4z\"/>\n",
              "    </g>\n",
              "</svg>\n",
              "  </button>\n",
              "\n",
              "<style>\n",
              "  .colab-df-quickchart {\n",
              "      --bg-color: #E8F0FE;\n",
              "      --fill-color: #1967D2;\n",
              "      --hover-bg-color: #E2EBFA;\n",
              "      --hover-fill-color: #174EA6;\n",
              "      --disabled-fill-color: #AAA;\n",
              "      --disabled-bg-color: #DDD;\n",
              "  }\n",
              "\n",
              "  [theme=dark] .colab-df-quickchart {\n",
              "      --bg-color: #3B4455;\n",
              "      --fill-color: #D2E3FC;\n",
              "      --hover-bg-color: #434B5C;\n",
              "      --hover-fill-color: #FFFFFF;\n",
              "      --disabled-bg-color: #3B4455;\n",
              "      --disabled-fill-color: #666;\n",
              "  }\n",
              "\n",
              "  .colab-df-quickchart {\n",
              "    background-color: var(--bg-color);\n",
              "    border: none;\n",
              "    border-radius: 50%;\n",
              "    cursor: pointer;\n",
              "    display: none;\n",
              "    fill: var(--fill-color);\n",
              "    height: 32px;\n",
              "    padding: 0;\n",
              "    width: 32px;\n",
              "  }\n",
              "\n",
              "  .colab-df-quickchart:hover {\n",
              "    background-color: var(--hover-bg-color);\n",
              "    box-shadow: 0 1px 2px rgba(60, 64, 67, 0.3), 0 1px 3px 1px rgba(60, 64, 67, 0.15);\n",
              "    fill: var(--button-hover-fill-color);\n",
              "  }\n",
              "\n",
              "  .colab-df-quickchart-complete:disabled,\n",
              "  .colab-df-quickchart-complete:disabled:hover {\n",
              "    background-color: var(--disabled-bg-color);\n",
              "    fill: var(--disabled-fill-color);\n",
              "    box-shadow: none;\n",
              "  }\n",
              "\n",
              "  .colab-df-spinner {\n",
              "    border: 2px solid var(--fill-color);\n",
              "    border-color: transparent;\n",
              "    border-bottom-color: var(--fill-color);\n",
              "    animation:\n",
              "      spin 1s steps(1) infinite;\n",
              "  }\n",
              "\n",
              "  @keyframes spin {\n",
              "    0% {\n",
              "      border-color: transparent;\n",
              "      border-bottom-color: var(--fill-color);\n",
              "      border-left-color: var(--fill-color);\n",
              "    }\n",
              "    20% {\n",
              "      border-color: transparent;\n",
              "      border-left-color: var(--fill-color);\n",
              "      border-top-color: var(--fill-color);\n",
              "    }\n",
              "    30% {\n",
              "      border-color: transparent;\n",
              "      border-left-color: var(--fill-color);\n",
              "      border-top-color: var(--fill-color);\n",
              "      border-right-color: var(--fill-color);\n",
              "    }\n",
              "    40% {\n",
              "      border-color: transparent;\n",
              "      border-right-color: var(--fill-color);\n",
              "      border-top-color: var(--fill-color);\n",
              "    }\n",
              "    60% {\n",
              "      border-color: transparent;\n",
              "      border-right-color: var(--fill-color);\n",
              "    }\n",
              "    80% {\n",
              "      border-color: transparent;\n",
              "      border-right-color: var(--fill-color);\n",
              "      border-bottom-color: var(--fill-color);\n",
              "    }\n",
              "    90% {\n",
              "      border-color: transparent;\n",
              "      border-bottom-color: var(--fill-color);\n",
              "    }\n",
              "  }\n",
              "</style>\n",
              "\n",
              "  <script>\n",
              "    async function quickchart(key) {\n",
              "      const quickchartButtonEl =\n",
              "        document.querySelector('#' + key + ' button');\n",
              "      quickchartButtonEl.disabled = true;  // To prevent multiple clicks.\n",
              "      quickchartButtonEl.classList.add('colab-df-spinner');\n",
              "      try {\n",
              "        const charts = await google.colab.kernel.invokeFunction(\n",
              "            'suggestCharts', [key], {});\n",
              "      } catch (error) {\n",
              "        console.error('Error during call to suggestCharts:', error);\n",
              "      }\n",
              "      quickchartButtonEl.classList.remove('colab-df-spinner');\n",
              "      quickchartButtonEl.classList.add('colab-df-quickchart-complete');\n",
              "    }\n",
              "    (() => {\n",
              "      let quickchartButtonEl =\n",
              "        document.querySelector('#df-2e4bb84b-ec43-4bc4-9d22-ecede388c788 button');\n",
              "      quickchartButtonEl.style.display =\n",
              "        google.colab.kernel.accessAllowed ? 'block' : 'none';\n",
              "    })();\n",
              "  </script>\n",
              "</div>\n",
              "    </div>\n",
              "  </div>\n"
            ],
            "application/vnd.google.colaboratory.intrinsic+json": {
              "type": "dataframe",
              "variable_name": "dataset"
            }
          },
          "metadata": {},
          "execution_count": 9
        }
      ]
    },
    {
      "cell_type": "code",
      "metadata": {
        "id": "GdXq9ybYCAij"
      },
      "source": [
        "# Import dependencies for pre-processing\n",
        "from sklearn.preprocessing import StandardScaler\n",
        "from sklearn.preprocessing import OneHotEncoder\n",
        "from sklearn.model_selection import train_test_split"
      ],
      "execution_count": 10,
      "outputs": []
    },
    {
      "cell_type": "code",
      "metadata": {
        "id": "wcNOetOZDZ8B"
      },
      "source": [
        "# Convert pandas Dataframe to Numpy Array\n",
        "dataset_numpy = dataset.values"
      ],
      "execution_count": 11,
      "outputs": []
    },
    {
      "cell_type": "code",
      "metadata": {
        "id": "jCSxYok-ByDS",
        "colab": {
          "base_uri": "https://localhost:8080/"
        },
        "outputId": "dd81817c-3678-472e-c125-4a5c7396607a"
      },
      "source": [
        "# Show data type before and after conversion\n",
        "print(type(dataset))\n",
        "print(type(dataset_numpy.dtype))"
      ],
      "execution_count": 12,
      "outputs": [
        {
          "output_type": "stream",
          "name": "stdout",
          "text": [
            "<class 'pandas.core.frame.DataFrame'>\n",
            "<class 'numpy.dtypes.Float64DType'>\n"
          ]
        }
      ]
    },
    {
      "cell_type": "code",
      "metadata": {
        "id": "H9H_gM8eHe5O"
      },
      "source": [
        "# Separate input variables from output label\n",
        "X = dataset_numpy[:, :20]\n",
        "y = dataset_numpy[:, 20:21]"
      ],
      "execution_count": 13,
      "outputs": []
    },
    {
      "cell_type": "code",
      "metadata": {
        "id": "YOciSYTzB8QT",
        "colab": {
          "base_uri": "https://localhost:8080/"
        },
        "outputId": "5b423318-299a-4ec5-8141-031038cc3e00"
      },
      "source": [
        "# Show shape of training data and labels\n",
        "print(\"Shape of training data: \", X.shape)\n",
        "print(\"Shape of training labels: \", y.shape)"
      ],
      "execution_count": 14,
      "outputs": [
        {
          "output_type": "stream",
          "name": "stdout",
          "text": [
            "Shape of training data:  (2000, 20)\n",
            "Shape of training labels:  (2000, 1)\n"
          ]
        }
      ]
    },
    {
      "cell_type": "code",
      "metadata": {
        "id": "uu1afk5OIt2c",
        "colab": {
          "base_uri": "https://localhost:8080/"
        },
        "outputId": "8943d971-3184-426b-95e4-675c49dfa62b"
      },
      "source": [
        "# Show different classes to predict\n",
        "np.unique(y)"
      ],
      "execution_count": 15,
      "outputs": [
        {
          "output_type": "execute_result",
          "data": {
            "text/plain": [
              "array([0., 1., 2., 3.])"
            ]
          },
          "metadata": {},
          "execution_count": 15
        }
      ]
    },
    {
      "cell_type": "code",
      "metadata": {
        "id": "yD9F7PoxIhR7"
      },
      "source": [
        "# Normalizing the data to improve stability while training\n",
        "sc = StandardScaler()\n",
        "sc.fit(X)\n",
        "X_norm = sc.transform(X)"
      ],
      "execution_count": 16,
      "outputs": []
    },
    {
      "cell_type": "code",
      "metadata": {
        "id": "GcYYTbkIHl1p",
        "colab": {
          "base_uri": "https://localhost:8080/"
        },
        "outputId": "a24c1e85-53e8-408f-c1d0-b43f5e1aea35"
      },
      "source": [
        "# Show mean and Standard Deviation learnt from training data\n",
        "print(\"Mean per variable: \\n\", sc.mean_)\n",
        "print(\"Standard Deviation per variable: \\n\", sc.scale_)"
      ],
      "execution_count": 17,
      "outputs": [
        {
          "output_type": "stream",
          "name": "stdout",
          "text": [
            "Mean per variable: \n",
            " [1.2385185e+03 4.9500000e-01 1.5222500e+00 5.0950000e-01 4.3095000e+00\n",
            " 5.2150000e-01 3.2046500e+01 5.0175000e-01 1.4024900e+02 4.5205000e+00\n",
            " 9.9165000e+00 6.4510800e+02 1.2515155e+03 2.1242130e+03 1.2306500e+01\n",
            " 5.7670000e+00 1.1011000e+01 7.6150000e-01 5.0300000e-01 5.0700000e-01]\n",
            "Standard Deviation per variable: \n",
            " [4.39308338e+02 4.99974999e-01 8.15800182e-01 4.99909742e-01\n",
            " 4.34035825e+00 4.99537536e-01 1.81411780e+01 2.88343437e-01\n",
            " 3.53908039e+01 2.28726469e+00 6.06279867e+00 4.43669852e+02\n",
            " 4.32091384e+02 1.08446083e+03 4.21219156e+00 4.35530837e+00\n",
            " 5.46258904e+00 4.26166341e-01 4.99991000e-01 4.99950998e-01]\n"
          ]
        }
      ]
    },
    {
      "cell_type": "code",
      "metadata": {
        "id": "-PgxBF8oBkYS",
        "colab": {
          "base_uri": "https://localhost:8080/"
        },
        "outputId": "8e465707-7550-4691-f4a4-56e673c8d410"
      },
      "source": [
        "# Show data before and after normalization\n",
        "print(\"Before normalization: \\n\", X[1, :])\n",
        "print(\"After normalization: \\n\", X_norm[1, :])"
      ],
      "execution_count": 18,
      "outputs": [
        {
          "output_type": "stream",
          "name": "stdout",
          "text": [
            "Before normalization: \n",
            " [1.021e+03 1.000e+00 5.000e-01 1.000e+00 0.000e+00 1.000e+00 5.300e+01\n",
            " 7.000e-01 1.360e+02 3.000e+00 6.000e+00 9.050e+02 1.988e+03 2.631e+03\n",
            " 1.700e+01 3.000e+00 7.000e+00 1.000e+00 1.000e+00 0.000e+00]\n",
            "After normalization: \n",
            " [-0.49513857  1.0100505  -1.2530642   0.98117712 -0.99289039  0.95788598\n",
            "  1.15502422  0.68754816 -0.12005944 -0.66476784 -0.64598879  0.58577791\n",
            "  1.70446468  0.46731702  1.11426556 -0.63531667 -0.73426721  0.55964063\n",
            "  0.99401789 -1.01409939]\n"
          ]
        }
      ]
    },
    {
      "cell_type": "code",
      "metadata": {
        "id": "5Z_i4ZxzLS5R"
      },
      "source": [
        "# One-hot encoding of labels\n",
        "onehot_enc = OneHotEncoder()\n",
        "y_onehot = onehot_enc.fit_transform(y).toarray()"
      ],
      "execution_count": 19,
      "outputs": []
    },
    {
      "cell_type": "code",
      "metadata": {
        "id": "suaSrXbWMeZx",
        "colab": {
          "base_uri": "https://localhost:8080/"
        },
        "outputId": "7104622e-2f5f-42c9-c8fc-2cbc35c63cc6"
      },
      "source": [
        "# Show labels before and after one-hot encoding\n",
        "print(\"Before onet-hot encodeing: \\n\", y[0])\n",
        "print(\"After onet-hot encodeing: \\n\", y_onehot[0])"
      ],
      "execution_count": 20,
      "outputs": [
        {
          "output_type": "stream",
          "name": "stdout",
          "text": [
            "Before onet-hot encodeing: \n",
            " [1.]\n",
            "After onet-hot encodeing: \n",
            " [0. 1. 0. 0.]\n"
          ]
        }
      ]
    },
    {
      "cell_type": "code",
      "metadata": {
        "id": "5SbrKQ10Navz"
      },
      "source": [
        "# Split data in training and validation partitions\n",
        "X_train, X_val, y_train, y_val = train_test_split(X_norm, y_onehot,\n",
        "                                                  test_size=0.1)"
      ],
      "execution_count": 21,
      "outputs": []
    },
    {
      "cell_type": "code",
      "metadata": {
        "id": "BP1GOQRmOMSK",
        "colab": {
          "base_uri": "https://localhost:8080/"
        },
        "outputId": "7dcdd13b-e0b9-4a68-cce3-990ab0c0bbc0"
      },
      "source": [
        "# Show sizes of partitions\n",
        "print(\"Size of training data: \", X_train.shape)\n",
        "print(\"Size of training labels: \", y_train.shape)\n",
        "print(\"Size of validation data: \", X_val.shape)\n",
        "print(\"Size of validation labels: \", y_val.shape)"
      ],
      "execution_count": 22,
      "outputs": [
        {
          "output_type": "stream",
          "name": "stdout",
          "text": [
            "Size of training data:  (1800, 20)\n",
            "Size of training labels:  (1800, 4)\n",
            "Size of validation data:  (200, 20)\n",
            "Size of validation labels:  (200, 4)\n"
          ]
        }
      ]
    },
    {
      "cell_type": "markdown",
      "metadata": {
        "id": "M_aOe_XI9Vw7"
      },
      "source": [
        "## 3. Define a Fully Connected Neural Network"
      ]
    },
    {
      "cell_type": "code",
      "metadata": {
        "id": "fdemo-HaPBej"
      },
      "source": [
        "# Import dependencies for designing Keras model\n",
        "from tensorflow import keras\n",
        "from keras.models import Sequential\n",
        "from keras.layers import Dense"
      ],
      "execution_count": 23,
      "outputs": []
    },
    {
      "cell_type": "code",
      "metadata": {
        "id": "WW5nXU1YPOtl"
      },
      "source": [
        "# Design simple neural network architecture\n",
        "model = Sequential()\n",
        "model.add(Dense(16, input_dim=20, activation='relu'))\n",
        "model.add(Dense(12, activation='relu'))\n",
        "model.add(Dense(4, activation='softmax'))"
      ],
      "execution_count": 24,
      "outputs": []
    },
    {
      "cell_type": "code",
      "metadata": {
        "id": "HRp_OCx8QNXd",
        "colab": {
          "base_uri": "https://localhost:8080/"
        },
        "outputId": "f13a54e9-73d3-4e99-ff70-5c73d9aec615"
      },
      "source": [
        "# Show model information\n",
        "model.summary()"
      ],
      "execution_count": 25,
      "outputs": [
        {
          "output_type": "stream",
          "name": "stdout",
          "text": [
            "Model: \"sequential\"\n",
            "_________________________________________________________________\n",
            " Layer (type)                Output Shape              Param #   \n",
            "=================================================================\n",
            " dense (Dense)               (None, 16)                336       \n",
            "                                                                 \n",
            " dense_1 (Dense)             (None, 12)                204       \n",
            "                                                                 \n",
            " dense_2 (Dense)             (None, 4)                 52        \n",
            "                                                                 \n",
            "=================================================================\n",
            "Total params: 592 (2.31 KB)\n",
            "Trainable params: 592 (2.31 KB)\n",
            "Non-trainable params: 0 (0.00 Byte)\n",
            "_________________________________________________________________\n"
          ]
        }
      ]
    },
    {
      "cell_type": "markdown",
      "metadata": {
        "id": "fBhIc1LbQfEC"
      },
      "source": [
        "The number of parameters of each layer is obtained as follows:\n",
        "\n",
        "\n",
        "*   params_dense_1 = (input_var_num + 1) * dense_1_neurons = (20 + 1) * 16 = 336\n",
        "*   params_dense_2 = (dense_1_neurons + 1) * dense_2_neurons = (16 + 1) * 12 =      204\n",
        "*   params_dense_3 = (dense_2_neurons + 1) * dense_3_neurons = (12 + 1) * 4 =      52\n",
        "\n",
        "Where +1 comes from the bias term added in each layer.\n",
        "\n",
        "\n"
      ]
    },
    {
      "cell_type": "markdown",
      "metadata": {
        "id": "_pSRNx4w9UKo"
      },
      "source": [
        "## 4. Choose loss function and optimizer\n"
      ]
    },
    {
      "cell_type": "code",
      "metadata": {
        "id": "zBF6dr1oSRIC"
      },
      "source": [
        "# Choose loss function, optimizer and training metrics\n",
        "model.compile(loss='categorical_crossentropy', optimizer='adam',\n",
        "              metrics=['accuracy'])"
      ],
      "execution_count": 26,
      "outputs": []
    },
    {
      "cell_type": "markdown",
      "metadata": {
        "id": "CgyWHPSG9wZ1"
      },
      "source": [
        "## 5. Train the network\n",
        "\n"
      ]
    },
    {
      "cell_type": "code",
      "metadata": {
        "id": "97AQk6XZ92pZ",
        "colab": {
          "base_uri": "https://localhost:8080/"
        },
        "outputId": "b500a3a3-931f-4df1-a8ae-486fcb776476"
      },
      "source": [
        "# Choose number of epochs and batch size and train the model\n",
        "history = model.fit(X_train, y_train, epochs=100, batch_size=64,\n",
        "                    validation_data=(X_val, y_val))"
      ],
      "execution_count": 27,
      "outputs": [
        {
          "output_type": "stream",
          "name": "stdout",
          "text": [
            "Epoch 1/100\n",
            "29/29 [==============================] - 2s 12ms/step - loss: 1.4915 - accuracy: 0.2494 - val_loss: 1.4122 - val_accuracy: 0.2350\n",
            "Epoch 2/100\n",
            "29/29 [==============================] - 0s 4ms/step - loss: 1.3661 - accuracy: 0.3072 - val_loss: 1.3414 - val_accuracy: 0.3300\n",
            "Epoch 3/100\n",
            "29/29 [==============================] - 0s 4ms/step - loss: 1.3028 - accuracy: 0.3656 - val_loss: 1.2943 - val_accuracy: 0.3800\n",
            "Epoch 4/100\n",
            "29/29 [==============================] - 0s 4ms/step - loss: 1.2487 - accuracy: 0.4272 - val_loss: 1.2480 - val_accuracy: 0.4300\n",
            "Epoch 5/100\n",
            "29/29 [==============================] - 0s 4ms/step - loss: 1.1899 - accuracy: 0.4817 - val_loss: 1.1884 - val_accuracy: 0.4700\n",
            "Epoch 6/100\n",
            "29/29 [==============================] - 0s 5ms/step - loss: 1.1242 - accuracy: 0.5383 - val_loss: 1.1212 - val_accuracy: 0.5150\n",
            "Epoch 7/100\n",
            "29/29 [==============================] - 0s 5ms/step - loss: 1.0523 - accuracy: 0.5711 - val_loss: 1.0479 - val_accuracy: 0.5450\n",
            "Epoch 8/100\n",
            "29/29 [==============================] - 0s 6ms/step - loss: 0.9781 - accuracy: 0.6061 - val_loss: 0.9717 - val_accuracy: 0.5750\n",
            "Epoch 9/100\n",
            "29/29 [==============================] - 0s 6ms/step - loss: 0.9021 - accuracy: 0.6367 - val_loss: 0.8970 - val_accuracy: 0.5750\n",
            "Epoch 10/100\n",
            "29/29 [==============================] - 0s 6ms/step - loss: 0.8288 - accuracy: 0.6667 - val_loss: 0.8273 - val_accuracy: 0.6250\n",
            "Epoch 11/100\n",
            "29/29 [==============================] - 0s 6ms/step - loss: 0.7614 - accuracy: 0.7161 - val_loss: 0.7661 - val_accuracy: 0.6500\n",
            "Epoch 12/100\n",
            "29/29 [==============================] - 0s 6ms/step - loss: 0.6990 - accuracy: 0.7372 - val_loss: 0.7102 - val_accuracy: 0.6850\n",
            "Epoch 13/100\n",
            "29/29 [==============================] - 0s 5ms/step - loss: 0.6436 - accuracy: 0.7672 - val_loss: 0.6608 - val_accuracy: 0.7100\n",
            "Epoch 14/100\n",
            "29/29 [==============================] - 0s 6ms/step - loss: 0.5946 - accuracy: 0.7933 - val_loss: 0.6142 - val_accuracy: 0.7300\n",
            "Epoch 15/100\n",
            "29/29 [==============================] - 0s 6ms/step - loss: 0.5523 - accuracy: 0.8139 - val_loss: 0.5755 - val_accuracy: 0.7550\n",
            "Epoch 16/100\n",
            "29/29 [==============================] - 0s 6ms/step - loss: 0.5134 - accuracy: 0.8372 - val_loss: 0.5405 - val_accuracy: 0.7750\n",
            "Epoch 17/100\n",
            "29/29 [==============================] - 0s 6ms/step - loss: 0.4790 - accuracy: 0.8489 - val_loss: 0.5110 - val_accuracy: 0.7800\n",
            "Epoch 18/100\n",
            "29/29 [==============================] - 0s 6ms/step - loss: 0.4466 - accuracy: 0.8583 - val_loss: 0.4820 - val_accuracy: 0.7800\n",
            "Epoch 19/100\n",
            "29/29 [==============================] - 0s 6ms/step - loss: 0.4179 - accuracy: 0.8694 - val_loss: 0.4554 - val_accuracy: 0.8150\n",
            "Epoch 20/100\n",
            "29/29 [==============================] - 0s 7ms/step - loss: 0.3922 - accuracy: 0.8839 - val_loss: 0.4286 - val_accuracy: 0.8300\n",
            "Epoch 21/100\n",
            "29/29 [==============================] - 0s 6ms/step - loss: 0.3689 - accuracy: 0.8883 - val_loss: 0.4044 - val_accuracy: 0.8450\n",
            "Epoch 22/100\n",
            "29/29 [==============================] - 0s 5ms/step - loss: 0.3479 - accuracy: 0.9089 - val_loss: 0.3862 - val_accuracy: 0.8450\n",
            "Epoch 23/100\n",
            "29/29 [==============================] - 0s 4ms/step - loss: 0.3271 - accuracy: 0.9089 - val_loss: 0.3639 - val_accuracy: 0.8550\n",
            "Epoch 24/100\n",
            "29/29 [==============================] - 0s 4ms/step - loss: 0.3095 - accuracy: 0.9150 - val_loss: 0.3513 - val_accuracy: 0.8650\n",
            "Epoch 25/100\n",
            "29/29 [==============================] - 0s 4ms/step - loss: 0.2930 - accuracy: 0.9194 - val_loss: 0.3347 - val_accuracy: 0.8700\n",
            "Epoch 26/100\n",
            "29/29 [==============================] - 0s 4ms/step - loss: 0.2774 - accuracy: 0.9278 - val_loss: 0.3223 - val_accuracy: 0.8650\n",
            "Epoch 27/100\n",
            "29/29 [==============================] - 0s 5ms/step - loss: 0.2652 - accuracy: 0.9300 - val_loss: 0.3094 - val_accuracy: 0.8850\n",
            "Epoch 28/100\n",
            "29/29 [==============================] - 0s 5ms/step - loss: 0.2506 - accuracy: 0.9328 - val_loss: 0.2998 - val_accuracy: 0.8850\n",
            "Epoch 29/100\n",
            "29/29 [==============================] - 0s 4ms/step - loss: 0.2387 - accuracy: 0.9378 - val_loss: 0.2912 - val_accuracy: 0.8850\n",
            "Epoch 30/100\n",
            "29/29 [==============================] - 0s 4ms/step - loss: 0.2291 - accuracy: 0.9378 - val_loss: 0.2791 - val_accuracy: 0.9000\n",
            "Epoch 31/100\n",
            "29/29 [==============================] - 0s 5ms/step - loss: 0.2184 - accuracy: 0.9411 - val_loss: 0.2729 - val_accuracy: 0.9100\n",
            "Epoch 32/100\n",
            "29/29 [==============================] - 0s 4ms/step - loss: 0.2093 - accuracy: 0.9467 - val_loss: 0.2633 - val_accuracy: 0.9100\n",
            "Epoch 33/100\n",
            "29/29 [==============================] - 0s 4ms/step - loss: 0.2010 - accuracy: 0.9428 - val_loss: 0.2597 - val_accuracy: 0.9050\n",
            "Epoch 34/100\n",
            "29/29 [==============================] - 0s 4ms/step - loss: 0.1924 - accuracy: 0.9489 - val_loss: 0.2525 - val_accuracy: 0.9100\n",
            "Epoch 35/100\n",
            "29/29 [==============================] - 0s 4ms/step - loss: 0.1851 - accuracy: 0.9528 - val_loss: 0.2476 - val_accuracy: 0.9100\n",
            "Epoch 36/100\n",
            "29/29 [==============================] - 0s 5ms/step - loss: 0.1802 - accuracy: 0.9517 - val_loss: 0.2439 - val_accuracy: 0.9000\n",
            "Epoch 37/100\n",
            "29/29 [==============================] - 0s 4ms/step - loss: 0.1728 - accuracy: 0.9528 - val_loss: 0.2306 - val_accuracy: 0.9000\n",
            "Epoch 38/100\n",
            "29/29 [==============================] - 0s 4ms/step - loss: 0.1657 - accuracy: 0.9561 - val_loss: 0.2308 - val_accuracy: 0.9100\n",
            "Epoch 39/100\n",
            "29/29 [==============================] - 0s 4ms/step - loss: 0.1601 - accuracy: 0.9611 - val_loss: 0.2242 - val_accuracy: 0.9100\n",
            "Epoch 40/100\n",
            "29/29 [==============================] - 0s 4ms/step - loss: 0.1544 - accuracy: 0.9583 - val_loss: 0.2200 - val_accuracy: 0.9100\n",
            "Epoch 41/100\n",
            "29/29 [==============================] - 0s 4ms/step - loss: 0.1479 - accuracy: 0.9611 - val_loss: 0.2195 - val_accuracy: 0.9050\n",
            "Epoch 42/100\n",
            "29/29 [==============================] - 0s 4ms/step - loss: 0.1448 - accuracy: 0.9622 - val_loss: 0.2069 - val_accuracy: 0.9050\n",
            "Epoch 43/100\n",
            "29/29 [==============================] - 0s 4ms/step - loss: 0.1411 - accuracy: 0.9617 - val_loss: 0.2079 - val_accuracy: 0.9050\n",
            "Epoch 44/100\n",
            "29/29 [==============================] - 0s 4ms/step - loss: 0.1361 - accuracy: 0.9639 - val_loss: 0.2044 - val_accuracy: 0.9050\n",
            "Epoch 45/100\n",
            "29/29 [==============================] - 0s 4ms/step - loss: 0.1313 - accuracy: 0.9644 - val_loss: 0.2039 - val_accuracy: 0.9050\n",
            "Epoch 46/100\n",
            "29/29 [==============================] - 0s 4ms/step - loss: 0.1289 - accuracy: 0.9661 - val_loss: 0.2059 - val_accuracy: 0.9100\n",
            "Epoch 47/100\n",
            "29/29 [==============================] - 0s 5ms/step - loss: 0.1247 - accuracy: 0.9689 - val_loss: 0.2018 - val_accuracy: 0.9050\n",
            "Epoch 48/100\n",
            "29/29 [==============================] - 0s 6ms/step - loss: 0.1215 - accuracy: 0.9683 - val_loss: 0.2023 - val_accuracy: 0.9050\n",
            "Epoch 49/100\n",
            "29/29 [==============================] - 0s 6ms/step - loss: 0.1173 - accuracy: 0.9700 - val_loss: 0.2028 - val_accuracy: 0.9150\n",
            "Epoch 50/100\n",
            "29/29 [==============================] - 0s 6ms/step - loss: 0.1145 - accuracy: 0.9722 - val_loss: 0.1975 - val_accuracy: 0.9050\n",
            "Epoch 51/100\n",
            "29/29 [==============================] - 0s 6ms/step - loss: 0.1119 - accuracy: 0.9706 - val_loss: 0.1976 - val_accuracy: 0.9050\n",
            "Epoch 52/100\n",
            "29/29 [==============================] - 0s 6ms/step - loss: 0.1088 - accuracy: 0.9722 - val_loss: 0.1951 - val_accuracy: 0.9050\n",
            "Epoch 53/100\n",
            "29/29 [==============================] - 0s 6ms/step - loss: 0.1056 - accuracy: 0.9728 - val_loss: 0.1962 - val_accuracy: 0.9150\n",
            "Epoch 54/100\n",
            "29/29 [==============================] - 0s 6ms/step - loss: 0.1026 - accuracy: 0.9739 - val_loss: 0.1942 - val_accuracy: 0.9100\n",
            "Epoch 55/100\n",
            "29/29 [==============================] - 0s 5ms/step - loss: 0.1000 - accuracy: 0.9761 - val_loss: 0.1911 - val_accuracy: 0.9000\n",
            "Epoch 56/100\n",
            "29/29 [==============================] - 0s 6ms/step - loss: 0.0974 - accuracy: 0.9756 - val_loss: 0.1920 - val_accuracy: 0.9050\n",
            "Epoch 57/100\n",
            "29/29 [==============================] - 0s 6ms/step - loss: 0.0949 - accuracy: 0.9761 - val_loss: 0.1936 - val_accuracy: 0.9050\n",
            "Epoch 58/100\n",
            "29/29 [==============================] - 0s 6ms/step - loss: 0.0944 - accuracy: 0.9756 - val_loss: 0.1910 - val_accuracy: 0.9050\n",
            "Epoch 59/100\n",
            "29/29 [==============================] - 0s 6ms/step - loss: 0.0912 - accuracy: 0.9794 - val_loss: 0.1905 - val_accuracy: 0.9050\n",
            "Epoch 60/100\n",
            "29/29 [==============================] - 0s 6ms/step - loss: 0.0888 - accuracy: 0.9767 - val_loss: 0.1931 - val_accuracy: 0.9050\n",
            "Epoch 61/100\n",
            "29/29 [==============================] - 0s 6ms/step - loss: 0.0872 - accuracy: 0.9778 - val_loss: 0.1940 - val_accuracy: 0.9100\n",
            "Epoch 62/100\n",
            "29/29 [==============================] - 0s 6ms/step - loss: 0.0847 - accuracy: 0.9783 - val_loss: 0.1926 - val_accuracy: 0.9100\n",
            "Epoch 63/100\n",
            "29/29 [==============================] - 0s 6ms/step - loss: 0.0828 - accuracy: 0.9800 - val_loss: 0.1994 - val_accuracy: 0.9100\n",
            "Epoch 64/100\n",
            "29/29 [==============================] - 0s 5ms/step - loss: 0.0840 - accuracy: 0.9767 - val_loss: 0.1920 - val_accuracy: 0.9050\n",
            "Epoch 65/100\n",
            "29/29 [==============================] - 0s 4ms/step - loss: 0.0787 - accuracy: 0.9833 - val_loss: 0.1968 - val_accuracy: 0.9050\n",
            "Epoch 66/100\n",
            "29/29 [==============================] - 0s 4ms/step - loss: 0.0790 - accuracy: 0.9811 - val_loss: 0.1930 - val_accuracy: 0.9100\n",
            "Epoch 67/100\n",
            "29/29 [==============================] - 0s 4ms/step - loss: 0.0789 - accuracy: 0.9806 - val_loss: 0.1993 - val_accuracy: 0.9050\n",
            "Epoch 68/100\n",
            "29/29 [==============================] - 0s 4ms/step - loss: 0.0763 - accuracy: 0.9822 - val_loss: 0.1932 - val_accuracy: 0.9050\n",
            "Epoch 69/100\n",
            "29/29 [==============================] - 0s 4ms/step - loss: 0.0733 - accuracy: 0.9839 - val_loss: 0.1924 - val_accuracy: 0.9000\n",
            "Epoch 70/100\n",
            "29/29 [==============================] - 0s 4ms/step - loss: 0.0716 - accuracy: 0.9850 - val_loss: 0.1926 - val_accuracy: 0.9100\n",
            "Epoch 71/100\n",
            "29/29 [==============================] - 0s 4ms/step - loss: 0.0704 - accuracy: 0.9861 - val_loss: 0.1932 - val_accuracy: 0.9200\n",
            "Epoch 72/100\n",
            "29/29 [==============================] - 0s 4ms/step - loss: 0.0693 - accuracy: 0.9850 - val_loss: 0.1975 - val_accuracy: 0.9100\n",
            "Epoch 73/100\n",
            "29/29 [==============================] - 0s 4ms/step - loss: 0.0668 - accuracy: 0.9894 - val_loss: 0.1975 - val_accuracy: 0.9100\n",
            "Epoch 74/100\n",
            "29/29 [==============================] - 0s 4ms/step - loss: 0.0654 - accuracy: 0.9878 - val_loss: 0.1992 - val_accuracy: 0.9050\n",
            "Epoch 75/100\n",
            "29/29 [==============================] - 0s 4ms/step - loss: 0.0646 - accuracy: 0.9894 - val_loss: 0.1975 - val_accuracy: 0.9150\n",
            "Epoch 76/100\n",
            "29/29 [==============================] - 0s 4ms/step - loss: 0.0631 - accuracy: 0.9883 - val_loss: 0.1958 - val_accuracy: 0.9100\n",
            "Epoch 77/100\n",
            "29/29 [==============================] - 0s 4ms/step - loss: 0.0631 - accuracy: 0.9872 - val_loss: 0.1982 - val_accuracy: 0.9200\n",
            "Epoch 78/100\n",
            "29/29 [==============================] - 0s 4ms/step - loss: 0.0609 - accuracy: 0.9889 - val_loss: 0.1967 - val_accuracy: 0.9100\n",
            "Epoch 79/100\n",
            "29/29 [==============================] - 0s 4ms/step - loss: 0.0608 - accuracy: 0.9878 - val_loss: 0.2001 - val_accuracy: 0.9100\n",
            "Epoch 80/100\n",
            "29/29 [==============================] - 0s 4ms/step - loss: 0.0585 - accuracy: 0.9917 - val_loss: 0.1970 - val_accuracy: 0.9200\n",
            "Epoch 81/100\n",
            "29/29 [==============================] - 0s 5ms/step - loss: 0.0593 - accuracy: 0.9872 - val_loss: 0.1987 - val_accuracy: 0.9100\n",
            "Epoch 82/100\n",
            "29/29 [==============================] - 0s 4ms/step - loss: 0.0571 - accuracy: 0.9911 - val_loss: 0.1998 - val_accuracy: 0.9100\n",
            "Epoch 83/100\n",
            "29/29 [==============================] - 0s 4ms/step - loss: 0.0557 - accuracy: 0.9911 - val_loss: 0.1999 - val_accuracy: 0.9150\n",
            "Epoch 84/100\n",
            "29/29 [==============================] - 0s 4ms/step - loss: 0.0545 - accuracy: 0.9922 - val_loss: 0.2001 - val_accuracy: 0.9150\n",
            "Epoch 85/100\n",
            "29/29 [==============================] - 0s 4ms/step - loss: 0.0532 - accuracy: 0.9911 - val_loss: 0.1950 - val_accuracy: 0.9150\n",
            "Epoch 86/100\n",
            "29/29 [==============================] - 0s 4ms/step - loss: 0.0526 - accuracy: 0.9900 - val_loss: 0.1999 - val_accuracy: 0.9100\n",
            "Epoch 87/100\n",
            "29/29 [==============================] - 0s 4ms/step - loss: 0.0523 - accuracy: 0.9928 - val_loss: 0.1988 - val_accuracy: 0.9150\n",
            "Epoch 88/100\n",
            "29/29 [==============================] - 0s 4ms/step - loss: 0.0520 - accuracy: 0.9911 - val_loss: 0.1991 - val_accuracy: 0.9150\n",
            "Epoch 89/100\n",
            "29/29 [==============================] - 0s 4ms/step - loss: 0.0498 - accuracy: 0.9939 - val_loss: 0.2015 - val_accuracy: 0.9050\n",
            "Epoch 90/100\n",
            "29/29 [==============================] - 0s 4ms/step - loss: 0.0489 - accuracy: 0.9928 - val_loss: 0.2005 - val_accuracy: 0.9100\n",
            "Epoch 91/100\n",
            "29/29 [==============================] - 0s 4ms/step - loss: 0.0482 - accuracy: 0.9911 - val_loss: 0.1981 - val_accuracy: 0.9050\n",
            "Epoch 92/100\n",
            "29/29 [==============================] - 0s 4ms/step - loss: 0.0476 - accuracy: 0.9917 - val_loss: 0.2002 - val_accuracy: 0.9150\n",
            "Epoch 93/100\n",
            "29/29 [==============================] - 0s 4ms/step - loss: 0.0481 - accuracy: 0.9933 - val_loss: 0.1915 - val_accuracy: 0.9150\n",
            "Epoch 94/100\n",
            "29/29 [==============================] - 0s 5ms/step - loss: 0.0467 - accuracy: 0.9928 - val_loss: 0.2031 - val_accuracy: 0.9150\n",
            "Epoch 95/100\n",
            "29/29 [==============================] - 0s 6ms/step - loss: 0.0458 - accuracy: 0.9939 - val_loss: 0.1965 - val_accuracy: 0.9150\n",
            "Epoch 96/100\n",
            "29/29 [==============================] - 0s 7ms/step - loss: 0.0444 - accuracy: 0.9939 - val_loss: 0.1982 - val_accuracy: 0.9100\n",
            "Epoch 97/100\n",
            "29/29 [==============================] - 0s 6ms/step - loss: 0.0441 - accuracy: 0.9944 - val_loss: 0.1996 - val_accuracy: 0.9150\n",
            "Epoch 98/100\n",
            "29/29 [==============================] - 0s 6ms/step - loss: 0.0427 - accuracy: 0.9950 - val_loss: 0.2003 - val_accuracy: 0.9200\n",
            "Epoch 99/100\n",
            "29/29 [==============================] - 0s 6ms/step - loss: 0.0423 - accuracy: 0.9972 - val_loss: 0.2040 - val_accuracy: 0.9200\n",
            "Epoch 100/100\n",
            "29/29 [==============================] - 0s 6ms/step - loss: 0.0424 - accuracy: 0.9950 - val_loss: 0.1995 - val_accuracy: 0.9150\n"
          ]
        }
      ]
    },
    {
      "cell_type": "code",
      "metadata": {
        "id": "bCIrA7nQTjV8"
      },
      "source": [
        "# Import dependence for plotting training process\n",
        "import matplotlib.pyplot as plt"
      ],
      "execution_count": 28,
      "outputs": []
    },
    {
      "cell_type": "code",
      "metadata": {
        "id": "_5VTbyxsSeOh",
        "colab": {
          "base_uri": "https://localhost:8080/",
          "height": 472
        },
        "outputId": "1ecd438b-8cf9-4ab0-9b60-4f7872771d9e"
      },
      "source": [
        "# Plot training and validation accuracy\n",
        "plt.plot(history.history['accuracy'])\n",
        "plt.plot(history.history['val_accuracy'])\n",
        "plt.title('Model accuracy')\n",
        "plt.ylabel('Accuracy')\n",
        "plt.xlabel('Epoch')\n",
        "plt.legend(['Train', 'Val'], loc='upper left')\n",
        "plt.show()"
      ],
      "execution_count": 29,
      "outputs": [
        {
          "output_type": "display_data",
          "data": {
            "text/plain": [
              "<Figure size 640x480 with 1 Axes>"
            ],
            "image/png": "[encoded data removed]"
          },
          "metadata": {}
        }
      ]
    },
    {
      "cell_type": "code",
      "metadata": {
        "id": "_d47pYo5TUEm",
        "colab": {
          "base_uri": "https://localhost:8080/",
          "height": 472
        },
        "outputId": "f6930235-4fa6-4168-9a40-3f0d2fc89711"
      },
      "source": [
        "# Plot training and test loss\n",
        "plt.plot(history.history['loss'])\n",
        "plt.plot(history.history['val_loss'])\n",
        "plt.title('Model loss')\n",
        "plt.ylabel('Loss')\n",
        "plt.xlabel('Epoch')\n",
        "plt.legend(['Train', 'Val'], loc='upper left')\n",
        "plt.show()"
      ],
      "execution_count": 30,
      "outputs": [
        {
          "output_type": "display_data",
          "data": {
            "text/plain": [
              "<Figure size 640x480 with 1 Axes>"
            ],
            "image/png": "[encoded data removed]"
          },
          "metadata": {}
        }
      ]
    },
    {
      "cell_type": "code",
      "metadata": {
        "id": "6klS2OaQJwAK",
        "colab": {
          "base_uri": "https://localhost:8080/"
        },
        "outputId": "24fa316e-bad9-4634-8c38-d480d738d508"
      },
      "source": [
        "# Save the model\n",
        "from pathlib import Path\n",
        "path = Path('./models')\n",
        "if not path.exists():\n",
        "  path.mkdir()\n",
        "model.save('./models/model_1.h5')"
      ],
      "execution_count": 31,
      "outputs": [
        {
          "output_type": "stream",
          "name": "stderr",
          "text": [
            "/usr/local/lib/python3.10/dist-packages/keras/src/engine/training.py:3103: UserWarning: You are saving your model as an HDF5 file via `model.save()`. This file format is considered legacy. We recommend using instead the native Keras format, e.g. `model.save('my_model.keras')`.\n",
            "  saving_api.save_model(\n"
          ]
        }
      ]
    },
    {
      "cell_type": "code",
      "metadata": {
        "id": "Ss_CZ2veKTMl",
        "colab": {
          "base_uri": "https://localhost:8080/"
        },
        "outputId": "dd09404d-35ad-4e37-b1cc-8286e3e47805"
      },
      "source": [
        "# List files of ./models directory\n",
        "!ls ./models"
      ],
      "execution_count": 32,
      "outputs": [
        {
          "output_type": "stream",
          "name": "stdout",
          "text": [
            "model_1.h5\n"
          ]
        }
      ]
    },
    {
      "cell_type": "markdown",
      "metadata": {
        "id": "-OQ4IRMlU4oB"
      },
      "source": [
        "# Exercise 1: Train the model without normalization"
      ]
    },
    {
      "cell_type": "code",
      "metadata": {
        "id": "RwK0f6M84pbx",
        "outputId": "1e5edff3-d31f-467d-86df-3671e0b31cd1",
        "colab": {
          "base_uri": "https://localhost:8080/"
        }
      },
      "source": [
        "# Split data in training and validation partitions without normalization\n",
        "X_train_raw, X_val_raw, y_train, y_val = train_test_split(X, y_onehot,\n",
        "                                                  test_size=0.1)\n",
        "\n",
        "# Show sizes of partitions\n",
        "print(\"Size of training data (without normalization): \", X_train_raw.shape)\n",
        "print(\"Size of validation data (without normalization): \", X_val_raw.shape)\n"
      ],
      "execution_count": 33,
      "outputs": [
        {
          "output_type": "stream",
          "name": "stdout",
          "text": [
            "Size of training data (without normalization):  (1800, 20)\n",
            "Size of validation data (without normalization):  (200, 20)\n"
          ]
        }
      ]
    },
    {
      "cell_type": "code",
      "metadata": {
        "id": "L1TNrJWw5XI-",
        "outputId": "da25a0ab-0659-4e8d-bce7-52d4ab795d3e",
        "colab": {
          "base_uri": "https://localhost:8080/"
        }
      },
      "source": [
        "# Construcción del modelo\n",
        "model_no_norm = Sequential()\n",
        "model_no_norm.add(Dense(16, input_dim=20, activation='relu'))\n",
        "model_no_norm.add(Dense(12, activation='relu'))\n",
        "model_no_norm.add(Dense(4, activation='softmax'))\n",
        "\n",
        "# Compilación del modelo\n",
        "model_no_norm.compile(loss='categorical_crossentropy', optimizer='adam', metrics=['accuracy'])\n",
        "\n",
        "# Entrenamiento del modelo\n",
        "history_no_norm = model_no_norm.fit(X_train_raw, y_train, epochs=100, batch_size=64, validation_data=(X_val_raw, y_val))\n"
      ],
      "execution_count": 34,
      "outputs": [
        {
          "output_type": "stream",
          "name": "stdout",
          "text": [
            "Epoch 1/100\n",
            "29/29 [==============================] - 4s 52ms/step - loss: 130.9942 - accuracy: 0.3789 - val_loss: 81.4669 - val_accuracy: 0.3900\n",
            "Epoch 2/100\n",
            "29/29 [==============================] - 0s 11ms/step - loss: 48.1353 - accuracy: 0.3911 - val_loss: 22.9489 - val_accuracy: 0.4300\n",
            "Epoch 3/100\n",
            "29/29 [==============================] - 1s 19ms/step - loss: 21.8236 - accuracy: 0.4456 - val_loss: 17.2927 - val_accuracy: 0.4100\n",
            "Epoch 4/100\n",
            "29/29 [==============================] - 1s 22ms/step - loss: 16.0650 - accuracy: 0.4356 - val_loss: 13.4542 - val_accuracy: 0.4600\n",
            "Epoch 5/100\n",
            "29/29 [==============================] - 0s 12ms/step - loss: 12.7879 - accuracy: 0.4344 - val_loss: 10.4899 - val_accuracy: 0.4650\n",
            "Epoch 6/100\n",
            "29/29 [==============================] - 0s 16ms/step - loss: 9.8083 - accuracy: 0.4556 - val_loss: 7.9581 - val_accuracy: 0.4350\n",
            "Epoch 7/100\n",
            "29/29 [==============================] - 0s 11ms/step - loss: 7.7618 - accuracy: 0.4544 - val_loss: 6.8666 - val_accuracy: 0.4000\n",
            "Epoch 8/100\n",
            "29/29 [==============================] - 0s 12ms/step - loss: 6.7270 - accuracy: 0.4756 - val_loss: 5.7326 - val_accuracy: 0.4550\n",
            "Epoch 9/100\n",
            "29/29 [==============================] - 0s 12ms/step - loss: 5.5514 - accuracy: 0.4894 - val_loss: 5.0868 - val_accuracy: 0.5000\n",
            "Epoch 10/100\n",
            "29/29 [==============================] - 0s 8ms/step - loss: 4.8000 - accuracy: 0.5067 - val_loss: 4.4893 - val_accuracy: 0.5150\n",
            "Epoch 11/100\n",
            "29/29 [==============================] - 0s 6ms/step - loss: 4.4499 - accuracy: 0.5200 - val_loss: 4.1594 - val_accuracy: 0.4750\n",
            "Epoch 12/100\n",
            "29/29 [==============================] - 0s 7ms/step - loss: 3.8666 - accuracy: 0.5322 - val_loss: 3.8945 - val_accuracy: 0.5250\n",
            "Epoch 13/100\n",
            "29/29 [==============================] - 0s 8ms/step - loss: 3.5130 - accuracy: 0.5322 - val_loss: 3.4792 - val_accuracy: 0.5000\n",
            "Epoch 14/100\n",
            "29/29 [==============================] - 0s 8ms/step - loss: 3.3035 - accuracy: 0.5561 - val_loss: 3.1049 - val_accuracy: 0.5200\n",
            "Epoch 15/100\n",
            "29/29 [==============================] - 0s 7ms/step - loss: 2.9614 - accuracy: 0.5483 - val_loss: 3.0452 - val_accuracy: 0.5050\n",
            "Epoch 16/100\n",
            "29/29 [==============================] - 0s 7ms/step - loss: 2.8449 - accuracy: 0.5556 - val_loss: 2.7313 - val_accuracy: 0.4950\n",
            "Epoch 17/100\n",
            "29/29 [==============================] - 0s 7ms/step - loss: 2.6628 - accuracy: 0.5667 - val_loss: 2.5632 - val_accuracy: 0.5100\n",
            "Epoch 18/100\n",
            "29/29 [==============================] - 0s 5ms/step - loss: 2.5036 - accuracy: 0.5728 - val_loss: 2.6285 - val_accuracy: 0.4750\n",
            "Epoch 19/100\n",
            "29/29 [==============================] - 0s 4ms/step - loss: 2.4410 - accuracy: 0.5678 - val_loss: 2.1955 - val_accuracy: 0.5150\n",
            "Epoch 20/100\n",
            "29/29 [==============================] - 0s 4ms/step - loss: 2.1382 - accuracy: 0.5806 - val_loss: 1.9163 - val_accuracy: 0.5400\n",
            "Epoch 21/100\n",
            "29/29 [==============================] - 0s 4ms/step - loss: 2.0280 - accuracy: 0.5878 - val_loss: 2.2753 - val_accuracy: 0.5150\n",
            "Epoch 22/100\n",
            "29/29 [==============================] - 0s 4ms/step - loss: 2.1984 - accuracy: 0.5761 - val_loss: 2.2960 - val_accuracy: 0.5450\n",
            "Epoch 23/100\n",
            "29/29 [==============================] - 0s 4ms/step - loss: 1.9052 - accuracy: 0.5856 - val_loss: 1.6207 - val_accuracy: 0.5650\n",
            "Epoch 24/100\n",
            "29/29 [==============================] - 0s 4ms/step - loss: 1.6738 - accuracy: 0.6150 - val_loss: 1.5650 - val_accuracy: 0.5650\n",
            "Epoch 25/100\n",
            "29/29 [==============================] - 0s 4ms/step - loss: 1.6322 - accuracy: 0.6122 - val_loss: 1.6156 - val_accuracy: 0.6350\n",
            "Epoch 26/100\n",
            "29/29 [==============================] - 0s 5ms/step - loss: 1.5526 - accuracy: 0.6128 - val_loss: 1.4716 - val_accuracy: 0.5900\n",
            "Epoch 27/100\n",
            "29/29 [==============================] - 0s 4ms/step - loss: 1.4723 - accuracy: 0.6206 - val_loss: 1.2225 - val_accuracy: 0.6200\n",
            "Epoch 28/100\n",
            "29/29 [==============================] - 0s 4ms/step - loss: 1.3684 - accuracy: 0.6256 - val_loss: 1.5292 - val_accuracy: 0.5850\n",
            "Epoch 29/100\n",
            "29/29 [==============================] - 0s 4ms/step - loss: 1.4465 - accuracy: 0.6000 - val_loss: 1.2604 - val_accuracy: 0.6000\n",
            "Epoch 30/100\n",
            "29/29 [==============================] - 0s 4ms/step - loss: 1.3664 - accuracy: 0.6250 - val_loss: 1.2546 - val_accuracy: 0.6150\n",
            "Epoch 31/100\n",
            "29/29 [==============================] - 0s 4ms/step - loss: 1.4712 - accuracy: 0.5928 - val_loss: 1.4258 - val_accuracy: 0.5550\n",
            "Epoch 32/100\n",
            "29/29 [==============================] - 0s 4ms/step - loss: 1.2958 - accuracy: 0.6267 - val_loss: 1.4032 - val_accuracy: 0.6050\n",
            "Epoch 33/100\n",
            "29/29 [==============================] - 0s 4ms/step - loss: 1.2691 - accuracy: 0.6267 - val_loss: 1.0782 - val_accuracy: 0.6400\n",
            "Epoch 34/100\n",
            "29/29 [==============================] - 0s 4ms/step - loss: 1.1589 - accuracy: 0.6267 - val_loss: 1.0117 - val_accuracy: 0.6450\n",
            "Epoch 35/100\n",
            "29/29 [==============================] - 0s 4ms/step - loss: 1.1149 - accuracy: 0.6283 - val_loss: 1.2030 - val_accuracy: 0.6450\n",
            "Epoch 36/100\n",
            "29/29 [==============================] - 0s 4ms/step - loss: 1.2258 - accuracy: 0.6322 - val_loss: 1.7777 - val_accuracy: 0.5550\n",
            "Epoch 37/100\n",
            "29/29 [==============================] - 0s 4ms/step - loss: 1.3424 - accuracy: 0.5939 - val_loss: 1.1739 - val_accuracy: 0.6300\n",
            "Epoch 38/100\n",
            "29/29 [==============================] - 0s 4ms/step - loss: 1.1125 - accuracy: 0.6344 - val_loss: 1.0244 - val_accuracy: 0.6450\n",
            "Epoch 39/100\n",
            "29/29 [==============================] - 0s 4ms/step - loss: 1.0064 - accuracy: 0.6539 - val_loss: 1.0909 - val_accuracy: 0.6250\n",
            "Epoch 40/100\n",
            "29/29 [==============================] - 0s 4ms/step - loss: 1.0607 - accuracy: 0.6406 - val_loss: 0.9551 - val_accuracy: 0.6300\n",
            "Epoch 41/100\n",
            "29/29 [==============================] - 0s 5ms/step - loss: 1.0170 - accuracy: 0.6489 - val_loss: 1.0502 - val_accuracy: 0.6100\n",
            "Epoch 42/100\n",
            "29/29 [==============================] - 0s 5ms/step - loss: 0.9606 - accuracy: 0.6500 - val_loss: 1.1738 - val_accuracy: 0.5650\n",
            "Epoch 43/100\n",
            "29/29 [==============================] - 0s 4ms/step - loss: 1.0562 - accuracy: 0.6294 - val_loss: 0.9934 - val_accuracy: 0.6350\n",
            "Epoch 44/100\n",
            "29/29 [==============================] - 0s 4ms/step - loss: 1.0156 - accuracy: 0.6356 - val_loss: 1.0342 - val_accuracy: 0.6700\n",
            "Epoch 45/100\n",
            "29/29 [==============================] - 0s 4ms/step - loss: 1.0189 - accuracy: 0.6328 - val_loss: 1.0855 - val_accuracy: 0.6000\n",
            "Epoch 46/100\n",
            "29/29 [==============================] - 0s 4ms/step - loss: 1.0830 - accuracy: 0.6400 - val_loss: 1.2237 - val_accuracy: 0.6050\n",
            "Epoch 47/100\n",
            "29/29 [==============================] - 0s 4ms/step - loss: 1.0903 - accuracy: 0.6217 - val_loss: 0.8898 - val_accuracy: 0.7050\n",
            "Epoch 48/100\n",
            "29/29 [==============================] - 0s 4ms/step - loss: 0.8597 - accuracy: 0.6633 - val_loss: 0.9198 - val_accuracy: 0.6450\n",
            "Epoch 49/100\n",
            "29/29 [==============================] - 0s 4ms/step - loss: 0.9412 - accuracy: 0.6400 - val_loss: 0.9733 - val_accuracy: 0.6700\n",
            "Epoch 50/100\n",
            "29/29 [==============================] - 0s 4ms/step - loss: 0.8561 - accuracy: 0.6533 - val_loss: 0.9057 - val_accuracy: 0.6450\n",
            "Epoch 51/100\n",
            "29/29 [==============================] - 0s 4ms/step - loss: 0.8342 - accuracy: 0.6656 - val_loss: 1.0431 - val_accuracy: 0.5950\n",
            "Epoch 52/100\n",
            "29/29 [==============================] - 0s 4ms/step - loss: 0.9760 - accuracy: 0.6311 - val_loss: 0.9710 - val_accuracy: 0.6200\n",
            "Epoch 53/100\n",
            "29/29 [==============================] - 0s 4ms/step - loss: 0.8721 - accuracy: 0.6517 - val_loss: 0.8283 - val_accuracy: 0.6200\n",
            "Epoch 54/100\n",
            "29/29 [==============================] - 0s 4ms/step - loss: 0.8651 - accuracy: 0.6583 - val_loss: 0.8621 - val_accuracy: 0.6400\n",
            "Epoch 55/100\n",
            "29/29 [==============================] - 0s 4ms/step - loss: 0.9062 - accuracy: 0.6422 - val_loss: 1.0338 - val_accuracy: 0.6000\n",
            "Epoch 56/100\n",
            "29/29 [==============================] - 0s 4ms/step - loss: 0.9363 - accuracy: 0.6378 - val_loss: 1.2272 - val_accuracy: 0.6050\n",
            "Epoch 57/100\n",
            "29/29 [==============================] - 0s 4ms/step - loss: 0.8861 - accuracy: 0.6506 - val_loss: 0.8530 - val_accuracy: 0.6350\n",
            "Epoch 58/100\n",
            "29/29 [==============================] - 0s 4ms/step - loss: 0.8399 - accuracy: 0.6533 - val_loss: 0.8222 - val_accuracy: 0.6350\n",
            "Epoch 59/100\n",
            "29/29 [==============================] - 0s 4ms/step - loss: 0.8380 - accuracy: 0.6400 - val_loss: 0.8992 - val_accuracy: 0.5950\n",
            "Epoch 60/100\n",
            "29/29 [==============================] - 0s 4ms/step - loss: 0.9366 - accuracy: 0.6494 - val_loss: 0.9013 - val_accuracy: 0.6250\n",
            "Epoch 61/100\n",
            "29/29 [==============================] - 0s 4ms/step - loss: 0.7999 - accuracy: 0.6611 - val_loss: 0.8431 - val_accuracy: 0.6100\n",
            "Epoch 62/100\n",
            "29/29 [==============================] - 0s 4ms/step - loss: 0.7057 - accuracy: 0.6861 - val_loss: 0.7295 - val_accuracy: 0.6400\n",
            "Epoch 63/100\n",
            "29/29 [==============================] - 0s 4ms/step - loss: 0.7477 - accuracy: 0.6783 - val_loss: 0.9708 - val_accuracy: 0.6000\n",
            "Epoch 64/100\n",
            "29/29 [==============================] - 0s 4ms/step - loss: 0.8065 - accuracy: 0.6433 - val_loss: 0.7825 - val_accuracy: 0.6200\n",
            "Epoch 65/100\n",
            "29/29 [==============================] - 0s 4ms/step - loss: 0.8385 - accuracy: 0.6656 - val_loss: 0.7446 - val_accuracy: 0.6350\n",
            "Epoch 66/100\n",
            "29/29 [==============================] - 0s 5ms/step - loss: 0.7463 - accuracy: 0.6700 - val_loss: 0.9585 - val_accuracy: 0.6500\n",
            "Epoch 67/100\n",
            "29/29 [==============================] - 0s 5ms/step - loss: 0.8271 - accuracy: 0.6494 - val_loss: 0.7321 - val_accuracy: 0.6550\n",
            "Epoch 68/100\n",
            "29/29 [==============================] - 0s 4ms/step - loss: 0.7314 - accuracy: 0.6839 - val_loss: 0.8657 - val_accuracy: 0.5900\n",
            "Epoch 69/100\n",
            "29/29 [==============================] - 0s 4ms/step - loss: 0.7925 - accuracy: 0.6567 - val_loss: 1.1584 - val_accuracy: 0.6150\n",
            "Epoch 70/100\n",
            "29/29 [==============================] - 0s 6ms/step - loss: 0.8099 - accuracy: 0.6706 - val_loss: 0.7413 - val_accuracy: 0.6750\n",
            "Epoch 71/100\n",
            "29/29 [==============================] - 0s 6ms/step - loss: 0.6843 - accuracy: 0.6917 - val_loss: 0.8172 - val_accuracy: 0.6500\n",
            "Epoch 72/100\n",
            "29/29 [==============================] - 0s 7ms/step - loss: 0.7187 - accuracy: 0.6806 - val_loss: 0.7622 - val_accuracy: 0.6850\n",
            "Epoch 73/100\n",
            "29/29 [==============================] - 0s 6ms/step - loss: 0.6919 - accuracy: 0.6789 - val_loss: 0.7007 - val_accuracy: 0.6700\n",
            "Epoch 74/100\n",
            "29/29 [==============================] - 0s 6ms/step - loss: 0.6977 - accuracy: 0.6861 - val_loss: 0.8406 - val_accuracy: 0.6000\n",
            "Epoch 75/100\n",
            "29/29 [==============================] - 0s 5ms/step - loss: 0.8271 - accuracy: 0.6678 - val_loss: 1.4695 - val_accuracy: 0.6000\n",
            "Epoch 76/100\n",
            "29/29 [==============================] - 0s 6ms/step - loss: 0.8102 - accuracy: 0.6594 - val_loss: 0.8768 - val_accuracy: 0.6150\n",
            "Epoch 77/100\n",
            "29/29 [==============================] - 0s 6ms/step - loss: 0.7041 - accuracy: 0.6922 - val_loss: 0.7542 - val_accuracy: 0.6600\n",
            "Epoch 78/100\n",
            "29/29 [==============================] - 0s 6ms/step - loss: 0.6609 - accuracy: 0.6967 - val_loss: 0.8689 - val_accuracy: 0.6600\n",
            "Epoch 79/100\n",
            "29/29 [==============================] - 0s 6ms/step - loss: 0.7148 - accuracy: 0.6750 - val_loss: 0.8165 - val_accuracy: 0.6200\n",
            "Epoch 80/100\n",
            "29/29 [==============================] - 0s 6ms/step - loss: 0.7036 - accuracy: 0.6856 - val_loss: 0.8032 - val_accuracy: 0.6050\n",
            "Epoch 81/100\n",
            "29/29 [==============================] - 0s 6ms/step - loss: 0.7069 - accuracy: 0.6900 - val_loss: 0.7751 - val_accuracy: 0.6300\n",
            "Epoch 82/100\n",
            "29/29 [==============================] - 0s 6ms/step - loss: 0.6952 - accuracy: 0.6872 - val_loss: 0.8207 - val_accuracy: 0.6150\n",
            "Epoch 83/100\n",
            "29/29 [==============================] - 0s 6ms/step - loss: 0.7323 - accuracy: 0.6661 - val_loss: 0.9312 - val_accuracy: 0.6300\n",
            "Epoch 84/100\n",
            "29/29 [==============================] - 0s 7ms/step - loss: 0.7382 - accuracy: 0.6867 - val_loss: 1.0016 - val_accuracy: 0.5500\n",
            "Epoch 85/100\n",
            "29/29 [==============================] - 0s 5ms/step - loss: 0.7372 - accuracy: 0.6656 - val_loss: 0.7220 - val_accuracy: 0.6750\n",
            "Epoch 86/100\n",
            "29/29 [==============================] - 0s 4ms/step - loss: 0.7543 - accuracy: 0.6678 - val_loss: 0.9112 - val_accuracy: 0.6200\n",
            "Epoch 87/100\n",
            "29/29 [==============================] - 0s 4ms/step - loss: 0.7517 - accuracy: 0.6800 - val_loss: 0.8421 - val_accuracy: 0.6550\n",
            "Epoch 88/100\n",
            "29/29 [==============================] - 0s 4ms/step - loss: 0.6576 - accuracy: 0.6983 - val_loss: 0.9326 - val_accuracy: 0.6000\n",
            "Epoch 89/100\n",
            "29/29 [==============================] - 0s 4ms/step - loss: 0.6930 - accuracy: 0.7083 - val_loss: 0.8002 - val_accuracy: 0.6900\n",
            "Epoch 90/100\n",
            "29/29 [==============================] - 0s 4ms/step - loss: 0.7864 - accuracy: 0.6517 - val_loss: 0.8865 - val_accuracy: 0.6350\n",
            "Epoch 91/100\n",
            "29/29 [==============================] - 0s 4ms/step - loss: 0.7234 - accuracy: 0.6833 - val_loss: 0.7209 - val_accuracy: 0.6950\n",
            "Epoch 92/100\n",
            "29/29 [==============================] - 0s 4ms/step - loss: 0.7521 - accuracy: 0.6672 - val_loss: 0.7185 - val_accuracy: 0.6600\n",
            "Epoch 93/100\n",
            "29/29 [==============================] - 0s 4ms/step - loss: 0.7875 - accuracy: 0.6589 - val_loss: 0.7583 - val_accuracy: 0.6450\n",
            "Epoch 94/100\n",
            "29/29 [==============================] - 0s 4ms/step - loss: 0.6671 - accuracy: 0.7033 - val_loss: 0.8879 - val_accuracy: 0.6300\n",
            "Epoch 95/100\n",
            "29/29 [==============================] - 0s 4ms/step - loss: 0.7754 - accuracy: 0.6606 - val_loss: 0.7343 - val_accuracy: 0.6300\n",
            "Epoch 96/100\n",
            "29/29 [==============================] - 0s 4ms/step - loss: 0.6856 - accuracy: 0.6883 - val_loss: 0.8849 - val_accuracy: 0.5750\n",
            "Epoch 97/100\n",
            "29/29 [==============================] - 0s 4ms/step - loss: 0.7437 - accuracy: 0.6839 - val_loss: 0.8732 - val_accuracy: 0.6400\n",
            "Epoch 98/100\n",
            "29/29 [==============================] - 0s 4ms/step - loss: 0.8124 - accuracy: 0.6683 - val_loss: 0.6794 - val_accuracy: 0.6800\n",
            "Epoch 99/100\n",
            "29/29 [==============================] - 0s 4ms/step - loss: 0.6129 - accuracy: 0.7183 - val_loss: 0.7155 - val_accuracy: 0.6700\n",
            "Epoch 100/100\n",
            "29/29 [==============================] - 0s 4ms/step - loss: 0.6367 - accuracy: 0.7183 - val_loss: 0.8460 - val_accuracy: 0.6200\n"
          ]
        }
      ]
    },
    {
      "cell_type": "code",
      "metadata": {
        "id": "ad7wt64u6lYs",
        "outputId": "d45d1286-fa6e-47fa-e85b-cc4da8cac486",
        "colab": {
          "base_uri": "https://localhost:8080/",
          "height": 472
        }
      },
      "source": [
        "# Plot training and validation accuracy\n",
        "plt.plot(history_no_norm.history['accuracy'], label='Training Accuracy')\n",
        "plt.plot(history_no_norm.history['val_accuracy'], label='Validation Accuracy')\n",
        "plt.xlabel('Epoch')\n",
        "plt.ylabel('Accuracy')\n",
        "plt.title('Training and Validation Accuracy (Without Normalization)')\n",
        "plt.legend()\n",
        "plt.show()\n"
      ],
      "execution_count": 35,
      "outputs": [
        {
          "output_type": "display_data",
          "data": {
            "text/plain": [
              "<Figure size 640x480 with 1 Axes>"
            ],
            "image/png": "[encoded data removed]"
          },
          "metadata": {}
        }
      ]
    },
    {
      "cell_type": "code",
      "metadata": {
        "id": "ETJDeDTt6tRR",
        "outputId": "fd0dbc16-7a5f-409d-fdd9-3e85385945d5",
        "colab": {
          "base_uri": "https://localhost:8080/",
          "height": 472
        }
      },
      "source": [
        "# Plot training and validation loss\n",
        "plt.plot(history_no_norm.history['loss'], label='Training Loss')\n",
        "plt.plot(history_no_norm.history['val_loss'], label='Validation Loss')\n",
        "plt.xlabel('Epoch')\n",
        "plt.ylabel('Loss')\n",
        "plt.title('Training and Validation Loss (Without Normalization)')\n",
        "plt.legend()\n",
        "plt.show()\n"
      ],
      "execution_count": 36,
      "outputs": [
        {
          "output_type": "display_data",
          "data": {
            "text/plain": [
              "<Figure size 640x480 with 1 Axes>"
            ],
            "image/png": "[encoded data removed]"
          },
          "metadata": {}
        }
      ]
    },
    {
      "cell_type": "markdown",
      "metadata": {
        "id": "xvK807CDVCnk"
      },
      "source": [
        "# Exercise 2: Train a simpler model and evaluate the results"
      ]
    },
    {
      "cell_type": "code",
      "metadata": {
        "id": "zq47RlJJ7E11",
        "outputId": "72bd40a5-6d4e-4286-891d-ae825ec250c8",
        "colab": {
          "base_uri": "https://localhost:8080/"
        }
      },
      "source": [
        "# Split data in training and validation partitions with normalization\n",
        "X_train_norm, X_val_norm, y_train, y_val = train_test_split(X_norm, y_onehot, test_size=0.1)\n",
        "\n",
        "# Show sizes of partitions\n",
        "print(\"Size of training data (with normalization): \", X_train_norm.shape)\n",
        "print(\"Size of validation data (with normalization): \", X_val_norm.shape)\n"
      ],
      "execution_count": 37,
      "outputs": [
        {
          "output_type": "stream",
          "name": "stdout",
          "text": [
            "Size of training data (with normalization):  (1800, 20)\n",
            "Size of validation data (with normalization):  (200, 20)\n"
          ]
        }
      ]
    },
    {
      "cell_type": "code",
      "metadata": {
        "id": "dqFSwTf67NY_",
        "outputId": "0ff02ee2-a6ca-411a-af58-8e609fa9e1ed",
        "colab": {
          "base_uri": "https://localhost:8080/"
        }
      },
      "source": [
        "# Diseño del modelo sin la segunda capa densa\n",
        "model_simple = Sequential()\n",
        "model_simple.add(Dense(16, input_dim=20, activation='relu'))\n",
        "model_simple.add(Dense(4, activation='softmax'))\n",
        "\n",
        "# Resumen del modelo\n",
        "model_simple.summary()\n"
      ],
      "execution_count": 38,
      "outputs": [
        {
          "output_type": "stream",
          "name": "stdout",
          "text": [
            "Model: \"sequential_2\"\n",
            "_________________________________________________________________\n",
            " Layer (type)                Output Shape              Param #   \n",
            "=================================================================\n",
            " dense_6 (Dense)             (None, 16)                336       \n",
            "                                                                 \n",
            " dense_7 (Dense)             (None, 4)                 68        \n",
            "                                                                 \n",
            "=================================================================\n",
            "Total params: 404 (1.58 KB)\n",
            "Trainable params: 404 (1.58 KB)\n",
            "Non-trainable params: 0 (0.00 Byte)\n",
            "_________________________________________________________________\n"
          ]
        }
      ]
    },
    {
      "cell_type": "code",
      "metadata": {
        "id": "5Kl6T_sI7nUL"
      },
      "source": [
        "# Compilación del modelo\n",
        "model_simple.compile(loss='categorical_crossentropy', optimizer='adam', metrics=['accuracy'])\n"
      ],
      "execution_count": 39,
      "outputs": []
    },
    {
      "cell_type": "code",
      "metadata": {
        "id": "h5rvLhwZ7xJF",
        "outputId": "d29f1125-b695-488f-d53c-f5264be19677",
        "colab": {
          "base_uri": "https://localhost:8080/"
        }
      },
      "source": [
        "# Entrenamiento del modelo\n",
        "history_simple = model_simple.fit(X_train_norm, y_train, epochs=100, batch_size=64, validation_data=(X_val_norm, y_val))\n"
      ],
      "execution_count": 40,
      "outputs": [
        {
          "output_type": "stream",
          "name": "stdout",
          "text": [
            "Epoch 1/100\n",
            "29/29 [==============================] - 2s 14ms/step - loss: 1.5817 - accuracy: 0.2972 - val_loss: 1.5406 - val_accuracy: 0.2750\n",
            "Epoch 2/100\n",
            "29/29 [==============================] - 0s 6ms/step - loss: 1.4511 - accuracy: 0.3311 - val_loss: 1.4518 - val_accuracy: 0.3250\n",
            "Epoch 3/100\n",
            "29/29 [==============================] - 0s 6ms/step - loss: 1.3591 - accuracy: 0.3667 - val_loss: 1.3791 - val_accuracy: 0.3450\n",
            "Epoch 4/100\n",
            "29/29 [==============================] - 0s 6ms/step - loss: 1.2840 - accuracy: 0.4050 - val_loss: 1.3181 - val_accuracy: 0.3750\n",
            "Epoch 5/100\n",
            "29/29 [==============================] - 0s 6ms/step - loss: 1.2182 - accuracy: 0.4433 - val_loss: 1.2574 - val_accuracy: 0.4200\n",
            "Epoch 6/100\n",
            "29/29 [==============================] - 0s 4ms/step - loss: 1.1579 - accuracy: 0.4867 - val_loss: 1.2008 - val_accuracy: 0.4650\n",
            "Epoch 7/100\n",
            "29/29 [==============================] - 0s 4ms/step - loss: 1.1025 - accuracy: 0.5250 - val_loss: 1.1467 - val_accuracy: 0.4700\n",
            "Epoch 8/100\n",
            "29/29 [==============================] - 0s 4ms/step - loss: 1.0497 - accuracy: 0.5533 - val_loss: 1.0955 - val_accuracy: 0.5100\n",
            "Epoch 9/100\n",
            "29/29 [==============================] - 0s 4ms/step - loss: 1.0006 - accuracy: 0.5833 - val_loss: 1.0490 - val_accuracy: 0.5250\n",
            "Epoch 10/100\n",
            "29/29 [==============================] - 0s 4ms/step - loss: 0.9552 - accuracy: 0.6078 - val_loss: 1.0059 - val_accuracy: 0.5550\n",
            "Epoch 11/100\n",
            "29/29 [==============================] - 0s 4ms/step - loss: 0.9120 - accuracy: 0.6317 - val_loss: 0.9651 - val_accuracy: 0.5800\n",
            "Epoch 12/100\n",
            "29/29 [==============================] - 0s 4ms/step - loss: 0.8718 - accuracy: 0.6461 - val_loss: 0.9260 - val_accuracy: 0.6050\n",
            "Epoch 13/100\n",
            "29/29 [==============================] - 0s 4ms/step - loss: 0.8344 - accuracy: 0.6639 - val_loss: 0.8906 - val_accuracy: 0.6250\n",
            "Epoch 14/100\n",
            "29/29 [==============================] - 0s 4ms/step - loss: 0.7997 - accuracy: 0.6867 - val_loss: 0.8581 - val_accuracy: 0.6200\n",
            "Epoch 15/100\n",
            "29/29 [==============================] - 0s 4ms/step - loss: 0.7675 - accuracy: 0.7072 - val_loss: 0.8258 - val_accuracy: 0.6250\n",
            "Epoch 16/100\n",
            "29/29 [==============================] - 0s 4ms/step - loss: 0.7372 - accuracy: 0.7206 - val_loss: 0.7958 - val_accuracy: 0.6450\n",
            "Epoch 17/100\n",
            "29/29 [==============================] - 0s 4ms/step - loss: 0.7092 - accuracy: 0.7328 - val_loss: 0.7699 - val_accuracy: 0.6650\n",
            "Epoch 18/100\n",
            "29/29 [==============================] - 0s 4ms/step - loss: 0.6831 - accuracy: 0.7472 - val_loss: 0.7436 - val_accuracy: 0.6950\n",
            "Epoch 19/100\n",
            "29/29 [==============================] - 0s 4ms/step - loss: 0.6582 - accuracy: 0.7594 - val_loss: 0.7184 - val_accuracy: 0.7050\n",
            "Epoch 20/100\n",
            "29/29 [==============================] - 0s 4ms/step - loss: 0.6358 - accuracy: 0.7722 - val_loss: 0.6977 - val_accuracy: 0.7150\n",
            "Epoch 21/100\n",
            "29/29 [==============================] - 0s 4ms/step - loss: 0.6144 - accuracy: 0.7872 - val_loss: 0.6771 - val_accuracy: 0.7200\n",
            "Epoch 22/100\n",
            "29/29 [==============================] - 0s 4ms/step - loss: 0.5945 - accuracy: 0.8006 - val_loss: 0.6571 - val_accuracy: 0.7500\n",
            "Epoch 23/100\n",
            "29/29 [==============================] - 0s 4ms/step - loss: 0.5756 - accuracy: 0.8083 - val_loss: 0.6362 - val_accuracy: 0.7650\n",
            "Epoch 24/100\n",
            "29/29 [==============================] - 0s 4ms/step - loss: 0.5577 - accuracy: 0.8150 - val_loss: 0.6186 - val_accuracy: 0.7700\n",
            "Epoch 25/100\n",
            "29/29 [==============================] - 0s 4ms/step - loss: 0.5410 - accuracy: 0.8228 - val_loss: 0.6008 - val_accuracy: 0.7850\n",
            "Epoch 26/100\n",
            "29/29 [==============================] - 0s 4ms/step - loss: 0.5253 - accuracy: 0.8311 - val_loss: 0.5846 - val_accuracy: 0.7850\n",
            "Epoch 27/100\n",
            "29/29 [==============================] - 0s 4ms/step - loss: 0.5104 - accuracy: 0.8433 - val_loss: 0.5672 - val_accuracy: 0.7950\n",
            "Epoch 28/100\n",
            "29/29 [==============================] - 0s 4ms/step - loss: 0.4960 - accuracy: 0.8494 - val_loss: 0.5523 - val_accuracy: 0.8100\n",
            "Epoch 29/100\n",
            "29/29 [==============================] - 0s 4ms/step - loss: 0.4821 - accuracy: 0.8550 - val_loss: 0.5388 - val_accuracy: 0.8350\n",
            "Epoch 30/100\n",
            "29/29 [==============================] - 0s 4ms/step - loss: 0.4694 - accuracy: 0.8622 - val_loss: 0.5246 - val_accuracy: 0.8300\n",
            "Epoch 31/100\n",
            "29/29 [==============================] - 0s 4ms/step - loss: 0.4570 - accuracy: 0.8794 - val_loss: 0.5116 - val_accuracy: 0.8300\n",
            "Epoch 32/100\n",
            "29/29 [==============================] - 0s 4ms/step - loss: 0.4452 - accuracy: 0.8789 - val_loss: 0.5010 - val_accuracy: 0.8350\n",
            "Epoch 33/100\n",
            "29/29 [==============================] - 0s 4ms/step - loss: 0.4337 - accuracy: 0.8872 - val_loss: 0.4874 - val_accuracy: 0.8450\n",
            "Epoch 34/100\n",
            "29/29 [==============================] - 0s 4ms/step - loss: 0.4226 - accuracy: 0.8917 - val_loss: 0.4746 - val_accuracy: 0.8350\n",
            "Epoch 35/100\n",
            "29/29 [==============================] - 0s 4ms/step - loss: 0.4123 - accuracy: 0.8950 - val_loss: 0.4648 - val_accuracy: 0.8400\n",
            "Epoch 36/100\n",
            "29/29 [==============================] - 0s 5ms/step - loss: 0.4024 - accuracy: 0.8983 - val_loss: 0.4541 - val_accuracy: 0.8400\n",
            "Epoch 37/100\n",
            "29/29 [==============================] - 0s 4ms/step - loss: 0.3927 - accuracy: 0.9033 - val_loss: 0.4443 - val_accuracy: 0.8450\n",
            "Epoch 38/100\n",
            "29/29 [==============================] - 0s 4ms/step - loss: 0.3833 - accuracy: 0.9078 - val_loss: 0.4338 - val_accuracy: 0.8400\n",
            "Epoch 39/100\n",
            "29/29 [==============================] - 0s 4ms/step - loss: 0.3745 - accuracy: 0.9122 - val_loss: 0.4231 - val_accuracy: 0.8600\n",
            "Epoch 40/100\n",
            "29/29 [==============================] - 0s 4ms/step - loss: 0.3655 - accuracy: 0.9144 - val_loss: 0.4134 - val_accuracy: 0.8650\n",
            "Epoch 41/100\n",
            "29/29 [==============================] - 0s 4ms/step - loss: 0.3576 - accuracy: 0.9183 - val_loss: 0.4043 - val_accuracy: 0.8650\n",
            "Epoch 42/100\n",
            "29/29 [==============================] - 0s 4ms/step - loss: 0.3498 - accuracy: 0.9189 - val_loss: 0.3970 - val_accuracy: 0.8600\n",
            "Epoch 43/100\n",
            "29/29 [==============================] - 0s 4ms/step - loss: 0.3426 - accuracy: 0.9194 - val_loss: 0.3898 - val_accuracy: 0.8600\n",
            "Epoch 44/100\n",
            "29/29 [==============================] - 0s 4ms/step - loss: 0.3351 - accuracy: 0.9211 - val_loss: 0.3795 - val_accuracy: 0.8600\n",
            "Epoch 45/100\n",
            "29/29 [==============================] - 0s 4ms/step - loss: 0.3273 - accuracy: 0.9261 - val_loss: 0.3723 - val_accuracy: 0.8700\n",
            "Epoch 46/100\n",
            "29/29 [==============================] - 0s 4ms/step - loss: 0.3205 - accuracy: 0.9278 - val_loss: 0.3649 - val_accuracy: 0.8750\n",
            "Epoch 47/100\n",
            "29/29 [==============================] - 0s 4ms/step - loss: 0.3133 - accuracy: 0.9311 - val_loss: 0.3562 - val_accuracy: 0.8800\n",
            "Epoch 48/100\n",
            "29/29 [==============================] - 0s 4ms/step - loss: 0.3072 - accuracy: 0.9306 - val_loss: 0.3475 - val_accuracy: 0.8700\n",
            "Epoch 49/100\n",
            "29/29 [==============================] - 0s 4ms/step - loss: 0.3010 - accuracy: 0.9339 - val_loss: 0.3419 - val_accuracy: 0.8800\n",
            "Epoch 50/100\n",
            "29/29 [==============================] - 0s 4ms/step - loss: 0.2944 - accuracy: 0.9367 - val_loss: 0.3327 - val_accuracy: 0.8950\n",
            "Epoch 51/100\n",
            "29/29 [==============================] - 0s 4ms/step - loss: 0.2886 - accuracy: 0.9372 - val_loss: 0.3279 - val_accuracy: 0.8950\n",
            "Epoch 52/100\n",
            "29/29 [==============================] - 0s 4ms/step - loss: 0.2831 - accuracy: 0.9394 - val_loss: 0.3220 - val_accuracy: 0.9000\n",
            "Epoch 53/100\n",
            "29/29 [==============================] - 0s 5ms/step - loss: 0.2778 - accuracy: 0.9450 - val_loss: 0.3170 - val_accuracy: 0.9000\n",
            "Epoch 54/100\n",
            "29/29 [==============================] - 0s 4ms/step - loss: 0.2721 - accuracy: 0.9467 - val_loss: 0.3104 - val_accuracy: 0.9000\n",
            "Epoch 55/100\n",
            "29/29 [==============================] - 0s 4ms/step - loss: 0.2668 - accuracy: 0.9494 - val_loss: 0.3063 - val_accuracy: 0.9000\n",
            "Epoch 56/100\n",
            "29/29 [==============================] - 0s 4ms/step - loss: 0.2620 - accuracy: 0.9444 - val_loss: 0.3022 - val_accuracy: 0.9000\n",
            "Epoch 57/100\n",
            "29/29 [==============================] - 0s 4ms/step - loss: 0.2568 - accuracy: 0.9478 - val_loss: 0.2977 - val_accuracy: 0.9000\n",
            "Epoch 58/100\n",
            "29/29 [==============================] - 0s 4ms/step - loss: 0.2518 - accuracy: 0.9483 - val_loss: 0.2911 - val_accuracy: 0.9100\n",
            "Epoch 59/100\n",
            "29/29 [==============================] - 0s 4ms/step - loss: 0.2476 - accuracy: 0.9511 - val_loss: 0.2859 - val_accuracy: 0.9050\n",
            "Epoch 60/100\n",
            "29/29 [==============================] - 0s 4ms/step - loss: 0.2428 - accuracy: 0.9522 - val_loss: 0.2823 - val_accuracy: 0.9150\n",
            "Epoch 61/100\n",
            "29/29 [==============================] - 0s 4ms/step - loss: 0.2385 - accuracy: 0.9528 - val_loss: 0.2789 - val_accuracy: 0.9050\n",
            "Epoch 62/100\n",
            "29/29 [==============================] - 0s 4ms/step - loss: 0.2343 - accuracy: 0.9556 - val_loss: 0.2743 - val_accuracy: 0.9100\n",
            "Epoch 63/100\n",
            "29/29 [==============================] - 0s 4ms/step - loss: 0.2300 - accuracy: 0.9556 - val_loss: 0.2701 - val_accuracy: 0.9100\n",
            "Epoch 64/100\n",
            "29/29 [==============================] - 0s 4ms/step - loss: 0.2264 - accuracy: 0.9572 - val_loss: 0.2649 - val_accuracy: 0.9100\n",
            "Epoch 65/100\n",
            "29/29 [==============================] - 0s 4ms/step - loss: 0.2226 - accuracy: 0.9533 - val_loss: 0.2619 - val_accuracy: 0.9100\n",
            "Epoch 66/100\n",
            "29/29 [==============================] - 0s 4ms/step - loss: 0.2184 - accuracy: 0.9550 - val_loss: 0.2574 - val_accuracy: 0.9050\n",
            "Epoch 67/100\n",
            "29/29 [==============================] - 0s 4ms/step - loss: 0.2146 - accuracy: 0.9583 - val_loss: 0.2532 - val_accuracy: 0.9150\n",
            "Epoch 68/100\n",
            "29/29 [==============================] - 0s 4ms/step - loss: 0.2107 - accuracy: 0.9606 - val_loss: 0.2490 - val_accuracy: 0.9100\n",
            "Epoch 69/100\n",
            "29/29 [==============================] - 0s 4ms/step - loss: 0.2070 - accuracy: 0.9600 - val_loss: 0.2464 - val_accuracy: 0.9150\n",
            "Epoch 70/100\n",
            "29/29 [==============================] - 0s 4ms/step - loss: 0.2039 - accuracy: 0.9617 - val_loss: 0.2416 - val_accuracy: 0.9150\n",
            "Epoch 71/100\n",
            "29/29 [==============================] - 0s 4ms/step - loss: 0.2004 - accuracy: 0.9617 - val_loss: 0.2388 - val_accuracy: 0.9150\n",
            "Epoch 72/100\n",
            "29/29 [==============================] - 0s 4ms/step - loss: 0.1972 - accuracy: 0.9644 - val_loss: 0.2338 - val_accuracy: 0.9250\n",
            "Epoch 73/100\n",
            "29/29 [==============================] - 0s 4ms/step - loss: 0.1936 - accuracy: 0.9633 - val_loss: 0.2317 - val_accuracy: 0.9200\n",
            "Epoch 74/100\n",
            "29/29 [==============================] - 0s 4ms/step - loss: 0.1914 - accuracy: 0.9656 - val_loss: 0.2286 - val_accuracy: 0.9200\n",
            "Epoch 75/100\n",
            "29/29 [==============================] - 0s 4ms/step - loss: 0.1881 - accuracy: 0.9667 - val_loss: 0.2259 - val_accuracy: 0.9100\n",
            "Epoch 76/100\n",
            "29/29 [==============================] - 0s 4ms/step - loss: 0.1854 - accuracy: 0.9622 - val_loss: 0.2238 - val_accuracy: 0.9200\n",
            "Epoch 77/100\n",
            "29/29 [==============================] - 0s 5ms/step - loss: 0.1820 - accuracy: 0.9672 - val_loss: 0.2215 - val_accuracy: 0.9150\n",
            "Epoch 78/100\n",
            "29/29 [==============================] - 0s 6ms/step - loss: 0.1799 - accuracy: 0.9672 - val_loss: 0.2189 - val_accuracy: 0.9300\n",
            "Epoch 79/100\n",
            "29/29 [==============================] - 0s 5ms/step - loss: 0.1768 - accuracy: 0.9683 - val_loss: 0.2182 - val_accuracy: 0.9100\n",
            "Epoch 80/100\n",
            "29/29 [==============================] - 0s 6ms/step - loss: 0.1740 - accuracy: 0.9700 - val_loss: 0.2139 - val_accuracy: 0.9150\n",
            "Epoch 81/100\n",
            "29/29 [==============================] - 0s 6ms/step - loss: 0.1716 - accuracy: 0.9689 - val_loss: 0.2107 - val_accuracy: 0.9150\n",
            "Epoch 82/100\n",
            "29/29 [==============================] - 0s 6ms/step - loss: 0.1690 - accuracy: 0.9711 - val_loss: 0.2086 - val_accuracy: 0.9050\n",
            "Epoch 83/100\n",
            "29/29 [==============================] - 0s 6ms/step - loss: 0.1668 - accuracy: 0.9689 - val_loss: 0.2075 - val_accuracy: 0.9050\n",
            "Epoch 84/100\n",
            "29/29 [==============================] - 0s 6ms/step - loss: 0.1643 - accuracy: 0.9689 - val_loss: 0.2050 - val_accuracy: 0.9100\n",
            "Epoch 85/100\n",
            "29/29 [==============================] - 0s 5ms/step - loss: 0.1619 - accuracy: 0.9706 - val_loss: 0.2027 - val_accuracy: 0.9150\n",
            "Epoch 86/100\n",
            "29/29 [==============================] - 0s 6ms/step - loss: 0.1597 - accuracy: 0.9722 - val_loss: 0.2002 - val_accuracy: 0.9250\n",
            "Epoch 87/100\n",
            "29/29 [==============================] - 0s 7ms/step - loss: 0.1575 - accuracy: 0.9744 - val_loss: 0.1985 - val_accuracy: 0.9250\n",
            "Epoch 88/100\n",
            "29/29 [==============================] - 0s 6ms/step - loss: 0.1552 - accuracy: 0.9733 - val_loss: 0.1979 - val_accuracy: 0.9200\n",
            "Epoch 89/100\n",
            "29/29 [==============================] - 0s 6ms/step - loss: 0.1533 - accuracy: 0.9750 - val_loss: 0.1947 - val_accuracy: 0.9200\n",
            "Epoch 90/100\n",
            "29/29 [==============================] - 0s 6ms/step - loss: 0.1514 - accuracy: 0.9744 - val_loss: 0.1919 - val_accuracy: 0.9250\n",
            "Epoch 91/100\n",
            "29/29 [==============================] - 0s 6ms/step - loss: 0.1497 - accuracy: 0.9756 - val_loss: 0.1915 - val_accuracy: 0.9250\n",
            "Epoch 92/100\n",
            "29/29 [==============================] - 0s 6ms/step - loss: 0.1474 - accuracy: 0.9767 - val_loss: 0.1898 - val_accuracy: 0.9300\n",
            "Epoch 93/100\n",
            "29/29 [==============================] - 0s 4ms/step - loss: 0.1454 - accuracy: 0.9761 - val_loss: 0.1880 - val_accuracy: 0.9150\n",
            "Epoch 94/100\n",
            "29/29 [==============================] - 0s 4ms/step - loss: 0.1437 - accuracy: 0.9767 - val_loss: 0.1872 - val_accuracy: 0.9250\n",
            "Epoch 95/100\n",
            "29/29 [==============================] - 0s 5ms/step - loss: 0.1418 - accuracy: 0.9772 - val_loss: 0.1852 - val_accuracy: 0.9200\n",
            "Epoch 96/100\n",
            "29/29 [==============================] - 0s 4ms/step - loss: 0.1402 - accuracy: 0.9756 - val_loss: 0.1833 - val_accuracy: 0.9250\n",
            "Epoch 97/100\n",
            "29/29 [==============================] - 0s 4ms/step - loss: 0.1387 - accuracy: 0.9778 - val_loss: 0.1833 - val_accuracy: 0.9350\n",
            "Epoch 98/100\n",
            "29/29 [==============================] - 0s 4ms/step - loss: 0.1370 - accuracy: 0.9800 - val_loss: 0.1797 - val_accuracy: 0.9250\n",
            "Epoch 99/100\n",
            "29/29 [==============================] - 0s 4ms/step - loss: 0.1352 - accuracy: 0.9794 - val_loss: 0.1786 - val_accuracy: 0.9250\n",
            "Epoch 100/100\n",
            "29/29 [==============================] - 0s 4ms/step - loss: 0.1335 - accuracy: 0.9783 - val_loss: 0.1791 - val_accuracy: 0.9300\n"
          ]
        }
      ]
    },
    {
      "cell_type": "code",
      "metadata": {
        "id": "DepOKe2q8MkJ",
        "outputId": "51cea0ff-e991-4df2-fd74-8aecb775cf37",
        "colab": {
          "base_uri": "https://localhost:8080/",
          "height": 472
        }
      },
      "source": [
        "# Plot training and validation accuracy\n",
        "plt.plot(history_simple.history['accuracy'], label='Training Accuracy')\n",
        "plt.plot(history_simple.history['val_accuracy'], label='Validation Accuracy')\n",
        "plt.xlabel('Epoch')\n",
        "plt.ylabel('Accuracy')\n",
        "plt.title('Training and Validation Accuracy (Simple Model)')\n",
        "plt.legend()\n",
        "plt.show()\n"
      ],
      "execution_count": 41,
      "outputs": [
        {
          "output_type": "display_data",
          "data": {
            "text/plain": [
              "<Figure size 640x480 with 1 Axes>"
            ],
            "image/png": "[encoded data removed]"
          },
          "metadata": {}
        }
      ]
    },
    {
      "cell_type": "code",
      "metadata": {
        "id": "3w92LUhf8MVT",
        "outputId": "fd2037da-57e8-48cd-ad3c-8a78879f16b4",
        "colab": {
          "base_uri": "https://localhost:8080/",
          "height": 472
        }
      },
      "source": [
        "# Plot training and validation loss\n",
        "plt.plot(history_simple.history['loss'], label='Training Loss')\n",
        "plt.plot(history_simple.history['val_loss'], label='Validation Loss')\n",
        "plt.xlabel('Epoch')\n",
        "plt.ylabel('Loss')\n",
        "plt.title('Training and Validation Loss (Simple Model)')\n",
        "plt.legend()\n",
        "plt.show()\n"
      ],
      "execution_count": 42,
      "outputs": [
        {
          "output_type": "display_data",
          "data": {
            "text/plain": [
              "<Figure size 640x480 with 1 Axes>"
            ],
            "image/png": "[encoded data removed]"
          },
          "metadata": {}
        }
      ]
    },
    {
      "cell_type": "markdown",
      "metadata": {
        "id": "Is_TBOC1VTIE"
      },
      "source": [
        "# Exercise 3: Train a more complex model and evaluate the results"
      ]
    },
    {
      "cell_type": "code",
      "metadata": {
        "id": "OjIi9dDDVTrl",
        "outputId": "5d80d7e4-bca9-4a1a-d89c-f0c77dae4bda",
        "colab": {
          "base_uri": "https://localhost:8080/"
        }
      },
      "source": [
        "# Split data in training and validation partitions with normalization\n",
        "X_train_norm, X_val_norm, y_train, y_val = train_test_split(X_norm, y_onehot, test_size=0.1)\n",
        "\n",
        "# Show sizes of partitions\n",
        "print(\"Size of training data (with normalization): \", X_train_norm.shape)\n",
        "print(\"Size of validation data (with normalization): \", X_val_norm.shape)\n"
      ],
      "execution_count": 43,
      "outputs": [
        {
          "output_type": "stream",
          "name": "stdout",
          "text": [
            "Size of training data (with normalization):  (1800, 20)\n",
            "Size of validation data (with normalization):  (200, 20)\n"
          ]
        }
      ]
    },
    {
      "cell_type": "code",
      "metadata": {
        "id": "eG_74eNC8r1Z",
        "outputId": "e7eb629f-8b2d-4f5a-9af3-9599b2616ff2",
        "colab": {
          "base_uri": "https://localhost:8080/"
        }
      },
      "source": [
        "# Diseño del modelo con más neuronas en las capas densas\n",
        "model_complex = Sequential()\n",
        "model_complex.add(Dense(128, input_dim=20, activation='relu'))\n",
        "model_complex.add(Dense(256, activation='relu'))\n",
        "model_complex.add(Dense(4, activation='softmax'))\n",
        "\n",
        "# Resumen del modelo\n",
        "model_complex.summary()\n"
      ],
      "execution_count": 44,
      "outputs": [
        {
          "output_type": "stream",
          "name": "stdout",
          "text": [
            "Model: \"sequential_3\"\n",
            "_________________________________________________________________\n",
            " Layer (type)                Output Shape              Param #   \n",
            "=================================================================\n",
            " dense_8 (Dense)             (None, 128)               2688      \n",
            "                                                                 \n",
            " dense_9 (Dense)             (None, 256)               33024     \n",
            "                                                                 \n",
            " dense_10 (Dense)            (None, 4)                 1028      \n",
            "                                                                 \n",
            "=================================================================\n",
            "Total params: 36740 (143.52 KB)\n",
            "Trainable params: 36740 (143.52 KB)\n",
            "Non-trainable params: 0 (0.00 Byte)\n",
            "_________________________________________________________________\n"
          ]
        }
      ]
    },
    {
      "cell_type": "code",
      "metadata": {
        "id": "tdqlzys58_9H"
      },
      "source": [
        "# Compilación del modelo\n",
        "model_complex.compile(loss='categorical_crossentropy', optimizer='adam', metrics=['accuracy'])\n"
      ],
      "execution_count": 45,
      "outputs": []
    },
    {
      "cell_type": "code",
      "metadata": {
        "id": "wA0FvjzI9ECb",
        "outputId": "e9a4a02e-2ecd-4cbf-f86e-5a3e69151621",
        "colab": {
          "base_uri": "https://localhost:8080/"
        }
      },
      "source": [
        "# Entrenamiento del modelo\n",
        "history_complex = model_complex.fit(X_train_norm, y_train, epochs=100, batch_size=64, validation_data=(X_val_norm, y_val))\n"
      ],
      "execution_count": 46,
      "outputs": [
        {
          "output_type": "stream",
          "name": "stdout",
          "text": [
            "Epoch 1/100\n",
            "29/29 [==============================] - 3s 37ms/step - loss: 1.1259 - accuracy: 0.5017 - val_loss: 0.8641 - val_accuracy: 0.7250\n",
            "Epoch 2/100\n",
            "29/29 [==============================] - 0s 4ms/step - loss: 0.6940 - accuracy: 0.7694 - val_loss: 0.5846 - val_accuracy: 0.8250\n",
            "Epoch 3/100\n",
            "29/29 [==============================] - 0s 4ms/step - loss: 0.4592 - accuracy: 0.8856 - val_loss: 0.4209 - val_accuracy: 0.8650\n",
            "Epoch 4/100\n",
            "29/29 [==============================] - 0s 4ms/step - loss: 0.3299 - accuracy: 0.9167 - val_loss: 0.3373 - val_accuracy: 0.8900\n",
            "Epoch 5/100\n",
            "29/29 [==============================] - 0s 4ms/step - loss: 0.2474 - accuracy: 0.9428 - val_loss: 0.3011 - val_accuracy: 0.8900\n",
            "Epoch 6/100\n",
            "29/29 [==============================] - 0s 6ms/step - loss: 0.1938 - accuracy: 0.9550 - val_loss: 0.2486 - val_accuracy: 0.9250\n",
            "Epoch 7/100\n",
            "29/29 [==============================] - 0s 6ms/step - loss: 0.1611 - accuracy: 0.9611 - val_loss: 0.2336 - val_accuracy: 0.9050\n",
            "Epoch 8/100\n",
            "29/29 [==============================] - 0s 5ms/step - loss: 0.1351 - accuracy: 0.9711 - val_loss: 0.2189 - val_accuracy: 0.8950\n",
            "Epoch 9/100\n",
            "29/29 [==============================] - 0s 6ms/step - loss: 0.1133 - accuracy: 0.9772 - val_loss: 0.2007 - val_accuracy: 0.9100\n",
            "Epoch 10/100\n",
            "29/29 [==============================] - 0s 6ms/step - loss: 0.0942 - accuracy: 0.9833 - val_loss: 0.2000 - val_accuracy: 0.9100\n",
            "Epoch 11/100\n",
            "29/29 [==============================] - 0s 5ms/step - loss: 0.0787 - accuracy: 0.9883 - val_loss: 0.2019 - val_accuracy: 0.9000\n",
            "Epoch 12/100\n",
            "29/29 [==============================] - 0s 5ms/step - loss: 0.0693 - accuracy: 0.9933 - val_loss: 0.1865 - val_accuracy: 0.9200\n",
            "Epoch 13/100\n",
            "29/29 [==============================] - 0s 5ms/step - loss: 0.0616 - accuracy: 0.9928 - val_loss: 0.1861 - val_accuracy: 0.9100\n",
            "Epoch 14/100\n",
            "29/29 [==============================] - 0s 6ms/step - loss: 0.0556 - accuracy: 0.9917 - val_loss: 0.1825 - val_accuracy: 0.9250\n",
            "Epoch 15/100\n",
            "29/29 [==============================] - 0s 6ms/step - loss: 0.0486 - accuracy: 0.9961 - val_loss: 0.1958 - val_accuracy: 0.9150\n",
            "Epoch 16/100\n",
            "29/29 [==============================] - 0s 6ms/step - loss: 0.0408 - accuracy: 0.9983 - val_loss: 0.1864 - val_accuracy: 0.9250\n",
            "Epoch 17/100\n",
            "29/29 [==============================] - 0s 7ms/step - loss: 0.0343 - accuracy: 0.9983 - val_loss: 0.1879 - val_accuracy: 0.9100\n",
            "Epoch 18/100\n",
            "29/29 [==============================] - 0s 6ms/step - loss: 0.0325 - accuracy: 0.9983 - val_loss: 0.2118 - val_accuracy: 0.9050\n",
            "Epoch 19/100\n",
            "29/29 [==============================] - 0s 6ms/step - loss: 0.0292 - accuracy: 0.9989 - val_loss: 0.2026 - val_accuracy: 0.9150\n",
            "Epoch 20/100\n",
            "29/29 [==============================] - 0s 6ms/step - loss: 0.0252 - accuracy: 0.9989 - val_loss: 0.1904 - val_accuracy: 0.9050\n",
            "Epoch 21/100\n",
            "29/29 [==============================] - 0s 4ms/step - loss: 0.0206 - accuracy: 1.0000 - val_loss: 0.2030 - val_accuracy: 0.9200\n",
            "Epoch 22/100\n",
            "29/29 [==============================] - 0s 4ms/step - loss: 0.0191 - accuracy: 1.0000 - val_loss: 0.1964 - val_accuracy: 0.9150\n",
            "Epoch 23/100\n",
            "29/29 [==============================] - 0s 4ms/step - loss: 0.0170 - accuracy: 1.0000 - val_loss: 0.1898 - val_accuracy: 0.9150\n",
            "Epoch 24/100\n",
            "29/29 [==============================] - 0s 4ms/step - loss: 0.0150 - accuracy: 1.0000 - val_loss: 0.2046 - val_accuracy: 0.9100\n",
            "Epoch 25/100\n",
            "29/29 [==============================] - 0s 4ms/step - loss: 0.0145 - accuracy: 1.0000 - val_loss: 0.2038 - val_accuracy: 0.9150\n",
            "Epoch 26/100\n",
            "29/29 [==============================] - 0s 4ms/step - loss: 0.0121 - accuracy: 1.0000 - val_loss: 0.2123 - val_accuracy: 0.9150\n",
            "Epoch 27/100\n",
            "29/29 [==============================] - 0s 5ms/step - loss: 0.0110 - accuracy: 1.0000 - val_loss: 0.1935 - val_accuracy: 0.9200\n",
            "Epoch 28/100\n",
            "29/29 [==============================] - 0s 4ms/step - loss: 0.0098 - accuracy: 1.0000 - val_loss: 0.1956 - val_accuracy: 0.9200\n",
            "Epoch 29/100\n",
            "29/29 [==============================] - 0s 4ms/step - loss: 0.0091 - accuracy: 1.0000 - val_loss: 0.1921 - val_accuracy: 0.9150\n",
            "Epoch 30/100\n",
            "29/29 [==============================] - 0s 4ms/step - loss: 0.0084 - accuracy: 1.0000 - val_loss: 0.2001 - val_accuracy: 0.9200\n",
            "Epoch 31/100\n",
            "29/29 [==============================] - 0s 4ms/step - loss: 0.0074 - accuracy: 1.0000 - val_loss: 0.2126 - val_accuracy: 0.9200\n",
            "Epoch 32/100\n",
            "29/29 [==============================] - 0s 4ms/step - loss: 0.0069 - accuracy: 1.0000 - val_loss: 0.2043 - val_accuracy: 0.9200\n",
            "Epoch 33/100\n",
            "29/29 [==============================] - 0s 4ms/step - loss: 0.0065 - accuracy: 1.0000 - val_loss: 0.2107 - val_accuracy: 0.9150\n",
            "Epoch 34/100\n",
            "29/29 [==============================] - 0s 4ms/step - loss: 0.0060 - accuracy: 1.0000 - val_loss: 0.2158 - val_accuracy: 0.9150\n",
            "Epoch 35/100\n",
            "29/29 [==============================] - 0s 4ms/step - loss: 0.0056 - accuracy: 1.0000 - val_loss: 0.2269 - val_accuracy: 0.9200\n",
            "Epoch 36/100\n",
            "29/29 [==============================] - 0s 4ms/step - loss: 0.0051 - accuracy: 1.0000 - val_loss: 0.2073 - val_accuracy: 0.9250\n",
            "Epoch 37/100\n",
            "29/29 [==============================] - 0s 4ms/step - loss: 0.0047 - accuracy: 1.0000 - val_loss: 0.2102 - val_accuracy: 0.9200\n",
            "Epoch 38/100\n",
            "29/29 [==============================] - 0s 4ms/step - loss: 0.0045 - accuracy: 1.0000 - val_loss: 0.2255 - val_accuracy: 0.9200\n",
            "Epoch 39/100\n",
            "29/29 [==============================] - 0s 5ms/step - loss: 0.0041 - accuracy: 1.0000 - val_loss: 0.2170 - val_accuracy: 0.9200\n",
            "Epoch 40/100\n",
            "29/29 [==============================] - 0s 4ms/step - loss: 0.0040 - accuracy: 1.0000 - val_loss: 0.2173 - val_accuracy: 0.9150\n",
            "Epoch 41/100\n",
            "29/29 [==============================] - 0s 5ms/step - loss: 0.0036 - accuracy: 1.0000 - val_loss: 0.2125 - val_accuracy: 0.9200\n",
            "Epoch 42/100\n",
            "29/29 [==============================] - 0s 4ms/step - loss: 0.0035 - accuracy: 1.0000 - val_loss: 0.2185 - val_accuracy: 0.9200\n",
            "Epoch 43/100\n",
            "29/29 [==============================] - 0s 4ms/step - loss: 0.0032 - accuracy: 1.0000 - val_loss: 0.2218 - val_accuracy: 0.9250\n",
            "Epoch 44/100\n",
            "29/29 [==============================] - 0s 4ms/step - loss: 0.0030 - accuracy: 1.0000 - val_loss: 0.2226 - val_accuracy: 0.9200\n",
            "Epoch 45/100\n",
            "29/29 [==============================] - 0s 4ms/step - loss: 0.0031 - accuracy: 1.0000 - val_loss: 0.2313 - val_accuracy: 0.9150\n",
            "Epoch 46/100\n",
            "29/29 [==============================] - 0s 4ms/step - loss: 0.0026 - accuracy: 1.0000 - val_loss: 0.2357 - val_accuracy: 0.9200\n",
            "Epoch 47/100\n",
            "29/29 [==============================] - 0s 4ms/step - loss: 0.0026 - accuracy: 1.0000 - val_loss: 0.2280 - val_accuracy: 0.9200\n",
            "Epoch 48/100\n",
            "29/29 [==============================] - 0s 4ms/step - loss: 0.0024 - accuracy: 1.0000 - val_loss: 0.2351 - val_accuracy: 0.9150\n",
            "Epoch 49/100\n",
            "29/29 [==============================] - 0s 4ms/step - loss: 0.0023 - accuracy: 1.0000 - val_loss: 0.2252 - val_accuracy: 0.9200\n",
            "Epoch 50/100\n",
            "29/29 [==============================] - 0s 4ms/step - loss: 0.0021 - accuracy: 1.0000 - val_loss: 0.2353 - val_accuracy: 0.9200\n",
            "Epoch 51/100\n",
            "29/29 [==============================] - 0s 4ms/step - loss: 0.0020 - accuracy: 1.0000 - val_loss: 0.2318 - val_accuracy: 0.9150\n",
            "Epoch 52/100\n",
            "29/29 [==============================] - 0s 4ms/step - loss: 0.0020 - accuracy: 1.0000 - val_loss: 0.2401 - val_accuracy: 0.9200\n",
            "Epoch 53/100\n",
            "29/29 [==============================] - 0s 4ms/step - loss: 0.0019 - accuracy: 1.0000 - val_loss: 0.2425 - val_accuracy: 0.9200\n",
            "Epoch 54/100\n",
            "29/29 [==============================] - 0s 4ms/step - loss: 0.0018 - accuracy: 1.0000 - val_loss: 0.2381 - val_accuracy: 0.9100\n",
            "Epoch 55/100\n",
            "29/29 [==============================] - 0s 4ms/step - loss: 0.0017 - accuracy: 1.0000 - val_loss: 0.2400 - val_accuracy: 0.9150\n",
            "Epoch 56/100\n",
            "29/29 [==============================] - 0s 4ms/step - loss: 0.0016 - accuracy: 1.0000 - val_loss: 0.2363 - val_accuracy: 0.9200\n",
            "Epoch 57/100\n",
            "29/29 [==============================] - 0s 4ms/step - loss: 0.0015 - accuracy: 1.0000 - val_loss: 0.2423 - val_accuracy: 0.9150\n",
            "Epoch 58/100\n",
            "29/29 [==============================] - 0s 4ms/step - loss: 0.0014 - accuracy: 1.0000 - val_loss: 0.2470 - val_accuracy: 0.9200\n",
            "Epoch 59/100\n",
            "29/29 [==============================] - 0s 4ms/step - loss: 0.0014 - accuracy: 1.0000 - val_loss: 0.2477 - val_accuracy: 0.9150\n",
            "Epoch 60/100\n",
            "29/29 [==============================] - 0s 4ms/step - loss: 0.0013 - accuracy: 1.0000 - val_loss: 0.2539 - val_accuracy: 0.9150\n",
            "Epoch 61/100\n",
            "29/29 [==============================] - 0s 4ms/step - loss: 0.0013 - accuracy: 1.0000 - val_loss: 0.2399 - val_accuracy: 0.9200\n",
            "Epoch 62/100\n",
            "29/29 [==============================] - 0s 4ms/step - loss: 0.0012 - accuracy: 1.0000 - val_loss: 0.2513 - val_accuracy: 0.9150\n",
            "Epoch 63/100\n",
            "29/29 [==============================] - 0s 4ms/step - loss: 0.0012 - accuracy: 1.0000 - val_loss: 0.2504 - val_accuracy: 0.9200\n",
            "Epoch 64/100\n",
            "29/29 [==============================] - 0s 4ms/step - loss: 0.0011 - accuracy: 1.0000 - val_loss: 0.2560 - val_accuracy: 0.9100\n",
            "Epoch 65/100\n",
            "29/29 [==============================] - 0s 4ms/step - loss: 0.0011 - accuracy: 1.0000 - val_loss: 0.2562 - val_accuracy: 0.9150\n",
            "Epoch 66/100\n",
            "29/29 [==============================] - 0s 4ms/step - loss: 0.0010 - accuracy: 1.0000 - val_loss: 0.2550 - val_accuracy: 0.9150\n",
            "Epoch 67/100\n",
            "29/29 [==============================] - 0s 4ms/step - loss: 0.0010 - accuracy: 1.0000 - val_loss: 0.2574 - val_accuracy: 0.9150\n",
            "Epoch 68/100\n",
            "29/29 [==============================] - 0s 4ms/step - loss: 9.5726e-04 - accuracy: 1.0000 - val_loss: 0.2566 - val_accuracy: 0.9200\n",
            "Epoch 69/100\n",
            "29/29 [==============================] - 0s 4ms/step - loss: 9.4626e-04 - accuracy: 1.0000 - val_loss: 0.2585 - val_accuracy: 0.9150\n",
            "Epoch 70/100\n",
            "29/29 [==============================] - 0s 4ms/step - loss: 9.0068e-04 - accuracy: 1.0000 - val_loss: 0.2629 - val_accuracy: 0.9150\n",
            "Epoch 71/100\n",
            "29/29 [==============================] - 0s 4ms/step - loss: 8.4531e-04 - accuracy: 1.0000 - val_loss: 0.2581 - val_accuracy: 0.9200\n",
            "Epoch 72/100\n",
            "29/29 [==============================] - 0s 4ms/step - loss: 8.1321e-04 - accuracy: 1.0000 - val_loss: 0.2623 - val_accuracy: 0.9150\n",
            "Epoch 73/100\n",
            "29/29 [==============================] - 0s 4ms/step - loss: 7.8317e-04 - accuracy: 1.0000 - val_loss: 0.2613 - val_accuracy: 0.9150\n",
            "Epoch 74/100\n",
            "29/29 [==============================] - 0s 4ms/step - loss: 7.5949e-04 - accuracy: 1.0000 - val_loss: 0.2554 - val_accuracy: 0.9150\n",
            "Epoch 75/100\n",
            "29/29 [==============================] - 0s 4ms/step - loss: 7.3626e-04 - accuracy: 1.0000 - val_loss: 0.2591 - val_accuracy: 0.9150\n",
            "Epoch 76/100\n",
            "29/29 [==============================] - 0s 4ms/step - loss: 7.1273e-04 - accuracy: 1.0000 - val_loss: 0.2610 - val_accuracy: 0.9150\n",
            "Epoch 77/100\n",
            "29/29 [==============================] - 0s 4ms/step - loss: 6.7915e-04 - accuracy: 1.0000 - val_loss: 0.2640 - val_accuracy: 0.9150\n",
            "Epoch 78/100\n",
            "29/29 [==============================] - 0s 4ms/step - loss: 6.6650e-04 - accuracy: 1.0000 - val_loss: 0.2648 - val_accuracy: 0.9150\n",
            "Epoch 79/100\n",
            "29/29 [==============================] - 0s 4ms/step - loss: 6.4080e-04 - accuracy: 1.0000 - val_loss: 0.2650 - val_accuracy: 0.9150\n",
            "Epoch 80/100\n",
            "29/29 [==============================] - 0s 4ms/step - loss: 6.1610e-04 - accuracy: 1.0000 - val_loss: 0.2656 - val_accuracy: 0.9150\n",
            "Epoch 81/100\n",
            "29/29 [==============================] - 0s 4ms/step - loss: 5.9908e-04 - accuracy: 1.0000 - val_loss: 0.2640 - val_accuracy: 0.9150\n",
            "Epoch 82/100\n",
            "29/29 [==============================] - 0s 4ms/step - loss: 5.7932e-04 - accuracy: 1.0000 - val_loss: 0.2687 - val_accuracy: 0.9150\n",
            "Epoch 83/100\n",
            "29/29 [==============================] - 0s 4ms/step - loss: 5.5956e-04 - accuracy: 1.0000 - val_loss: 0.2695 - val_accuracy: 0.9150\n",
            "Epoch 84/100\n",
            "29/29 [==============================] - 0s 4ms/step - loss: 5.4528e-04 - accuracy: 1.0000 - val_loss: 0.2693 - val_accuracy: 0.9150\n",
            "Epoch 85/100\n",
            "29/29 [==============================] - 0s 4ms/step - loss: 5.3532e-04 - accuracy: 1.0000 - val_loss: 0.2787 - val_accuracy: 0.9150\n",
            "Epoch 86/100\n",
            "29/29 [==============================] - 0s 4ms/step - loss: 5.1236e-04 - accuracy: 1.0000 - val_loss: 0.2738 - val_accuracy: 0.9150\n",
            "Epoch 87/100\n",
            "29/29 [==============================] - 0s 4ms/step - loss: 5.0017e-04 - accuracy: 1.0000 - val_loss: 0.2677 - val_accuracy: 0.9150\n",
            "Epoch 88/100\n",
            "29/29 [==============================] - 0s 4ms/step - loss: 4.7925e-04 - accuracy: 1.0000 - val_loss: 0.2705 - val_accuracy: 0.9150\n",
            "Epoch 89/100\n",
            "29/29 [==============================] - 0s 4ms/step - loss: 4.6149e-04 - accuracy: 1.0000 - val_loss: 0.2738 - val_accuracy: 0.9150\n",
            "Epoch 90/100\n",
            "29/29 [==============================] - 0s 4ms/step - loss: 4.4466e-04 - accuracy: 1.0000 - val_loss: 0.2709 - val_accuracy: 0.9150\n",
            "Epoch 91/100\n",
            "29/29 [==============================] - 0s 4ms/step - loss: 4.3336e-04 - accuracy: 1.0000 - val_loss: 0.2742 - val_accuracy: 0.9150\n",
            "Epoch 92/100\n",
            "29/29 [==============================] - 0s 4ms/step - loss: 4.2486e-04 - accuracy: 1.0000 - val_loss: 0.2774 - val_accuracy: 0.9150\n",
            "Epoch 93/100\n",
            "29/29 [==============================] - 0s 4ms/step - loss: 4.0693e-04 - accuracy: 1.0000 - val_loss: 0.2732 - val_accuracy: 0.9150\n",
            "Epoch 94/100\n",
            "29/29 [==============================] - 0s 4ms/step - loss: 3.9606e-04 - accuracy: 1.0000 - val_loss: 0.2778 - val_accuracy: 0.9150\n",
            "Epoch 95/100\n",
            "29/29 [==============================] - 0s 5ms/step - loss: 3.8698e-04 - accuracy: 1.0000 - val_loss: 0.2795 - val_accuracy: 0.9150\n",
            "Epoch 96/100\n",
            "29/29 [==============================] - 0s 4ms/step - loss: 3.7914e-04 - accuracy: 1.0000 - val_loss: 0.2782 - val_accuracy: 0.9150\n",
            "Epoch 97/100\n",
            "29/29 [==============================] - 0s 4ms/step - loss: 3.6353e-04 - accuracy: 1.0000 - val_loss: 0.2792 - val_accuracy: 0.9150\n",
            "Epoch 98/100\n",
            "29/29 [==============================] - 0s 4ms/step - loss: 3.5410e-04 - accuracy: 1.0000 - val_loss: 0.2773 - val_accuracy: 0.9150\n",
            "Epoch 99/100\n",
            "29/29 [==============================] - 0s 4ms/step - loss: 3.4533e-04 - accuracy: 1.0000 - val_loss: 0.2800 - val_accuracy: 0.9150\n",
            "Epoch 100/100\n",
            "29/29 [==============================] - 0s 6ms/step - loss: 3.4187e-04 - accuracy: 1.0000 - val_loss: 0.2830 - val_accuracy: 0.9150\n"
          ]
        }
      ]
    },
    {
      "cell_type": "code",
      "metadata": {
        "id": "wVcSFPgD9vvf",
        "outputId": "0982eba6-a8b8-46f0-fcb8-c5896e05147a",
        "colab": {
          "base_uri": "https://localhost:8080/",
          "height": 472
        }
      },
      "source": [
        "# Plot training and validation accuracy\n",
        "plt.plot(history_complex.history['accuracy'], label='Training Accuracy')\n",
        "plt.plot(history_complex.history['val_accuracy'], label='Validation Accuracy')\n",
        "plt.xlabel('Epoch')\n",
        "plt.ylabel('Accuracy')\n",
        "plt.title('Training and Validation Accuracy (Complex Model)')\n",
        "plt.legend()\n",
        "plt.show()\n"
      ],
      "execution_count": 47,
      "outputs": [
        {
          "output_type": "display_data",
          "data": {
            "text/plain": [
              "<Figure size 640x480 with 1 Axes>"
            ],
            "image/png": "[encoded data removed]"
          },
          "metadata": {}
        }
      ]
    },
    {
      "cell_type": "code",
      "metadata": {
        "id": "4nmHge409q7k",
        "outputId": "ddb02b88-617a-4dfe-c2dd-9f1e80b48e41",
        "colab": {
          "base_uri": "https://localhost:8080/",
          "height": 472
        }
      },
      "source": [
        "# Plot training and validation loss\n",
        "plt.plot(history_complex.history['loss'], label='Training Loss')\n",
        "plt.plot(history_complex.history['val_loss'], label='Validation Loss')\n",
        "plt.xlabel('Epoch')\n",
        "plt.ylabel('Loss')\n",
        "plt.title('Training and Validation Loss (Complex Model)')\n",
        "plt.legend()\n",
        "plt.show()\n"
      ],
      "execution_count": 48,
      "outputs": [
        {
          "output_type": "display_data",
          "data": {
            "text/plain": [
              "<Figure size 640x480 with 1 Axes>"
            ],
            "image/png": "[encoded data removed]"
          },
          "metadata": {}
        }
      ]
    },
    {
      "cell_type": "markdown",
      "metadata": {
        "id": "-a_D8fFqFNJ4"
      },
      "source": [
        "# Exercise 4: Predict the price range of the phones of the test.csv file"
      ]
    },
    {
      "cell_type": "code",
      "metadata": {
        "id": "iAUk4_kNDfbG",
        "outputId": "f08cf61b-1fbb-4a23-d48d-9b39a9a848a6",
        "colab": {
          "base_uri": "https://localhost:8080/",
          "height": 235
        }
      },
      "source": [
        "# Leer los datos de prueba desde el archivo CSV\n",
        "test_data = pd.read_csv('./data/test.csv')\n",
        "\n",
        "# Mostrar las primeras filas de los datos de prueba\n",
        "test_data.head()\n"
      ],
      "execution_count": 49,
      "outputs": [
        {
          "output_type": "execute_result",
          "data": {
            "text/plain": [
              "   id  battery_power  blue  clock_speed  dual_sim  fc  four_g  int_memory  \\\n",
              "0   1           1043     1          1.8         1  14       0           5   \n",
              "1   2            841     1          0.5         1   4       1          61   \n",
              "2   3           1807     1          2.8         0   1       0          27   \n",
              "3   4           1546     0          0.5         1  18       1          25   \n",
              "4   5           1434     0          1.4         0  11       1          49   \n",
              "\n",
              "   m_dep  mobile_wt  ...  pc  px_height  px_width   ram  sc_h  sc_w  \\\n",
              "0    0.1        193  ...  16        226      1412  3476    12     7   \n",
              "1    0.8        191  ...  12        746       857  3895     6     0   \n",
              "2    0.9        186  ...   4       1270      1366  2396    17    10   \n",
              "3    0.5         96  ...  20        295      1752  3893    10     0   \n",
              "4    0.5        108  ...  18        749       810  1773    15     8   \n",
              "\n",
              "   talk_time  three_g  touch_screen  wifi  \n",
              "0          2        0             1     0  \n",
              "1          7        1             0     0  \n",
              "2         10        0             1     1  \n",
              "3          7        1             1     0  \n",
              "4          7        1             0     1  \n",
              "\n",
              "[5 rows x 21 columns]"
            ],
            "text/html": [
              "\n",
              "  <div id=\"df-fa90b91b-5dfe-4d02-bc88-a389be18e535\" class=\"colab-df-container\">\n",
              "    <div>\n",
              "<style scoped>\n",
              "    .dataframe tbody tr th:only-of-type {\n",
              "        vertical-align: middle;\n",
              "    }\n",
              "\n",
              "    .dataframe tbody tr th {\n",
              "        vertical-align: top;\n",
              "    }\n",
              "\n",
              "    .dataframe thead th {\n",
              "        text-align: right;\n",
              "    }\n",
              "</style>\n",
              "<table border=\"1\" class=\"dataframe\">\n",
              "  <thead>\n",
              "    <tr style=\"text-align: right;\">\n",
              "      <th></th>\n",
              "      <th>id</th>\n",
              "      <th>battery_power</th>\n",
              "      <th>blue</th>\n",
              "      <th>clock_speed</th>\n",
              "      <th>dual_sim</th>\n",
              "      <th>fc</th>\n",
              "      <th>four_g</th>\n",
              "      <th>int_memory</th>\n",
              "      <th>m_dep</th>\n",
              "      <th>mobile_wt</th>\n",
              "      <th>...</th>\n",
              "      <th>pc</th>\n",
              "      <th>px_height</th>\n",
              "      <th>px_width</th>\n",
              "      <th>ram</th>\n",
              "      <th>sc_h</th>\n",
              "      <th>sc_w</th>\n",
              "      <th>talk_time</th>\n",
              "      <th>three_g</th>\n",
              "      <th>touch_screen</th>\n",
              "      <th>wifi</th>\n",
              "    </tr>\n",
              "  </thead>\n",
              "  <tbody>\n",
              "    <tr>\n",
              "      <th>0</th>\n",
              "      <td>1</td>\n",
              "      <td>1043</td>\n",
              "      <td>1</td>\n",
              "      <td>1.8</td>\n",
              "      <td>1</td>\n",
              "      <td>14</td>\n",
              "      <td>0</td>\n",
              "      <td>5</td>\n",
              "      <td>0.1</td>\n",
              "      <td>193</td>\n",
              "      <td>...</td>\n",
              "      <td>16</td>\n",
              "      <td>226</td>\n",
              "      <td>1412</td>\n",
              "      <td>3476</td>\n",
              "      <td>12</td>\n",
              "      <td>7</td>\n",
              "      <td>2</td>\n",
              "      <td>0</td>\n",
              "      <td>1</td>\n",
              "      <td>0</td>\n",
              "    </tr>\n",
              "    <tr>\n",
              "      <th>1</th>\n",
              "      <td>2</td>\n",
              "      <td>841</td>\n",
              "      <td>1</td>\n",
              "      <td>0.5</td>\n",
              "      <td>1</td>\n",
              "      <td>4</td>\n",
              "      <td>1</td>\n",
              "      <td>61</td>\n",
              "      <td>0.8</td>\n",
              "      <td>191</td>\n",
              "      <td>...</td>\n",
              "      <td>12</td>\n",
              "      <td>746</td>\n",
              "      <td>857</td>\n",
              "      <td>3895</td>\n",
              "      <td>6</td>\n",
              "      <td>0</td>\n",
              "      <td>7</td>\n",
              "      <td>1</td>\n",
              "      <td>0</td>\n",
              "      <td>0</td>\n",
              "    </tr>\n",
              "    <tr>\n",
              "      <th>2</th>\n",
              "      <td>3</td>\n",
              "      <td>1807</td>\n",
              "      <td>1</td>\n",
              "      <td>2.8</td>\n",
              "      <td>0</td>\n",
              "      <td>1</td>\n",
              "      <td>0</td>\n",
              "      <td>27</td>\n",
              "      <td>0.9</td>\n",
              "      <td>186</td>\n",
              "      <td>...</td>\n",
              "      <td>4</td>\n",
              "      <td>1270</td>\n",
              "      <td>1366</td>\n",
              "      <td>2396</td>\n",
              "      <td>17</td>\n",
              "      <td>10</td>\n",
              "      <td>10</td>\n",
              "      <td>0</td>\n",
              "      <td>1</td>\n",
              "      <td>1</td>\n",
              "    </tr>\n",
              "    <tr>\n",
              "      <th>3</th>\n",
              "      <td>4</td>\n",
              "      <td>1546</td>\n",
              "      <td>0</td>\n",
              "      <td>0.5</td>\n",
              "      <td>1</td>\n",
              "      <td>18</td>\n",
              "      <td>1</td>\n",
              "      <td>25</td>\n",
              "      <td>0.5</td>\n",
              "      <td>96</td>\n",
              "      <td>...</td>\n",
              "      <td>20</td>\n",
              "      <td>295</td>\n",
              "      <td>1752</td>\n",
              "      <td>3893</td>\n",
              "      <td>10</td>\n",
              "      <td>0</td>\n",
              "      <td>7</td>\n",
              "      <td>1</td>\n",
              "      <td>1</td>\n",
              "      <td>0</td>\n",
              "    </tr>\n",
              "    <tr>\n",
              "      <th>4</th>\n",
              "      <td>5</td>\n",
              "      <td>1434</td>\n",
              "      <td>0</td>\n",
              "      <td>1.4</td>\n",
              "      <td>0</td>\n",
              "      <td>11</td>\n",
              "      <td>1</td>\n",
              "      <td>49</td>\n",
              "      <td>0.5</td>\n",
              "      <td>108</td>\n",
              "      <td>...</td>\n",
              "      <td>18</td>\n",
              "      <td>749</td>\n",
              "      <td>810</td>\n",
              "      <td>1773</td>\n",
              "      <td>15</td>\n",
              "      <td>8</td>\n",
              "      <td>7</td>\n",
              "      <td>1</td>\n",
              "      <td>0</td>\n",
              "      <td>1</td>\n",
              "    </tr>\n",
              "  </tbody>\n",
              "</table>\n",
              "<p>5 rows × 21 columns</p>\n",
              "</div>\n",
              "    <div class=\"colab-df-buttons\">\n",
              "\n",
              "  <div class=\"colab-df-container\">\n",
              "    <button class=\"colab-df-convert\" onclick=\"convertToInteractive('df-fa90b91b-5dfe-4d02-bc88-a389be18e535')\"\n",
              "            title=\"Convert this dataframe to an interactive table.\"\n",
              "            style=\"display:none;\">\n",
              "\n",
              "  <svg xmlns=\"http://www.w3.org/2000/svg\" height=\"24px\" viewBox=\"0 -960 960 960\">\n",
              "    <path d=\"M120-120v-720h720v720H120Zm60-500h600v-160H180v160Zm220 220h160v-160H400v160Zm0 220h160v-160H400v160ZM180-400h160v-160H180v160Zm440 0h160v-160H620v160ZM180-180h160v-160H180v160Zm440 0h160v-160H620v160Z\"/>\n",
              "  </svg>\n",
              "    </button>\n",
              "\n",
              "  <style>\n",
              "    .colab-df-container {\n",
              "      display:flex;\n",
              "      gap: 12px;\n",
              "    }\n",
              "\n",
              "    .colab-df-convert {\n",
              "      background-color: #E8F0FE;\n",
              "      border: none;\n",
              "      border-radius: 50%;\n",
              "      cursor: pointer;\n",
              "      display: none;\n",
              "      fill: #1967D2;\n",
              "      height: 32px;\n",
              "      padding: 0 0 0 0;\n",
              "      width: 32px;\n",
              "    }\n",
              "\n",
              "    .colab-df-convert:hover {\n",
              "      background-color: #E2EBFA;\n",
              "      box-shadow: 0px 1px 2px rgba(60, 64, 67, 0.3), 0px 1px 3px 1px rgba(60, 64, 67, 0.15);\n",
              "      fill: #174EA6;\n",
              "    }\n",
              "\n",
              "    .colab-df-buttons div {\n",
              "      margin-bottom: 4px;\n",
              "    }\n",
              "\n",
              "    [theme=dark] .colab-df-convert {\n",
              "      background-color: #3B4455;\n",
              "      fill: #D2E3FC;\n",
              "    }\n",
              "\n",
              "    [theme=dark] .colab-df-convert:hover {\n",
              "      background-color: #434B5C;\n",
              "      box-shadow: 0px 1px 3px 1px rgba(0, 0, 0, 0.15);\n",
              "      filter: drop-shadow(0px 1px 2px rgba(0, 0, 0, 0.3));\n",
              "      fill: #FFFFFF;\n",
              "    }\n",
              "  </style>\n",
              "\n",
              "    <script>\n",
              "      const buttonEl =\n",
              "        document.querySelector('#df-fa90b91b-5dfe-4d02-bc88-a389be18e535 button.colab-df-convert');\n",
              "      buttonEl.style.display =\n",
              "        google.colab.kernel.accessAllowed ? 'block' : 'none';\n",
              "\n",
              "      async function convertToInteractive(key) {\n",
              "        const element = document.querySelector('#df-fa90b91b-5dfe-4d02-bc88-a389be18e535');\n",
              "        const dataTable =\n",
              "          await google.colab.kernel.invokeFunction('convertToInteractive',\n",
              "                                                    [key], {});\n",
              "        if (!dataTable) return;\n",
              "\n",
              "        const docLinkHtml = 'Like what you see? Visit the ' +\n",
              "          '<a target=\"_blank\" href=https://colab.research.google.com/notebooks/data_table.ipynb>data table notebook</a>'\n",
              "          + ' to learn more about interactive tables.';\n",
              "        element.innerHTML = '';\n",
              "        dataTable['output_type'] = 'display_data';\n",
              "        await google.colab.output.renderOutput(dataTable, element);\n",
              "        const docLink = document.createElement('div');\n",
              "        docLink.innerHTML = docLinkHtml;\n",
              "        element.appendChild(docLink);\n",
              "      }\n",
              "    </script>\n",
              "  </div>\n",
              "\n",
              "\n",
              "<div id=\"df-b05a4eda-f288-4eb0-bac0-499c8b5c8a50\">\n",
              "  <button class=\"colab-df-quickchart\" onclick=\"quickchart('df-b05a4eda-f288-4eb0-bac0-499c8b5c8a50')\"\n",
              "            title=\"Suggest charts\"\n",
              "            style=\"display:none;\">\n",
              "\n",
              "<svg xmlns=\"http://www.w3.org/2000/svg\" height=\"24px\"viewBox=\"0 0 24 24\"\n",
              "     width=\"24px\">\n",
              "    <g>\n",
              "        <path d=\"M19 3H5c-1.1 0-2 .9-2 2v14c0 1.1.9 2 2 2h14c1.1 0 2-.9 2-2V5c0-1.1-.9-2-2-2zM9 17H7v-7h2v7zm4 0h-2V7h2v10zm4 0h-2v-4h2v4z\"/>\n",
              "    </g>\n",
              "</svg>\n",
              "  </button>\n",
              "\n",
              "<style>\n",
              "  .colab-df-quickchart {\n",
              "      --bg-color: #E8F0FE;\n",
              "      --fill-color: #1967D2;\n",
              "      --hover-bg-color: #E2EBFA;\n",
              "      --hover-fill-color: #174EA6;\n",
              "      --disabled-fill-color: #AAA;\n",
              "      --disabled-bg-color: #DDD;\n",
              "  }\n",
              "\n",
              "  [theme=dark] .colab-df-quickchart {\n",
              "      --bg-color: #3B4455;\n",
              "      --fill-color: #D2E3FC;\n",
              "      --hover-bg-color: #434B5C;\n",
              "      --hover-fill-color: #FFFFFF;\n",
              "      --disabled-bg-color: #3B4455;\n",
              "      --disabled-fill-color: #666;\n",
              "  }\n",
              "\n",
              "  .colab-df-quickchart {\n",
              "    background-color: var(--bg-color);\n",
              "    border: none;\n",
              "    border-radius: 50%;\n",
              "    cursor: pointer;\n",
              "    display: none;\n",
              "    fill: var(--fill-color);\n",
              "    height: 32px;\n",
              "    padding: 0;\n",
              "    width: 32px;\n",
              "  }\n",
              "\n",
              "  .colab-df-quickchart:hover {\n",
              "    background-color: var(--hover-bg-color);\n",
              "    box-shadow: 0 1px 2px rgba(60, 64, 67, 0.3), 0 1px 3px 1px rgba(60, 64, 67, 0.15);\n",
              "    fill: var(--button-hover-fill-color);\n",
              "  }\n",
              "\n",
              "  .colab-df-quickchart-complete:disabled,\n",
              "  .colab-df-quickchart-complete:disabled:hover {\n",
              "    background-color: var(--disabled-bg-color);\n",
              "    fill: var(--disabled-fill-color);\n",
              "    box-shadow: none;\n",
              "  }\n",
              "\n",
              "  .colab-df-spinner {\n",
              "    border: 2px solid var(--fill-color);\n",
              "    border-color: transparent;\n",
              "    border-bottom-color: var(--fill-color);\n",
              "    animation:\n",
              "      spin 1s steps(1) infinite;\n",
              "  }\n",
              "\n",
              "  @keyframes spin {\n",
              "    0% {\n",
              "      border-color: transparent;\n",
              "      border-bottom-color: var(--fill-color);\n",
              "      border-left-color: var(--fill-color);\n",
              "    }\n",
              "    20% {\n",
              "      border-color: transparent;\n",
              "      border-left-color: var(--fill-color);\n",
              "      border-top-color: var(--fill-color);\n",
              "    }\n",
              "    30% {\n",
              "      border-color: transparent;\n",
              "      border-left-color: var(--fill-color);\n",
              "      border-top-color: var(--fill-color);\n",
              "      border-right-color: var(--fill-color);\n",
              "    }\n",
              "    40% {\n",
              "      border-color: transparent;\n",
              "      border-right-color: var(--fill-color);\n",
              "      border-top-color: var(--fill-color);\n",
              "    }\n",
              "    60% {\n",
              "      border-color: transparent;\n",
              "      border-right-color: var(--fill-color);\n",
              "    }\n",
              "    80% {\n",
              "      border-color: transparent;\n",
              "      border-right-color: var(--fill-color);\n",
              "      border-bottom-color: var(--fill-color);\n",
              "    }\n",
              "    90% {\n",
              "      border-color: transparent;\n",
              "      border-bottom-color: var(--fill-color);\n",
              "    }\n",
              "  }\n",
              "</style>\n",
              "\n",
              "  <script>\n",
              "    async function quickchart(key) {\n",
              "      const quickchartButtonEl =\n",
              "        document.querySelector('#' + key + ' button');\n",
              "      quickchartButtonEl.disabled = true;  // To prevent multiple clicks.\n",
              "      quickchartButtonEl.classList.add('colab-df-spinner');\n",
              "      try {\n",
              "        const charts = await google.colab.kernel.invokeFunction(\n",
              "            'suggestCharts', [key], {});\n",
              "      } catch (error) {\n",
              "        console.error('Error during call to suggestCharts:', error);\n",
              "      }\n",
              "      quickchartButtonEl.classList.remove('colab-df-spinner');\n",
              "      quickchartButtonEl.classList.add('colab-df-quickchart-complete');\n",
              "    }\n",
              "    (() => {\n",
              "      let quickchartButtonEl =\n",
              "        document.querySelector('#df-b05a4eda-f288-4eb0-bac0-499c8b5c8a50 button');\n",
              "      quickchartButtonEl.style.display =\n",
              "        google.colab.kernel.accessAllowed ? 'block' : 'none';\n",
              "    })();\n",
              "  </script>\n",
              "</div>\n",
              "    </div>\n",
              "  </div>\n"
            ],
            "application/vnd.google.colaboratory.intrinsic+json": {
              "type": "dataframe",
              "variable_name": "test_data"
            }
          },
          "metadata": {},
          "execution_count": 49
        }
      ]
    },
    {
      "cell_type": "code",
      "metadata": {
        "id": "HX4h1tgWDyqT",
        "outputId": "06ce3dfe-9a66-47cb-cca2-fe41be584d83",
        "colab": {
          "base_uri": "https://localhost:8080/"
        }
      },
      "source": [
        "# Mostrar los nombres de las columnas en los datos de prueba\n",
        "print(test_data.columns)\n"
      ],
      "execution_count": 50,
      "outputs": [
        {
          "output_type": "stream",
          "name": "stdout",
          "text": [
            "Index(['id', 'battery_power', 'blue', 'clock_speed', 'dual_sim', 'fc',\n",
            "       'four_g', 'int_memory', 'm_dep', 'mobile_wt', 'n_cores', 'pc',\n",
            "       'px_height', 'px_width', 'ram', 'sc_h', 'sc_w', 'talk_time', 'three_g',\n",
            "       'touch_screen', 'wifi'],\n",
            "      dtype='object')\n"
          ]
        }
      ]
    },
    {
      "cell_type": "code",
      "metadata": {
        "id": "oEz2uUWwD3et"
      },
      "source": [
        "# Convertir los datos de prueba a un arreglo numpy\n",
        "test_data_numpy = test_data.values\n"
      ],
      "execution_count": 56,
      "outputs": []
    },
    {
      "cell_type": "code",
      "metadata": {
        "id": "ibg8reduGXkT",
        "outputId": "f2945706-d7e9-484c-b34d-c86a32d141b2",
        "colab": {
          "base_uri": "https://localhost:8080/"
        }
      },
      "source": [
        "# Mostrar la forma de los datos de prueba\n",
        "print(\"Shape of test data:\", test_data_numpy.shape)\n"
      ],
      "execution_count": 52,
      "outputs": [
        {
          "output_type": "stream",
          "name": "stdout",
          "text": [
            "Shape of test data: (1000, 21)\n"
          ]
        }
      ]
    },
    {
      "cell_type": "code",
      "metadata": {
        "id": "ePSNvo6JGcay"
      },
      "source": [
        "# Eliminar la columna 'id' de los datos de prueba antes de la normalización\n",
        "test_data = test_data.drop('id', axis=1)"
      ],
      "execution_count": 54,
      "outputs": []
    },
    {
      "cell_type": "code",
      "metadata": {
        "id": "newYB74PHA05"
      },
      "source": [
        "# Normalizar los datos de prueba utilizando la media y la desviación estándar del conjunto de entrenamiento\n",
        "X_test_norm = sc.transform(test_data_numpy)\n"
      ],
      "execution_count": 57,
      "outputs": []
    },
    {
      "cell_type": "code",
      "metadata": {
        "id": "mM2cyGJpJXCP",
        "outputId": "79526bb5-873a-4e07-f8ea-354b62cf133e",
        "colab": {
          "base_uri": "https://localhost:8080/"
        }
      },
      "source": [
        "# Mostrar datos de prueba antes y después de la normalización\n",
        "print(\"Data before normalization:\\n\", test_data.head())\n",
        "print(\"\\nData after normalization:\\n\", X_test_norm[:5])\n"
      ],
      "execution_count": 58,
      "outputs": [
        {
          "output_type": "stream",
          "name": "stdout",
          "text": [
            "Data before normalization:\n",
            "    battery_power  blue  clock_speed  dual_sim  fc  four_g  int_memory  m_dep  \\\n",
            "0           1043     1          1.8         1  14       0           5    0.1   \n",
            "1            841     1          0.5         1   4       1          61    0.8   \n",
            "2           1807     1          2.8         0   1       0          27    0.9   \n",
            "3           1546     0          0.5         1  18       1          25    0.5   \n",
            "4           1434     0          1.4         0  11       1          49    0.5   \n",
            "\n",
            "   mobile_wt  n_cores  pc  px_height  px_width   ram  sc_h  sc_w  talk_time  \\\n",
            "0        193        3  16        226      1412  3476    12     7          2   \n",
            "1        191        5  12        746       857  3895     6     0          7   \n",
            "2        186        3   4       1270      1366  2396    17    10         10   \n",
            "3         96        8  20        295      1752  3893    10     0          7   \n",
            "4        108        6  18        749       810  1773    15     8          7   \n",
            "\n",
            "   three_g  touch_screen  wifi  \n",
            "0        0             1     0  \n",
            "1        1             0     0  \n",
            "2        0             1     1  \n",
            "3        1             1     0  \n",
            "4        1             0     1  \n",
            "\n",
            "Data after normalization:\n",
            " [[-0.44505984  1.0100505   0.34046327  0.98117712  2.2326498  -1.04396559\n",
            "  -1.49088996 -1.39330378  1.49052845 -0.66476784  1.00341448 -0.94463935\n",
            "   0.37141333  1.24650607 -0.07276497  0.2831028  -1.6495841  -1.78686097\n",
            "   0.99401789 -1.01409939]\n",
            " [-0.90487356  1.0100505  -1.2530642   0.98117712 -0.07130748  0.95788598\n",
            "   1.59600992  1.03435682  1.43401659  0.20963905  0.34365317  0.22740333\n",
            "  -0.91303718  1.63287318 -1.49720161 -1.32413127 -0.73426721  0.55964063\n",
            "  -1.00601811 -1.01409939]\n",
            " [ 1.29403758  1.0100505   1.56625363 -1.01918398 -0.76249466 -1.04396559\n",
            "  -0.27817929  1.38116548  1.29273695 -0.66476784 -0.97586945  1.40846171\n",
            "   0.26495437  0.25061947  1.11426556  0.9719174  -0.18507707 -1.78686097\n",
            "   0.99401789  0.98609664]\n",
            " [ 0.69992184 -0.9900495  -1.2530642   0.98117712  3.15423272  0.95788598\n",
            "  -0.38842571 -0.00606915 -1.25029655  1.52124939  1.66317579 -0.7891183\n",
            "   1.15828392  1.63102895 -0.54757719 -1.32413127 -0.73426721  0.55964063\n",
            "   0.99401789 -1.01409939]\n",
            " [ 0.44497562 -0.9900495  -0.14985287 -1.01918398  1.54146262  0.95788598\n",
            "   0.93453138 -0.00606915 -0.91122542  0.6468425   1.33329514  0.23416511\n",
            "  -1.02181047 -0.32385955  0.63945335  0.51270767 -0.73426721  0.55964063\n",
            "  -1.00601811  0.98609664]]\n"
          ]
        }
      ]
    },
    {
      "cell_type": "code",
      "metadata": {
        "id": "e5oBiyCSJoFJ"
      },
      "source": [
        "# Load model saved during the example\n",
        "from keras.models import load_model\n",
        "model = load_model('./models/model_1.h5')"
      ],
      "execution_count": 59,
      "outputs": []
    },
    {
      "cell_type": "code",
      "metadata": {
        "id": "QhMVQLxvLMZw",
        "outputId": "94ccf01d-ddbd-491c-f14b-bf7f6fb7b471",
        "colab": {
          "base_uri": "https://localhost:8080/"
        }
      },
      "source": [
        "# Predict price range\n",
        "predictions = model.predict(X_test_norm)\n"
      ],
      "execution_count": 60,
      "outputs": [
        {
          "output_type": "stream",
          "name": "stdout",
          "text": [
            "32/32 [==============================] - 0s 3ms/step\n"
          ]
        }
      ]
    },
    {
      "cell_type": "code",
      "metadata": {
        "id": "AgYMlxWOLYM_",
        "outputId": "5c9b2559-2b0a-4729-b85a-98fb1a5cb3e6",
        "colab": {
          "base_uri": "https://localhost:8080/"
        }
      },
      "source": [
        "# Show predictions\n",
        "print(predictions)\n"
      ],
      "execution_count": 61,
      "outputs": [
        {
          "output_type": "stream",
          "name": "stdout",
          "text": [
            "[[5.3958378e-24 5.8268727e-13 5.3441383e-02 9.4655865e-01]\n",
            " [6.5000621e-33 2.2308621e-18 4.3627599e-04 9.9956375e-01]\n",
            " [8.8844219e-20 1.3127561e-09 9.5240164e-01 4.7598381e-02]\n",
            " ...\n",
            " [1.8273358e-01 8.1726623e-01 1.6238705e-07 5.1065647e-15]\n",
            " [1.9922671e-11 9.0890902e-04 9.9908423e-01 6.8925360e-06]\n",
            " [4.0198996e-17 1.0871353e-06 9.9999201e-01 6.9701687e-06]]\n"
          ]
        }
      ]
    },
    {
      "cell_type": "code",
      "metadata": {
        "id": "Fu017wvWLcgS"
      },
      "source": [
        "# Convertir predicciones de codificación one-hot a valores escalares\n",
        "predicted_labels = np.argmax(predictions, axis=1)\n"
      ],
      "execution_count": 62,
      "outputs": []
    },
    {
      "cell_type": "code",
      "metadata": {
        "id": "RC8Vy6RfLn6c",
        "outputId": "76bba5ae-4250-4b25-d19c-cdccebe1aaf8",
        "colab": {
          "base_uri": "https://localhost:8080/"
        }
      },
      "source": [
        "# Mostrar todas las predicciones en forma de valores escalares\n",
        "print(predicted_labels)\n"
      ],
      "execution_count": 63,
      "outputs": [
        {
          "output_type": "stream",
          "name": "stdout",
          "text": [
            "[3 3 2 3 1 3 3 1 3 0 3 3 0 0 2 0 2 1 3 2 1 3 1 1 3 0 2 0 2 0 2 0 3 0 1 1 3\n",
            " 1 2 1 1 2 0 0 0 1 0 3 1 2 1 0 2 0 3 0 3 1 0 3 3 2 0 1 0 1 2 3 1 2 1 2 2 3\n",
            " 3 0 2 0 2 3 0 3 3 0 3 0 3 1 3 0 1 2 2 1 2 2 0 2 1 3 1 0 0 3 0 2 0 1 2 3 3\n",
            " 2 1 3 3 3 3 2 3 0 0 3 2 1 2 0 3 2 2 2 0 2 1 1 3 1 1 0 3 2 1 2 1 3 2 3 3 3\n",
            " 2 3 2 3 1 0 3 2 3 3 3 3 3 2 3 3 3 3 1 0 3 0 0 0 2 1 0 1 0 0 1 2 1 0 0 1 1\n",
            " 2 2 1 0 0 0 1 0 3 1 0 2 2 2 3 1 1 3 2 3 2 2 1 0 0 1 2 1 2 3 3 0 2 0 3 2 3\n",
            " 3 1 0 1 1 3 0 1 0 2 2 1 3 1 3 0 3 1 2 0 0 2 1 3 3 3 1 1 3 0 0 2 3 3 1 3 1\n",
            " 1 3 2 1 2 3 3 3 1 0 1 2 3 1 1 3 2 0 3 0 1 2 0 0 3 2 3 3 2 1 3 3 2 3 1 2 1\n",
            " 2 0 2 3 1 0 0 3 0 3 0 1 2 0 2 3 1 3 2 2 1 2 0 0 0 1 3 2 0 1 0 3 2 0 2 3 1\n",
            " 2 2 2 3 1 3 3 2 2 3 3 3 0 3 0 3 1 3 1 2 3 0 1 0 3 1 3 2 3 0 0 0 0 2 0 0 2\n",
            " 2 1 2 2 2 0 1 0 0 3 2 0 3 1 2 2 1 2 3 1 1 2 2 1 2 0 1 1 0 3 2 1 0 1 0 0 1\n",
            " 1 0 0 1 2 2 3 1 3 0 3 0 3 0 1 1 0 2 0 3 2 3 3 1 3 1 3 1 3 2 0 1 2 1 1 0 0\n",
            " 0 1 2 1 0 3 2 0 2 2 0 0 3 1 2 0 2 3 3 0 3 0 2 3 2 3 0 2 0 2 3 0 1 1 0 0 1\n",
            " 1 1 3 3 3 2 3 1 2 2 3 3 3 2 0 2 1 2 2 1 0 2 2 0 0 0 3 1 0 2 2 2 0 3 0 2 2\n",
            " 0 3 0 2 3 0 1 1 3 3 2 1 2 3 2 0 3 0 2 0 3 3 1 3 2 2 3 0 1 2 3 1 3 2 3 1 1\n",
            " 0 0 3 1 0 3 2 3 2 1 3 3 3 2 3 3 1 2 1 2 3 3 0 0 1 1 2 2 2 0 0 2 2 3 2 0 2\n",
            " 1 3 3 0 1 3 0 2 1 1 0 0 2 1 0 1 1 2 2 0 2 2 1 0 3 0 0 3 2 0 0 0 0 0 3 0 3\n",
            " 1 3 2 1 3 2 0 1 1 3 2 3 2 1 3 0 2 0 2 0 0 1 1 1 2 1 3 1 3 2 2 1 3 2 0 2 2\n",
            " 0 3 3 0 2 1 1 2 0 3 2 0 3 2 3 0 0 3 0 2 2 3 2 2 2 2 1 2 3 0 1 0 1 2 1 0 0\n",
            " 1 0 0 3 0 1 2 0 1 1 1 3 0 3 2 3 0 0 1 2 2 1 0 1 1 0 1 1 0 0 3 3 0 3 1 1 3\n",
            " 0 1 0 2 2 0 3 1 0 3 1 1 0 2 3 3 2 3 0 3 2 0 0 0 3 3 2 0 2 1 3 0 0 2 2 1 3\n",
            " 1 2 1 1 2 3 1 1 1 2 0 0 2 2 0 2 0 0 0 0 2 3 3 3 0 1 2 1 1 0 0 2 1 0 2 0 2\n",
            " 2 2 1 2 0 2 1 3 0 0 3 2 3 0 0 2 3 3 1 2 2 1 0 0 2 3 0 3 0 0 0 2 2 1 2 0 3\n",
            " 2 1 2 3 3 0 1 1 2 1 2 2 0 1 3 1 1 3 0 2 3 2 1 1 1 3 3 0 2 3 0 2 3 2 2 2 3\n",
            " 2 0 1 2 1 2 1 1 2 2 2 1 2 1 0 1 3 1 0 1 2 3 1 0 0 3 2 2 3 0 3 2 2 1 3 0 1\n",
            " 3 1 1 1 1 3 2 0 3 0 2 3 0 3 2 3 3 1 0 2 3 1 0 2 1 2 1 2 0 2 2 0 2 3 2 3 0\n",
            " 2 1 1 2 2 3 3 0 2 1 2 1 3 0 1 3 0 1 0 0 3 3 2 0 0 0 0 3 2 3 3 0 0 2 1 1 2\n",
            " 2]\n"
          ]
        }
      ]
    },
    {
      "cell_type": "code",
      "metadata": {
        "id": "EhlClwb7LvHc",
        "outputId": "de73ff44-c3ca-4e7d-befd-1c56100e8c8b",
        "colab": {
          "base_uri": "https://localhost:8080/"
        }
      },
      "source": [
        "import pandas as pd\n",
        "\n",
        "# Crear un DataFrame con el primer ejemplo de prueba\n",
        "first_test_sample = pd.DataFrame(data=X_test_norm[0:1], columns=test_data.columns)\n",
        "\n",
        "# Mostrar el primer ejemplo de prueba en formato de DataFrame\n",
        "print(first_test_sample)\n"
      ],
      "execution_count": 64,
      "outputs": [
        {
          "output_type": "stream",
          "name": "stdout",
          "text": [
            "   battery_power      blue  clock_speed  dual_sim       fc    four_g  \\\n",
            "0       -0.44506  1.010051     0.340463  0.981177  2.23265 -1.043966   \n",
            "\n",
            "   int_memory     m_dep  mobile_wt   n_cores        pc  px_height  px_width  \\\n",
            "0    -1.49089 -1.393304   1.490528 -0.664768  1.003414  -0.944639  0.371413   \n",
            "\n",
            "        ram      sc_h      sc_w  talk_time   three_g  touch_screen      wifi  \n",
            "0  1.246506 -0.072765  0.283103  -1.649584 -1.786861      0.994018 -1.014099  \n"
          ]
        }
      ]
    },
    {
      "cell_type": "code",
      "metadata": {
        "id": "EwFOG4MPMDNj",
        "outputId": "ded93885-a520-4af5-b113-0fe8067e071c",
        "colab": {
          "base_uri": "https://localhost:8080/"
        }
      },
      "source": [
        "# Mostrar la predicción para el primer ejemplo de prueba\n",
        "print(\"Prediction for the first test sample:\", predicted_labels[0])\n"
      ],
      "execution_count": 65,
      "outputs": [
        {
          "output_type": "stream",
          "name": "stdout",
          "text": [
            "Prediction for the first test sample: 3\n"
          ]
        }
      ]
    }
  ]
}