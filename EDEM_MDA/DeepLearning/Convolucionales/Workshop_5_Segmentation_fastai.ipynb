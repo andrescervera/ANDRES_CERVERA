{
  "nbformat": 4,
  "nbformat_minor": 0,
  "metadata": {
    "colab": {
      "provenance": [],
      "gpuType": "T4"
    },
    "kernelspec": {
      "name": "python3",
      "display_name": "Python 3"
    },
    "language_info": {
      "name": "python"
    },
    "accelerator": "GPU"
  },
  "cells": [
    {
      "cell_type": "markdown",
      "source": [
        "# Workshop 2: Image Segmentation\n",
        "\n",
        "In this workshop we will how to implement a segmentation model based in UNet and ResNet with [fastai](https://https://www.fast.ai/). The structure of the workshop will be as follows:\n",
        "\n",
        "\n",
        "1.   Load and explore data\n",
        "2.   Train the model\n",
        "3.   Evaluate results"
      ],
      "metadata": {
        "id": "LO-UOls_MA2l"
      }
    },
    {
      "cell_type": "code",
      "execution_count": null,
      "metadata": {
        "id": "xTrjt5wxLxCj"
      },
      "outputs": [],
      "source": [
        "from fastai.vision.all import *\n",
        "import warnings\n",
        "warnings.filterwarnings(\"ignore\")"
      ]
    },
    {
      "cell_type": "code",
      "source": [
        "# Download dataset\n",
        "path = untar_data(URLs.CAMVID_TINY)\n",
        "path.ls()"
      ],
      "metadata": {
        "id": "BGTa9QVxL_KZ"
      },
      "execution_count": null,
      "outputs": []
    },
    {
      "cell_type": "code",
      "source": [
        "# Number of images\n",
        "len((path / \"images\").ls())"
      ],
      "metadata": {
        "id": "XeHgteL6OZ0e"
      },
      "execution_count": null,
      "outputs": []
    },
    {
      "cell_type": "code",
      "source": [
        "# Number of masks\n",
        "len((path / \"labels\").ls())"
      ],
      "metadata": {
        "id": "0IUs9A55OeT8"
      },
      "execution_count": null,
      "outputs": []
    },
    {
      "cell_type": "code",
      "source": [
        "(path / \"images\").ls()[0], (path / \"labels\").ls()[0]"
      ],
      "metadata": {
        "id": "lpAay5EdN8NW"
      },
      "execution_count": null,
      "outputs": []
    },
    {
      "cell_type": "code",
      "source": [
        "# Show image and size\n",
        "img_name = Path(\"Seq05VD_f00090.png\")\n",
        "img = PILImage.create(path / \"images\" / img_name)\n",
        "print(img.shape)\n",
        "img.show()"
      ],
      "metadata": {
        "id": "1NxsBcoFORI_"
      },
      "execution_count": null,
      "outputs": []
    },
    {
      "cell_type": "code",
      "source": [
        "# Show mask and size\n",
        "mask_name = img_name.stem + \"_P\" + img_name.suffix\n",
        "mask = PILMask.create(path / \"labels\" / mask_name)\n",
        "print(mask.shape)\n",
        "mask.show()"
      ],
      "metadata": {
        "id": "Qch4apzYOz1-"
      },
      "execution_count": null,
      "outputs": []
    },
    {
      "cell_type": "code",
      "source": [
        "# Show labels names\n",
        "codes = np.loadtxt(path/'codes.txt', dtype=str)\n",
        "len(codes), codes"
      ],
      "metadata": {
        "id": "Uva7vdDDPNO7"
      },
      "execution_count": null,
      "outputs": []
    },
    {
      "cell_type": "code",
      "source": [
        "# Show mask matrix\n",
        "value_list = list(mask.getdata())\n",
        "print(len(value_list))\n",
        "value_list[0], value_list[150], value_list[1238], value_list[5000], value_list[12000]"
      ],
      "metadata": {
        "id": "X2nfGszURhHK"
      },
      "execution_count": null,
      "outputs": []
    },
    {
      "cell_type": "code",
      "source": [
        "min(value_list), max(value_list)"
      ],
      "metadata": {
        "id": "TfnLXyOFSTjf"
      },
      "execution_count": null,
      "outputs": []
    },
    {
      "cell_type": "markdown",
      "source": [
        "# 1. Load and explore data"
      ],
      "metadata": {
        "id": "hhRsKzwydyly"
      }
    },
    {
      "cell_type": "code",
      "source": [
        "# Function to get label path from image name\n",
        "def label_func(fn): return path/\"labels\"/f\"{fn.stem}_P{fn.suffix}\""
      ],
      "metadata": {
        "id": "Nd5nuYQ3Reni"
      },
      "execution_count": null,
      "outputs": []
    },
    {
      "cell_type": "code",
      "source": [
        "# Get list of image paths\n",
        "fnames = get_image_files(path/\"images\")\n",
        "fnames[0]"
      ],
      "metadata": {
        "id": "csAywfEweqZ-"
      },
      "execution_count": null,
      "outputs": []
    },
    {
      "cell_type": "code",
      "source": [
        "# Create dataloader\n",
        "dls = SegmentationDataLoaders.from_label_func(\n",
        "    path, bs=8, fnames=fnames, label_func=label_func, codes=codes\n",
        ")"
      ],
      "metadata": {
        "id": "VigheclveVgU"
      },
      "execution_count": null,
      "outputs": []
    },
    {
      "cell_type": "code",
      "source": [
        "# Show batch\n",
        "dls.show_batch(max_n=6)"
      ],
      "metadata": {
        "id": "EsTfkJJWevhx"
      },
      "execution_count": null,
      "outputs": []
    },
    {
      "cell_type": "markdown",
      "source": [
        "# 2. Train the model"
      ],
      "metadata": {
        "id": "iit48MXnliER"
      }
    },
    {
      "cell_type": "code",
      "source": [
        "# Initialize model\n",
        "learn = unet_learner(dls, resnet34)"
      ],
      "metadata": {
        "id": "-FVZmZIce0o9"
      },
      "execution_count": null,
      "outputs": []
    },
    {
      "cell_type": "code",
      "source": [
        "# Train model\n",
        "learn.fine_tune(6)"
      ],
      "metadata": {
        "id": "h28tP-CGf3fT"
      },
      "execution_count": null,
      "outputs": []
    },
    {
      "cell_type": "markdown",
      "source": [
        "# 3. Show results"
      ],
      "metadata": {
        "id": "t01U8MlGlrUe"
      }
    },
    {
      "cell_type": "code",
      "source": [
        "# Show results\n",
        "learn.show_results(max_n=6, figsize=(7,8))"
      ],
      "metadata": {
        "id": "YXW804Hie62d"
      },
      "execution_count": null,
      "outputs": []
    },
    {
      "cell_type": "code",
      "source": [
        "# Show worst cases\n",
        "interp = SegmentationInterpretation.from_learner(learn)\n",
        "interp.plot_top_losses(k=3)"
      ],
      "metadata": {
        "id": "QEC-OanjfB7U"
      },
      "execution_count": null,
      "outputs": []
    },
    {
      "cell_type": "markdown",
      "source": [
        "# Exercise 1: Improve the model using all the techniques seen in the classification notebook. Use fastai documentation if needed."
      ],
      "metadata": {
        "id": "SckMY2KHgvGH"
      }
    },
    {
      "cell_type": "code",
      "source": [
        "# Create dataloader with data augmentation\n",
        "dls = SegmentationDataLoaders.from_label_func(\n",
        "    path, bs=8, fnames=fnames, label_func=label_func, codes=codes,\n",
        "    batch_tfms=aug_transforms(size=224)\n",
        ")"
      ],
      "metadata": {
        "id": "nHEiSdGhg29I"
      },
      "execution_count": null,
      "outputs": []
    },
    {
      "cell_type": "code",
      "source": [
        "# Show batch\n",
        "dls.show_batch(max_n=6)"
      ],
      "metadata": {
        "id": "tplmdqgwgnM_"
      },
      "execution_count": null,
      "outputs": []
    },
    {
      "cell_type": "code",
      "source": [
        "# Initialize learner with DiceMulti as metric\n",
        "learn = unet_learner(dls, resnet34, metrics=[DiceMulti()])"
      ],
      "metadata": {
        "id": "hhfVbqxYfJVc"
      },
      "execution_count": null,
      "outputs": []
    },
    {
      "cell_type": "code",
      "source": [
        "# Find lr\n",
        "learn.lr_find()"
      ],
      "metadata": {
        "id": "MuOmRd3VjNJJ"
      },
      "execution_count": null,
      "outputs": []
    },
    {
      "cell_type": "code",
      "source": [
        "# Train the model\n",
        "learn.fine_tune(5, 2e-4)"
      ],
      "metadata": {
        "id": "xpjRupURjvFi"
      },
      "execution_count": null,
      "outputs": []
    },
    {
      "cell_type": "code",
      "source": [
        "# Show results"
      ],
      "metadata": {
        "id": "t8Yll7KQ01vT"
      },
      "execution_count": null,
      "outputs": []
    },
    {
      "cell_type": "code",
      "source": [
        "# Do anything you consider to improve the model"
      ],
      "metadata": {
        "id": "eFjBz2bRmtWf"
      },
      "execution_count": null,
      "outputs": []
    },
    {
      "cell_type": "code",
      "source": [],
      "metadata": {
        "id": "ZGvSyoFarPze"
      },
      "execution_count": null,
      "outputs": []
    }
  ]
}