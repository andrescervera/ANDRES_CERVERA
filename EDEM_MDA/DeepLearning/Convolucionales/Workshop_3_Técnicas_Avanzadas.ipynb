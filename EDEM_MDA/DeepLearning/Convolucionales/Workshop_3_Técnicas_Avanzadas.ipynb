{
  "cells": [
    {
      "cell_type": "markdown",
      "metadata": {
        "id": "AL8RQZGoqqQJ"
      },
      "source": [
        "# Workshop 3: Advanced Techniques\n",
        "\n",
        "In this workshop we will learn techniques to increase the performance of CNN and how to use state of the art architectures. The structure of the workshop will be the following:\n",
        "\n",
        "\n",
        "\n",
        "1.   Dropout\n",
        "2.   Batch Normalization\n",
        "3.   Data Augmentation\n",
        "4.   Transfer learning\n",
        "\n"
      ]
    },
    {
      "cell_type": "markdown",
      "metadata": {
        "id": "y91AuX2jrJDo"
      },
      "source": [
        "## 1. Dropout"
      ]
    },
    {
      "cell_type": "code",
      "execution_count": 1,
      "metadata": {
        "id": "jxUYGXkFPG98"
      },
      "outputs": [],
      "source": [
        "# Import dependence for downloading CIFAR10\n",
        "from tensorflow import keras\n",
        "from keras.datasets import cifar10"
      ]
    },
    {
      "cell_type": "code",
      "execution_count": 2,
      "metadata": {
        "id": "aaGDZgZkS9c1",
        "colab": {
          "base_uri": "https://localhost:8080/"
        },
        "outputId": "0ce57743-b6ea-477e-e489-f9efdfc7f356"
      },
      "outputs": [
        {
          "output_type": "stream",
          "name": "stdout",
          "text": [
            "Downloading data from https://www.cs.toronto.edu/~kriz/cifar-10-python.tar.gz\n",
            "170498071/170498071 [==============================] - 4s 0us/step\n"
          ]
        }
      ],
      "source": [
        "(X_train, y_train), (X_testval, y_testval) = cifar10.load_data()"
      ]
    },
    {
      "cell_type": "code",
      "execution_count": 3,
      "metadata": {
        "id": "nA-qauKITM-O"
      },
      "outputs": [],
      "source": [
        "# Import dependence for handling arrays\n",
        "import numpy as np"
      ]
    },
    {
      "cell_type": "code",
      "execution_count": 4,
      "metadata": {
        "id": "KZ5vh3g8Xh_j"
      },
      "outputs": [],
      "source": [
        "# Change the range of pixels from [0 255] to [0 1]\n",
        "X_train_fl = X_train.astype('float32')\n",
        "X_testval_fl = X_testval.astype('float32')\n",
        "X_train_fl /= 255\n",
        "X_testval_fl /= 255"
      ]
    },
    {
      "cell_type": "code",
      "execution_count": 5,
      "metadata": {
        "id": "Nj74QnR4Vbt1"
      },
      "outputs": [],
      "source": [
        "# Import dependence for one-hot encoding\n",
        "from sklearn.preprocessing import OneHotEncoder"
      ]
    },
    {
      "cell_type": "code",
      "execution_count": 6,
      "metadata": {
        "id": "_nTRJ7yeVeN3"
      },
      "outputs": [],
      "source": [
        "# One-hot encoding of labels\n",
        "onehot_enc = OneHotEncoder()\n",
        "y_train_oh = onehot_enc.fit_transform(y_train.reshape(X_train.shape[0], 1)).toarray()\n",
        "y_testval_oh = onehot_enc.fit_transform(y_testval.reshape(X_testval.shape[0], 1)).toarray()"
      ]
    },
    {
      "cell_type": "code",
      "execution_count": 7,
      "metadata": {
        "id": "ry7H5BvPVl6D",
        "colab": {
          "base_uri": "https://localhost:8080/"
        },
        "outputId": "e01047fb-42d4-4dc8-c081-8b58f44f7b4b"
      },
      "outputs": [
        {
          "output_type": "stream",
          "name": "stdout",
          "text": [
            "Training one-hot encoded labels shape: (50000, 10)\n",
            "Testing one-hot encoded labels shape: (10000, 10)\n"
          ]
        }
      ],
      "source": [
        "# Show one-hot encoded labels shape\n",
        "print(\"Training one-hot encoded labels shape:\", y_train_oh.shape)\n",
        "print(\"Testing one-hot encoded labels shape:\", y_testval_oh.shape)"
      ]
    },
    {
      "cell_type": "code",
      "execution_count": 8,
      "metadata": {
        "id": "7PoZUM_sVoi6"
      },
      "outputs": [],
      "source": [
        "# Divide testval in test and validation partitions\n",
        "samples_test_nb = int(X_testval.shape[0]/2)\n",
        "X_val = X_testval_fl[:samples_test_nb]\n",
        "y_val = y_testval_oh[:samples_test_nb]\n",
        "X_test = X_testval_fl[samples_test_nb:]\n",
        "y_test = y_testval_oh[samples_test_nb:]"
      ]
    },
    {
      "cell_type": "code",
      "execution_count": 9,
      "metadata": {
        "id": "ofgM7brWVsN1",
        "colab": {
          "base_uri": "https://localhost:8080/"
        },
        "outputId": "d133f925-1cf5-4583-ffd8-8ef8f7510055"
      },
      "outputs": [
        {
          "output_type": "stream",
          "name": "stdout",
          "text": [
            "Validation matrix shape: (5000, 32, 32, 3)\n",
            "Testing matrix shape: (5000, 32, 32, 3)\n"
          ]
        }
      ],
      "source": [
        "# Show shapes of test and validation partitions\n",
        "print(\"Validation matrix shape:\", X_val.shape)\n",
        "print(\"Testing matrix shape:\", X_test.shape)"
      ]
    },
    {
      "cell_type": "code",
      "execution_count": 10,
      "metadata": {
        "id": "Eo5FvhBYubiQ"
      },
      "outputs": [],
      "source": [
        "# Import depence for CNN\n",
        "from keras.models import Model\n",
        "from keras.layers import Input, Conv2D, MaxPool2D, Flatten, Dense, Dropout"
      ]
    },
    {
      "cell_type": "code",
      "execution_count": 11,
      "metadata": {
        "id": "Hrbz0cUmtuU7"
      },
      "outputs": [],
      "source": [
        "# Define the model\n",
        "input_layer = Input(shape=(X_train.shape[1],X_train.shape[2], X_train.shape[3]))\n",
        "conv_layer_1 = Conv2D(filters=8, kernel_size=(3, 3), activation='relu')(input_layer)\n",
        "maxpool_layer_1 = MaxPool2D(pool_size=(2, 2))(conv_layer_1)\n",
        "conv_layer_2 = Conv2D(filters=16, kernel_size=(3, 3), activation='relu')(maxpool_layer_1)\n",
        "maxpool_layer_2 = MaxPool2D(pool_size=(2, 2))(conv_layer_2)\n",
        "conv_layer_3 = Conv2D(filters=32, kernel_size=(3, 3), activation='relu')(maxpool_layer_2)\n",
        "flatten_layer = Flatten()(conv_layer_3)\n",
        "dense_layer = Dense(128, activation='relu')(flatten_layer)\n",
        "dropout = Dropout(rate=0.4)(dense_layer)\n",
        "output_layer = Dense(10, activation='softmax')(dropout)\n",
        "model= Model(inputs=input_layer, outputs=output_layer)"
      ]
    },
    {
      "cell_type": "code",
      "execution_count": 12,
      "metadata": {
        "id": "Dzt4Th7iV1tF",
        "colab": {
          "base_uri": "https://localhost:8080/"
        },
        "outputId": "8df6f297-7678-476e-ce36-232554600a18"
      },
      "outputs": [
        {
          "output_type": "stream",
          "name": "stdout",
          "text": [
            "Model: \"model\"\n",
            "_________________________________________________________________\n",
            " Layer (type)                Output Shape              Param #   \n",
            "=================================================================\n",
            " input_1 (InputLayer)        [(None, 32, 32, 3)]       0         \n",
            "                                                                 \n",
            " conv2d (Conv2D)             (None, 30, 30, 8)         224       \n",
            "                                                                 \n",
            " max_pooling2d (MaxPooling2  (None, 15, 15, 8)         0         \n",
            " D)                                                              \n",
            "                                                                 \n",
            " conv2d_1 (Conv2D)           (None, 13, 13, 16)        1168      \n",
            "                                                                 \n",
            " max_pooling2d_1 (MaxPoolin  (None, 6, 6, 16)          0         \n",
            " g2D)                                                            \n",
            "                                                                 \n",
            " conv2d_2 (Conv2D)           (None, 4, 4, 32)          4640      \n",
            "                                                                 \n",
            " flatten (Flatten)           (None, 512)               0         \n",
            "                                                                 \n",
            " dense (Dense)               (None, 128)               65664     \n",
            "                                                                 \n",
            " dropout (Dropout)           (None, 128)               0         \n",
            "                                                                 \n",
            " dense_1 (Dense)             (None, 10)                1290      \n",
            "                                                                 \n",
            "=================================================================\n",
            "Total params: 72986 (285.10 KB)\n",
            "Trainable params: 72986 (285.10 KB)\n",
            "Non-trainable params: 0 (0.00 Byte)\n",
            "_________________________________________________________________\n"
          ]
        }
      ],
      "source": [
        "# Show a summary of the model\n",
        "model.summary()"
      ]
    },
    {
      "cell_type": "code",
      "execution_count": 13,
      "metadata": {
        "id": "bFM5py6aV4DM"
      },
      "outputs": [],
      "source": [
        "# Compile the model\n",
        "model.compile(loss='categorical_crossentropy', optimizer='adam',\n",
        "              metrics=['accuracy'])"
      ]
    },
    {
      "cell_type": "code",
      "execution_count": 14,
      "metadata": {
        "id": "-a6viyT4V_9_",
        "colab": {
          "base_uri": "https://localhost:8080/"
        },
        "outputId": "8214a270-fce9-4f67-abef-22a92c9f3c7d"
      },
      "outputs": [
        {
          "output_type": "stream",
          "name": "stdout",
          "text": [
            "Epoch 1/50\n",
            "391/391 [==============================] - 10s 7ms/step - loss: 1.8411 - accuracy: 0.3085 - val_loss: 1.5457 - val_accuracy: 0.4416\n",
            "Epoch 2/50\n",
            "391/391 [==============================] - 2s 6ms/step - loss: 1.5269 - accuracy: 0.4404 - val_loss: 1.3662 - val_accuracy: 0.5010\n",
            "Epoch 3/50\n",
            "391/391 [==============================] - 2s 5ms/step - loss: 1.4262 - accuracy: 0.4850 - val_loss: 1.2882 - val_accuracy: 0.5338\n",
            "Epoch 4/50\n",
            "391/391 [==============================] - 2s 5ms/step - loss: 1.3535 - accuracy: 0.5112 - val_loss: 1.2557 - val_accuracy: 0.5486\n",
            "Epoch 5/50\n",
            "391/391 [==============================] - 2s 5ms/step - loss: 1.3061 - accuracy: 0.5301 - val_loss: 1.2210 - val_accuracy: 0.5658\n",
            "Epoch 6/50\n",
            "391/391 [==============================] - 2s 5ms/step - loss: 1.2725 - accuracy: 0.5437 - val_loss: 1.2035 - val_accuracy: 0.5596\n",
            "Epoch 7/50\n",
            "391/391 [==============================] - 2s 5ms/step - loss: 1.2380 - accuracy: 0.5555 - val_loss: 1.1651 - val_accuracy: 0.5838\n",
            "Epoch 8/50\n",
            "391/391 [==============================] - 2s 5ms/step - loss: 1.2034 - accuracy: 0.5706 - val_loss: 1.1384 - val_accuracy: 0.5918\n",
            "Epoch 9/50\n",
            "391/391 [==============================] - 2s 6ms/step - loss: 1.1783 - accuracy: 0.5820 - val_loss: 1.1264 - val_accuracy: 0.5948\n",
            "Epoch 10/50\n",
            "391/391 [==============================] - 2s 5ms/step - loss: 1.1601 - accuracy: 0.5874 - val_loss: 1.1047 - val_accuracy: 0.6048\n",
            "Epoch 11/50\n",
            "391/391 [==============================] - 2s 5ms/step - loss: 1.1359 - accuracy: 0.5982 - val_loss: 1.0928 - val_accuracy: 0.6138\n",
            "Epoch 12/50\n",
            "391/391 [==============================] - 2s 5ms/step - loss: 1.1110 - accuracy: 0.6082 - val_loss: 1.0859 - val_accuracy: 0.6116\n",
            "Epoch 13/50\n",
            "391/391 [==============================] - 2s 5ms/step - loss: 1.1016 - accuracy: 0.6094 - val_loss: 1.0739 - val_accuracy: 0.6226\n",
            "Epoch 14/50\n",
            "391/391 [==============================] - 2s 5ms/step - loss: 1.0867 - accuracy: 0.6150 - val_loss: 1.0521 - val_accuracy: 0.6318\n",
            "Epoch 15/50\n",
            "391/391 [==============================] - 3s 6ms/step - loss: 1.0621 - accuracy: 0.6244 - val_loss: 1.0785 - val_accuracy: 0.6250\n",
            "Epoch 16/50\n",
            "391/391 [==============================] - 2s 5ms/step - loss: 1.0430 - accuracy: 0.6339 - val_loss: 1.0536 - val_accuracy: 0.6288\n",
            "Epoch 17/50\n",
            "391/391 [==============================] - 2s 5ms/step - loss: 1.0346 - accuracy: 0.6331 - val_loss: 1.0311 - val_accuracy: 0.6360\n",
            "Epoch 18/50\n",
            "391/391 [==============================] - 2s 5ms/step - loss: 1.0143 - accuracy: 0.6406 - val_loss: 1.0469 - val_accuracy: 0.6362\n",
            "Epoch 19/50\n",
            "391/391 [==============================] - 2s 5ms/step - loss: 1.0073 - accuracy: 0.6451 - val_loss: 1.0238 - val_accuracy: 0.6328\n",
            "Epoch 20/50\n",
            "391/391 [==============================] - 2s 5ms/step - loss: 0.9916 - accuracy: 0.6494 - val_loss: 1.0318 - val_accuracy: 0.6332\n",
            "Epoch 21/50\n",
            "391/391 [==============================] - 2s 6ms/step - loss: 0.9835 - accuracy: 0.6529 - val_loss: 0.9930 - val_accuracy: 0.6528\n",
            "Epoch 22/50\n",
            "391/391 [==============================] - 2s 5ms/step - loss: 0.9706 - accuracy: 0.6559 - val_loss: 1.0096 - val_accuracy: 0.6388\n",
            "Epoch 23/50\n",
            "391/391 [==============================] - 2s 5ms/step - loss: 0.9533 - accuracy: 0.6630 - val_loss: 0.9924 - val_accuracy: 0.6464\n",
            "Epoch 24/50\n",
            "391/391 [==============================] - 2s 5ms/step - loss: 0.9542 - accuracy: 0.6627 - val_loss: 1.0089 - val_accuracy: 0.6444\n",
            "Epoch 25/50\n",
            "391/391 [==============================] - 2s 5ms/step - loss: 0.9377 - accuracy: 0.6667 - val_loss: 0.9910 - val_accuracy: 0.6604\n",
            "Epoch 26/50\n",
            "391/391 [==============================] - 2s 5ms/step - loss: 0.9311 - accuracy: 0.6709 - val_loss: 0.9771 - val_accuracy: 0.6598\n",
            "Epoch 27/50\n",
            "391/391 [==============================] - 2s 6ms/step - loss: 0.9241 - accuracy: 0.6735 - val_loss: 0.9922 - val_accuracy: 0.6552\n",
            "Epoch 28/50\n",
            "391/391 [==============================] - 2s 6ms/step - loss: 0.9095 - accuracy: 0.6784 - val_loss: 0.9915 - val_accuracy: 0.6596\n",
            "Epoch 29/50\n",
            "391/391 [==============================] - 2s 5ms/step - loss: 0.9122 - accuracy: 0.6759 - val_loss: 1.0203 - val_accuracy: 0.6446\n",
            "Epoch 30/50\n",
            "391/391 [==============================] - 2s 5ms/step - loss: 0.9015 - accuracy: 0.6796 - val_loss: 0.9976 - val_accuracy: 0.6582\n",
            "Epoch 31/50\n",
            "391/391 [==============================] - 2s 5ms/step - loss: 0.8892 - accuracy: 0.6827 - val_loss: 1.0154 - val_accuracy: 0.6488\n",
            "Epoch 32/50\n",
            "391/391 [==============================] - 2s 5ms/step - loss: 0.8809 - accuracy: 0.6867 - val_loss: 1.0038 - val_accuracy: 0.6510\n",
            "Epoch 33/50\n",
            "391/391 [==============================] - 2s 5ms/step - loss: 0.8693 - accuracy: 0.6909 - val_loss: 0.9873 - val_accuracy: 0.6632\n",
            "Epoch 34/50\n",
            "391/391 [==============================] - 2s 6ms/step - loss: 0.8649 - accuracy: 0.6929 - val_loss: 0.9825 - val_accuracy: 0.6580\n",
            "Epoch 35/50\n",
            "391/391 [==============================] - 2s 5ms/step - loss: 0.8535 - accuracy: 0.6937 - val_loss: 0.9691 - val_accuracy: 0.6626\n",
            "Epoch 36/50\n",
            "391/391 [==============================] - 2s 5ms/step - loss: 0.8546 - accuracy: 0.6959 - val_loss: 0.9864 - val_accuracy: 0.6570\n",
            "Epoch 37/50\n",
            "391/391 [==============================] - 2s 5ms/step - loss: 0.8493 - accuracy: 0.6961 - val_loss: 0.9979 - val_accuracy: 0.6580\n",
            "Epoch 38/50\n",
            "391/391 [==============================] - 2s 5ms/step - loss: 0.8398 - accuracy: 0.7003 - val_loss: 0.9788 - val_accuracy: 0.6616\n",
            "Epoch 39/50\n",
            "391/391 [==============================] - 2s 5ms/step - loss: 0.8343 - accuracy: 0.7010 - val_loss: 1.0026 - val_accuracy: 0.6578\n",
            "Epoch 40/50\n",
            "391/391 [==============================] - 3s 7ms/step - loss: 0.8348 - accuracy: 0.7030 - val_loss: 0.9917 - val_accuracy: 0.6658\n",
            "Epoch 41/50\n",
            "391/391 [==============================] - 2s 5ms/step - loss: 0.8322 - accuracy: 0.7030 - val_loss: 0.9985 - val_accuracy: 0.6608\n",
            "Epoch 42/50\n",
            "391/391 [==============================] - 2s 5ms/step - loss: 0.8126 - accuracy: 0.7087 - val_loss: 0.9871 - val_accuracy: 0.6646\n",
            "Epoch 43/50\n",
            "391/391 [==============================] - 2s 5ms/step - loss: 0.8137 - accuracy: 0.7088 - val_loss: 0.9811 - val_accuracy: 0.6648\n",
            "Epoch 44/50\n",
            "391/391 [==============================] - 2s 5ms/step - loss: 0.8012 - accuracy: 0.7126 - val_loss: 0.9938 - val_accuracy: 0.6658\n",
            "Epoch 45/50\n",
            "391/391 [==============================] - 2s 5ms/step - loss: 0.8085 - accuracy: 0.7095 - val_loss: 1.0076 - val_accuracy: 0.6594\n",
            "Epoch 46/50\n",
            "391/391 [==============================] - 2s 6ms/step - loss: 0.7980 - accuracy: 0.7136 - val_loss: 1.0040 - val_accuracy: 0.6618\n",
            "Epoch 47/50\n",
            "391/391 [==============================] - 2s 6ms/step - loss: 0.7938 - accuracy: 0.7149 - val_loss: 1.0024 - val_accuracy: 0.6652\n",
            "Epoch 48/50\n",
            "391/391 [==============================] - 2s 5ms/step - loss: 0.7894 - accuracy: 0.7165 - val_loss: 1.0244 - val_accuracy: 0.6608\n",
            "Epoch 49/50\n",
            "391/391 [==============================] - 2s 5ms/step - loss: 0.7798 - accuracy: 0.7188 - val_loss: 1.0000 - val_accuracy: 0.6672\n",
            "Epoch 50/50\n",
            "391/391 [==============================] - 2s 5ms/step - loss: 0.7781 - accuracy: 0.7205 - val_loss: 1.0276 - val_accuracy: 0.6638\n"
          ]
        }
      ],
      "source": [
        "# Train the model\n",
        "history = model.fit(X_train_fl, y_train_oh, epochs=50, batch_size=128,\n",
        "                    validation_data=(X_val, y_val))"
      ]
    },
    {
      "cell_type": "code",
      "execution_count": 15,
      "metadata": {
        "id": "Hsc8-QX1xVWL"
      },
      "outputs": [],
      "source": [
        "# Import dependence for visualization of images\n",
        "import matplotlib.pyplot as plt"
      ]
    },
    {
      "cell_type": "code",
      "execution_count": 16,
      "metadata": {
        "id": "cAR15yICV6hU",
        "colab": {
          "base_uri": "https://localhost:8080/",
          "height": 472
        },
        "outputId": "09239eeb-25af-4e2c-fd5b-709bdf7143df"
      },
      "outputs": [
        {
          "output_type": "display_data",
          "data": {
            "text/plain": [
              "<Figure size 640x480 with 1 Axes>"
            ],
            "image/png": "[encoded data removed]"
          },
          "metadata": {}
        }
      ],
      "source": [
        "# Plot training and validation accuracy\n",
        "plt.plot(history.history['accuracy'])\n",
        "plt.plot(history.history['val_accuracy'])\n",
        "plt.title('Model accuracy')\n",
        "plt.ylabel('Accuracy')\n",
        "plt.xlabel('Epoch')\n",
        "plt.legend(['Train', 'Val'], loc='upper left')\n",
        "plt.ylim(0, 1)\n",
        "plt.show()"
      ]
    },
    {
      "cell_type": "code",
      "execution_count": 17,
      "metadata": {
        "id": "-OM3GB9SV86n",
        "colab": {
          "base_uri": "https://localhost:8080/",
          "height": 472
        },
        "outputId": "e826b605-17e8-40be-c6ce-0f1bfe8ad97f"
      },
      "outputs": [
        {
          "output_type": "display_data",
          "data": {
            "text/plain": [
              "<Figure size 640x480 with 1 Axes>"
            ],
            "image/png": "[encoded data removed]"
          },
          "metadata": {}
        }
      ],
      "source": [
        "# Plot training and test loss\n",
        "plt.plot(history.history['loss'])\n",
        "plt.plot(history.history['val_loss'])\n",
        "plt.title('Model loss')\n",
        "plt.ylabel('Loss')\n",
        "plt.xlabel('Epoch')\n",
        "plt.legend(['Train', 'Val'], loc='upper left')\n",
        "plt.show()"
      ]
    },
    {
      "cell_type": "markdown",
      "metadata": {
        "id": "z1huEX1wx5bn"
      },
      "source": [
        "## 2. Batch Normalization"
      ]
    },
    {
      "cell_type": "code",
      "execution_count": 18,
      "metadata": {
        "id": "FEFeuHMNvQxy"
      },
      "outputs": [],
      "source": [
        "from keras.layers import BatchNormalization\n",
        "from tensorflow.keras.optimizers import Adam"
      ]
    },
    {
      "cell_type": "code",
      "execution_count": 19,
      "metadata": {
        "id": "rZfVtoxky-8m"
      },
      "outputs": [],
      "source": [
        "# Define the model\n",
        "input_layer = Input(shape=(X_train.shape[1],X_train.shape[2], X_train.shape[3]))\n",
        "conv_layer_1 = Conv2D(filters=8, kernel_size=(3, 3), activation='relu')(input_layer)\n",
        "bn_1 = BatchNormalization()(conv_layer_1)\n",
        "maxpool_layer_1 = MaxPool2D(pool_size=(2, 2))(bn_1)\n",
        "conv_layer_2 = Conv2D(filters=16, kernel_size=(3, 3), activation='relu')(maxpool_layer_1)\n",
        "bn_2 = BatchNormalization()(conv_layer_2)\n",
        "maxpool_layer_2 = MaxPool2D(pool_size=(2, 2))(bn_2)\n",
        "conv_layer_3 = Conv2D(filters=32, kernel_size=(3, 3), activation='relu')(maxpool_layer_2)\n",
        "bn_3 = BatchNormalization()(conv_layer_3)\n",
        "flatten_layer = Flatten()(bn_3)\n",
        "dense_layer = Dense(128, activation='relu')(flatten_layer)\n",
        "dropout = Dropout(rate=0.4)(dense_layer)\n",
        "output_layer = Dense(10, activation='softmax')(dropout)\n",
        "model= Model(inputs=input_layer, outputs=output_layer)"
      ]
    },
    {
      "cell_type": "code",
      "execution_count": 20,
      "metadata": {
        "id": "jG1aPlHFze4L"
      },
      "outputs": [],
      "source": [
        "# Compile the model\n",
        "model.compile(loss='categorical_crossentropy', optimizer=Adam(),\n",
        "              metrics=['accuracy'])"
      ]
    },
    {
      "cell_type": "code",
      "execution_count": 21,
      "metadata": {
        "id": "UIJo6a5kze4P",
        "colab": {
          "base_uri": "https://localhost:8080/"
        },
        "outputId": "67711b01-dda7-4b9a-db08-89dc2f0ff8ef"
      },
      "outputs": [
        {
          "output_type": "stream",
          "name": "stdout",
          "text": [
            "Epoch 1/20\n",
            "391/391 [==============================] - 6s 7ms/step - loss: 1.7314 - accuracy: 0.3902 - val_loss: 1.6047 - val_accuracy: 0.4350\n",
            "Epoch 2/20\n",
            "391/391 [==============================] - 2s 6ms/step - loss: 1.3712 - accuracy: 0.5114 - val_loss: 1.4726 - val_accuracy: 0.4902\n",
            "Epoch 3/20\n",
            "391/391 [==============================] - 3s 7ms/step - loss: 1.2404 - accuracy: 0.5614 - val_loss: 1.3392 - val_accuracy: 0.5334\n",
            "Epoch 4/20\n",
            "391/391 [==============================] - 2s 6ms/step - loss: 1.1555 - accuracy: 0.5904 - val_loss: 1.0828 - val_accuracy: 0.6234\n",
            "Epoch 5/20\n",
            "391/391 [==============================] - 3s 7ms/step - loss: 1.0954 - accuracy: 0.6112 - val_loss: 1.1681 - val_accuracy: 0.5910\n",
            "Epoch 6/20\n",
            "391/391 [==============================] - 2s 6ms/step - loss: 1.0532 - accuracy: 0.6262 - val_loss: 1.0169 - val_accuracy: 0.6432\n",
            "Epoch 7/20\n",
            "391/391 [==============================] - 2s 6ms/step - loss: 1.0068 - accuracy: 0.6432 - val_loss: 1.0798 - val_accuracy: 0.6266\n",
            "Epoch 8/20\n",
            "391/391 [==============================] - 2s 5ms/step - loss: 0.9762 - accuracy: 0.6542 - val_loss: 1.0366 - val_accuracy: 0.6384\n",
            "Epoch 9/20\n",
            "391/391 [==============================] - 2s 6ms/step - loss: 0.9491 - accuracy: 0.6635 - val_loss: 1.0525 - val_accuracy: 0.6338\n",
            "Epoch 10/20\n",
            "391/391 [==============================] - 3s 7ms/step - loss: 0.9295 - accuracy: 0.6689 - val_loss: 1.0047 - val_accuracy: 0.6494\n",
            "Epoch 11/20\n",
            "391/391 [==============================] - 2s 6ms/step - loss: 0.9037 - accuracy: 0.6780 - val_loss: 1.0019 - val_accuracy: 0.6526\n",
            "Epoch 12/20\n",
            "391/391 [==============================] - 2s 5ms/step - loss: 0.8847 - accuracy: 0.6860 - val_loss: 1.0790 - val_accuracy: 0.6432\n",
            "Epoch 13/20\n",
            "391/391 [==============================] - 2s 5ms/step - loss: 0.8616 - accuracy: 0.6939 - val_loss: 0.9949 - val_accuracy: 0.6600\n",
            "Epoch 14/20\n",
            "391/391 [==============================] - 2s 5ms/step - loss: 0.8504 - accuracy: 0.6974 - val_loss: 1.0207 - val_accuracy: 0.6544\n",
            "Epoch 15/20\n",
            "391/391 [==============================] - 2s 6ms/step - loss: 0.8297 - accuracy: 0.7050 - val_loss: 0.9676 - val_accuracy: 0.6678\n",
            "Epoch 16/20\n",
            "391/391 [==============================] - 3s 7ms/step - loss: 0.8154 - accuracy: 0.7088 - val_loss: 0.9516 - val_accuracy: 0.6720\n",
            "Epoch 17/20\n",
            "391/391 [==============================] - 2s 5ms/step - loss: 0.7943 - accuracy: 0.7155 - val_loss: 0.9493 - val_accuracy: 0.6754\n",
            "Epoch 18/20\n",
            "391/391 [==============================] - 2s 5ms/step - loss: 0.7859 - accuracy: 0.7163 - val_loss: 0.9384 - val_accuracy: 0.6764\n",
            "Epoch 19/20\n",
            "391/391 [==============================] - 3s 7ms/step - loss: 0.7765 - accuracy: 0.7205 - val_loss: 0.9584 - val_accuracy: 0.6720\n",
            "Epoch 20/20\n",
            "391/391 [==============================] - 5s 12ms/step - loss: 0.7604 - accuracy: 0.7247 - val_loss: 0.9772 - val_accuracy: 0.6738\n"
          ]
        }
      ],
      "source": [
        "# Train the model\n",
        "history = model.fit(X_train_fl, y_train_oh, epochs=20, batch_size=128,\n",
        "                    validation_data=(X_val, y_val))"
      ]
    },
    {
      "cell_type": "code",
      "execution_count": 22,
      "metadata": {
        "id": "efPQki1pzZ9z",
        "colab": {
          "base_uri": "https://localhost:8080/"
        },
        "outputId": "13ca38e3-df44-4b68-a2db-0fd1b313581b"
      },
      "outputs": [
        {
          "output_type": "stream",
          "name": "stderr",
          "text": [
            "WARNING:absl:`lr` is deprecated in Keras optimizer, please use `learning_rate` or use the legacy optimizer, e.g.,tf.keras.optimizers.legacy.Adam.\n"
          ]
        }
      ],
      "source": [
        "# Compile the model with new learning rate\n",
        "model= Model(inputs=input_layer, outputs=output_layer)\n",
        "model.compile(loss='categorical_crossentropy', optimizer=Adam(lr=0.01),\n",
        "              metrics=['accuracy'])"
      ]
    },
    {
      "cell_type": "code",
      "execution_count": 23,
      "metadata": {
        "id": "Oo6f1rlo0qWs",
        "colab": {
          "base_uri": "https://localhost:8080/"
        },
        "outputId": "2a0368f6-d139-449b-81f0-837381739a2c"
      },
      "outputs": [
        {
          "output_type": "stream",
          "name": "stdout",
          "text": [
            "Epoch 1/20\n",
            "391/391 [==============================] - 7s 6ms/step - loss: 0.7544 - accuracy: 0.7260 - val_loss: 0.9548 - val_accuracy: 0.6794\n",
            "Epoch 2/20\n",
            "391/391 [==============================] - 3s 7ms/step - loss: 0.7429 - accuracy: 0.7317 - val_loss: 1.0301 - val_accuracy: 0.6590\n",
            "Epoch 3/20\n",
            "391/391 [==============================] - 2s 6ms/step - loss: 0.7347 - accuracy: 0.7349 - val_loss: 1.1207 - val_accuracy: 0.6314\n",
            "Epoch 4/20\n",
            "391/391 [==============================] - 2s 6ms/step - loss: 0.7259 - accuracy: 0.7382 - val_loss: 1.0638 - val_accuracy: 0.6598\n",
            "Epoch 5/20\n",
            "391/391 [==============================] - 2s 5ms/step - loss: 0.7136 - accuracy: 0.7424 - val_loss: 0.9737 - val_accuracy: 0.6804\n",
            "Epoch 6/20\n",
            "391/391 [==============================] - 2s 5ms/step - loss: 0.7061 - accuracy: 0.7438 - val_loss: 0.9591 - val_accuracy: 0.6836\n",
            "Epoch 7/20\n",
            "391/391 [==============================] - 2s 6ms/step - loss: 0.6953 - accuracy: 0.7482 - val_loss: 0.9725 - val_accuracy: 0.6904\n",
            "Epoch 8/20\n",
            "391/391 [==============================] - 3s 7ms/step - loss: 0.6946 - accuracy: 0.7468 - val_loss: 0.9807 - val_accuracy: 0.6720\n",
            "Epoch 9/20\n",
            "391/391 [==============================] - 2s 6ms/step - loss: 0.6799 - accuracy: 0.7527 - val_loss: 1.1338 - val_accuracy: 0.6420\n",
            "Epoch 10/20\n",
            "391/391 [==============================] - 2s 5ms/step - loss: 0.6753 - accuracy: 0.7524 - val_loss: 1.0293 - val_accuracy: 0.6642\n",
            "Epoch 11/20\n",
            "391/391 [==============================] - 2s 5ms/step - loss: 0.6714 - accuracy: 0.7567 - val_loss: 1.1134 - val_accuracy: 0.6486\n",
            "Epoch 12/20\n",
            "391/391 [==============================] - 2s 5ms/step - loss: 0.6613 - accuracy: 0.7578 - val_loss: 1.0696 - val_accuracy: 0.6706\n",
            "Epoch 13/20\n",
            "391/391 [==============================] - 3s 7ms/step - loss: 0.6482 - accuracy: 0.7640 - val_loss: 1.0895 - val_accuracy: 0.6666\n",
            "Epoch 14/20\n",
            "391/391 [==============================] - 2s 6ms/step - loss: 0.6490 - accuracy: 0.7626 - val_loss: 1.0439 - val_accuracy: 0.6682\n",
            "Epoch 15/20\n",
            "391/391 [==============================] - 2s 6ms/step - loss: 0.6390 - accuracy: 0.7652 - val_loss: 1.1334 - val_accuracy: 0.6584\n",
            "Epoch 16/20\n",
            "391/391 [==============================] - 2s 6ms/step - loss: 0.6370 - accuracy: 0.7659 - val_loss: 1.0529 - val_accuracy: 0.6712\n",
            "Epoch 17/20\n",
            "391/391 [==============================] - 2s 5ms/step - loss: 0.6291 - accuracy: 0.7674 - val_loss: 1.0244 - val_accuracy: 0.6788\n",
            "Epoch 18/20\n",
            "391/391 [==============================] - 2s 6ms/step - loss: 0.6276 - accuracy: 0.7693 - val_loss: 1.0290 - val_accuracy: 0.6770\n",
            "Epoch 19/20\n",
            "391/391 [==============================] - 3s 7ms/step - loss: 0.6220 - accuracy: 0.7726 - val_loss: 1.1221 - val_accuracy: 0.6628\n",
            "Epoch 20/20\n",
            "391/391 [==============================] - 2s 5ms/step - loss: 0.6145 - accuracy: 0.7716 - val_loss: 1.0384 - val_accuracy: 0.6744\n"
          ]
        }
      ],
      "source": [
        "# Train the model\n",
        "history = model.fit(X_train_fl, y_train_oh, epochs=20, batch_size=128,\n",
        "                    validation_data=(X_val, y_val))"
      ]
    },
    {
      "cell_type": "markdown",
      "metadata": {
        "id": "-vsfjI7S2eCH"
      },
      "source": [
        "## 3. Data Augmentation"
      ]
    },
    {
      "cell_type": "code",
      "execution_count": 24,
      "metadata": {
        "id": "JGqUrVUa063z"
      },
      "outputs": [],
      "source": [
        "from keras.preprocessing.image import ImageDataGenerator"
      ]
    },
    {
      "cell_type": "code",
      "execution_count": 25,
      "metadata": {
        "id": "yjoPmQc32nmw"
      },
      "outputs": [],
      "source": [
        "# Define data generator\n",
        "train_datagen = ImageDataGenerator(\n",
        "    shear_range = 0.2,\n",
        "    zoom_range = 0.2,\n",
        "    horizontal_flip = True,\n",
        "    rotation_range = 10,\n",
        ")"
      ]
    },
    {
      "cell_type": "code",
      "execution_count": 26,
      "metadata": {
        "id": "DeXelmgq6IkN"
      },
      "outputs": [],
      "source": [
        "# Function to convert a categorical class to its corresponding string\n",
        "def class_to_string(class_int):\n",
        "    classes = [\"airplane\", \"automobile\", \"bird\", \"cat\", \"deer\", \"dog\", \"frog\",\n",
        "               \"horse\", \"ship\", \"truck\"]\n",
        "    return classes[class_int]"
      ]
    },
    {
      "cell_type": "code",
      "execution_count": 27,
      "metadata": {
        "id": "VgMWPtwx6fTF"
      },
      "outputs": [],
      "source": [
        "plt.rcParams['figure.figsize'] = (10,10)  # Configure figure size for\n",
        "                                          # appropriate visualization"
      ]
    },
    {
      "cell_type": "code",
      "execution_count": 28,
      "metadata": {
        "id": "1gp_wWxK3xc5",
        "colab": {
          "base_uri": "https://localhost:8080/",
          "height": 853
        },
        "outputId": "932014ee-8693-4311-fcb0-de261efa475c"
      },
      "outputs": [
        {
          "output_type": "display_data",
          "data": {
            "text/plain": [
              "<Figure size 1000x1000 with 9 Axes>"
            ],
            "image/png": "[encoded data removed]"
          },
          "metadata": {}
        }
      ],
      "source": [
        "# Show generated data\n",
        "iterator = train_datagen.flow(X_train_fl, y_train_oh, batch_size=9)\n",
        "samples, labels = next(iterator)\n",
        "for i in range(9):\n",
        "    plt.subplot(3,3,i+1)\n",
        "    plt.imshow(samples[i], interpolation='none')\n",
        "    class_str = class_to_string(np.argmax(labels[i]))\n",
        "    plt.title(\"Class: \" + class_str)"
      ]
    },
    {
      "cell_type": "code",
      "execution_count": 29,
      "metadata": {
        "id": "Kj3tqJnv74Yn",
        "colab": {
          "base_uri": "https://localhost:8080/"
        },
        "outputId": "b7eb4528-675c-409c-bf88-503e56fdc4fa"
      },
      "outputs": [
        {
          "output_type": "stream",
          "name": "stderr",
          "text": [
            "WARNING:absl:`lr` is deprecated in Keras optimizer, please use `learning_rate` or use the legacy optimizer, e.g.,tf.keras.optimizers.legacy.Adam.\n"
          ]
        }
      ],
      "source": [
        "# Compile the model with new learning rate\n",
        "model= Model(inputs=input_layer, outputs=output_layer)\n",
        "model.compile(loss='categorical_crossentropy', optimizer=Adam(lr=0.001),\n",
        "              metrics=['accuracy'])"
      ]
    },
    {
      "cell_type": "code",
      "execution_count": 30,
      "metadata": {
        "colab": {
          "base_uri": "https://localhost:8080/"
        },
        "id": "dW6z6oqi74Yu",
        "outputId": "09494bea-be40-4d9d-e28b-5347d650c592"
      },
      "outputs": [
        {
          "output_type": "stream",
          "name": "stdout",
          "text": [
            "Epoch 1/20\n"
          ]
        },
        {
          "output_type": "stream",
          "name": "stderr",
          "text": [
            "<ipython-input-30-6174ff94f261>:4: UserWarning: `Model.fit_generator` is deprecated and will be removed in a future version. Please use `Model.fit`, which supports generators.\n",
            "  history = model.fit_generator(train_datagen.flow(X_train_fl, y_train_oh,\n"
          ]
        },
        {
          "output_type": "stream",
          "name": "stdout",
          "text": [
            "500/500 [==============================] - 27s 50ms/step - loss: 1.1235 - accuracy: 0.6168 - val_loss: 0.9914 - val_accuracy: 0.6514\n",
            "Epoch 2/20\n",
            "500/500 [==============================] - 25s 49ms/step - loss: 1.0781 - accuracy: 0.6229 - val_loss: 0.9569 - val_accuracy: 0.6660\n",
            "Epoch 3/20\n",
            "500/500 [==============================] - 25s 49ms/step - loss: 1.0464 - accuracy: 0.6354 - val_loss: 1.0096 - val_accuracy: 0.6556\n",
            "Epoch 4/20\n",
            "500/500 [==============================] - 25s 50ms/step - loss: 1.0306 - accuracy: 0.6414 - val_loss: 0.9590 - val_accuracy: 0.6634\n",
            "Epoch 5/20\n",
            "500/500 [==============================] - 24s 49ms/step - loss: 1.0091 - accuracy: 0.6449 - val_loss: 1.0235 - val_accuracy: 0.6490\n",
            "Epoch 6/20\n",
            "500/500 [==============================] - 24s 49ms/step - loss: 0.9980 - accuracy: 0.6484 - val_loss: 1.0589 - val_accuracy: 0.6390\n",
            "Epoch 7/20\n",
            "500/500 [==============================] - 24s 47ms/step - loss: 0.9903 - accuracy: 0.6497 - val_loss: 0.9552 - val_accuracy: 0.6714\n",
            "Epoch 8/20\n",
            "500/500 [==============================] - 24s 48ms/step - loss: 0.9733 - accuracy: 0.6577 - val_loss: 0.9889 - val_accuracy: 0.6642\n",
            "Epoch 9/20\n",
            "500/500 [==============================] - 24s 49ms/step - loss: 0.9676 - accuracy: 0.6619 - val_loss: 0.9264 - val_accuracy: 0.6796\n",
            "Epoch 10/20\n",
            "500/500 [==============================] - 25s 50ms/step - loss: 0.9635 - accuracy: 0.6611 - val_loss: 0.8726 - val_accuracy: 0.6944\n",
            "Epoch 11/20\n",
            "500/500 [==============================] - 25s 49ms/step - loss: 0.9575 - accuracy: 0.6645 - val_loss: 1.0490 - val_accuracy: 0.6412\n",
            "Epoch 12/20\n",
            "500/500 [==============================] - 24s 48ms/step - loss: 0.9545 - accuracy: 0.6650 - val_loss: 0.9595 - val_accuracy: 0.6642\n",
            "Epoch 13/20\n",
            "500/500 [==============================] - 24s 49ms/step - loss: 0.9491 - accuracy: 0.6665 - val_loss: 0.8767 - val_accuracy: 0.6966\n",
            "Epoch 14/20\n",
            "500/500 [==============================] - 25s 50ms/step - loss: 0.9462 - accuracy: 0.6692 - val_loss: 0.9939 - val_accuracy: 0.6634\n",
            "Epoch 15/20\n",
            "500/500 [==============================] - 26s 51ms/step - loss: 0.9451 - accuracy: 0.6668 - val_loss: 0.9318 - val_accuracy: 0.6744\n",
            "Epoch 16/20\n",
            "500/500 [==============================] - 25s 50ms/step - loss: 0.9411 - accuracy: 0.6709 - val_loss: 0.9658 - val_accuracy: 0.6686\n",
            "Epoch 17/20\n",
            "500/500 [==============================] - 25s 50ms/step - loss: 0.9347 - accuracy: 0.6708 - val_loss: 0.8743 - val_accuracy: 0.6924\n",
            "Epoch 18/20\n",
            "500/500 [==============================] - 25s 50ms/step - loss: 0.9295 - accuracy: 0.6725 - val_loss: 0.8779 - val_accuracy: 0.6926\n",
            "Epoch 19/20\n",
            "500/500 [==============================] - 25s 50ms/step - loss: 0.9213 - accuracy: 0.6779 - val_loss: 0.8364 - val_accuracy: 0.7074\n",
            "Epoch 20/20\n",
            "500/500 [==============================] - 25s 50ms/step - loss: 0.9280 - accuracy: 0.6747 - val_loss: 0.9142 - val_accuracy: 0.6822\n"
          ]
        }
      ],
      "source": [
        "# Train the model\n",
        "batch_size = 100\n",
        "steps_per_epoch = X_train.shape[0] / batch_size\n",
        "history = model.fit_generator(train_datagen.flow(X_train_fl, y_train_oh,\n",
        "                                                 batch_size=batch_size),\n",
        "                              epochs=20,\n",
        "                              steps_per_epoch=steps_per_epoch,\n",
        "                              validation_data=(X_val, y_val))"
      ]
    },
    {
      "cell_type": "code",
      "execution_count": 31,
      "metadata": {
        "id": "TGTb98saDb6J",
        "colab": {
          "base_uri": "https://localhost:8080/",
          "height": 1000
        },
        "outputId": "bfd76cae-f21c-4a75-c99c-e59d64e12075"
      },
      "outputs": [
        {
          "output_type": "stream",
          "name": "stdout",
          "text": [
            "Epoch 1/100\n"
          ]
        },
        {
          "output_type": "stream",
          "name": "stderr",
          "text": [
            "<ipython-input-31-eccbc49947a6>:4: UserWarning: `Model.fit_generator` is deprecated and will be removed in a future version. Please use `Model.fit`, which supports generators.\n",
            "  history = model.fit_generator(train_datagen.flow(X_train_fl, y_train_oh,\n"
          ]
        },
        {
          "output_type": "stream",
          "name": "stdout",
          "text": [
            "500/500 [==============================] - 24s 48ms/step - loss: 0.9258 - accuracy: 0.6738 - val_loss: 0.9481 - val_accuracy: 0.6704\n",
            "Epoch 2/100\n",
            "500/500 [==============================] - 25s 50ms/step - loss: 0.9203 - accuracy: 0.6772 - val_loss: 0.9695 - val_accuracy: 0.6638\n",
            "Epoch 3/100\n",
            "500/500 [==============================] - 25s 50ms/step - loss: 0.9150 - accuracy: 0.6813 - val_loss: 0.9114 - val_accuracy: 0.6816\n",
            "Epoch 4/100\n",
            "500/500 [==============================] - 24s 48ms/step - loss: 0.9123 - accuracy: 0.6810 - val_loss: 0.8574 - val_accuracy: 0.6976\n",
            "Epoch 5/100\n",
            "500/500 [==============================] - 25s 50ms/step - loss: 0.9076 - accuracy: 0.6797 - val_loss: 0.8704 - val_accuracy: 0.6942\n",
            "Epoch 6/100\n",
            "500/500 [==============================] - 25s 50ms/step - loss: 0.9114 - accuracy: 0.6793 - val_loss: 0.8616 - val_accuracy: 0.6986\n",
            "Epoch 7/100\n",
            "500/500 [==============================] - 25s 49ms/step - loss: 0.9055 - accuracy: 0.6809 - val_loss: 0.8367 - val_accuracy: 0.7078\n",
            "Epoch 8/100\n",
            "500/500 [==============================] - 24s 48ms/step - loss: 0.8993 - accuracy: 0.6847 - val_loss: 0.8655 - val_accuracy: 0.7000\n",
            "Epoch 9/100\n",
            "500/500 [==============================] - 25s 50ms/step - loss: 0.9078 - accuracy: 0.6816 - val_loss: 0.8685 - val_accuracy: 0.6972\n",
            "Epoch 10/100\n",
            "500/500 [==============================] - 25s 49ms/step - loss: 0.8989 - accuracy: 0.6837 - val_loss: 1.0249 - val_accuracy: 0.6510\n",
            "Epoch 11/100\n",
            "500/500 [==============================] - 25s 49ms/step - loss: 0.8928 - accuracy: 0.6862 - val_loss: 0.8814 - val_accuracy: 0.6940\n",
            "Epoch 12/100\n",
            "500/500 [==============================] - 25s 49ms/step - loss: 0.8948 - accuracy: 0.6835 - val_loss: 0.9219 - val_accuracy: 0.6768\n",
            "Epoch 13/100\n",
            "500/500 [==============================] - 24s 47ms/step - loss: 0.8921 - accuracy: 0.6882 - val_loss: 0.8393 - val_accuracy: 0.7060\n",
            "Epoch 14/100\n",
            "500/500 [==============================] - 25s 49ms/step - loss: 0.8923 - accuracy: 0.6883 - val_loss: 0.8750 - val_accuracy: 0.6970\n",
            "Epoch 15/100\n",
            "500/500 [==============================] - 25s 50ms/step - loss: 0.8860 - accuracy: 0.6909 - val_loss: 0.8892 - val_accuracy: 0.6968\n",
            "Epoch 16/100\n",
            "500/500 [==============================] - 25s 49ms/step - loss: 0.8855 - accuracy: 0.6900 - val_loss: 0.8451 - val_accuracy: 0.7136\n",
            "Epoch 17/100\n",
            "500/500 [==============================] - 25s 49ms/step - loss: 0.8836 - accuracy: 0.6875 - val_loss: 0.8400 - val_accuracy: 0.7092\n",
            "Epoch 18/100\n",
            "500/500 [==============================] - 25s 49ms/step - loss: 0.8792 - accuracy: 0.6913 - val_loss: 0.8097 - val_accuracy: 0.7208\n",
            "Epoch 19/100\n",
            "500/500 [==============================] - 25s 50ms/step - loss: 0.8837 - accuracy: 0.6872 - val_loss: 0.9305 - val_accuracy: 0.6826\n",
            "Epoch 20/100\n",
            "500/500 [==============================] - 24s 48ms/step - loss: 0.8848 - accuracy: 0.6911 - val_loss: 0.9085 - val_accuracy: 0.6918\n",
            "Epoch 21/100\n",
            "500/500 [==============================] - 24s 47ms/step - loss: 0.8702 - accuracy: 0.6933 - val_loss: 0.8502 - val_accuracy: 0.7106\n",
            "Epoch 22/100\n",
            "500/500 [==============================] - 25s 50ms/step - loss: 0.8714 - accuracy: 0.6949 - val_loss: 0.8631 - val_accuracy: 0.7020\n",
            "Epoch 23/100\n",
            "500/500 [==============================] - 25s 50ms/step - loss: 0.8685 - accuracy: 0.6955 - val_loss: 0.8223 - val_accuracy: 0.7180\n",
            "Epoch 24/100\n",
            "500/500 [==============================] - 25s 50ms/step - loss: 0.8710 - accuracy: 0.6944 - val_loss: 0.8768 - val_accuracy: 0.6974\n",
            "Epoch 25/100\n",
            "500/500 [==============================] - 25s 49ms/step - loss: 0.8665 - accuracy: 0.6937 - val_loss: 0.9248 - val_accuracy: 0.6892\n",
            "Epoch 26/100\n",
            "500/500 [==============================] - 25s 50ms/step - loss: 0.8726 - accuracy: 0.6937 - val_loss: 0.8445 - val_accuracy: 0.7062\n",
            "Epoch 27/100\n",
            "500/500 [==============================] - 25s 51ms/step - loss: 0.8656 - accuracy: 0.6964 - val_loss: 0.8223 - val_accuracy: 0.7150\n",
            "Epoch 28/100\n",
            "500/500 [==============================] - 25s 50ms/step - loss: 0.8654 - accuracy: 0.6972 - val_loss: 0.8222 - val_accuracy: 0.7210\n",
            "Epoch 29/100\n",
            "500/500 [==============================] - 25s 50ms/step - loss: 0.8696 - accuracy: 0.6950 - val_loss: 0.8164 - val_accuracy: 0.7212\n",
            "Epoch 30/100\n",
            "500/500 [==============================] - 25s 50ms/step - loss: 0.8606 - accuracy: 0.6970 - val_loss: 0.8413 - val_accuracy: 0.7192\n",
            "Epoch 31/100\n",
            "500/500 [==============================] - 26s 51ms/step - loss: 0.8619 - accuracy: 0.7000 - val_loss: 0.8630 - val_accuracy: 0.7012\n",
            "Epoch 32/100\n",
            "500/500 [==============================] - 25s 50ms/step - loss: 0.8577 - accuracy: 0.6962 - val_loss: 0.8465 - val_accuracy: 0.7122\n",
            "Epoch 33/100\n",
            "500/500 [==============================] - 25s 49ms/step - loss: 0.8576 - accuracy: 0.7006 - val_loss: 0.8041 - val_accuracy: 0.7232\n",
            "Epoch 34/100\n",
            "500/500 [==============================] - 25s 50ms/step - loss: 0.8595 - accuracy: 0.6980 - val_loss: 1.0348 - val_accuracy: 0.6582\n",
            "Epoch 35/100\n",
            "500/500 [==============================] - 26s 51ms/step - loss: 0.8546 - accuracy: 0.7021 - val_loss: 0.9027 - val_accuracy: 0.6922\n",
            "Epoch 36/100\n",
            "500/500 [==============================] - 26s 51ms/step - loss: 0.8532 - accuracy: 0.6990 - val_loss: 0.8335 - val_accuracy: 0.7216\n",
            "Epoch 37/100\n",
            "500/500 [==============================] - 25s 50ms/step - loss: 0.8533 - accuracy: 0.6993 - val_loss: 0.9118 - val_accuracy: 0.6886\n",
            "Epoch 38/100\n",
            "500/500 [==============================] - 25s 51ms/step - loss: 0.8520 - accuracy: 0.7005 - val_loss: 0.8010 - val_accuracy: 0.7260\n",
            "Epoch 39/100\n",
            "500/500 [==============================] - 25s 51ms/step - loss: 0.8526 - accuracy: 0.7022 - val_loss: 0.8766 - val_accuracy: 0.6974\n",
            "Epoch 40/100\n",
            "500/500 [==============================] - 25s 50ms/step - loss: 0.8483 - accuracy: 0.7010 - val_loss: 0.8225 - val_accuracy: 0.7220\n",
            "Epoch 41/100\n",
            "500/500 [==============================] - 25s 50ms/step - loss: 0.8490 - accuracy: 0.7011 - val_loss: 0.8131 - val_accuracy: 0.7200\n",
            "Epoch 42/100\n",
            "500/500 [==============================] - 25s 50ms/step - loss: 0.8536 - accuracy: 0.6987 - val_loss: 0.8825 - val_accuracy: 0.6942\n",
            "Epoch 43/100\n",
            "500/500 [==============================] - 25s 51ms/step - loss: 0.8512 - accuracy: 0.6999 - val_loss: 0.8360 - val_accuracy: 0.7162\n",
            "Epoch 44/100\n",
            "500/500 [==============================] - 25s 50ms/step - loss: 0.8462 - accuracy: 0.7007 - val_loss: 0.8124 - val_accuracy: 0.7288\n",
            "Epoch 45/100\n",
            "500/500 [==============================] - 25s 50ms/step - loss: 0.8416 - accuracy: 0.7049 - val_loss: 0.7920 - val_accuracy: 0.7300\n",
            "Epoch 46/100\n",
            "500/500 [==============================] - 25s 49ms/step - loss: 0.8425 - accuracy: 0.7040 - val_loss: 0.8198 - val_accuracy: 0.7200\n",
            "Epoch 47/100\n",
            "500/500 [==============================] - 25s 50ms/step - loss: 0.8479 - accuracy: 0.7021 - val_loss: 0.8466 - val_accuracy: 0.7106\n",
            "Epoch 48/100\n",
            "500/500 [==============================] - 25s 50ms/step - loss: 0.8377 - accuracy: 0.7059 - val_loss: 0.9950 - val_accuracy: 0.6724\n",
            "Epoch 49/100\n",
            "500/500 [==============================] - 25s 50ms/step - loss: 0.8412 - accuracy: 0.7021 - val_loss: 0.8778 - val_accuracy: 0.7004\n",
            "Epoch 50/100\n",
            "500/500 [==============================] - 25s 50ms/step - loss: 0.8372 - accuracy: 0.7077 - val_loss: 0.8722 - val_accuracy: 0.7060\n",
            "Epoch 51/100\n",
            "500/500 [==============================] - 25s 50ms/step - loss: 0.8392 - accuracy: 0.7045 - val_loss: 0.8300 - val_accuracy: 0.7148\n",
            "Epoch 52/100\n",
            "500/500 [==============================] - 25s 50ms/step - loss: 0.8388 - accuracy: 0.7047 - val_loss: 0.8217 - val_accuracy: 0.7194\n",
            "Epoch 53/100\n",
            "500/500 [==============================] - 25s 50ms/step - loss: 0.8339 - accuracy: 0.7072 - val_loss: 0.8237 - val_accuracy: 0.7152\n",
            "Epoch 54/100\n",
            "500/500 [==============================] - 25s 50ms/step - loss: 0.8341 - accuracy: 0.7066 - val_loss: 0.7898 - val_accuracy: 0.7330\n",
            "Epoch 55/100\n",
            "500/500 [==============================] - 24s 49ms/step - loss: 0.8354 - accuracy: 0.7068 - val_loss: 0.8269 - val_accuracy: 0.7184\n",
            "Epoch 56/100\n",
            "500/500 [==============================] - 25s 50ms/step - loss: 0.8317 - accuracy: 0.7071 - val_loss: 0.9055 - val_accuracy: 0.6954\n",
            "Epoch 57/100\n",
            "500/500 [==============================] - 25s 50ms/step - loss: 0.8326 - accuracy: 0.7085 - val_loss: 0.7820 - val_accuracy: 0.7276\n",
            "Epoch 58/100\n",
            "500/500 [==============================] - 26s 52ms/step - loss: 0.8299 - accuracy: 0.7092 - val_loss: 0.8430 - val_accuracy: 0.7142\n",
            "Epoch 59/100\n",
            "500/500 [==============================] - 25s 51ms/step - loss: 0.8338 - accuracy: 0.7078 - val_loss: 0.8685 - val_accuracy: 0.7028\n",
            "Epoch 60/100\n",
            "500/500 [==============================] - 25s 51ms/step - loss: 0.8365 - accuracy: 0.7071 - val_loss: 0.8119 - val_accuracy: 0.7252\n",
            "Epoch 61/100\n",
            "500/500 [==============================] - 25s 49ms/step - loss: 0.8282 - accuracy: 0.7094 - val_loss: 0.9101 - val_accuracy: 0.6898\n",
            "Epoch 62/100\n",
            "500/500 [==============================] - 25s 50ms/step - loss: 0.8283 - accuracy: 0.7061 - val_loss: 0.7957 - val_accuracy: 0.7298\n",
            "Epoch 63/100\n",
            "500/500 [==============================] - 25s 50ms/step - loss: 0.8276 - accuracy: 0.7113 - val_loss: 0.8556 - val_accuracy: 0.7130\n",
            "Epoch 64/100\n",
            "500/500 [==============================] - 25s 50ms/step - loss: 0.8254 - accuracy: 0.7097 - val_loss: 0.8649 - val_accuracy: 0.7124\n",
            "Epoch 65/100\n",
            "500/500 [==============================] - 25s 50ms/step - loss: 0.8267 - accuracy: 0.7106 - val_loss: 0.8369 - val_accuracy: 0.7212\n",
            "Epoch 66/100\n",
            "500/500 [==============================] - 25s 51ms/step - loss: 0.8240 - accuracy: 0.7129 - val_loss: 0.8224 - val_accuracy: 0.7208\n",
            "Epoch 67/100\n",
            "500/500 [==============================] - 25s 50ms/step - loss: 0.8273 - accuracy: 0.7108 - val_loss: 0.7669 - val_accuracy: 0.7376\n",
            "Epoch 68/100\n",
            "500/500 [==============================] - 25s 50ms/step - loss: 0.8206 - accuracy: 0.7115 - val_loss: 0.8561 - val_accuracy: 0.7080\n",
            "Epoch 69/100\n",
            "500/500 [==============================] - 25s 50ms/step - loss: 0.8190 - accuracy: 0.7128 - val_loss: 0.8046 - val_accuracy: 0.7252\n",
            "Epoch 70/100\n",
            "500/500 [==============================] - 24s 49ms/step - loss: 0.8297 - accuracy: 0.7099 - val_loss: 0.7743 - val_accuracy: 0.7318\n",
            "Epoch 71/100\n",
            "500/500 [==============================] - 25s 51ms/step - loss: 0.8240 - accuracy: 0.7088 - val_loss: 0.8102 - val_accuracy: 0.7250\n",
            "Epoch 72/100\n",
            "500/500 [==============================] - 25s 50ms/step - loss: 0.8208 - accuracy: 0.7105 - val_loss: 0.8936 - val_accuracy: 0.6992\n",
            "Epoch 73/100\n",
            "500/500 [==============================] - 26s 51ms/step - loss: 0.8192 - accuracy: 0.7113 - val_loss: 0.8279 - val_accuracy: 0.7196\n",
            "Epoch 74/100\n",
            "500/500 [==============================] - 26s 52ms/step - loss: 0.8221 - accuracy: 0.7090 - val_loss: 0.8426 - val_accuracy: 0.7092\n",
            "Epoch 75/100\n",
            "500/500 [==============================] - 28s 56ms/step - loss: 0.8154 - accuracy: 0.7140 - val_loss: 0.7963 - val_accuracy: 0.7210\n",
            "Epoch 76/100\n",
            "500/500 [==============================] - 27s 54ms/step - loss: 0.8146 - accuracy: 0.7133 - val_loss: 0.8762 - val_accuracy: 0.7056\n",
            "Epoch 77/100\n",
            "438/500 [=========================>....] - ETA: 3s - loss: 0.8109 - accuracy: 0.7140"
          ]
        },
        {
          "output_type": "error",
          "ename": "KeyboardInterrupt",
          "evalue": "",
          "traceback": [
            "\u001b[0;31m---------------------------------------------------------------------------\u001b[0m",
            "\u001b[0;31mKeyboardInterrupt\u001b[0m                         Traceback (most recent call last)",
            "\u001b[0;32m<ipython-input-31-eccbc49947a6>\u001b[0m in \u001b[0;36m<cell line: 4>\u001b[0;34m()\u001b[0m\n\u001b[1;32m      2\u001b[0m \u001b[0mbatch_size\u001b[0m \u001b[0;34m=\u001b[0m \u001b[0;36m100\u001b[0m\u001b[0;34m\u001b[0m\u001b[0;34m\u001b[0m\u001b[0m\n\u001b[1;32m      3\u001b[0m \u001b[0msteps_per_epoch\u001b[0m \u001b[0;34m=\u001b[0m \u001b[0mX_train\u001b[0m\u001b[0;34m.\u001b[0m\u001b[0mshape\u001b[0m\u001b[0;34m[\u001b[0m\u001b[0;36m0\u001b[0m\u001b[0;34m]\u001b[0m \u001b[0;34m/\u001b[0m \u001b[0mbatch_size\u001b[0m\u001b[0;34m\u001b[0m\u001b[0;34m\u001b[0m\u001b[0m\n\u001b[0;32m----> 4\u001b[0;31m history = model.fit_generator(train_datagen.flow(X_train_fl, y_train_oh,\n\u001b[0m\u001b[1;32m      5\u001b[0m                                                  batch_size=batch_size),\n\u001b[1;32m      6\u001b[0m                               \u001b[0mepochs\u001b[0m\u001b[0;34m=\u001b[0m\u001b[0;36m100\u001b[0m\u001b[0;34m,\u001b[0m\u001b[0;34m\u001b[0m\u001b[0;34m\u001b[0m\u001b[0m\n",
            "\u001b[0;32m/usr/local/lib/python3.10/dist-packages/keras/src/engine/training.py\u001b[0m in \u001b[0;36mfit_generator\u001b[0;34m(self, generator, steps_per_epoch, epochs, verbose, callbacks, validation_data, validation_steps, validation_freq, class_weight, max_queue_size, workers, use_multiprocessing, shuffle, initial_epoch)\u001b[0m\n\u001b[1;32m   2911\u001b[0m             \u001b[0mstacklevel\u001b[0m\u001b[0;34m=\u001b[0m\u001b[0;36m2\u001b[0m\u001b[0;34m,\u001b[0m\u001b[0;34m\u001b[0m\u001b[0;34m\u001b[0m\u001b[0m\n\u001b[1;32m   2912\u001b[0m         )\n\u001b[0;32m-> 2913\u001b[0;31m         return self.fit(\n\u001b[0m\u001b[1;32m   2914\u001b[0m             \u001b[0mgenerator\u001b[0m\u001b[0;34m,\u001b[0m\u001b[0;34m\u001b[0m\u001b[0;34m\u001b[0m\u001b[0m\n\u001b[1;32m   2915\u001b[0m             \u001b[0msteps_per_epoch\u001b[0m\u001b[0;34m=\u001b[0m\u001b[0msteps_per_epoch\u001b[0m\u001b[0;34m,\u001b[0m\u001b[0;34m\u001b[0m\u001b[0;34m\u001b[0m\u001b[0m\n",
            "\u001b[0;32m/usr/local/lib/python3.10/dist-packages/keras/src/utils/traceback_utils.py\u001b[0m in \u001b[0;36merror_handler\u001b[0;34m(*args, **kwargs)\u001b[0m\n\u001b[1;32m     63\u001b[0m         \u001b[0mfiltered_tb\u001b[0m \u001b[0;34m=\u001b[0m \u001b[0;32mNone\u001b[0m\u001b[0;34m\u001b[0m\u001b[0;34m\u001b[0m\u001b[0m\n\u001b[1;32m     64\u001b[0m         \u001b[0;32mtry\u001b[0m\u001b[0;34m:\u001b[0m\u001b[0;34m\u001b[0m\u001b[0;34m\u001b[0m\u001b[0m\n\u001b[0;32m---> 65\u001b[0;31m             \u001b[0;32mreturn\u001b[0m \u001b[0mfn\u001b[0m\u001b[0;34m(\u001b[0m\u001b[0;34m*\u001b[0m\u001b[0margs\u001b[0m\u001b[0;34m,\u001b[0m \u001b[0;34m**\u001b[0m\u001b[0mkwargs\u001b[0m\u001b[0;34m)\u001b[0m\u001b[0;34m\u001b[0m\u001b[0;34m\u001b[0m\u001b[0m\n\u001b[0m\u001b[1;32m     66\u001b[0m         \u001b[0;32mexcept\u001b[0m \u001b[0mException\u001b[0m \u001b[0;32mas\u001b[0m \u001b[0me\u001b[0m\u001b[0;34m:\u001b[0m\u001b[0;34m\u001b[0m\u001b[0;34m\u001b[0m\u001b[0m\n\u001b[1;32m     67\u001b[0m             \u001b[0mfiltered_tb\u001b[0m \u001b[0;34m=\u001b[0m \u001b[0m_process_traceback_frames\u001b[0m\u001b[0;34m(\u001b[0m\u001b[0me\u001b[0m\u001b[0;34m.\u001b[0m\u001b[0m__traceback__\u001b[0m\u001b[0;34m)\u001b[0m\u001b[0;34m\u001b[0m\u001b[0;34m\u001b[0m\u001b[0m\n",
            "\u001b[0;32m/usr/local/lib/python3.10/dist-packages/keras/src/engine/training.py\u001b[0m in \u001b[0;36mfit\u001b[0;34m(self, x, y, batch_size, epochs, verbose, callbacks, validation_split, validation_data, shuffle, class_weight, sample_weight, initial_epoch, steps_per_epoch, validation_steps, validation_batch_size, validation_freq, max_queue_size, workers, use_multiprocessing)\u001b[0m\n\u001b[1;32m   1805\u001b[0m                         ):\n\u001b[1;32m   1806\u001b[0m                             \u001b[0mcallbacks\u001b[0m\u001b[0;34m.\u001b[0m\u001b[0mon_train_batch_begin\u001b[0m\u001b[0;34m(\u001b[0m\u001b[0mstep\u001b[0m\u001b[0;34m)\u001b[0m\u001b[0;34m\u001b[0m\u001b[0;34m\u001b[0m\u001b[0m\n\u001b[0;32m-> 1807\u001b[0;31m                             \u001b[0mtmp_logs\u001b[0m \u001b[0;34m=\u001b[0m \u001b[0mself\u001b[0m\u001b[0;34m.\u001b[0m\u001b[0mtrain_function\u001b[0m\u001b[0;34m(\u001b[0m\u001b[0miterator\u001b[0m\u001b[0;34m)\u001b[0m\u001b[0;34m\u001b[0m\u001b[0;34m\u001b[0m\u001b[0m\n\u001b[0m\u001b[1;32m   1808\u001b[0m                             \u001b[0;32mif\u001b[0m \u001b[0mdata_handler\u001b[0m\u001b[0;34m.\u001b[0m\u001b[0mshould_sync\u001b[0m\u001b[0;34m:\u001b[0m\u001b[0;34m\u001b[0m\u001b[0;34m\u001b[0m\u001b[0m\n\u001b[1;32m   1809\u001b[0m                                 \u001b[0mcontext\u001b[0m\u001b[0;34m.\u001b[0m\u001b[0masync_wait\u001b[0m\u001b[0;34m(\u001b[0m\u001b[0;34m)\u001b[0m\u001b[0;34m\u001b[0m\u001b[0;34m\u001b[0m\u001b[0m\n",
            "\u001b[0;32m/usr/local/lib/python3.10/dist-packages/tensorflow/python/util/traceback_utils.py\u001b[0m in \u001b[0;36merror_handler\u001b[0;34m(*args, **kwargs)\u001b[0m\n\u001b[1;32m    148\u001b[0m     \u001b[0mfiltered_tb\u001b[0m \u001b[0;34m=\u001b[0m \u001b[0;32mNone\u001b[0m\u001b[0;34m\u001b[0m\u001b[0;34m\u001b[0m\u001b[0m\n\u001b[1;32m    149\u001b[0m     \u001b[0;32mtry\u001b[0m\u001b[0;34m:\u001b[0m\u001b[0;34m\u001b[0m\u001b[0;34m\u001b[0m\u001b[0m\n\u001b[0;32m--> 150\u001b[0;31m       \u001b[0;32mreturn\u001b[0m \u001b[0mfn\u001b[0m\u001b[0;34m(\u001b[0m\u001b[0;34m*\u001b[0m\u001b[0margs\u001b[0m\u001b[0;34m,\u001b[0m \u001b[0;34m**\u001b[0m\u001b[0mkwargs\u001b[0m\u001b[0;34m)\u001b[0m\u001b[0;34m\u001b[0m\u001b[0;34m\u001b[0m\u001b[0m\n\u001b[0m\u001b[1;32m    151\u001b[0m     \u001b[0;32mexcept\u001b[0m \u001b[0mException\u001b[0m \u001b[0;32mas\u001b[0m \u001b[0me\u001b[0m\u001b[0;34m:\u001b[0m\u001b[0;34m\u001b[0m\u001b[0;34m\u001b[0m\u001b[0m\n\u001b[1;32m    152\u001b[0m       \u001b[0mfiltered_tb\u001b[0m \u001b[0;34m=\u001b[0m \u001b[0m_process_traceback_frames\u001b[0m\u001b[0;34m(\u001b[0m\u001b[0me\u001b[0m\u001b[0;34m.\u001b[0m\u001b[0m__traceback__\u001b[0m\u001b[0;34m)\u001b[0m\u001b[0;34m\u001b[0m\u001b[0;34m\u001b[0m\u001b[0m\n",
            "\u001b[0;32m/usr/local/lib/python3.10/dist-packages/tensorflow/python/eager/polymorphic_function/polymorphic_function.py\u001b[0m in \u001b[0;36m__call__\u001b[0;34m(self, *args, **kwds)\u001b[0m\n\u001b[1;32m    830\u001b[0m \u001b[0;34m\u001b[0m\u001b[0m\n\u001b[1;32m    831\u001b[0m       \u001b[0;32mwith\u001b[0m \u001b[0mOptionalXlaContext\u001b[0m\u001b[0;34m(\u001b[0m\u001b[0mself\u001b[0m\u001b[0;34m.\u001b[0m\u001b[0m_jit_compile\u001b[0m\u001b[0;34m)\u001b[0m\u001b[0;34m:\u001b[0m\u001b[0;34m\u001b[0m\u001b[0;34m\u001b[0m\u001b[0m\n\u001b[0;32m--> 832\u001b[0;31m         \u001b[0mresult\u001b[0m \u001b[0;34m=\u001b[0m \u001b[0mself\u001b[0m\u001b[0;34m.\u001b[0m\u001b[0m_call\u001b[0m\u001b[0;34m(\u001b[0m\u001b[0;34m*\u001b[0m\u001b[0margs\u001b[0m\u001b[0;34m,\u001b[0m \u001b[0;34m**\u001b[0m\u001b[0mkwds\u001b[0m\u001b[0;34m)\u001b[0m\u001b[0;34m\u001b[0m\u001b[0;34m\u001b[0m\u001b[0m\n\u001b[0m\u001b[1;32m    833\u001b[0m \u001b[0;34m\u001b[0m\u001b[0m\n\u001b[1;32m    834\u001b[0m       \u001b[0mnew_tracing_count\u001b[0m \u001b[0;34m=\u001b[0m \u001b[0mself\u001b[0m\u001b[0;34m.\u001b[0m\u001b[0mexperimental_get_tracing_count\u001b[0m\u001b[0;34m(\u001b[0m\u001b[0;34m)\u001b[0m\u001b[0;34m\u001b[0m\u001b[0;34m\u001b[0m\u001b[0m\n",
            "\u001b[0;32m/usr/local/lib/python3.10/dist-packages/tensorflow/python/eager/polymorphic_function/polymorphic_function.py\u001b[0m in \u001b[0;36m_call\u001b[0;34m(self, *args, **kwds)\u001b[0m\n\u001b[1;32m    866\u001b[0m       \u001b[0;31m# In this case we have created variables on the first call, so we run the\u001b[0m\u001b[0;34m\u001b[0m\u001b[0;34m\u001b[0m\u001b[0m\n\u001b[1;32m    867\u001b[0m       \u001b[0;31m# defunned version which is guaranteed to never create variables.\u001b[0m\u001b[0;34m\u001b[0m\u001b[0;34m\u001b[0m\u001b[0m\n\u001b[0;32m--> 868\u001b[0;31m       return tracing_compilation.call_function(\n\u001b[0m\u001b[1;32m    869\u001b[0m           \u001b[0margs\u001b[0m\u001b[0;34m,\u001b[0m \u001b[0mkwds\u001b[0m\u001b[0;34m,\u001b[0m \u001b[0mself\u001b[0m\u001b[0;34m.\u001b[0m\u001b[0m_no_variable_creation_config\u001b[0m\u001b[0;34m\u001b[0m\u001b[0;34m\u001b[0m\u001b[0m\n\u001b[1;32m    870\u001b[0m       )\n",
            "\u001b[0;32m/usr/local/lib/python3.10/dist-packages/tensorflow/python/eager/polymorphic_function/tracing_compilation.py\u001b[0m in \u001b[0;36mcall_function\u001b[0;34m(args, kwargs, tracing_options)\u001b[0m\n\u001b[1;32m    137\u001b[0m   \u001b[0mbound_args\u001b[0m \u001b[0;34m=\u001b[0m \u001b[0mfunction\u001b[0m\u001b[0;34m.\u001b[0m\u001b[0mfunction_type\u001b[0m\u001b[0;34m.\u001b[0m\u001b[0mbind\u001b[0m\u001b[0;34m(\u001b[0m\u001b[0;34m*\u001b[0m\u001b[0margs\u001b[0m\u001b[0;34m,\u001b[0m \u001b[0;34m**\u001b[0m\u001b[0mkwargs\u001b[0m\u001b[0;34m)\u001b[0m\u001b[0;34m\u001b[0m\u001b[0;34m\u001b[0m\u001b[0m\n\u001b[1;32m    138\u001b[0m   \u001b[0mflat_inputs\u001b[0m \u001b[0;34m=\u001b[0m \u001b[0mfunction\u001b[0m\u001b[0;34m.\u001b[0m\u001b[0mfunction_type\u001b[0m\u001b[0;34m.\u001b[0m\u001b[0munpack_inputs\u001b[0m\u001b[0;34m(\u001b[0m\u001b[0mbound_args\u001b[0m\u001b[0;34m)\u001b[0m\u001b[0;34m\u001b[0m\u001b[0;34m\u001b[0m\u001b[0m\n\u001b[0;32m--> 139\u001b[0;31m   return function._call_flat(  # pylint: disable=protected-access\n\u001b[0m\u001b[1;32m    140\u001b[0m       \u001b[0mflat_inputs\u001b[0m\u001b[0;34m,\u001b[0m \u001b[0mcaptured_inputs\u001b[0m\u001b[0;34m=\u001b[0m\u001b[0mfunction\u001b[0m\u001b[0;34m.\u001b[0m\u001b[0mcaptured_inputs\u001b[0m\u001b[0;34m\u001b[0m\u001b[0;34m\u001b[0m\u001b[0m\n\u001b[1;32m    141\u001b[0m   )\n",
            "\u001b[0;32m/usr/local/lib/python3.10/dist-packages/tensorflow/python/eager/polymorphic_function/concrete_function.py\u001b[0m in \u001b[0;36m_call_flat\u001b[0;34m(self, tensor_inputs, captured_inputs)\u001b[0m\n\u001b[1;32m   1321\u001b[0m         and executing_eagerly):\n\u001b[1;32m   1322\u001b[0m       \u001b[0;31m# No tape is watching; skip to running the function.\u001b[0m\u001b[0;34m\u001b[0m\u001b[0;34m\u001b[0m\u001b[0m\n\u001b[0;32m-> 1323\u001b[0;31m       \u001b[0;32mreturn\u001b[0m \u001b[0mself\u001b[0m\u001b[0;34m.\u001b[0m\u001b[0m_inference_function\u001b[0m\u001b[0;34m.\u001b[0m\u001b[0mcall_preflattened\u001b[0m\u001b[0;34m(\u001b[0m\u001b[0margs\u001b[0m\u001b[0;34m)\u001b[0m\u001b[0;34m\u001b[0m\u001b[0;34m\u001b[0m\u001b[0m\n\u001b[0m\u001b[1;32m   1324\u001b[0m     forward_backward = self._select_forward_and_backward_functions(\n\u001b[1;32m   1325\u001b[0m         \u001b[0margs\u001b[0m\u001b[0;34m,\u001b[0m\u001b[0;34m\u001b[0m\u001b[0;34m\u001b[0m\u001b[0m\n",
            "\u001b[0;32m/usr/local/lib/python3.10/dist-packages/tensorflow/python/eager/polymorphic_function/atomic_function.py\u001b[0m in \u001b[0;36mcall_preflattened\u001b[0;34m(self, args)\u001b[0m\n\u001b[1;32m    214\u001b[0m   \u001b[0;32mdef\u001b[0m \u001b[0mcall_preflattened\u001b[0m\u001b[0;34m(\u001b[0m\u001b[0mself\u001b[0m\u001b[0;34m,\u001b[0m \u001b[0margs\u001b[0m\u001b[0;34m:\u001b[0m \u001b[0mSequence\u001b[0m\u001b[0;34m[\u001b[0m\u001b[0mcore\u001b[0m\u001b[0;34m.\u001b[0m\u001b[0mTensor\u001b[0m\u001b[0;34m]\u001b[0m\u001b[0;34m)\u001b[0m \u001b[0;34m->\u001b[0m \u001b[0mAny\u001b[0m\u001b[0;34m:\u001b[0m\u001b[0;34m\u001b[0m\u001b[0;34m\u001b[0m\u001b[0m\n\u001b[1;32m    215\u001b[0m     \u001b[0;34m\"\"\"Calls with flattened tensor inputs and returns the structured output.\"\"\"\u001b[0m\u001b[0;34m\u001b[0m\u001b[0;34m\u001b[0m\u001b[0m\n\u001b[0;32m--> 216\u001b[0;31m     \u001b[0mflat_outputs\u001b[0m \u001b[0;34m=\u001b[0m \u001b[0mself\u001b[0m\u001b[0;34m.\u001b[0m\u001b[0mcall_flat\u001b[0m\u001b[0;34m(\u001b[0m\u001b[0;34m*\u001b[0m\u001b[0margs\u001b[0m\u001b[0;34m)\u001b[0m\u001b[0;34m\u001b[0m\u001b[0;34m\u001b[0m\u001b[0m\n\u001b[0m\u001b[1;32m    217\u001b[0m     \u001b[0;32mreturn\u001b[0m \u001b[0mself\u001b[0m\u001b[0;34m.\u001b[0m\u001b[0mfunction_type\u001b[0m\u001b[0;34m.\u001b[0m\u001b[0mpack_output\u001b[0m\u001b[0;34m(\u001b[0m\u001b[0mflat_outputs\u001b[0m\u001b[0;34m)\u001b[0m\u001b[0;34m\u001b[0m\u001b[0;34m\u001b[0m\u001b[0m\n\u001b[1;32m    218\u001b[0m \u001b[0;34m\u001b[0m\u001b[0m\n",
            "\u001b[0;32m/usr/local/lib/python3.10/dist-packages/tensorflow/python/eager/polymorphic_function/atomic_function.py\u001b[0m in \u001b[0;36mcall_flat\u001b[0;34m(self, *args)\u001b[0m\n\u001b[1;32m    249\u001b[0m         \u001b[0;32mwith\u001b[0m \u001b[0mrecord\u001b[0m\u001b[0;34m.\u001b[0m\u001b[0mstop_recording\u001b[0m\u001b[0;34m(\u001b[0m\u001b[0;34m)\u001b[0m\u001b[0;34m:\u001b[0m\u001b[0;34m\u001b[0m\u001b[0;34m\u001b[0m\u001b[0m\n\u001b[1;32m    250\u001b[0m           \u001b[0;32mif\u001b[0m \u001b[0mself\u001b[0m\u001b[0;34m.\u001b[0m\u001b[0m_bound_context\u001b[0m\u001b[0;34m.\u001b[0m\u001b[0mexecuting_eagerly\u001b[0m\u001b[0;34m(\u001b[0m\u001b[0;34m)\u001b[0m\u001b[0;34m:\u001b[0m\u001b[0;34m\u001b[0m\u001b[0;34m\u001b[0m\u001b[0m\n\u001b[0;32m--> 251\u001b[0;31m             outputs = self._bound_context.call_function(\n\u001b[0m\u001b[1;32m    252\u001b[0m                 \u001b[0mself\u001b[0m\u001b[0;34m.\u001b[0m\u001b[0mname\u001b[0m\u001b[0;34m,\u001b[0m\u001b[0;34m\u001b[0m\u001b[0;34m\u001b[0m\u001b[0m\n\u001b[1;32m    253\u001b[0m                 \u001b[0mlist\u001b[0m\u001b[0;34m(\u001b[0m\u001b[0margs\u001b[0m\u001b[0;34m)\u001b[0m\u001b[0;34m,\u001b[0m\u001b[0;34m\u001b[0m\u001b[0;34m\u001b[0m\u001b[0m\n",
            "\u001b[0;32m/usr/local/lib/python3.10/dist-packages/tensorflow/python/eager/context.py\u001b[0m in \u001b[0;36mcall_function\u001b[0;34m(self, name, tensor_inputs, num_outputs)\u001b[0m\n\u001b[1;32m   1484\u001b[0m     \u001b[0mcancellation_context\u001b[0m \u001b[0;34m=\u001b[0m \u001b[0mcancellation\u001b[0m\u001b[0;34m.\u001b[0m\u001b[0mcontext\u001b[0m\u001b[0;34m(\u001b[0m\u001b[0;34m)\u001b[0m\u001b[0;34m\u001b[0m\u001b[0;34m\u001b[0m\u001b[0m\n\u001b[1;32m   1485\u001b[0m     \u001b[0;32mif\u001b[0m \u001b[0mcancellation_context\u001b[0m \u001b[0;32mis\u001b[0m \u001b[0;32mNone\u001b[0m\u001b[0;34m:\u001b[0m\u001b[0;34m\u001b[0m\u001b[0;34m\u001b[0m\u001b[0m\n\u001b[0;32m-> 1486\u001b[0;31m       outputs = execute.execute(\n\u001b[0m\u001b[1;32m   1487\u001b[0m           \u001b[0mname\u001b[0m\u001b[0;34m.\u001b[0m\u001b[0mdecode\u001b[0m\u001b[0;34m(\u001b[0m\u001b[0;34m\"utf-8\"\u001b[0m\u001b[0;34m)\u001b[0m\u001b[0;34m,\u001b[0m\u001b[0;34m\u001b[0m\u001b[0;34m\u001b[0m\u001b[0m\n\u001b[1;32m   1488\u001b[0m           \u001b[0mnum_outputs\u001b[0m\u001b[0;34m=\u001b[0m\u001b[0mnum_outputs\u001b[0m\u001b[0;34m,\u001b[0m\u001b[0;34m\u001b[0m\u001b[0;34m\u001b[0m\u001b[0m\n",
            "\u001b[0;32m/usr/local/lib/python3.10/dist-packages/tensorflow/python/eager/execute.py\u001b[0m in \u001b[0;36mquick_execute\u001b[0;34m(op_name, num_outputs, inputs, attrs, ctx, name)\u001b[0m\n\u001b[1;32m     51\u001b[0m   \u001b[0;32mtry\u001b[0m\u001b[0;34m:\u001b[0m\u001b[0;34m\u001b[0m\u001b[0;34m\u001b[0m\u001b[0m\n\u001b[1;32m     52\u001b[0m     \u001b[0mctx\u001b[0m\u001b[0;34m.\u001b[0m\u001b[0mensure_initialized\u001b[0m\u001b[0;34m(\u001b[0m\u001b[0;34m)\u001b[0m\u001b[0;34m\u001b[0m\u001b[0;34m\u001b[0m\u001b[0m\n\u001b[0;32m---> 53\u001b[0;31m     tensors = pywrap_tfe.TFE_Py_Execute(ctx._handle, device_name, op_name,\n\u001b[0m\u001b[1;32m     54\u001b[0m                                         inputs, attrs, num_outputs)\n\u001b[1;32m     55\u001b[0m   \u001b[0;32mexcept\u001b[0m \u001b[0mcore\u001b[0m\u001b[0;34m.\u001b[0m\u001b[0m_NotOkStatusException\u001b[0m \u001b[0;32mas\u001b[0m \u001b[0me\u001b[0m\u001b[0;34m:\u001b[0m\u001b[0;34m\u001b[0m\u001b[0;34m\u001b[0m\u001b[0m\n",
            "\u001b[0;31mKeyboardInterrupt\u001b[0m: "
          ]
        }
      ],
      "source": [
        "# Train the model\n",
        "batch_size = 100\n",
        "steps_per_epoch = X_train.shape[0] / batch_size\n",
        "history = model.fit_generator(train_datagen.flow(X_train_fl, y_train_oh,\n",
        "                                                 batch_size=batch_size),\n",
        "                              epochs=100,\n",
        "                              steps_per_epoch=steps_per_epoch,\n",
        "                              validation_data=(X_val, y_val))"
      ]
    },
    {
      "cell_type": "markdown",
      "metadata": {
        "id": "ZBnVN5aoL_MJ"
      },
      "source": [
        "## 4. Transfer Learning"
      ]
    },
    {
      "cell_type": "code",
      "execution_count": 1,
      "metadata": {
        "id": "VaqBTy80-PfP"
      },
      "outputs": [],
      "source": [
        "# Import dependences for transfer learning\n",
        "from tensorflow.keras.applications import ResNet50\n",
        "from keras.models import Sequential\n",
        "from keras.layers import UpSampling2D\n",
        "from tensorflow.keras.optimizers import RMSprop"
      ]
    },
    {
      "cell_type": "code",
      "execution_count": null,
      "metadata": {
        "id": "aoz0Dt6SV3QN"
      },
      "outputs": [],
      "source": [
        "# Define the model\n",
        "resnet_model = ResNet50(weights='imagenet', include_top=False,\n",
        "                        input_shape=(256, 256, 3))\n",
        "model = Sequential()\n",
        "model.add(UpSampling2D((2,2)))\n",
        "model.add(UpSampling2D((2,2)))\n",
        "model.add(UpSampling2D((2,2)))\n",
        "model.add(resnet_model)\n",
        "model.add(Flatten())\n",
        "model.add(BatchNormalization())\n",
        "model.add(Dense(128, activation='relu'))\n",
        "model.add(Dropout(0.5))\n",
        "model.add(BatchNormalization())\n",
        "model.add(Dense(64, activation='relu'))\n",
        "model.add(Dropout(0.5))\n",
        "model.add(BatchNormalization())\n",
        "model.add(Dense(10, activation='softmax'))"
      ]
    },
    {
      "cell_type": "code",
      "execution_count": null,
      "metadata": {
        "id": "arWFKw9yZF9k"
      },
      "outputs": [],
      "source": [
        "# Compile the model\n",
        "model.compile(optimizer=RMSprop(lr=2e-5), loss='categorical_crossentropy',\n",
        "              metrics=['acc'])"
      ]
    },
    {
      "cell_type": "code",
      "execution_count": null,
      "metadata": {
        "id": "Q4zR1iAiZQbO"
      },
      "outputs": [],
      "source": [
        "# Train the model\n",
        "history = model.fit(X_train_fl, y_train_oh, epochs=5, batch_size=50,\n",
        "                    validation_data=(X_val, y_val))"
      ]
    },
    {
      "cell_type": "code",
      "execution_count": null,
      "metadata": {
        "id": "zp2NFx0MiXPz"
      },
      "outputs": [],
      "source": [
        "# Train the model\n",
        "batch_size = 20\n",
        "steps_per_epoch = X_train.shape[0] / batch_size\n",
        "history = model.fit_generator(train_datagen.flow(X_train_fl, y_train_oh,\n",
        "                                                 batch_size=batch_size),\n",
        "                              epochs=5,\n",
        "                              steps_per_epoch=steps_per_epoch,\n",
        "                              validation_data=(X_val, y_val))"
      ]
    },
    {
      "cell_type": "markdown",
      "metadata": {
        "id": "L9_3YAJta7x0"
      },
      "source": [
        "# Exercise 1: Experiment with other pre-trained models to evaluate results"
      ]
    },
    {
      "cell_type": "code",
      "execution_count": null,
      "metadata": {
        "id": "t2ZhdVS-iNOA"
      },
      "outputs": [],
      "source": [
        "from tensorflow.keras.datasets import cifar10\n",
        "from sklearn.preprocessing import OneHotEncoder\n",
        "from keras.models import Sequential, Model\n",
        "from keras.layers import Input, Conv2D, MaxPool2D, Flatten, Dense, Dropout, BatchNormalization\n",
        "from keras.optimizers import Adam\n",
        "from tensorflow.keras.applications import ResNet50\n",
        "from tensorflow.keras.preprocessing.image import ImageDataGenerator\n",
        "import matplotlib.pyplot as plt\n",
        "import numpy as np\n",
        "\n",
        "# Descargar el conjunto de datos CIFAR-10\n",
        "(X_entrenamiento, y_entrenamiento), (X_test_val, y_test_val) = cifar10.load_data()\n",
        "\n",
        "# Normalizar las imágenes\n",
        "X_entrenamiento = X_entrenamiento.astype('float32') / 255.0\n",
        "X_test_val = X_test_val.astype('float32') / 255.0\n",
        "\n",
        "# Codificación one-hot para las etiquetas\n",
        "onehot_enc = OneHotEncoder()\n",
        "y_entrenamiento = onehot_enc.fit_transform(y_entrenamiento.reshape(-1, 1)).toarray()\n",
        "y_test_val = onehot_enc.transform(y_test_val.reshape(-1, 1)).toarray()\n",
        "\n",
        "# Dividir el conjunto de datos de test en validación y prueba\n",
        "num_muestras_test = int(X_test_val.shape[0] / 2)\n",
        "X_validacion = X_test_val[:num_muestras_test]\n",
        "y_validacion = y_test_val[:num_muestras_test]\n",
        "X_prueba = X_test_val[num_muestras_test:]\n",
        "y_prueba = y_test_val[num_muestras_test:]\n",
        "\n",
        "# Carga el modelo preentrenado ResNet50\n",
        "modelo_preentrenado = ResNet50(weights='imagenet', include_top=False, input_shape=(224, 224, 3))\n",
        "\n",
        "# Congela las capas en el modelo preentrenado\n",
        "for capa in modelo_preentrenado.layers:\n",
        "    capa.trainable = False\n",
        "\n",
        "# Crea tus propias capas de clasificación\n",
        "modelo = Sequential([\n",
        "    modelo_preentrenado,\n",
        "    Flatten(),\n",
        "    Dense(256, activation='relu'),\n",
        "    Dense(10, activation='softmax')  # Ajusta el número de unidades según tu conjunto de datos\n",
        "])\n",
        "\n",
        "# Compila el modelo\n",
        "modelo.compile(optimizer=Adam(lr=0.001), loss='categorical_crossentropy', metrics=['accuracy'])\n",
        "\n",
        "# Define data generator\n",
        "train_datagen = ImageDataGenerator(\n",
        "    shear_range=0.2,\n",
        "    zoom_range=0.2,\n",
        "    horizontal_flip=True,\n",
        "    rotation_range=10,\n",
        ")\n",
        "\n",
        "# Entrena el modelo con data augmentation\n",
        "batch_size = 100\n",
        "steps_per_epoch = X_entrenamiento.shape[0] / batch_size\n",
        "historia = modelo.fit_generator(train_datagen.flow(X_entrenamiento, y_entrenamiento, batch_size=batch_size),\n",
        "                                epochs=20,\n",
        "                                steps_per_epoch=steps_per_epoch,\n",
        "                                validation_data=(X_validacion, y_validacion))\n",
        "\n",
        "# Evalúa el modelo\n",
        "pérdida_prueba, precisión_prueba = modelo.evaluate(X_prueba, y_prueba)\n",
        "print(f'Pérdida en la prueba: {pérdida_prueba}, Precisión en la prueba: {precisión_prueba}')\n",
        "\n",
        "# Plot training and validation accuracy\n",
        "plt.plot(historia.history['accuracy'])\n",
        "plt.plot(historia.history['val_accuracy'])\n",
        "plt.title('Precisión del modelo')\n",
        "plt.ylabel('Precisión')\n",
        "plt.xlabel('Época')\n",
        "plt.legend(['Entrenamiento', 'Validación'], loc='upper left')\n",
        "plt.ylim(0, 1)\n",
        "plt.show()\n",
        "\n",
        "# Plot training and validation loss\n",
        "plt.plot(historia.history['loss'])\n",
        "plt.plot(historia.history['val_loss'])\n",
        "plt.title('Pérdida del modelo')\n",
        "plt.ylabel('Pérdida')\n",
        "plt.xlabel('Época')\n",
        "plt.legend(['Entrenamiento', 'Validación'], loc='upper left')\n",
        "plt.show()\n"
      ]
    },
    {
      "cell_type": "markdown",
      "metadata": {
        "id": "-CLwgtnlbKds"
      },
      "source": [
        "# Exercise 2: Use the concepts learnt to train a classifier for CIFAR100 dataset"
      ]
    },
    {
      "cell_type": "code",
      "execution_count": null,
      "metadata": {
        "id": "2bWDRvYuPGE1"
      },
      "outputs": [],
      "source": [
        "# Paso 1: Cargar el conjunto de datos CIFAR-100\n",
        "from keras.datasets import cifar100\n",
        "\n",
        "# Cargar los datos de entrenamiento y prueba\n",
        "(X_train, y_train), (X_test, y_test) = cifar100.load_data()\n",
        "\n",
        "# Paso 2: Preprocesar los datos\n",
        "import numpy as np\n",
        "from keras.utils import to_categorical\n",
        "\n",
        "# Normalizar los valores de píxeles al rango [0, 1]\n",
        "X_train = X_train.astype('float32') / 255.0\n",
        "X_test = X_test.astype('float32') / 255.0\n",
        "\n",
        "# Convertir las etiquetas a one-hot encoding\n",
        "y_train = to_categorical(y_train, 100)\n",
        "y_test = to_categorical(y_test, 100)\n",
        "\n",
        "# Paso 3: Definir el modelo\n",
        "from keras.models import Sequential\n",
        "from keras.layers import Conv2D, MaxPooling2D, Flatten, Dense, Dropout\n",
        "\n",
        "model = Sequential([\n",
        "    Conv2D(32, (3, 3), activation='relu', padding='same', input_shape=X_train.shape[1:]),\n",
        "    MaxPooling2D((2, 2)),\n",
        "    Conv2D(64, (3, 3), activation='relu', padding='same'),\n",
        "    MaxPooling2D((2, 2)),\n",
        "    Conv2D(128, (3, 3), activation='relu', padding='same'),\n",
        "    MaxPooling2D((2, 2)),\n",
        "    Flatten(),\n",
        "    Dense(512, activation='relu'),\n",
        "    Dropout(0.5),\n",
        "    Dense(100, activation='softmax')\n",
        "])\n",
        "\n",
        "# Paso 4: Compilar el modelo\n",
        "model.compile(optimizer='adam', loss='categorical_crossentropy', metrics=['accuracy'])\n",
        "\n",
        "# Paso 5: Entrenar el modelo\n",
        "history = model.fit(X_train, y_train, epochs=20, batch_size=128, validation_split=0.1)\n",
        "\n",
        "# Paso 6: Evaluar el modelo\n",
        "test_loss, test_acc = model.evaluate(X_test, y_test)\n",
        "print(\"Exactitud en el conjunto de prueba:\", test_acc)\n"
      ]
    }
  ],
  "metadata": {
    "accelerator": "GPU",
    "colab": {
      "provenance": [],
      "gpuType": "T4"
    },
    "kernelspec": {
      "display_name": "Python 3",
      "name": "python3"
    }
  },
  "nbformat": 4,
  "nbformat_minor": 0
}