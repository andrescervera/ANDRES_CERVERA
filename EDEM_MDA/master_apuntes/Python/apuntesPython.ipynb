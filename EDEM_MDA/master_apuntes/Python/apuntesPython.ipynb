{
 "cells": [
  {
   "cell_type": "code",
   "execution_count": null,
   "metadata": {},
   "outputs": [],
   "source": [
    "#bucle\n",
    "a = 1\n",
    "while a <= 100:\n",
    "  print(f\"{a}\")\n",
    "  a += 1"
   ]
  },
  {
   "cell_type": "code",
   "execution_count": null,
   "metadata": {},
   "outputs": [],
   "source": [
    "#bucle pares\n",
    "a = 0\n",
    "while a < 101:\n",
    "  print(a)\n",
    "  a += 2"
   ]
  },
  {
   "cell_type": "code",
   "execution_count": null,
   "metadata": {},
   "outputs": [],
   "source": [
    "#bucle pares con for\n",
    "for numero in range(1,101):\n",
    "    if(numero%2==0):\n",
    "        print(f\"- {numero}\")"
   ]
  },
  {
   "cell_type": "code",
   "execution_count": null,
   "metadata": {},
   "outputs": [],
   "source": [
    "#len para tamaño de lista\n",
    "#pop para eliminar ultimo valor de lista\n",
    "lista = [1,2,3,4,5]\n",
    "while(len(lista)>=0):\n",
    "    lista.pop()\n",
    "    print(lista)"
   ]
  }
 ],
 "metadata": {
  "language_info": {
   "name": "python"
  },
  "orig_nbformat": 4
 },
 "nbformat": 4,
 "nbformat_minor": 2
}
